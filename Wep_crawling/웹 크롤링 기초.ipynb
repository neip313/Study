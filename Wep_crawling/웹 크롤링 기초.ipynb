{
 "cells": [
  {
   "cell_type": "markdown",
   "metadata": {},
   "source": [
    "## **1. selenium과 크롬드라이버 설치**\n",
    "---"
   ]
  },
  {
   "cell_type": "code",
   "execution_count": 9,
   "metadata": {},
   "outputs": [
    {
     "name": "stdout",
     "output_type": "stream",
     "text": [
      "Requirement already satisfied: selenium in c:\\users\\user\\anaconda3\\lib\\site-packages (3.141.0)\n",
      "Requirement already satisfied: urllib3 in c:\\users\\user\\anaconda3\\lib\\site-packages (from selenium) (1.25.9)\n",
      "Note: you may need to restart the kernel to use updated packages.\n"
     ]
    }
   ],
   "source": [
    "pip install selenium"
   ]
  },
  {
   "cell_type": "code",
   "execution_count": 10,
   "metadata": {},
   "outputs": [],
   "source": [
    "# selenium 라이버러리 불러오기\n",
    "from selenium import webdriver "
   ]
  },
  {
   "cell_type": "markdown",
   "metadata": {},
   "source": [
    "다운로드 전 현재 사용중인 크롬의 버전을 확인 해야 한다.\n",
    "\n",
    "![캡처](https://user-images.githubusercontent.com/72365693/101738310-50b95600-3b09-11eb-8251-c60e9aadd908.png)\n"
   ]
  },
  {
   "cell_type": "markdown",
   "metadata": {},
   "source": [
    "확인 후 [ChromeDriver - WebDriver](https://sites.google.com/a/chromium.org/chromedriver/downloads) 다운"
   ]
  },
  {
   "cell_type": "markdown",
   "metadata": {},
   "source": [
    "## **2. 크롬드라이버 활용하기**\n",
    "---"
   ]
  },
  {
   "cell_type": "code",
   "execution_count": 8,
   "metadata": {},
   "outputs": [
    {
     "ename": "WebDriverException",
     "evalue": "Message: 'chromedriver.exe' executable needs to be in PATH. Please see https://sites.google.com/a/chromium.org/chromedriver/home\n",
     "output_type": "error",
     "traceback": [
      "\u001b[1;31m---------------------------------------------------------------------------\u001b[0m",
      "\u001b[1;31mFileNotFoundError\u001b[0m                         Traceback (most recent call last)",
      "\u001b[1;32m~\\anaconda3\\lib\\site-packages\\selenium\\webdriver\\common\\service.py\u001b[0m in \u001b[0;36mstart\u001b[1;34m(self)\u001b[0m\n\u001b[0;32m     71\u001b[0m             \u001b[0mcmd\u001b[0m\u001b[1;33m.\u001b[0m\u001b[0mextend\u001b[0m\u001b[1;33m(\u001b[0m\u001b[0mself\u001b[0m\u001b[1;33m.\u001b[0m\u001b[0mcommand_line_args\u001b[0m\u001b[1;33m(\u001b[0m\u001b[1;33m)\u001b[0m\u001b[1;33m)\u001b[0m\u001b[1;33m\u001b[0m\u001b[1;33m\u001b[0m\u001b[0m\n\u001b[1;32m---> 72\u001b[1;33m             self.process = subprocess.Popen(cmd, env=self.env,\n\u001b[0m\u001b[0;32m     73\u001b[0m                                             \u001b[0mclose_fds\u001b[0m\u001b[1;33m=\u001b[0m\u001b[0mplatform\u001b[0m\u001b[1;33m.\u001b[0m\u001b[0msystem\u001b[0m\u001b[1;33m(\u001b[0m\u001b[1;33m)\u001b[0m \u001b[1;33m!=\u001b[0m \u001b[1;34m'Windows'\u001b[0m\u001b[1;33m,\u001b[0m\u001b[1;33m\u001b[0m\u001b[1;33m\u001b[0m\u001b[0m\n",
      "\u001b[1;32m~\\anaconda3\\lib\\subprocess.py\u001b[0m in \u001b[0;36m__init__\u001b[1;34m(self, args, bufsize, executable, stdin, stdout, stderr, preexec_fn, close_fds, shell, cwd, env, universal_newlines, startupinfo, creationflags, restore_signals, start_new_session, pass_fds, encoding, errors, text)\u001b[0m\n\u001b[0;32m    853\u001b[0m \u001b[1;33m\u001b[0m\u001b[0m\n\u001b[1;32m--> 854\u001b[1;33m             self._execute_child(args, executable, preexec_fn, close_fds,\n\u001b[0m\u001b[0;32m    855\u001b[0m                                 \u001b[0mpass_fds\u001b[0m\u001b[1;33m,\u001b[0m \u001b[0mcwd\u001b[0m\u001b[1;33m,\u001b[0m \u001b[0menv\u001b[0m\u001b[1;33m,\u001b[0m\u001b[1;33m\u001b[0m\u001b[1;33m\u001b[0m\u001b[0m\n",
      "\u001b[1;32m~\\anaconda3\\lib\\subprocess.py\u001b[0m in \u001b[0;36m_execute_child\u001b[1;34m(self, args, executable, preexec_fn, close_fds, pass_fds, cwd, env, startupinfo, creationflags, shell, p2cread, p2cwrite, c2pread, c2pwrite, errread, errwrite, unused_restore_signals, unused_start_new_session)\u001b[0m\n\u001b[0;32m   1306\u001b[0m             \u001b[1;32mtry\u001b[0m\u001b[1;33m:\u001b[0m\u001b[1;33m\u001b[0m\u001b[1;33m\u001b[0m\u001b[0m\n\u001b[1;32m-> 1307\u001b[1;33m                 hp, ht, pid, tid = _winapi.CreateProcess(executable, args,\n\u001b[0m\u001b[0;32m   1308\u001b[0m                                          \u001b[1;31m# no special security\u001b[0m\u001b[1;33m\u001b[0m\u001b[1;33m\u001b[0m\u001b[1;33m\u001b[0m\u001b[0m\n",
      "\u001b[1;31mFileNotFoundError\u001b[0m: [WinError 2] 지정된 파일을 찾을 수 없습니다",
      "\nDuring handling of the above exception, another exception occurred:\n",
      "\u001b[1;31mWebDriverException\u001b[0m                        Traceback (most recent call last)",
      "\u001b[1;32m<ipython-input-8-4baac5504e24>\u001b[0m in \u001b[0;36m<module>\u001b[1;34m\u001b[0m\n\u001b[0;32m      2\u001b[0m \u001b[1;33m\u001b[0m\u001b[0m\n\u001b[0;32m      3\u001b[0m \u001b[1;32mfrom\u001b[0m \u001b[0mselenium\u001b[0m \u001b[1;32mimport\u001b[0m \u001b[0mwebdriver\u001b[0m\u001b[1;33m\u001b[0m\u001b[1;33m\u001b[0m\u001b[0m\n\u001b[1;32m----> 4\u001b[1;33m \u001b[0mdriver\u001b[0m \u001b[1;33m=\u001b[0m \u001b[0mwebdriver\u001b[0m\u001b[1;33m.\u001b[0m\u001b[0mChrome\u001b[0m\u001b[1;33m(\u001b[0m\u001b[1;34m'C:/Users/user/Desktop/chromedriver.exe'\u001b[0m\u001b[1;33m)\u001b[0m \u001b[1;31m# 경로는 수정해주세요\u001b[0m\u001b[1;33m\u001b[0m\u001b[1;33m\u001b[0m\u001b[0m\n\u001b[0m",
      "\u001b[1;32m~\\anaconda3\\lib\\site-packages\\selenium\\webdriver\\chrome\\webdriver.py\u001b[0m in \u001b[0;36m__init__\u001b[1;34m(self, executable_path, port, options, service_args, desired_capabilities, service_log_path, chrome_options, keep_alive)\u001b[0m\n\u001b[0;32m     71\u001b[0m             \u001b[0mservice_args\u001b[0m\u001b[1;33m=\u001b[0m\u001b[0mservice_args\u001b[0m\u001b[1;33m,\u001b[0m\u001b[1;33m\u001b[0m\u001b[1;33m\u001b[0m\u001b[0m\n\u001b[0;32m     72\u001b[0m             log_path=service_log_path)\n\u001b[1;32m---> 73\u001b[1;33m         \u001b[0mself\u001b[0m\u001b[1;33m.\u001b[0m\u001b[0mservice\u001b[0m\u001b[1;33m.\u001b[0m\u001b[0mstart\u001b[0m\u001b[1;33m(\u001b[0m\u001b[1;33m)\u001b[0m\u001b[1;33m\u001b[0m\u001b[1;33m\u001b[0m\u001b[0m\n\u001b[0m\u001b[0;32m     74\u001b[0m \u001b[1;33m\u001b[0m\u001b[0m\n\u001b[0;32m     75\u001b[0m         \u001b[1;32mtry\u001b[0m\u001b[1;33m:\u001b[0m\u001b[1;33m\u001b[0m\u001b[1;33m\u001b[0m\u001b[0m\n",
      "\u001b[1;32m~\\anaconda3\\lib\\site-packages\\selenium\\webdriver\\common\\service.py\u001b[0m in \u001b[0;36mstart\u001b[1;34m(self)\u001b[0m\n\u001b[0;32m     79\u001b[0m         \u001b[1;32mexcept\u001b[0m \u001b[0mOSError\u001b[0m \u001b[1;32mas\u001b[0m \u001b[0merr\u001b[0m\u001b[1;33m:\u001b[0m\u001b[1;33m\u001b[0m\u001b[1;33m\u001b[0m\u001b[0m\n\u001b[0;32m     80\u001b[0m             \u001b[1;32mif\u001b[0m \u001b[0merr\u001b[0m\u001b[1;33m.\u001b[0m\u001b[0merrno\u001b[0m \u001b[1;33m==\u001b[0m \u001b[0merrno\u001b[0m\u001b[1;33m.\u001b[0m\u001b[0mENOENT\u001b[0m\u001b[1;33m:\u001b[0m\u001b[1;33m\u001b[0m\u001b[1;33m\u001b[0m\u001b[0m\n\u001b[1;32m---> 81\u001b[1;33m                 raise WebDriverException(\n\u001b[0m\u001b[0;32m     82\u001b[0m                     \"'%s' executable needs to be in PATH. %s\" % (\n\u001b[0;32m     83\u001b[0m                         os.path.basename(self.path), self.start_error_message)\n",
      "\u001b[1;31mWebDriverException\u001b[0m: Message: 'chromedriver.exe' executable needs to be in PATH. Please see https://sites.google.com/a/chromium.org/chromedriver/home\n"
     ]
    }
   ],
   "source": [
    "# 크롬드라이버 실행\n",
    "\n",
    "from selenium import webdriver\n",
    "driver = webdriver.Chrome('C:/Users/user/Desktop/chromedriver.exe') # 경로는 수정해주세요"
   ]
  },
  {
   "cell_type": "markdown",
   "metadata": {},
   "source": [
    "![캡처](https://user-images.githubusercontent.com/72365693/101740251-efdf4d00-3b0b-11eb-8134-f07275fdd86e.JPG)\n",
    "\n",
    "크롬드라이버를 실행한 화면\n"
   ]
  },
  {
   "cell_type": "code",
   "execution_count": 4,
   "metadata": {},
   "outputs": [],
   "source": [
    "driver = webdriver.Chrome('C:/Users/user/Desktop/chromedriver.exe')"
   ]
  },
  {
   "cell_type": "markdown",
   "metadata": {},
   "source": [
    "## **3. 웹 페이지 접속**\n",
    "---"
   ]
  },
  {
   "cell_type": "code",
   "execution_count": 5,
   "metadata": {},
   "outputs": [],
   "source": [
    "# URL 접속\n",
    "url = 'http://www.naver.com/'\n",
    "driver.get(url)"
   ]
  },
  {
   "cell_type": "markdown",
   "metadata": {},
   "source": [
    "## **4. 웹 페이지(HTML) 다운로드**\n",
    "---"
   ]
  },
  {
   "cell_type": "code",
   "execution_count": 6,
   "metadata": {},
   "outputs": [],
   "source": [
    "# 웹 페이지의 HTML 다운로드\n",
    "html = driver.page_source"
   ]
  },
  {
   "cell_type": "markdown",
   "metadata": {},
   "source": [
    "위와 같이 driver.page_source를 이용해 웹 페이지의 HTML 정보를 가져올 수 있다."
   ]
  },
  {
   "cell_type": "markdown",
   "metadata": {},
   "source": [
    "## **5. HTML 구조 살펴보기**\n",
    "---"
   ]
  },
  {
   "cell_type": "markdown",
   "metadata": {},
   "source": [
    "1. 시작과 끝이 있다.\n",
    "    + <태크>로 시작하고 </태그>로 끝이난다. 태그 부분에 들어가는 태그명은 `div, p, span, a, tr, td` 등 다양하다.\n",
    "\n",
    "\n",
    "2. 태그는 다른 태그에 속할 수 있다.\n",
    "    + 태그 시작 부분과 끝부분 사이에 다른 태그가 들어 있는지로 확인 가능하다.\n",
    "    \n",
    "    \n",
    "3. 태그의 시작과 끝 사이에 화면에 표시되는 정보가 들어간다.\n",
    "    + <태그>Desktop</태그>의 경우 화면에 Desktop 부분이 표시가 된다.\n",
    "    \n",
    "    \n",
    "4. 태그 기호 내에 속성을 가질 수 있다.\n",
    "    + <태그 속성1 = 값1 속성2 = 값2>안녕하세요</태그>에서 속성1, 속성2와 같이 여러 개의 속성 정보를 가질 수 있다."
   ]
  },
  {
   "cell_type": "code",
   "execution_count": 14,
   "metadata": {
    "collapsed": true
   },
   "outputs": [
    {
     "ename": "SyntaxError",
     "evalue": "invalid syntax (<ipython-input-14-d9ec690236ef>, line 2)",
     "output_type": "error",
     "traceback": [
      "\u001b[1;36m  File \u001b[1;32m\"<ipython-input-14-d9ec690236ef>\"\u001b[1;36m, line \u001b[1;32m2\u001b[0m\n\u001b[1;33m    <html>\u001b[0m\n\u001b[1;37m    ^\u001b[0m\n\u001b[1;31mSyntaxError\u001b[0m\u001b[1;31m:\u001b[0m invalid syntax\n"
     ]
    }
   ],
   "source": [
    "# HTML 구조 예\n",
    "<html>\n",
    "    <head>\n",
    "    </head>\n",
    "    <body>\n",
    "        <h1> 우리동네시장</h1>\n",
    "            <div class = 'sale'>\n",
    "                <p id = 'fruits1' class = 'fruits'>\n",
    "                    <span class = 'name'> 바나나 </span>\n",
    "                    <span class = 'price'> 3000원</span>\n",
    "                    <span class = 'inventory'> 500개 </span>\n",
    "                    <span class = 'store'> 가나다상회 </span>\n",
    "                    <a href = 'http://bit.ly/forPlaywithData'> 홈페이지 </a>\n",
    "                </p>\n",
    "            </div>\n",
    "            <div class = 'prepare'>\n",
    "                <p id = 'fruits2' class = 'fruits'>\n",
    "                    <span class = 'name'> 파인애플 </span>\n",
    "                </p>\n",
    "            </div>\n",
    "    </body>\n",
    "</html>"
   ]
  },
  {
   "cell_type": "markdown",
   "metadata": {},
   "source": [
    "## **6. 크롬 브라우저에서 웹 페이지의 HTML 살펴보기**\n",
    "---"
   ]
  },
  {
   "cell_type": "markdown",
   "metadata": {},
   "source": [
    "원하는 정보가 HTML 페이지의 어디에 있는지 살펴보기 위해서는 크롬의 개발자 도구를 활용하는 것이 편리하다.\n",
    "\n",
    "여기에서는 크롬 브라우저로 [멜론](https://www.melon.com/chart/index.htm)차트 페이지에 접속한 뒤 개발자 도구를 이용해 HTML의 구조를 살펴 보자. \n",
    "\n",
    "<HTML구조 보는 방법>\n",
    "1. 크롬 우측 상단에 메뉴버튼을 클릭한 후 [도구 더보기] -> [개발자 도구]\n",
    "2. 단축키로 F12를 입력\n",
    "3. 웹 페이지 내에서 마우스 오른쪽 버튼 클릭 후 [검사] 선택해도 개발자 도구가 활성화가 된다."
   ]
  },
  {
   "cell_type": "markdown",
   "metadata": {},
   "source": [
    "![g](https://user-images.githubusercontent.com/72365693/101761554-a26cdb00-3b1f-11eb-9649-fb07fb5022a4.png)\n",
    "\n",
    "크롬 개발자 도구의 활성화"
   ]
  },
  {
   "cell_type": "markdown",
   "metadata": {},
   "source": [
    "![z](https://user-images.githubusercontent.com/72365693/101762125-5c644700-3b20-11eb-8617-0e83f92ec0ca.png)\n",
    "\n",
    "개발자 도구로 HTML 내에서 원하는 태그의 위치 찾기"
   ]
  },
  {
   "cell_type": "markdown",
   "metadata": {},
   "source": [
    "## **7. BeautifulSoup을 이용한 정보 찾기**\n",
    "---"
   ]
  },
  {
   "cell_type": "markdown",
   "metadata": {},
   "source": [
    "실제 웹 페이지는 HTML의 규모가 커서 실습하기에는 적절하지 않음. 간단한 웹페이지의 HTML로 필요한 정보를 찾는 방법을 실습해 보자.\n",
    "\n",
    "다음 예제를 보자."
   ]
  },
  {
   "cell_type": "code",
   "execution_count": 7,
   "metadata": {},
   "outputs": [],
   "source": [
    "# 실습용 HTLML\n",
    "html = '''\n",
    "<html>\n",
    "    <head>\n",
    "    </head>\n",
    "    <body>\n",
    "        <h1> 우리동네시장</h1>\n",
    "            <div class = 'sale'>\n",
    "                <p id = 'fruits1' class = 'fruits'>\n",
    "                    <span class = 'name'> 바나나 </span>\n",
    "                    <span class = 'price'> 3000원</span>\n",
    "                    <span class = 'inventory'> 500개 </span>\n",
    "                    <span class = 'store'> 가나다상회 </span>\n",
    "                    <a href = 'http://bit.ly/forPlaywithData'> 홈페이지 </a>\n",
    "                </p>\n",
    "            </div>\n",
    "            <div class = 'prepare'>\n",
    "                <p id = 'fruits2' class = 'fruits'>\n",
    "                    <span class = 'name'> 파인애플 </span>\n",
    "                </p>\n",
    "            </div>\n",
    "    </body>\n",
    "</html>\n",
    "'''"
   ]
  },
  {
   "cell_type": "markdown",
   "metadata": {},
   "source": [
    "> 시작과 끝 부분에 사용된 **'''** 는 파이썬에서 여러 줄을 걸친 문자열을 입력할 때 사용하는 기호이다."
   ]
  },
  {
   "cell_type": "code",
   "execution_count": 8,
   "metadata": {},
   "outputs": [],
   "source": [
    "# HTML 문자열을 BeautifulSoup으로 해석하기\n",
    "from bs4 import BeautifulSoup\n",
    "\n",
    "soup = BeautifulSoup(html, 'html.parser')"
   ]
  },
  {
   "cell_type": "markdown",
   "metadata": {},
   "source": [
    "!주의! B와 S는 대문자로 입력해야 한다는 것!\n",
    "\n",
    "그 뒤 BeautifulSoup(html, 'html.parser') 명령을 통해 html 변수에 들어 있는 문자열 정보를 HTML 형식에 맞게 해석해서 원하는 정보를 찾을 수 있도록 준비한다."
   ]
  },
  {
   "cell_type": "markdown",
   "metadata": {},
   "source": [
    "## **8. HTML 정보 차지 ⓵ - 태그 속성 활용**\n",
    "---"
   ]
  },
  {
   "cell_type": "markdown",
   "metadata": {},
   "source": [
    "BeautifulSoup 명령어인 select('조건')을 이용하면 HTML 내에서 입력한 조건을 만족하는 태그를 모두 선택할 수 있다.\n",
    "\n",
    "태그명과, 해당 태그의 속성 정보를 이용해 특정 태그를 찾을 수 있다. soup.select(TAG)를 입력할 경우 soup에 저장된 HTML 범위 내에서 태그명이 TAG인 태그를 모두 선택하게 된다."
   ]
  },
  {
   "cell_type": "code",
   "execution_count": 10,
   "metadata": {},
   "outputs": [],
   "source": [
    "# 태그명으로 태그 찾기\n",
    "tags_span = soup.select('span')\n",
    "tags_p = soup.select('p')"
   ]
  },
  {
   "cell_type": "markdown",
   "metadata": {},
   "source": [
    "태그명 외에도 태그의 속성 중 id 값과 class명을 이용해 태그를 찾을 수도 있다. soup.select('조건')의 '조건' 부분에 샵(#) 기호 뒤에 id 값을 넣거나 점(.) 뒤에 class명을 넣는 방식으로 조건을 지정할 수 있다."
   ]
  },
  {
   "cell_type": "code",
   "execution_count": 11,
   "metadata": {},
   "outputs": [],
   "source": [
    "# id 와 class로 태그 찾기\n",
    "ids_fruits1 = soup.select('#fruits1')\n",
    "class_price = soup.select('.price')\n",
    "tags_span_class_price = soup.select('span.price')"
   ]
  },
  {
   "cell_type": "markdown",
   "metadata": {},
   "source": [
    "첫 번째 줄\n",
    " - 아이디 값이 fruits1인 태그를 모두 찾아 ids_fruits1 변수에 저장\n",
    "\n",
    "두 번째 줄\n",
    " - class명이 'price'인 태그를 모두 찾아 class_price 변수에 저장\n",
    " \n",
    "세 번째 줄\n",
    " - 태그명과 class명 조건을 함께 지정\n",
    " \n",
    " \n",
    "즉, 태그명이 'span'이면서 class명이 'price'인 태그를 모두 찾는다."
   ]
  },
  {
   "cell_type": "markdown",
   "metadata": {},
   "source": [
    "class 속성은 글꼴, 배경색 등의 서식을 지정하기 위해 사용되며, HTML 내에서 동일한 class명이 여러 번 사용될 수 있다. 반면 id 값은 특정 대상을 지정하기 위해 사용되므로 HTML 내에서 한 번만 사용 가능하다. 따라서, id 값을 잘 활용한다면 특정 태그를 손쉽게 찾을 수 있다."
   ]
  },
  {
   "cell_type": "markdown",
   "metadata": {},
   "source": [
    "## **9. HTML 정보 찾기 ⓶ - 상위 구조 활용**\n",
    "---"
   ]
  },
  {
   "cell_type": "markdown",
   "metadata": {},
   "source": [
    "정보가 담긴 태그의 속성만으로 찾기가 어려울 경우 어떠한 부모 태그 아래에 있는지 등의 정보를 추가해서 찾을 수 있다.  \n",
    "한 단계 아래를 의미할 때는 (>)기호를 사용하며 여러 단계(한 단계도 포함) 아래를 의미할 때는 띄어쓰기(' ')를 사용한다.\n",
    "\n",
    "**상위 태그 = 부모 태그**  \n",
    "**하위 태그 = 자손(자식) 태그**  \n",
    "라고 부른다."
   ]
  },
  {
   "cell_type": "code",
   "execution_count": 14,
   "metadata": {},
   "outputs": [
    {
     "name": "stdout",
     "output_type": "stream",
     "text": [
      "[<span class=\"name\"> 바나나 </span>, <span class=\"name\"> 파인애플 </span>]\n"
     ]
    }
   ],
   "source": [
    "# 태그 구조로 위치 찾기 - 1\n",
    "tags_name = soup.select('span.name')\n",
    "print(tags_name)"
   ]
  },
  {
   "cell_type": "markdown",
   "metadata": {},
   "source": [
    "이때 파인애플은 제외하고 바나나만 찾기 위해 바나나가 속한 부모 태그 정보를 추가한다."
   ]
  },
  {
   "cell_type": "code",
   "execution_count": 16,
   "metadata": {},
   "outputs": [
    {
     "name": "stdout",
     "output_type": "stream",
     "text": [
      "[<span class=\"name\"> 바나나 </span>]\n"
     ]
    }
   ],
   "source": [
    "# 태그 구조로 위치 찾기 - 2\n",
    "tags_banana1 = soup.select('#fruits1 > span.name')\n",
    "print(tags_banana1)"
   ]
  },
  {
   "cell_type": "markdown",
   "metadata": {},
   "source": [
    "부모 태그정보를 추가함으로써 바나나만 출력되는 것을 확인할 수 있다."
   ]
  },
  {
   "cell_type": "code",
   "execution_count": 19,
   "metadata": {},
   "outputs": [
    {
     "name": "stdout",
     "output_type": "stream",
     "text": [
      "[<span class=\"name\"> 바나나 </span>]\n",
      "[<span class=\"name\"> 바나나 </span>]\n"
     ]
    }
   ],
   "source": [
    "# 태그 구조로 위치 찾기 - 3\n",
    "tags_banana2 = soup.select('div.sale > #fruits1 > span.name') # 2와 3 모두 결과는 같다 \n",
    "tags_banana3 = soup.select('div.sale span.name')\n",
    "print(tags_banana2)\n",
    "print(tags_banana3)"
   ]
  },
  {
   "cell_type": "markdown",
   "metadata": {},
   "source": [
    "첫 번째 줄 \n",
    " - 상위태그1(div.sale) 바로 아래 있는 상위태그2(#fruits1)를 찾고, 바로 아래 있는 태그(span.name)를 모두 찾았다.\n",
    " \n",
    "두 번째 줄\n",
    " - 상위태그(div.sale) 바로 아래에 있는 태그뿐 아니라 몇 단계 아래의 태그 중에서 태그 정보(span.name)를 모두 찾았다.\n",
    " \n",
    "위 예를 통해서 > 기호와 띄어쓰기를 이용해 원하는 태그를 찾아보았으며, 태그에서 정보를 찾는 방법은 한 가지만 있는 것이 아니라 여러 가지 방법이 가능할 수 있다."
   ]
  },
  {
   "cell_type": "markdown",
   "metadata": {},
   "source": [
    "## **10. 정보 가져오기 ⓵ - 태그 그룹에서 하나의 태그 선택하기**\n",
    "---"
   ]
  },
  {
   "cell_type": "markdown",
   "metadata": {},
   "source": [
    "**soup.select('조건')**\n",
    " - 조건에 해당하는 모든 태그를 찾을 수 있다.\n",
    " - 그룹 형태로 결과를 확인 할 수 있다."
   ]
  },
  {
   "cell_type": "code",
   "execution_count": 21,
   "metadata": {},
   "outputs": [
    {
     "name": "stdout",
     "output_type": "stream",
     "text": [
      "<span class=\"name\"> 바나나 </span>\n"
     ]
    }
   ],
   "source": [
    "# 태그 그룹에서 하나의 태그만 선택\n",
    "tags = soup.select('span.name')\n",
    "tag_1 = tags[0]  # 인덱스 번호로 하나의 태그 지정\n",
    "print(tag_1)"
   ]
  },
  {
   "cell_type": "markdown",
   "metadata": {},
   "source": [
    "첫 번째 줄\n",
    " - soup에서 태그명이 span이며, class명이 name인 태그를 모두 찾아 tags 변수에 저장했다.\n",
    " \n",
    "두 번째 줄\n",
    " - 인덱스 번호가 0인 첫 번째 원소를 선택해서 tag_1 변수에 저장했다."
   ]
  },
  {
   "cell_type": "markdown",
   "metadata": {},
   "source": [
    "다음에는 태그 그룹에 있는 태그들을 모두 선택해 보겠다."
   ]
  },
  {
   "cell_type": "code",
   "execution_count": 22,
   "metadata": {},
   "outputs": [
    {
     "name": "stdout",
     "output_type": "stream",
     "text": [
      "<span class=\"name\"> 바나나 </span>\n",
      "<span class=\"name\"> 파인애플 </span>\n"
     ]
    }
   ],
   "source": [
    "# 태그 그룹에서 반복문으로 태그 하나씩 선택하기\n",
    "tags = soup.select('span.name')\n",
    "for tag in tags:    # 반복문으로 태그 그룹에서 각 태그를 선택해 활용\n",
    "    print(tag)"
   ]
  },
  {
   "cell_type": "markdown",
   "metadata": {},
   "source": [
    "첫 번째 줄\n",
    " - 태그 정보가 span.name인 태그를 모두 찾아 tags 변수에 저장했다.\n",
    " \n",
    "두 번째 줄\n",
    " - tags 그룹에서 하나씩 꺼내서 tag변수에 넣은 뒤 tag 변수를 출력\n",
    " \n",
    "결과 창에서 바나나 태그와 파인애플 태그가 순서대로 출력된 것을 확인 할 수 있다."
   ]
  },
  {
   "cell_type": "markdown",
   "metadata": {},
   "source": [
    "## **11. 정보 가져오기 ⓶ - 선택한 태그에서 정보 가져오기**"
   ]
  },
  {
   "cell_type": "markdown",
   "metadata": {},
   "source": [
    "일반적으로 브라우저에 표시되는 정보를 수집하는 일이 많기에 .text 명령을 자주 활용하지만, 화면에 보이지 않는 URL 주소를 수집하기 위해서는 ['href'] 명령도 필요하다. (하이퍼링크는 모두 `<a href = 'URL주소'>`  형식으로 작성돼 있다.)"
   ]
  },
  {
   "cell_type": "code",
   "execution_count": null,
   "metadata": {},
   "outputs": [],
   "source": [
    "# 태그에서 정보 가져오기\n",
    "content = TAG.text # 태그에서 화면에 보이는 텍스트 부분만 가져오기\n",
    "attribute = TAG['속성명'] # 태그 내 속성값 가져오기"
   ]
  },
  {
   "cell_type": "markdown",
   "metadata": {},
   "source": [
    "첫 번째 줄\n",
    " - 선택한 태그의 화면에 보이는 텍스트 부분을\n",
    " \n",
    "두 번째 줄\n",
    " - 선택한 태그 내의 특성 속성의 값을 가져온다."
   ]
  },
  {
   "cell_type": "markdown",
   "metadata": {},
   "source": [
    "위 예제에서 URL주소 정보를 추출해 보겠다."
   ]
  },
  {
   "cell_type": "code",
   "execution_count": 47,
   "metadata": {},
   "outputs": [
    {
     "name": "stdout",
     "output_type": "stream",
     "text": [
      " 홈페이지 \n",
      "http://bit.ly/forPlaywithData\n"
     ]
    }
   ],
   "source": [
    "# 선택한 태그에서 텍스트 속성 값 가져오기\n",
    "tags = soup.select('a')\n",
    "tag = tags[0]\n",
    "content = tag.text\n",
    "print(content)\n",
    "link = tag['href']\n",
    "print(link)"
   ]
  },
  {
   "cell_type": "markdown",
   "metadata": {},
   "source": [
    "1번째 줄\n",
    " - soup에서 태그명이 a 인 태그를 모두 선택\n",
    " \n",
    "2번째 줄\n",
    " - 첫번째(인덱스 번호 0번) 원소를 선택해서 tag 변수에 저장"
   ]
  },
  {
   "cell_type": "markdown",
   "metadata": {},
   "source": [
    "## **12. 멜론 노래 순위 정보 크롤링**\n",
    "---"
   ]
  },
  {
   "cell_type": "code",
   "execution_count": 48,
   "metadata": {},
   "outputs": [],
   "source": [
    "# 크롬드라이버 실행\n",
    "\n",
    "from selenium import webdriver\n",
    "driver = webdriver.Chrome('C:/Users/user/Desktop/chromedriver.exe') # 경로는 수정해주세요"
   ]
  },
  {
   "cell_type": "code",
   "execution_count": 49,
   "metadata": {},
   "outputs": [],
   "source": [
    "# 멜론 차트 바로가기\n",
    "url = 'http://www.melon.com/chart/index.htm'\n",
    "driver.get(url)"
   ]
  },
  {
   "cell_type": "code",
   "execution_count": 50,
   "metadata": {},
   "outputs": [],
   "source": [
    "# HTML 다운로드 및 BeautifulSoup으로 읽기\n",
    "from bs4 import BeautifulSoup\n",
    "html = driver.page_source\n",
    "soup = BeautifulSoup(html, 'html.parser')"
   ]
  },
  {
   "cell_type": "code",
   "execution_count": 54,
   "metadata": {},
   "outputs": [
    {
     "name": "stdout",
     "output_type": "stream",
     "text": [
      "100\n",
      "<tr data-song-no=\"33077590\">\n",
      "<td><div class=\"wrap t_right\"><input class=\"input_check \" name=\"input_check\" title=\"VVS (Feat. JUSTHIS) (Prod. GroovyRoom) 곡 선택\" type=\"checkbox\" value=\"33077590\"/></div></td>\n",
      "<td><div class=\"wrap\">\n",
      "<a class=\"image_typeAll\" href=\"javascript:melon.link.goAlbumDetail('10521601');\" title=\"쇼미더머니 9 Episode 1\">\n",
      "<img alt=\"쇼미더머니 9 Episode 1 - 페이지 이동\" height=\"60\" onerror=\"WEBPOCIMG.defaultAlbumImg(this);\" src=\"https://cdnimg.melon.co.kr/cm2/album/images/105/21/601/10521601_20201120125511_500.jpg/melon/resize/120/quality/80/optimize\" width=\"60\"/>\n",
      "<span class=\"bg_album_frame\"></span>\n",
      "</a>\n",
      "</div></td>\n",
      "<td><div class=\"wrap\">\n",
      "<a class=\"btn button_icons type03 song_info\" href=\"javascript:melon.link.goSongDetail('33077590');\" title=\"VVS (Feat. JUSTHIS) (Prod. GroovyRoom) 곡정보\"><span class=\"none\">곡정보</span></a>\n",
      "</div></td>\n",
      "<td><div class=\"wrap\">\n",
      "<div class=\"wrap_song_info\">\n",
      "<div class=\"ellipsis rank01\"><span>\n",
      "<a href=\"javascript:melon.play.playSong('19030101',33077590);\" title=\"VVS (Feat. JUSTHIS) (Prod. GroovyRoom) 재생\">VVS (Feat. JUSTHIS) (Prod. GroovyRoom)</a>\n",
      "</span></div>\n",
      "<br/>\n",
      "<div class=\"ellipsis rank02\">\n",
      "<a href=\"javascript:melon.link.goArtistDetail('2866523');\" title=\"미란이 (Mirani) - 페이지 이동\">미란이 (Mirani)</a>, <a href=\"javascript:melon.link.goArtistDetail('2747971');\" title=\"먼치맨 - 페이지 이동\">먼치맨</a>, <a href=\"javascript:melon.link.goArtistDetail('1703507');\" title=\"Khundi Panda - 페이지 이동\">Khundi Panda</a>, <a href=\"javascript:melon.link.goArtistDetail('2745413');\" title=\"머쉬베놈 (MUSHVENOM) - 페이지 이동\">머쉬베놈 (MUSHVENOM)</a><span class=\"checkEllipsis\" style=\"display: none;\"><a href=\"javascript:melon.link.goArtistDetail('2866523');\" title=\"미란이 (Mirani) - 페이지 이동\">미란이 (Mirani)</a>, <a href=\"javascript:melon.link.goArtistDetail('2747971');\" title=\"먼치맨 - 페이지 이동\">먼치맨</a>, <a href=\"javascript:melon.link.goArtistDetail('1703507');\" title=\"Khundi Panda - 페이지 이동\">Khundi Panda</a>, <a href=\"javascript:melon.link.goArtistDetail('2745413');\" title=\"머쉬베놈 (MUSHVENOM) - 페이지 이동\">머쉬베놈 (MUSHVENOM)</a></span>\n",
      "</div>\n",
      "<div class=\"wrap_atist\" style=\"\">\n",
      "<button class=\"button_icons etc more_down\" data-control=\"dropdown\" title=\"아티스트 더보기\" type=\"button\"><span class=\"none\">아티스트명 더보기</span></button>\n",
      "<div class=\"atist_view\" style=\"display:none;\">\n",
      "<ul>\n",
      "<li><a class=\"ellipsis\" href=\"javascript:melon.link.goArtistDetail('2866523');\" title=\"미란이 (Mirani) 페이지 이동\">미란이 (Mirani)</a></li>\n",
      "<li><a class=\"ellipsis\" href=\"javascript:melon.link.goArtistDetail('2747971');\" title=\"먼치맨 페이지 이동\">먼치맨</a></li>\n",
      "<li><a class=\"ellipsis\" href=\"javascript:melon.link.goArtistDetail('1703507');\" title=\"Khundi Panda 페이지 이동\">Khundi Panda</a></li>\n",
      "<li><a class=\"ellipsis\" href=\"javascript:melon.link.goArtistDetail('2745413');\" title=\"머쉬베놈 (MUSHVENOM) 페이지 이동\">머쉬베놈 (MUSHVENOM)</a></li>\n",
      "</ul>\n",
      "</div>\n",
      "</div>\n",
      "</div>\n",
      "</div></td>\n",
      "<td><div class=\"wrap\">\n",
      "<div class=\"wrap_song_info\">\n",
      "<div class=\"ellipsis rank03\">\n",
      "<a href=\"javascript:melon.link.goAlbumDetail('10521601');\" title=\"쇼미더머니 9 Episode 1 - 페이지 이동\">쇼미더머니 9 Episode 1</a>\n",
      "</div>\n",
      "</div>\n",
      "</div></td>\n",
      "<td><div class=\"wrap\">\n",
      "<button class=\"button_etc like\" data-song-menuid=\"19030101\" data-song-no=\"33077590\" title=\"VVS (Feat. JUSTHIS) (Prod. GroovyRoom) 좋아요\" type=\"button\"><span class=\"odd_span\">좋아요</span>\n",
      "<span class=\"cnt\">\n",
      "<span class=\"none\">총건수</span>\n",
      "121,414</span></button>\n",
      "</div></td>\n",
      "<td><div class=\"wrap t_center\">\n",
      "<button class=\"button_icons play \" onclick=\"melon.play.playSong('19030101',33077590);\" title=\"듣기\" type=\"button\"><span class=\"none\">듣기</span></button>\n",
      "</div></td>\n",
      "<td><div class=\"wrap t_center\">\n",
      "<button class=\"button_icons scrap \" onclick=\"melon.play.addPlayList('33077590');\" title=\"담기\" type=\"button\"><span class=\"none\">담기</span></button>\n",
      "</div></td>\n",
      "<td><div class=\"wrap t_center\">\n",
      "<button class=\"button_icons download \" onclick=\"melon.buy.goBuyProduct('frm', '33077590', '3C0001', '','0', '19030101');\" title=\"다운로드\" type=\"button\"><span class=\"none\">다운로드</span></button>\n",
      "</div></td>\n",
      "<td><div class=\"wrap t_center\">\n",
      "<button class=\"button_icons video disabled\" disabled=\"disabled\" onclick=\"melon.link.goMvDetail('19030101', '33077590','song');\" title=\"뮤직비디오\" type=\"button\"><span class=\"none\">뮤직비디오</span></button>\n",
      "</div></td>\n",
      "</tr>\n"
     ]
    }
   ],
   "source": [
    "# 100개의 노래 태그 찾기\n",
    "songs = soup.select('table > tbody > tr')\n",
    "print(len(songs))\n",
    "print(songs[0])"
   ]
  },
  {
   "cell_type": "markdown",
   "metadata": {},
   "source": [
    "이번에는 한 곡의 노래 태그에 해당하는 HTML 코드에서 노래 제목과 가수를 찾아보자.  \n",
    "1위 곡의 정보를 먼저 찾은 뒤 반복문을 통해 100곡 전체의 제목과 가수를 찾아볼 것이다."
   ]
  },
  {
   "cell_type": "code",
   "execution_count": 55,
   "metadata": {},
   "outputs": [],
   "source": [
    "# 한개의 곡 정보 지정하기\n",
    "song = songs[0]"
   ]
  },
  {
   "cell_type": "code",
   "execution_count": 60,
   "metadata": {},
   "outputs": [
    {
     "data": {
      "text/plain": [
       "16"
      ]
     },
     "execution_count": 60,
     "metadata": {},
     "output_type": "execute_result"
    }
   ],
   "source": [
    "# 곡 제목 찾기 1\n",
    "title = song.select('a') # a href, a class 같은 거에 a \n",
    "len(title)"
   ]
  },
  {
   "cell_type": "code",
   "execution_count": 68,
   "metadata": {},
   "outputs": [
    {
     "data": {
      "text/plain": [
       "5"
      ]
     },
     "execution_count": 68,
     "metadata": {},
     "output_type": "execute_result"
    }
   ],
   "source": [
    "# 곡 제목 찾기 2\n",
    "title = song.select('span > a')\n",
    "len(title)"
   ]
  },
  {
   "cell_type": "code",
   "execution_count": 69,
   "metadata": {},
   "outputs": [
    {
     "data": {
      "text/plain": [
       "1"
      ]
     },
     "execution_count": 69,
     "metadata": {},
     "output_type": "execute_result"
    }
   ],
   "source": [
    "# 곡 제목 찾기 3\n",
    "title = song.select('div.ellipsis.rank01 > span > a')\n",
    "len(title)"
   ]
  },
  {
   "cell_type": "markdown",
   "metadata": {},
   "source": [
    "이번에는 해당 태그의 텍스트 부분만 출력해 보겠다."
   ]
  },
  {
   "cell_type": "code",
   "execution_count": 74,
   "metadata": {},
   "outputs": [
    {
     "data": {
      "text/plain": [
       "'VVS (Feat. JUSTHIS) (Prod. GroovyRoom)'"
      ]
     },
     "execution_count": 74,
     "metadata": {},
     "output_type": "execute_result"
    }
   ],
   "source": [
    "# 곡 제목 가져오기\n",
    "title = song.select('div.ellipsis.rank01 > span > a')[0].text\n",
    "title"
   ]
  },
  {
   "cell_type": "code",
   "execution_count": 88,
   "metadata": {},
   "outputs": [
    {
     "data": {
      "text/plain": [
       "4"
      ]
     },
     "execution_count": 88,
     "metadata": {},
     "output_type": "execute_result"
    }
   ],
   "source": [
    "# 가수 찾기\n",
    "singer = song.select('div.ellipsis.rank02 > a')\n",
    "len(singer) # 가수가 4명이라 4가 나온다. "
   ]
  },
  {
   "cell_type": "code",
   "execution_count": 93,
   "metadata": {},
   "outputs": [
    {
     "data": {
      "text/plain": [
       "'미란이 (Mirani)'"
      ]
     },
     "execution_count": 93,
     "metadata": {},
     "output_type": "execute_result"
    }
   ],
   "source": [
    "# 가수 정보 가져오기\n",
    "singer = song.select('div.ellipsis.rank02 > a')[0].text # 가수가 네명이니까 인덱스도 3까지 있다. \n",
    "singer"
   ]
  },
  {
   "cell_type": "markdown",
   "metadata": {},
   "source": [
    "이번에는 100곡의 노래에서 노래 제목과 가수 정보를 추출해 보자."
   ]
  },
  {
   "cell_type": "code",
   "execution_count": 96,
   "metadata": {},
   "outputs": [
    {
     "name": "stdout",
     "output_type": "stream",
     "text": [
      "VVS (Feat. JUSTHIS) (Prod. GroovyRoom)|미란이 (Mirani)\n",
      "내일이 오면 (Feat. 기리보이, BIG Naughty (서동현))|릴보이 (lIlBOI)\n",
      "Dynamite|방탄소년단\n",
      "잠이 오질 않네요|장범준\n",
      "힘든 건 사랑이 아니다|임창정\n",
      "밤하늘의 별을(2020)|경서\n",
      "Achoo (Feat. pH-1, HAON) (Prod. GroovyRoom)|미란이 (Mirani)\n",
      "Lovesick Girls|BLACKPINK\n",
      "취기를 빌려 (취향저격 그녀 X 산들)|산들\n",
      "Life Goes On|방탄소년단\n",
      "Freak (Prod. Slom)|릴보이 (lIlBOI)\n",
      "뿌리 (Feat. JUSTHIS) (Prod. GroovyRoom)|Khundi Panda\n",
      "오래된 노래|스탠딩 에그\n",
      "All I Want For Christmas Is You|Mariah Carey\n",
      "Savage Love (Laxed - Siren Beat) (BTS Remix)|Jawsh 685\n",
      "내 마음이 움찔했던 순간 (취향저격 그녀 X 규현)|규현 (KYUHYUN)\n",
      "DON'T TOUCH ME|환불원정대\n",
      "딩가딩가 (Dingga)|마마무 (Mamamoo)\n",
      "When We Disco (Duet with 선미)|박진영\n",
      "어떻게 이별까지 사랑하겠어, 널 사랑하는 거지|AKMU (악동뮤지션)\n",
      "적외선 카메라|원슈타인\n",
      "나랑 같이 걸을래 (바른연애 길잡이 X 적재)|적재\n",
      "에잇(Prod.&Feat. SUGA of BTS)|아이유\n",
      "Santa Tell Me|Ariana Grande\n",
      "흔들리는 꽃들 속에서 네 샴푸향이 느껴진거야|장범준\n",
      "뻔한남자|이승기\n",
      "How You Like That|BLACKPINK\n",
      "어떻게 지내 (Prod. By VAN.C)|오반 (OVAN)\n",
      "Hate you|백예린 (Yerin Baek)\n",
      "늦은 밤 너의 집 앞 골목길에서|노을\n",
      "혼술하고 싶은 밤|벤\n",
      "I CAN’T STOP ME|TWICE (트와이스)\n",
      "Dolphin|오마이걸 (OH MY GIRL)\n",
      "아로하|조정석\n",
      "원해 (Feat. 팔로알토) (Prod. 코드 쿤스트)|스윙스\n",
      "가을밤에 든 생각|잔나비\n",
      "0415|백예린 (Yerin Baek)\n",
      "METEOR|창모 (CHANGMO)\n",
      "Lovegame|백예린 (Yerin Baek)\n",
      "Blueming|아이유\n",
      "눈누난나 (NUNU NANA)|제시 (Jessi)\n",
      "모든 날, 모든 순간 (Every day, Every Moment)|폴킴\n",
      "마리아 (Maria)|화사 (Hwa Sa)\n",
      "부어라 비워라 (Tricker) (Prod. GroovyRoom)|머쉬베놈 (MUSHVENOM)\n",
      "작은 것들을 위한 시 (Boy With Luv) (Feat. Halsey)|방탄소년단\n",
      "거짓말이라도 해서 널 보고싶어|백지영\n",
      "사실 나는 (Feat.전건호)|경서예지\n",
      "서면역에서|순순희\n",
      "Memories|Maroon 5\n",
      "잘할게|이승기\n",
      "Dance Monkey|Tones And I\n",
      "홀로|이하이\n",
      "사랑은 지날수록 더욱 선명하게 남아|전상근\n",
      "오늘도 빛나는 너에게 (To You My Light) (Feat.이라온)|마크툽 (MAKTUB)\n",
      "Downtown Baby|블루 (BLOO)\n",
      "마음을 드려요|아이유\n",
      "Snowman|Sia\n",
      "봄날|방탄소년단\n",
      "우리 왜 헤어져야 해|신예영\n",
      "어김없이 이 거리에|정승환\n",
      "2002|Anne-Marie\n",
      "소확행|임창정\n",
      "사랑 못해, 남들 쉽게 다 하는 거|먼데이 키즈 (Monday Kiz)\n",
      "놓아줘 (with 태연)|Crush\n",
      "살짝 설렜어 (Nonstop)|오마이걸 (OH MY GIRL)\n",
      "You’re so lonely now, so you need me back by your side again|백예린 (Yerin Baek)\n",
      "미리 메리 크리스마스 (Feat. 천둥 Of MBLAQ)|아이유\n",
      "내 방을 여행하는 법|방탄소년단\n",
      "Blue & Grey|방탄소년단\n",
      "Bad Boy|청하\n",
      "너도 아는|폴킴\n",
      "처음처럼|엠씨더맥스 (M.C the MAX)\n",
      "사랑하게 될 줄 알았어|전미도\n",
      "안녕|폴킴\n",
      "행복해|송하예\n",
      "다시 여기 바닷가|싹쓰리 (유두래곤, 린다G, 비룡)\n",
      "시작|가호 (Gaho)\n",
      "I am not your ocean anymore|백예린 (Yerin Baek)\n",
      "Don't Start Now|Dua Lipa\n",
      "윈윈 (Feat. 개코, BewhY) (Prod. BewhY)|허성현 (Rose de Penny)\n",
      "별을 담은 시 (Ode To The Stars)|마크툽 (MAKTUB)\n",
      "이제 나만 믿어요|임영웅\n",
      "너를 만나|폴킴\n",
      "AYA|마마무 (Mamamoo)\n",
      "Panorama|IZ*ONE (아이즈원)\n",
      "ON|방탄소년단\n",
      "아무노래|지코 (ZICO)\n",
      "12:45 (Stripped)|Etham\n",
      "Black Mamba|aespa\n",
      "Love poem|아이유\n",
      "Hall&Oates|백예린 (Yerin Baek)\n",
      "잠시|방탄소년단\n",
      "Maniac|Conan Gray\n",
      "Pretty Savage|BLACKPINK\n",
      "Paris In The Rain|Lauv\n",
      "덤디덤디 (DUMDi DUMDi)|(여자)아이들\n",
      "그때 그 아인|김필\n",
      "Ms. Delicate|백예린 (Yerin Baek)\n",
      "시든 꽃에 물을 주듯|HYNN (박혜원)\n",
      "도망가|MINO (송민호)\n"
     ]
    }
   ],
   "source": [
    "# 멜론 100위 노래순위 정보 가져오기\n",
    "for song in songs:\n",
    "    title = song.select('div.ellipsis.rank01 > span > a')[0].text\n",
    "    singer = song.select('div.ellipsis.rank02 > a')[0].text\n",
    "    print(title, singer, sep = '|')"
   ]
  },
  {
   "cell_type": "markdown",
   "metadata": {},
   "source": [
    "이로써 selenium과 BeautifulSoup을 활용해서 멜론 인기차트 웹페이지에서 인기차트 Top100의 노래 정보를 수집할 수 있었습니다. 전체 코드를 정리하자면 아래와 같다."
   ]
  },
  {
   "cell_type": "code",
   "execution_count": 105,
   "metadata": {},
   "outputs": [
    {
     "name": "stdout",
     "output_type": "stream",
     "text": [
      "VVS (Feat. JUSTHIS) (Prod. GroovyRoom)|미란이 (Mirani)\n",
      "내일이 오면 (Feat. 기리보이, BIG Naughty (서동현))|릴보이 (lIlBOI)\n",
      "Dynamite|방탄소년단\n",
      "잠이 오질 않네요|장범준\n",
      "힘든 건 사랑이 아니다|임창정\n",
      "밤하늘의 별을(2020)|경서\n",
      "Achoo (Feat. pH-1, HAON) (Prod. GroovyRoom)|미란이 (Mirani)\n",
      "Lovesick Girls|BLACKPINK\n",
      "취기를 빌려 (취향저격 그녀 X 산들)|산들\n",
      "Life Goes On|방탄소년단\n",
      "Freak (Prod. Slom)|릴보이 (lIlBOI)\n",
      "뿌리 (Feat. JUSTHIS) (Prod. GroovyRoom)|Khundi Panda\n",
      "오래된 노래|스탠딩 에그\n",
      "All I Want For Christmas Is You|Mariah Carey\n",
      "Savage Love (Laxed - Siren Beat) (BTS Remix)|Jawsh 685\n",
      "내 마음이 움찔했던 순간 (취향저격 그녀 X 규현)|규현 (KYUHYUN)\n",
      "DON'T TOUCH ME|환불원정대\n",
      "딩가딩가 (Dingga)|마마무 (Mamamoo)\n",
      "When We Disco (Duet with 선미)|박진영\n",
      "어떻게 이별까지 사랑하겠어, 널 사랑하는 거지|AKMU (악동뮤지션)\n",
      "적외선 카메라|원슈타인\n",
      "Hate you|백예린 (Yerin Baek)\n",
      "나랑 같이 걸을래 (바른연애 길잡이 X 적재)|적재\n",
      "에잇(Prod.&Feat. SUGA of BTS)|아이유\n",
      "Santa Tell Me|Ariana Grande\n",
      "흔들리는 꽃들 속에서 네 샴푸향이 느껴진거야|장범준\n",
      "0415|백예린 (Yerin Baek)\n",
      "뻔한남자|이승기\n",
      "How You Like That|BLACKPINK\n",
      "어떻게 지내 (Prod. By VAN.C)|오반 (OVAN)\n",
      "늦은 밤 너의 집 앞 골목길에서|노을\n",
      "혼술하고 싶은 밤|벤\n",
      "I CAN’T STOP ME|TWICE (트와이스)\n",
      "Lovegame|백예린 (Yerin Baek)\n",
      "Dolphin|오마이걸 (OH MY GIRL)\n",
      "아로하|조정석\n",
      "가을밤에 든 생각|잔나비\n",
      "원해 (Feat. 팔로알토) (Prod. 코드 쿤스트)|스윙스\n",
      "METEOR|창모 (CHANGMO)\n",
      "Blueming|아이유\n",
      "눈누난나 (NUNU NANA)|제시 (Jessi)\n",
      "모든 날, 모든 순간 (Every day, Every Moment)|폴킴\n",
      "잘할게|이승기\n",
      "마리아 (Maria)|화사 (Hwa Sa)\n",
      "부어라 비워라 (Tricker) (Prod. GroovyRoom)|머쉬베놈 (MUSHVENOM)\n",
      "작은 것들을 위한 시 (Boy With Luv) (Feat. Halsey)|방탄소년단\n",
      "거짓말이라도 해서 널 보고싶어|백지영\n",
      "사실 나는 (Feat.전건호)|경서예지\n",
      "서면역에서|순순희\n",
      "Memories|Maroon 5\n",
      "Dance Monkey|Tones And I\n",
      "홀로|이하이\n",
      "사랑은 지날수록 더욱 선명하게 남아|전상근\n",
      "오늘도 빛나는 너에게 (To You My Light) (Feat.이라온)|마크툽 (MAKTUB)\n",
      "Downtown Baby|블루 (BLOO)\n",
      "마음을 드려요|아이유\n",
      "Snowman|Sia\n",
      "You’re so lonely now, so you need me back by your side again|백예린 (Yerin Baek)\n",
      "봄날|방탄소년단\n",
      "우리 왜 헤어져야 해|신예영\n",
      "2002|Anne-Marie\n",
      "어김없이 이 거리에|정승환\n",
      "소확행|임창정\n",
      "사랑 못해, 남들 쉽게 다 하는 거|먼데이 키즈 (Monday Kiz)\n",
      "놓아줘 (with 태연)|Crush\n",
      "I am not your ocean anymore|백예린 (Yerin Baek)\n",
      "살짝 설렜어 (Nonstop)|오마이걸 (OH MY GIRL)\n",
      "미리 메리 크리스마스 (Feat. 천둥 Of MBLAQ)|아이유\n",
      "내 방을 여행하는 법|방탄소년단\n",
      "Blue & Grey|방탄소년단\n",
      "Bad Boy|청하\n",
      "너도 아는|폴킴\n",
      "처음처럼|엠씨더맥스 (M.C the MAX)\n",
      "사랑하게 될 줄 알았어|전미도\n",
      "안녕|폴킴\n",
      "시작|가호 (Gaho)\n",
      "행복해|송하예\n",
      "다시 여기 바닷가|싹쓰리 (유두래곤, 린다G, 비룡)\n",
      "Don't Start Now|Dua Lipa\n",
      "윈윈 (Feat. 개코, BewhY) (Prod. BewhY)|허성현 (Rose de Penny)\n",
      "별을 담은 시 (Ode To The Stars)|마크툽 (MAKTUB)\n",
      "Hall&Oates|백예린 (Yerin Baek)\n",
      "이제 나만 믿어요|임영웅\n",
      "너를 만나|폴킴\n",
      "AYA|마마무 (Mamamoo)\n",
      "Panorama|IZ*ONE (아이즈원)\n",
      "ON|방탄소년단\n",
      "Ms. Delicate|백예린 (Yerin Baek)\n",
      "아무노래|지코 (ZICO)\n",
      "Black Mamba|aespa\n",
      "12:45 (Stripped)|Etham\n",
      "Love poem|아이유\n",
      "잠시|방탄소년단\n",
      "Maniac|Conan Gray\n",
      "Pretty Savage|BLACKPINK\n",
      "Paris In The Rain|Lauv\n",
      "덤디덤디 (DUMDi DUMDi)|(여자)아이들\n",
      "그때 그 아인|김필\n",
      "“HOMESWEETHOME”|백예린 (Yerin Baek)\n",
      "시든 꽃에 물을 주듯|HYNN (박혜원)\n"
     ]
    }
   ],
   "source": [
    "driver = webdriver.Chrome('C:/Users/user/Desktop/chromedriver.exe') # 경로 주의 해주세요\n",
    "url = 'http://www.melon.com/chart/index.htm'\n",
    "driver.get(url)\n",
    "\n",
    "html = driver.page_source\n",
    "soup = BeautifulSoup(html, 'html.parser')\n",
    "\n",
    "songs = soup.select('tbody > tr')\n",
    "for song in songs:\n",
    "    title = song.select('div.ellipsis.rank01 > span > a')[0].text\n",
    "    singer = song.select('div.ellipsis.rank02 > a')[0].text\n",
    "    print(title, singer, sep = '|')"
   ]
  },
  {
   "cell_type": "code",
   "execution_count": null,
   "metadata": {},
   "outputs": [],
   "source": []
  }
 ],
 "metadata": {
  "kernelspec": {
   "display_name": "Python 3",
   "language": "python",
   "name": "python3"
  },
  "language_info": {
   "codemirror_mode": {
    "name": "ipython",
    "version": 3
   },
   "file_extension": ".py",
   "mimetype": "text/x-python",
   "name": "python",
   "nbconvert_exporter": "python",
   "pygments_lexer": "ipython3",
   "version": "3.8.3"
  }
 },
 "nbformat": 4,
 "nbformat_minor": 4
}
