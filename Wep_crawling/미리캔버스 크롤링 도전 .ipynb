{
 "cells": [
  {
   "cell_type": "code",
   "execution_count": 1,
   "metadata": {},
   "outputs": [],
   "source": [
    "from selenium import webdriver\n",
    "from bs4 import BeautifulSoup\n",
    "\n",
    "## setup Driver|Chrome : 크롬드라이버를 사용하는 driver 생성\n",
    "driver = webdriver.Chrome('/Users/82106/Downloads/chromedriver_win32/chromedriver')\n",
    "driver.implicitly_wait(3) ## 암묵적으로 웹 자원을 (최대) 3초 기다리기\n",
    "## Login\n",
    "driver.get('https://www.miricanvas.com/nidlogin.login') ## 미리캔버스 로그인 URL로 이동하기\n",
    "driver.find_element_by_name('id').send_keys('neip313') ## 값 입력\n",
    "driver.find_element_by_name('pw').send_keys('2142826526')\n",
    "driver.find_element_by_xpath(\n",
    "    '//*[@id=\"frmNIDLogin\"]/fieldset/input'\n",
    "    ).click() ## 버튼클릭하기\n",
    "driver.get('https://order.pay.naver.com/home') ## Naver 페이 들어가기\n",
    "html = driver.page_source ## 페이지의 elements모두 가져오기\n",
    "soup = BeautifulSoup(html, 'html.parser') ## BeautifulSoup사용하기\n",
    "notices = soup.select('div.p_inr > div.p_info > a > span')\n",
    "\n",
    "for n in notices:\n",
    "    print(n.text.strip())"
   ]
  },
  {
   "cell_type": "code",
   "execution_count": 3,
   "metadata": {},
   "outputs": [],
   "source": [
    "from selenium import webdriver\n",
    "from bs4 import BeautifulSoup\n",
    "\n",
    "## setup Driver|Chrome : 크롬드라이버를 사용하는 driver 생성\n",
    "driver = webdriver.Chrome('/Users/82106/Downloads/chromedriver_win32/chromedriver')\n",
    "driver.implicitly_wait(3) ## 암묵적으로 웹 자원을 (최대) 3초 기다리기\n",
    "## Login\n",
    "driver.get('https://www.miricanvas.com/templates') ## 미리캔버스 템플릿URL로 이동하기"
   ]
  }
 ],
 "metadata": {
  "kernelspec": {
   "display_name": "Python 3",
   "language": "python",
   "name": "python3"
  },
  "language_info": {
   "codemirror_mode": {
    "name": "ipython",
    "version": 3
   },
   "file_extension": ".py",
   "mimetype": "text/x-python",
   "name": "python",
   "nbconvert_exporter": "python",
   "pygments_lexer": "ipython3",
   "version": "3.8.5"
  }
 },
 "nbformat": 4,
 "nbformat_minor": 4
}
