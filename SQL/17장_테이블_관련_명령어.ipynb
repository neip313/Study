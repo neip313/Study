{
 "cells": [
  {
   "attachments": {},
   "cell_type": "markdown",
   "metadata": {},
   "source": [
    "# 17장 테이블 관련 명령어"
   ]
  },
  {
   "attachments": {},
   "cell_type": "markdown",
   "metadata": {},
   "source": [
    "## 목차\n",
    "- 17.1. CREATE TABLE : 테이블 생성 \n",
    "- 17.2. DESC : 테이블 구조 보기 \n",
    "- 17.3. RENAME : 테이블 명 변경 \n",
    "- 17.4. ALTER TABLE : 테이블 속성 변경 \n",
    "- 17.5. INDEX : 인덱스의 생성, 수정, 삭제 작업\n",
    "- 17.6. PRIMARY KEY : 기본키의 생성, 삭제 작업\n",
    "- 17.7. TRUNCATE TABLE : 복구 정보 없이 데이터 전체 삭제 \n",
    "- 17.8. DROP TABLE : 테이블 삭제 "
   ]
  },
  {
   "cell_type": "markdown",
   "metadata": {},
   "source": [
    "## 17.1. CREATE TABLE : 테이블 생성 "
   ]
  },
  {
   "cell_type": "markdown",
   "metadata": {},
   "source": [
    "## 17.2. DESC : 테이블 구조 보기 "
   ]
  },
  {
   "cell_type": "markdown",
   "metadata": {},
   "source": [
    "## 17.3. RENAME : 테이블 명 변경"
   ]
  },
  {
   "cell_type": "markdown",
   "metadata": {},
   "source": [
    "## 17.4. ALTER TABLE : 테이블 속성 변경"
   ]
  },
  {
   "cell_type": "markdown",
   "metadata": {},
   "source": [
    "## 17.5. INDEX : 인덱스의 생성, 수정, 삭제 작업"
   ]
  },
  {
   "cell_type": "markdown",
   "metadata": {},
   "source": [
    "## 17.6. PRIMARY KEY : 기본키의 생성, 삭제 작업"
   ]
  },
  {
   "cell_type": "markdown",
   "metadata": {},
   "source": [
    "## 17.7. TRUNCATE TABLE : 복구 정보 없이 데이터 전체 삭제"
   ]
  },
  {
   "cell_type": "markdown",
   "metadata": {},
   "source": [
    "## 17.8. DROP TABLE : 테이블 삭제 "
   ]
  }
 ],
 "metadata": {
  "kernelspec": {
   "display_name": "Python 3",
   "language": "python",
   "name": "python3"
  },
  "language_info": {
   "codemirror_mode": {
    "name": "ipython",
    "version": 3
   },
   "file_extension": ".py",
   "mimetype": "text/x-python",
   "name": "python",
   "nbconvert_exporter": "python",
   "pygments_lexer": "ipython3",
   "version": "3.8.3"
  }
 },
 "nbformat": 4,
 "nbformat_minor": 4
}
