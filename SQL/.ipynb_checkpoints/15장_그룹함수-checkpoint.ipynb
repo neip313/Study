{
 "cells": [
  {
   "cell_type": "markdown",
   "metadata": {},
   "source": [
    "# 15장 그룹함수"
   ]
  },
  {
   "attachments": {},
   "cell_type": "markdown",
   "metadata": {},
   "source": [
    "## 목차\n",
    "- 15.1. MAX( ) : 그룹 항목의 최대값 취득 \n",
    "- 15.2. MIN( ) : 그룹 항목의 최소값 취득 \n",
    "- 15.3. SUM( ) : 그룹 항목의 합계 취득 \n",
    "- 15.4. AVG( ) : 그룹 항목의 평균 취득 \n",
    "- 15.5. COUNT( ) : 그룹 항목의 개수 취득  \n",
    "- 15.6. ROLLUP( ) : 그룹 항목의 소계 및 합계 취득 \n",
    "- 15.7. ROW_NUMBER( ) : 중복 없는 순차 순번 부여\n",
    "- 15.8. RANK( ) : 동일 값 중복 수넌 후 순위만큼 이동한 순번 부여\n",
    "- 15.9. DENSE_RANK( ) : 동일 값 중복 순번 후 순차 순번 부여\n",
    "- 15.10. RANK( ) WITHIN : RANK() 순번 처리 후 지정 값의 위치 취득 \n",
    "- 15.11 FIRST_VALUE() : RANK() 순번 처리 후 지정 값의 위치 취득"
   ]
  }
 ],
 "metadata": {
  "kernelspec": {
   "display_name": "Python 3",
   "language": "python",
   "name": "python3"
  },
  "language_info": {
   "codemirror_mode": {
    "name": "ipython",
    "version": 3
   },
   "file_extension": ".py",
   "mimetype": "text/x-python",
   "name": "python",
   "nbconvert_exporter": "python",
   "pygments_lexer": "ipython3",
   "version": "3.8.3"
  }
 },
 "nbformat": 4,
 "nbformat_minor": 4
}
