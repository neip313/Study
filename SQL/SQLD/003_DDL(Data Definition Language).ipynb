{
 "cells": [
  {
   "cell_type": "markdown",
   "metadata": {},
   "source": [
    "# 003_DDL(Data Definition Language)\n",
    "\n",
    "## 테이블(Table) 생성 \n",
    "- 데이터베이스를 사용하기 위해서는 테이블을 먼저 생성 \n",
    "- 테이블 생성은 Create Table문을 사용, 테이블 변경은 Alter Table문을 사용, 테이블을 삭제하고 싶을 때는 Drop Table문을 사용 \n",
    "\n",
    "**테이블 관리 SQL문** \n",
    "\n",
    "|SQL문|설명|\n",
    "|---|:---|\n",
    "|Create Table|- 새로운 테이블을 생성|\n",
    "||- 테이블을 생성할 때 기본키, 외래키, 제약사항 등을 설정|\n",
    "|Alter Table|- 생성된 테이블을 변경|\n",
    "||- 칼럼을 추가하거나 변경, 삭제|\n",
    "||- 기본키를 설정하거나 외래키를 설정|\n",
    "|Drop Table|- 해당 테이블을 삭제|\n",
    "||- 테이블의 데이터 구조뿐만 아니라 저장된 데이터도 모두 삭제|\n"
   ]
  },
  {
   "cell_type": "markdown",
   "metadata": {},
   "source": [
    "### [1] 기본적인 테이블 생성 \n",
    "```\n",
    "Create Table EMP                            # 생성되는 테이블명이고 테이블명은 영문자로 시작한다. \n",
    "(                                           # empno, ename, sal 은 생성되는 EMP 테이블의 칼럼명\n",
    "    empno number(10) primary key,           # 생성되는 ENMP 테이블의 칼럼명이다. \n",
    "    ename varchar2(20),                     # varchar2는 가변 길이 문자를 의미한다.  \n",
    "    sal   number(6)                         # 데이터 타입을 지정한다, number은 숫자 \n",
    ");\n",
    "```\n",
    "\n",
    "**Create Table문의 구조** \n",
    "\n",
    "|Create Table문|설명|\n",
    "|---|:---|\n",
    "|Create Table|- 'Create Table EMP'는 'EMP' 테이블을 생성하라는 의미|\n",
    "||- '()'사이에 칼럼을 쓰고 마지막은 세미콜론으로 끝난다. |\n",
    "|칼럼 정보|- 테이블에 생성되는 칼럼 이름과 데이터 타입을 입력한다.|\n",
    "||- 칼럼 이름은 영문, 한글, 숫자 모두 가능하다. |\n",
    "|데이터 타입|- number는 칼럼의 데이터 타입을 숫자형 타입으로, varchar2는 가변 길이 문자열로 지정할 때 사용|\n",
    "||- char는 칼럼의 데이터 타입을 고정된 크기의 문자로 지정할 때, date는 날짜형 타입으로 지정할 때 사용|\n",
    "|기본키|- 기본키를 지정할 때 칼럼 옆에 primary key를 입력|\n"
   ]
  }
 ],
 "metadata": {
  "kernelspec": {
   "display_name": "Python 3",
   "language": "python",
   "name": "python3"
  },
  "language_info": {
   "codemirror_mode": {
    "name": "ipython",
    "version": 3
   },
   "file_extension": ".py",
   "mimetype": "text/x-python",
   "name": "python",
   "nbconvert_exporter": "python",
   "pygments_lexer": "ipython3",
   "version": "3.8.5"
  }
 },
 "nbformat": 4,
 "nbformat_minor": 4
}
