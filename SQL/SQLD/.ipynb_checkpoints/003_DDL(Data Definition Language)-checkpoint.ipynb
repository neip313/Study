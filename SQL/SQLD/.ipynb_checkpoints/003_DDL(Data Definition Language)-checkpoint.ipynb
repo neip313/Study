{
 "cells": [
  {
   "cell_type": "markdown",
   "metadata": {},
   "source": [
    "# 003_DDL(Data Definition Language)\n",
    "\n",
    "## 테이블(Table) 생성 \n",
    "- 데이터베이스를 사용하기 위해서는 테이블을 먼저 생성 \n",
    "- 테이블 생성은 Create Table문을 사용, 테이블 변경은 Alter Table문을 사용, 테이블을 삭제하고 싶을 때는 Drop Table문을 사용 \n",
    "\n",
    "**테이블 관리 SQL문** \n",
    "\n",
    "|SQL문|설명|\n",
    "|---|:---|\n",
    "|Create Table|- 새로운 테이블을 생성|\n",
    "||- 테이블을 생성할 때 기본키, 외래키, 제약사항 등을 설정|\n",
    "|Alter Table|- 생성된 테이블을 변경|\n",
    "||- 칼럼을 추가하거나 변경, 삭제|\n",
    "||- 기본키를 설정하거나 외래키를 설정|\n",
    "|Drop Table|- 해당 테이블을 삭제|\n",
    "||- 테이블의 데이터 구조뿐만 아니라 저장된 데이터도 모두 삭제|\n"
   ]
  },
  {
   "cell_type": "markdown",
   "metadata": {},
   "source": [
    "### [1] 기본적인 테이블 생성 \n"
   ]
  }
 ],
 "metadata": {
  "kernelspec": {
   "display_name": "Python 3",
   "language": "python",
   "name": "python3"
  },
  "language_info": {
   "codemirror_mode": {
    "name": "ipython",
    "version": 3
   },
   "file_extension": ".py",
   "mimetype": "text/x-python",
   "name": "python",
   "nbconvert_exporter": "python",
   "pygments_lexer": "ipython3",
   "version": "3.8.5"
  }
 },
 "nbformat": 4,
 "nbformat_minor": 4
}
