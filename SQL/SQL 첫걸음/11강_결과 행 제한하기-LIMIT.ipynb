{
 "cells": [
  {
   "cell_type": "markdown",
   "metadata": {},
   "source": [
    "# 11강_결과 행 제한하기-LIMIT\n",
    "SELECT 명령에서는 결괏값으로 반환되는 행을 제한할 수 있다. \n",
    "```\n",
    "SELECT 열명 FROM 테이블명 LIMIT 행수 [OFFSET 시작행]\n",
    "``` "
   ]
  },
  {
   "cell_type": "markdown",
   "metadata": {},
   "source": [
    "## 1. 행수 제한\n",
    "- LIMIT 구는 표준 SQL이 아니다. MySQL과 PostegreSQL에서 사용하는 문법이라는 점, 주의 \n",
    "- LIMIT 구는 SELECT 명령의 마지막에 지정하는 것으로 WHERE 구나 ORDER BY 구의 뒤에 지정\n",
    "```\n",
    "SELECT 열명 FROM 테이블명 WHERE 조건식 ORDER BY 열명 LIMIT 행수 \n",
    "``` \n",
    "- LIMIT 다음에는 최대 행수를 수치로 지정 \n",
    "```\n",
    "SELECT * FROM sample33 LIMIT 3;\n",
    "```\n",
    "\n",
    "### 정렬한 후 제한하기 \n",
    "```\n",
    "SELECT * FROM sample33 ORDER BY no DESC LIMIT 3;\n",
    "```"
   ]
  },
  {
   "cell_type": "markdown",
   "metadata": {},
   "source": [
    "### LIMIT를 사용할 수 없는 데이버베이스에서의 행 제한\n",
    "- SQL Server 에서는 TOP 를 이용해 LIMIT 과 비슷한 업무 수행 가능 \n",
    "```\n",
    "SELECT TOP 3 * FROM sample33;\n",
    "```\n",
    "- Oracle 에는 ROWNUM이라는 열을 사용해 WHERE 구로 조건을 지정하여 행을 제한\n",
    "```\n",
    "SELECT * FROM sample33 WHERE ROWNUM <=3;\n",
    "```\n"
   ]
  },
  {
   "cell_type": "markdown",
   "metadata": {},
   "source": [
    "## 2. 오프셋 지정\n",
    "- 페이지 나누기 기능은 LIMIT을 사용해 간단히 구현 \n",
    "```\n",
    "SELECT 열명 FROM 테이블명 LIMIT 행수 OFFSET 위치\n",
    "\n",
    "EX) \n",
    "SELECT * FROM sample33 LIMIT 3 OFFSET 0; \n",
    "``` \n",
    "- LIMIT 구의 OFFSET은 생략 가능하며 기본값은 0"
   ]
  }
 ],
 "metadata": {
  "kernelspec": {
   "display_name": "Python 3",
   "language": "python",
   "name": "python3"
  },
  "language_info": {
   "codemirror_mode": {
    "name": "ipython",
    "version": 3
   },
   "file_extension": ".py",
   "mimetype": "text/x-python",
   "name": "python",
   "nbconvert_exporter": "python",
   "pygments_lexer": "ipython3",
   "version": "3.8.5"
  }
 },
 "nbformat": 4,
 "nbformat_minor": 4
}
