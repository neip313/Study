{
 "cells": [
  {
   "cell_type": "markdown",
   "metadata": {},
   "source": [
    "# 23강 서브쿼리 \n",
    "- 서브쿼리는 SELECT 명령에 의한 데이터 질의로, 상부가 아닌 하부의 부수적인 질의를 의미 \n",
    "- 서브쿼리는 SQL 명령문 안에 지정하는 하부 SELECT 명령으로 괄로호 묶어 지정\n",
    "- 서브쿼리는 SQL 명령의 WHERE 구에서 주로 사용 \n",
    "\n",
    "## 1. DELETE 의 WHERE 구에서 서브쿼리 사용하기 \n",
    "```\n",
    "DELETE FROM sample54 WHERE a = (SELECT MIN(a) FROM sample54);\n",
    "```"
   ]
  },
  {
   "cell_type": "markdown",
   "metadata": {},
   "source": [
    "## 2. 스칼라 값 \n",
    "- SELECT 명령이 하나의 값만 반환하는 것을 '스칼라 값을 반환한다'고 한다. \n"
   ]
  },
  {
   "cell_type": "markdown",
   "metadata": {},
   "source": [
    "## 3. SELECT 구에서 서브쿼리 사용하기 \n",
    "- 문법적으로 서브쿼리는 '하나의 항목'으로 취급 \n",
    "```\n",
    "SELECT \n",
    "    (SELECT COUNT(*) FROM sample51) AS sq1,\n",
    "    (SELECT COUNT(*) FROM sample54) AS sq2 FROM DUAL;\n",
    "```\n",
    "\n",
    "sq1|sq2\n",
    "-|-\n",
    "5|3"
   ]
  },
  {
   "cell_type": "markdown",
   "metadata": {},
   "source": [
    "## 4. SET 구에서 서브쿼리 사용하기 \n",
    "- UPDATE의 SET 구에서도 서브쿼리를 사용할 수 있다. \n",
    "```\n",
    "UPDATE sample54 SET a = (SELECT MAX(a) FROM sample54);\n",
    "```"
   ]
  },
  {
   "cell_type": "markdown",
   "metadata": {},
   "source": [
    "## 5. FROM 구에서 서브쿼리 사용하기 \n",
    "```\n",
    "SELECT * FROM (SELECT * FROM sample54)sq;\n",
    "\n",
    "# sq는 테이블 명 \n",
    "```\n",
    "\n",
    "no|a\n",
    "-|-\n",
    "1|100\n",
    "2|900\n",
    "4|80\n",
    "\n",
    "- SELECT 명령 안에 SELECT 명령이 들어있는 것을 '네스티드(nested) 구조', 또는 '중첩구조'나 '내포구조'라 부른다. \n",
    "\n",
    "- AS 로 테이블 명을 지정 \n",
    "```\n",
    "SELECT * FROM (SELECT * FROM sample54) AS sq;\n",
    "\n",
    "# sq는 테이블 명 \n",
    "```"
   ]
  },
  {
   "cell_type": "markdown",
   "metadata": {},
   "source": [
    "## 6. INSERT 명령과 서브쿼리 \n",
    "- INSERT 명령에는 VALUE 구의 일부로 서브쿼리를 사용하는 경우와 VALUE 구 대신 SELECT 명령을 사용하는 두 가지 방법"
   ]
  }
 ],
 "metadata": {
  "kernelspec": {
   "display_name": "Python 3",
   "language": "python",
   "name": "python3"
  },
  "language_info": {
   "codemirror_mode": {
    "name": "ipython",
    "version": 3
   },
   "file_extension": ".py",
   "mimetype": "text/x-python",
   "name": "python",
   "nbconvert_exporter": "python",
   "pygments_lexer": "ipython3",
   "version": "3.8.5"
  }
 },
 "nbformat": 4,
 "nbformat_minor": 4
}
