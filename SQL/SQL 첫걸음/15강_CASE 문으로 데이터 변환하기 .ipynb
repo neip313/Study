{
 "cells": [
  {
   "cell_type": "markdown",
   "metadata": {},
   "source": [
    "# 15강_CASE 문으로 데이터 변환하기 \n",
    "- CASE 문을 이용해 데이터를 변환 \n",
    "```\n",
    "CASE WHEN 조건식 1 THEN 식1\n",
    "    [WHEN 조건식2 THEN 식2 ...]\n",
    "    [ELSE 식3 ] \n",
    "END\n",
    "```\n",
    "```\n",
    "==========================\n",
    "1 -> 남자 \n",
    "2 -> 여자 \n",
    "==========================\n",
    "CASE \n",
    "    WHEN 1 THEN '남자'\n",
    "    WHEN 2 THEN '여자'\n",
    "END  \n",
    "```"
   ]
  },
  {
   "cell_type": "markdown",
   "metadata": {},
   "source": [
    "## 1. CASE 문 \n",
    "- NULL값을 0으로 간주하여 계산하고 싶은 경우 등에 사용 \n",
    "- WHEN 절에는 참과 거짓을 반환하는 조건식을 기술 \n",
    "- 해당 조건을 만족하여 참이 되는 경우는 THEN 절에 기술한 식이 처리\n",
    "```\n",
    "CASE WHEN 조건식 1 THEN 식1\n",
    "    [WHEN 조건식2 THEN 식2 ...]\n",
    "    [ELSE 식3 ] \n",
    "END\n",
    "```\n",
    "- NULL 값을 0으로 변환하는 CASE 식 구현 사례 \n",
    "```\n",
    "NULL 값을 0으로 변환하기 \n",
    "SELECT a, CASE WHEN a IS NULL THEN 0 ELSE a END \"a(NULL=0)\"FROM sample37;\n",
    "```\n",
    "- a열의 값이 NULL일 때 WHEN a IS NULL은 참이 되므로 CASE 문은 THEN 절의 '0'을 반환합니다. NULL이 아닌 경우에는 ELSE 절의 'a', 즉 a열의 값을 반환합니다. \n",
    "\n",
    "### COALESCE\n",
    "- NULL값을 변환하는 경우하면 COALESECE함수를 사용하는 편이 더 쉽다.\n",
    "```\n",
    "SELECT a, COALESCE(a, 0) FROM sample37;\n",
    "```\n",
    "- a가 NULL이 아니면 a값을 그대로 출력하고, 그렇지 않으면(a가 NULL이면) 0을 출력"
   ]
  },
  {
   "cell_type": "markdown",
   "metadata": {},
   "source": [
    "## 2. 또 하나의 CASE 문 \n",
    "- 숫자를 문자화하는 것을 **디코드**라 부르고 반대로 수치화하는 것을 **인코드**라 부른다. \n",
    "```\n",
    "WHEN a = 1 THEN '남자'\n",
    "WHEN a = 2 THEN '여자'\n",
    "```\n",
    "- CASE 문은 '검색 CASE 문'과 '단순 CASE 문' 두 개 구문으로 나눌 수 있다. (앞 서 이야기 한 것이 검색 CASE문)\n",
    "### 단순 CASE 식\n",
    "```\n",
    "CASE 식1\n",
    "    WHEN 식 2 THEN 식3\n",
    "    [WHEN 식4 THEN 식5 ...]\n",
    "    [ELSE 식6 ] \n",
    "END\n",
    "```\n",
    "- 식 1의 값이 WHEN의 식2 값과 동일한지 비교하고, 값이 같다면 식3의 값이 CASE 문 전체의 결괏값이 됩니다. "
   ]
  },
  {
   "cell_type": "markdown",
   "metadata": {},
   "source": [
    "***성별 문자열을 디코딩하는 예***\n",
    "```\n",
    "검색 CASE로 성별 코드를 남자, 여자로 변환하기 (검색 CASE)\n",
    "==============================\n",
    "SELECT a AS \"코드\",\n",
    "CASE \n",
    "    WHEN a = 1 THEN '남자'\n",
    "    WHEN a = 2 THEN '여자'\n",
    "    ELSE '미지정'\n",
    "END AS \"성별\" FROM sample37;\n",
    "```\n",
    "코드|성별\n",
    "-|-\n",
    "1|남자\n",
    "2|여자\n",
    "NULL|미지정"
   ]
  },
  {
   "cell_type": "markdown",
   "metadata": {},
   "source": [
    "```\n",
    "단순 CASE로 성별 코드를 남자, 여자로 변환하기(단순 CASE)\n",
    "==============================\n",
    "SELECT a AS \"코드\",\n",
    "CASE \n",
    "    WHEN 1 THEN '남자'\n",
    "    WHEN 2 THEN '여자'\n",
    "    ELSE '미지정'\n",
    "END AS \"성별\" FROM sample37;\n",
    "```\n",
    "\n",
    "코드|성별\n",
    "-|-\n",
    "1|남자\n",
    "2|여자\n",
    "NULL|미지정"
   ]
  },
  {
   "cell_type": "markdown",
   "metadata": {},
   "source": [
    "## 3. CASE를 사용할 경우 주의사항 \n",
    "- CASE문은 어디에나 사용가능\n",
    "### ELSE를 생략 \n",
    "- ELSE를 생략하면 ELSE NULL이 되는 것에 주의 \n",
    "- 따라서 ELSE를 생략하지 않고 지정하는 편이 좋음 "
   ]
  },
  {
   "cell_type": "markdown",
   "metadata": {},
   "source": [
    "### WHEN 에 NULL 지정하기 \n",
    "```\n",
    "단순 CASE 문에서 WHEN절에 NULL지정하기 \n",
    "==============================\n",
    "CASE a\n",
    "    WHEN 1 THEN '남자'\n",
    "    WHEN 2 THEN '여자'\n",
    "    WHEN NULL THEN '데이터 없음'\n",
    "    ELSE '미지정'\n",
    "END\n",
    "```\n",
    "- 이 예에서 비교 연산자 = 로는 NULL 값이 같은지 아닌지 비교할 수 없다. \n",
    "- 따라서 열의 값이 NULL이라 해도 a = NULL은 참이 되지 않는다. \n",
    "- 즉, '데이터 없음' 대신 '미지정'이라는 결괏값 출력 \n",
    "- **이 때 NULL 값인지 아닌지를 판정하기 위해서 IS NULL을 사용**\n",
    "```\n",
    "CASE a\n",
    "    WHEN a = 1 THEN '남자'\n",
    "    WHEN a = 2 THEN '여자'\n",
    "    WHEN a IS NULL THEN '데이터 없음'\n",
    "    ELSE '미지정'\n",
    "END\n",
    "```"
   ]
  },
  {
   "cell_type": "markdown",
   "metadata": {},
   "source": [
    "### DECODE NVL\n",
    "- Oracle 에는 이 같은 디코드를 수행하는 DECODE 함수가 내장 \n",
    "- NULL 값을 변환하는 함수는 Oracle은 NVL 함수, SQL Server에서는 ISNULL을 사용 "
   ]
  }
 ],
 "metadata": {
  "kernelspec": {
   "display_name": "Python 3",
   "language": "python",
   "name": "python3"
  },
  "language_info": {
   "codemirror_mode": {
    "name": "ipython",
    "version": 3
   },
   "file_extension": ".py",
   "mimetype": "text/x-python",
   "name": "python",
   "nbconvert_exporter": "python",
   "pygments_lexer": "ipython3",
   "version": "3.8.5"
  }
 },
 "nbformat": 4,
 "nbformat_minor": 4
}
