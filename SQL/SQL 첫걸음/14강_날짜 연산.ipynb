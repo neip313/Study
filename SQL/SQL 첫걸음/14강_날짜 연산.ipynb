{
 "cells": [
  {
   "cell_type": "markdown",
   "metadata": {},
   "source": [
    "# 14강 날짜 연산 \n",
    "## 1. SQL에서의 날짜 \n",
    "- 날짜와 시간 데이터는 수치 데이터와 같이 사칙 연산을 할 수 있다. \n",
    "\n",
    "### 시스템 날짜\n",
    "- 표준 SQL 에서는 'CURRENT_TIMESTAMP'라는 함수로 현재 시간을 표시 \n",
    "- 인수를 지정할 필요 X \n",
    "```\n",
    "SELECT CURRENT_TIMESTAMP;\n",
    "```\n",
    "|CURRENT_TIMESTAMP|\n",
    "|-|\n",
    "|2014-01-25 10:10:30|"
   ]
  },
  {
   "cell_type": "markdown",
   "metadata": {},
   "source": [
    "### 날짜 서식 \n",
    "- 날짜 데이터를 데이터베이스에 저장할 경우 CURREN_TIMESTAMP를 사용해 시스템 상의 날짜를 저장할 수 있다. \n",
    "- 임의의 날짜를 저장하고 싶을 경우에는 직접 날짜 데이터를 지정\n",
    "    - 2014/02/25\n",
    "    - 2014-01-25\n",
    "    - 25 Jan 2014\n",
    "- Oracle의 경우 TO_DATE함수를 사용해 문자열 데이터를 날짜형 데이터로 변환 \n",
    "```\n",
    "TO_DATE('2014/01/25', 'YYYY/MM/DD')\n",
    "```\n",
    "- 반대로 날짜형 데이터를 서식에 맞춰 변환해 문자열 데이터로 출력하는 함수는 **TO_CHAR**"
   ]
  },
  {
   "cell_type": "markdown",
   "metadata": {},
   "source": [
    "## 2. 날짜형 간의 뺄셈 \n",
    "- 날짜 시간형 데이터 간의 뺄셈을 할 수 있다. \n",
    "- MySQL에서는 DATEDIFF('2014-02-28', '2014-01-01')로 계산 "
   ]
  }
 ],
 "metadata": {
  "kernelspec": {
   "display_name": "Python 3",
   "language": "python",
   "name": "python3"
  },
  "language_info": {
   "codemirror_mode": {
    "name": "ipython",
    "version": 3
   },
   "file_extension": ".py",
   "mimetype": "text/x-python",
   "name": "python",
   "nbconvert_exporter": "python",
   "pygments_lexer": "ipython3",
   "version": "3.8.5"
  }
 },
 "nbformat": 4,
 "nbformat_minor": 4
}
