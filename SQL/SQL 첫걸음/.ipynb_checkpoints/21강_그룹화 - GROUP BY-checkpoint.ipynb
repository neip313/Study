{
 "cells": [
  {
   "cell_type": "markdown",
   "metadata": {},
   "source": [
    "# 21강_그룹화 - GROUP BY\n",
    "```\n",
    "SELECT * FROM 테이블명 GROUP BY 열1, 열2...\n",
    "```\n",
    "## 1. GROUP BY 로 그룹화 \n",
    "- GROUP BY 를 활용해 열을 지정하여 그룹화 \n",
    "```\n",
    "SELECT name FROM sample51 GROUP BY name;\n",
    "```\n",
    "- GROUP BY 구에 열을 지정하여 그룹화하면 지정된 열의 값이 같은 행이 하나의 그룹으로 묶임\n",
    "- 따라서 GROUP BY를 지정해 그룹화하면 DISTINCT와 같이 **중복을 제거**하는 효과\n",
    "```\n",
    "name 열을 그룹화해 계산하기 \n",
    "================================\n",
    "SELECT name, COUNT(name), SUM(quantity)\n",
    "    FROM sample51; GROUP BY name;\n",
    "```    "
   ]
  },
  {
   "cell_type": "markdown",
   "metadata": {},
   "source": [
    "## 2. HAVING 구로 조건 지정 \n",
    "- 집계함수는 WHERE 구의 조건식에서는 사용할 수 없다. \n",
    "- 내부처리 순서 \n",
    "    - WHERE구 -> GROUP BY 구 -> SELECT 구 -> ORDER BY 구 \n",
    "- HAVING 구를 사용하면 집계함수를 사용하여 조건식을 지정\n",
    "- HAVING구는 GROUP BY 구의 뒤에 기술하며 WHERE 구와 동일하게 조건식을 지정\n",
    "\n",
    "```\n",
    "SELECT name, COUNT(name) FROM sample51 GROUP BY name;\n",
    "``` \n",
    "\n",
    "name|COUNT(name)\n",
    "-|-\n",
    "NULL|0\n",
    "A|2\n",
    "B|1\n",
    "C|1\n",
    "\n",
    "```\n",
    "SELECT name, COUNT(name) FROM sample51 \n",
    "    GROUP BY name HAVING COUNT(name) = 1; \n",
    "```    \n",
    "\n",
    "name|COUNT(name)\n",
    "-|-\n",
    "B|1\n",
    "C|1"
   ]
  },
  {
   "cell_type": "markdown",
   "metadata": {},
   "source": [
    "## 3. 복수열의 그룹화 \n",
    "- GROUP BY 의 지정한 열 이외의 열은 집계함수를 사용하지 않은 채 SELECT 구에 기술해서는 안된다. \n",
    "```\n",
    "SELECT no, name, quantity FROM sample51 GROUP BY name;\n",
    "```\n",
    "다음과 같이 작성하면 문제없다 . \n",
    "```\n",
    "SELECT MIN(no), name, SUM(quantity) FROM sample51 GROUP BY name;\n",
    "```"
   ]
  },
  {
   "cell_type": "markdown",
   "metadata": {},
   "source": [
    "## 4. 결괏값 정렬 "
   ]
  }
 ],
 "metadata": {
  "kernelspec": {
   "display_name": "Python 3",
   "language": "python",
   "name": "python3"
  },
  "language_info": {
   "codemirror_mode": {
    "name": "ipython",
    "version": 3
   },
   "file_extension": ".py",
   "mimetype": "text/x-python",
   "name": "python",
   "nbconvert_exporter": "python",
   "pygments_lexer": "ipython3",
   "version": "3.8.5"
  }
 },
 "nbformat": 4,
 "nbformat_minor": 4
}
