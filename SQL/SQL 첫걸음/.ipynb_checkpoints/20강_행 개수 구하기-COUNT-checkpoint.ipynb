{
 "cells": [
  {
   "cell_type": "markdown",
   "metadata": {},
   "source": [
    "# 20강_행 개수 구하기-COUNT\n",
    "#### 대표적인 집계함수 \n",
    "- COUNT\n",
    "- SUM\n",
    "- AVG\n",
    "- MIN\n",
    "- MAX"
   ]
  },
  {
   "cell_type": "markdown",
   "metadata": {},
   "source": [
    "## 1. COUNT로 행 개수 구하기 \n",
    "- COUNT 함수는 인수로 주어진 집합의 '개수'를 구해 반환 \n",
    "```\n",
    "COUNT로 행 개수 계산 \n",
    "==================\n",
    "SELECT COUNT(*) FROM sample51;\n",
    "```\n",
    "```\n",
    "sample51의 행 개수를 WHERE 구를 지정하여 구하기\n",
    "========================================\n",
    "SELECT COUNT(*) FROM sample51 WHERE name = 'A';\n",
    "```\n"
   ]
  },
  {
   "cell_type": "markdown",
   "metadata": {},
   "source": [
    "## 2. 집계함수와 NULL값 \n",
    "- COUNT의 인수로 열명을 지정할 수 있다. \n",
    "- 열명을 지정하면 그 열에 한해서 행의 개수를 구할 수 있다. \n",
    "- 집계함수는 집합 안에 NULL값이 있을 경우 이를 제외하고 처리 \n",
    "\n",
    "no|name|quantity\n",
    "-|-|-\n",
    "1|A|1\n",
    "2|A|2\n",
    "3|B|10\n",
    "4|C|3\n",
    "5|NULL|NULL\n",
    "\n",
    "```\n",
    "SELECT COUNT(no), COUNT(name) FROM sample51;\n",
    "```\n",
    "COUNT(no)|COUNT(name)\n",
    "-|-\n",
    "5|4"
   ]
  },
  {
   "cell_type": "markdown",
   "metadata": {},
   "source": [
    "## 3. DISTINCT로 중복 제거 \n",
    "- DISTINCT 함수로 중복된 값을 제거 \n",
    "```\n",
    "SELECT DISTINCT name FROM sample51; \n",
    "```\n"
   ]
  }
 ],
 "metadata": {
  "kernelspec": {
   "display_name": "Python 3",
   "language": "python",
   "name": "python3"
  },
  "language_info": {
   "codemirror_mode": {
    "name": "ipython",
    "version": 3
   },
   "file_extension": ".py",
   "mimetype": "text/x-python",
   "name": "python",
   "nbconvert_exporter": "python",
   "pygments_lexer": "ipython3",
   "version": "3.8.5"
  }
 },
 "nbformat": 4,
 "nbformat_minor": 4
}
