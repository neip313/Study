{
 "cells": [
  {
   "cell_type": "markdown",
   "metadata": {},
   "source": [
    "# 21강_COUNT 이외의 집계함수 \n",
    "- SUM\n",
    "- AVG\n",
    "- MIN\n",
    "- MAX\n",
    "\n",
    "## 1. SUM 으로 합계 구하기\n",
    "```\n",
    "SELECT SUM(quantity) FROM sample51;\n",
    "```\n",
    "- SUM 집계함수에 지정되는 집합은 수치형 뿐 \n",
    "- COUNT와 마찬가지로 NULL 값은 무시 "
   ]
  },
  {
   "cell_type": "markdown",
   "metadata": {},
   "source": [
    "## 2.  AVG로 평균내기 \n",
    "- 합한 값을 개수로 나누면 **평균값** \n",
    "```\n",
    "SELECT AVG(quantity), SUM(quantity)/COUNT(quantity) FROM sample51; \n",
    "```\n",
    "- AVG 집계함수도 NULL 값은 무시 \n",
    "```\n",
    "SELECT AVG(CASE WHEN quantity IS NULL THEN 0 ELSE quantity END)\n",
    "    AS avgnull0 FROM sample51;\n",
    "```\n"
   ]
  },
  {
   "cell_type": "markdown",
   "metadata": {},
   "source": [
    "## 3. MIN MAX로 최솟값, 최댓값 구하기 \n",
    "- 문자열형과 날짜시간형에도 사용\n",
    "```\n",
    "SELECT MIN(quantity), MAX(quantity), MIN(name), MAX(name)\n",
    "    FROM sample51; \n",
    "```    "
   ]
  }
 ],
 "metadata": {
  "kernelspec": {
   "display_name": "Python 3",
   "language": "python",
   "name": "python3"
  },
  "language_info": {
   "codemirror_mode": {
    "name": "ipython",
    "version": 3
   },
   "file_extension": ".py",
   "mimetype": "text/x-python",
   "name": "python",
   "nbconvert_exporter": "python",
   "pygments_lexer": "ipython3",
   "version": "3.8.5"
  }
 },
 "nbformat": 4,
 "nbformat_minor": 4
}
