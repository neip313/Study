{
 "cells": [
  {
   "cell_type": "markdown",
   "metadata": {},
   "source": [
    "# 10강_복수의 열을 지정해 정렬하기 \n",
    "```\n",
    "SELECT 열명 FROM 테이블명 WHERE 조건식 \n",
    "ORDER BY 열명1 [ASC|DESC], 열명2 [ASC|DESC]..\n",
    "```"
   ]
  },
  {
   "cell_type": "markdown",
   "metadata": {},
   "source": [
    "## 1. 복수 열로 정렬 지정 \n",
    "- ORDER BY 행을 정렬하는 경우 **같은 값**을 가진 행의 순서는 일정하지 않다. \n",
    "- 따라서 언제나 같은 순서로 결과를 얻고 싶다면 반드시 ORDER BY 구로 순서를 지정해야 한다. \n",
    "\n",
    "### ORDER BY 로 복수열 지정하기 \n",
    "- SELECT 구에서 열을 지정한 것처럼 콤마(,)로 열명을 구분해 지정하면 된다. \n",
    "```\n",
    "SELECT 열명 FROM 테이블명 ORDER BY 열명1, 열명2... \n",
    "\n",
    "EX)\n",
    "SELECT * FROM sample32 ORDER BY a, b; \n",
    "```\n"
   ]
  },
  {
   "cell_type": "markdown",
   "metadata": {},
   "source": [
    "## 2. 정렬방법 지정하기 \n",
    "- 복수 열을 지정한 경우에도 각 열에 대해 개별적으로 정렬방법을 지정할 수 있다. \n",
    "- 각 열 뒤에 ASC 나 DESC 를 붙여준다. \n",
    "\n",
    "```\n",
    "SELECT 열명 FROM 테이블명 WHERE 조건식 \n",
    "ORDER BY 열명1 [ASC|DESC], 열명2 [ASC|DESC]..\n",
    "\n",
    "EX) \n",
    "SELECT * FROM sample32 ORDER BY a ASC, b DESC; \n",
    "```\n"
   ]
  },
  {
   "cell_type": "markdown",
   "metadata": {},
   "source": [
    "## 3. NULL 값의 정렬순서 \n",
    "- ORDER BY 로 지정한 열에서 NULL 값을 가지는 행은 가장 먼저 표시되거나 가장 나중에 표시된다. "
   ]
  }
 ],
 "metadata": {
  "kernelspec": {
   "display_name": "Python 3",
   "language": "python",
   "name": "python3"
  },
  "language_info": {
   "codemirror_mode": {
    "name": "ipython",
    "version": 3
   },
   "file_extension": ".py",
   "mimetype": "text/x-python",
   "name": "python",
   "nbconvert_exporter": "python",
   "pygments_lexer": "ipython3",
   "version": "3.8.5"
  }
 },
 "nbformat": 4,
 "nbformat_minor": 4
}
