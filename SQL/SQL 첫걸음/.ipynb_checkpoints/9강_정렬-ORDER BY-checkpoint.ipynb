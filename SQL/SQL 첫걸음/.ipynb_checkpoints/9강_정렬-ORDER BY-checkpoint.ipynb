{
 "cells": [
  {
   "cell_type": "markdown",
   "metadata": {},
   "source": [
    "# 9강_정렬-ORDER BY\n",
    "SELECT 명령의 ORDER BY 구를 사용하여 검색결과의 행 순서를 바꿀 수 있습니다. \n",
    "\n",
    "## SORT(정렬)\n",
    "```\n",
    "SELECT 열명 FROM 테이블명 WHERE 조건식 ORDER BY 열명 \n",
    "```\n",
    "\n",
    "SELECT 명령의 ORDER BY 구를 사용하여 검색결과의 행 순서를 바꿀 수 있습니다. \n"
   ]
  },
  {
   "cell_type": "markdown",
   "metadata": {},
   "source": [
    "### 1. ORDER BY로 검색 결과 정렬하기 \n",
    "SELECT 명령의 ORDER BY구로 정렬하고 싶은 열을 지정합니다. 지정된 열의 값에 따라 행 순서가 변경됩니다. \n",
    "\n",
    "검색 조건이 필요없는 경우에는 WHERE 구를 생략하는데 이때 ORDER BY 구는 FROM 구의 뒤에 지정합니다. \n",
    "```\n",
    "SELECT 열명 FROM 테이블명 ORDER BY 열명\n",
    "```\n",
    "```\n",
    "ex)\n",
    "SELECT * FROM sample31;\n",
    "\n",
    "SELECT * FROM sample31 ORDER BY age;\n",
    "SELECT * FROM sample31 ORDER BY address;\n",
    "```"
   ]
  },
  {
   "cell_type": "markdown",
   "metadata": {},
   "source": [
    "### 2. ORDER BY DESC로 내림차순 정렬하기 \n",
    "```\n",
    "# 내림차순 정렬 DESC(descendant하강) \n",
    "SELECT 열명 FROM 테이블명 WHERE 조건식 ORDER BY 열명 DESC\n",
    "\n",
    "# 오름차순 정렬 ASC(ascendant상승)\n",
    "SELECT 열명 FROM 테이블명 WHERE 조건식 ORDER BY 열명 ASC\n",
    "\n",
    "```\n",
    "```\n",
    "ex)\n",
    "SELECT * FROM sample31 ORDER BY age DESC;\n",
    "\n",
    "SELECT * FROM sample31 ORDER BY age ASC;\n",
    "```\n",
    "\n"
   ]
  },
  {
   "cell_type": "markdown",
   "metadata": {},
   "source": [
    "### 3. 대소관계 \n",
    "\n",
    "- 문자열형 데이터의 대소관계는 사전식 순서에 의해 결정된다 \n",
    "- 수치형과 문자열형 데이터는 대소관계의 계산 방법이 다르다"
   ]
  },
  {
   "cell_type": "markdown",
   "metadata": {},
   "source": [
    "### 4. ORDER BY는 테이블에 영향을 주지 않는다. \n",
    "SELECT 명령은 데이터를 검색하는 명령, 이는 테이블의 데이터를 참조만 할 뿐이며 변경은 하지 않는다 ."
   ]
  }
 ],
 "metadata": {
  "kernelspec": {
   "display_name": "Python 3",
   "language": "python",
   "name": "python3"
  },
  "language_info": {
   "codemirror_mode": {
    "name": "ipython",
    "version": 3
   },
   "file_extension": ".py",
   "mimetype": "text/x-python",
   "name": "python",
   "nbconvert_exporter": "python",
   "pygments_lexer": "ipython3",
   "version": "3.8.5"
  }
 },
 "nbformat": 4,
 "nbformat_minor": 4
}
