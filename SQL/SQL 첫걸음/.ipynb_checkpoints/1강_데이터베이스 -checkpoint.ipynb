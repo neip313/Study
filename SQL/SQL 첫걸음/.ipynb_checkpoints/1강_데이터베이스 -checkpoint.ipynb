{
 "cells": [
  {
   "cell_type": "markdown",
   "metadata": {},
   "source": [
    "# 1강 데이터베이스 "
   ]
  },
  {
   "cell_type": "markdown",
   "metadata": {},
   "source": [
    "## 1. 시스템 내의 데이터베이스\n",
    "- 데이터베이스는 다양한 시스템에서 사용한다. "
   ]
  },
  {
   "cell_type": "markdown",
   "metadata": {},
   "source": [
    "## 2. DB와 DBMS \n",
    "- DB는 데이타베이스의 약자 \n",
    "- DBMS는 '데이터베이스 관리 시스템(Database Management System)'의 약자 \n"
   ]
  },
  {
   "cell_type": "markdown",
   "metadata": {},
   "source": [
    "### DBMS와 같은 전용 소프트웨어가 필요한 이유\n",
    "- 생산성 \n",
    "- 기능성 \n",
    "- 신뢰성 "
   ]
  },
  {
   "cell_type": "markdown",
   "metadata": {},
   "source": [
    "## 3. 데이터베이스를 조작하는 언어 SQL \n",
    "- SQL은 '관계형 데이터베이스 관리 시스템'을 조작할 때 사용 "
   ]
  },
  {
   "cell_type": "markdown",
   "metadata": {},
   "source": [
    "### SQL 명령의 종류 \n",
    "- DML : Data Manipulation Language, 데이터베이스의 새롭게 데이터를 추가하거나 삭제하거나 내용을 갱신하는 등, 데이터를 조작할 때 사용\n",
    "- DDL : Data Definition Language, 데이터를 정의하는 명령어 \n",
    "- DCL : Data Control Language , 데이터를 제어하는 명령어 "
   ]
  }
 ],
 "metadata": {
  "kernelspec": {
   "display_name": "Python 3",
   "language": "python",
   "name": "python3"
  },
  "language_info": {
   "codemirror_mode": {
    "name": "ipython",
    "version": 3
   },
   "file_extension": ".py",
   "mimetype": "text/x-python",
   "name": "python",
   "nbconvert_exporter": "python",
   "pygments_lexer": "ipython3",
   "version": "3.8.5"
  }
 },
 "nbformat": 4,
 "nbformat_minor": 4
}
