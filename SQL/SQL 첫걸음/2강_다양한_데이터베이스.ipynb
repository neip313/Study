{
 "cells": [
  {
   "cell_type": "markdown",
   "metadata": {},
   "source": [
    "# 2강 다양한 데이터베이스\n",
    "- DBMS의 종류에는 무엇이 있는지, DBMS 중 하나인 관계형 데이터베이스란 무엇인지에 관해 설명 \n",
    "- 데이터베이스 중에서도 SQL로 데이터를 다루는 데이터베이스를 **관계형 데이터베이스(RDB)**"
   ]
  },
  {
   "cell_type": "markdown",
   "metadata": {},
   "source": [
    "## 1. 데이터베이스 종류 \n",
    "- 계층형 데이터베이스\n",
    "    - 폴더와 파일 등의 계층 구조로 데이터를 저장하는 방식의 데이터베이스 \n",
    "    - Ex) 하드디스크, DVD\n",
    "- 관계형 데이터베이스 \n",
    "    - '관계 대수(relational algebra)'라는 것에 착안하여 고안한 데이터베이스 \n",
    "    - 관계대수란 행과 열을 가지는 표 형식 데이터를 저장하는 형태의 데이터베이스 \n",
    "- 객체지향 데이터베이스\n",
    "    - 자바나 C++를 객체지향 언어라고 한다. \n",
    "    - '객체(Object)'라는 것을 중심으로 프로그래밍하는 언어\n",
    "    - '가능하면 개체 그대로를 데이터베이스의 데이터로 저장하는 것'이 객체지향 데이터베이스\n",
    "- XML 데이터 베이스 \n",
    "    - 자료형식을 가리키는 용어\n",
    "    - 태그를 이용해 마크업 문서를 작성\n",
    "    - 태그는 <data>데이터 </data>와 같은 형식으로 표현\n",
    "    - XML 형식으로 기록된 데이터를 저장하는 데이터베이스 "
   ]
  }
 ],
 "metadata": {
  "kernelspec": {
   "display_name": "Python 3",
   "language": "python",
   "name": "python3"
  },
  "language_info": {
   "codemirror_mode": {
    "name": "ipython",
    "version": 3
   },
   "file_extension": ".py",
   "mimetype": "text/x-python",
   "name": "python",
   "nbconvert_exporter": "python",
   "pygments_lexer": "ipython3",
   "version": "3.8.5"
  }
 },
 "nbformat": 4,
 "nbformat_minor": 4
}
