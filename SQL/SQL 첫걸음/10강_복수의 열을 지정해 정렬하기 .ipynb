{
 "cells": [
  {
   "cell_type": "markdown",
   "metadata": {},
   "source": [
    "# 10강_복수의 열을 지정해 정렬하기 \n",
    "```\n",
    "SELECT 열명 FROM 테이블명 WHERE 조건식 \n",
    "ORDER BY 열명1 [ASC|DESC], 열명2 [ASC|DESC]..\n",
    "```"
   ]
  },
  {
   "cell_type": "markdown",
   "metadata": {},
   "source": [
    "## 1. 복수 열로 정렬 지정 \n",
    "- ORDER BY 행을 정렬하는 경우 **같은 값**을 가진 행의 순서는 일정하지 않다. \n",
    "- 따라서 언제나 같은 순서로 결과를 얻고 싶다면 반드시 ORDER BY 구로 순서를 지정해야 한다. "
   ]
  }
 ],
 "metadata": {
  "kernelspec": {
   "display_name": "Python 3",
   "language": "python",
   "name": "python3"
  },
  "language_info": {
   "codemirror_mode": {
    "name": "ipython",
    "version": 3
   },
   "file_extension": ".py",
   "mimetype": "text/x-python",
   "name": "python",
   "nbconvert_exporter": "python",
   "pygments_lexer": "ipython3",
   "version": "3.8.5"
  }
 },
 "nbformat": 4,
 "nbformat_minor": 4
}
