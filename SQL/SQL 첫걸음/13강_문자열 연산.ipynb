{
 "cells": [
  {
   "cell_type": "markdown",
   "metadata": {},
   "source": [
    "# 13강 문자열 연산 \n",
    "## 1. 문자열 결합 \n",
    "- 문자열 결합이란 다음과 같이 문자열 데이터를 결합하는 연산 \n",
    "```\n",
    "# 문자열 결합 사례 \n",
    "'ABC' || '1234' -> 'ABC1234'\n",
    "```\n",
    "- 문자열을 결합하는 연산자에는 데이터베이스 제품마다 방언이 있으며 다음과 같은 차이를 가진다.\n",
    "\n",
    "**문자열 결합 연산자** \n",
    "\n",
    "연산자/함수|연산|데이터베이스\n",
    "-|-|-\n",
    "+|문자열 결합|SQL Server\n",
    "//|문자열 결합|Oracle, DB2, PostgreSQL\n",
    "CONCAT|문자열 결합|MySQL"
   ]
  },
  {
   "cell_type": "markdown",
   "metadata": {},
   "source": [
    "## 2. SUBSTRING 함수 \n",
    "- 문자열의 일부분을 계산해서 반환해주는 함수 \n",
    "- SUBSTRING 함수를 사용해 문자열 추출 \n",
    "```\n",
    "앞 4자리(년) 추출 \n",
    "SUBSTRING('20140125001', 1, 4)-> '2014'\n",
    "```  \n",
    "``` \n",
    "5째 자리부터 2자리(월) 추출\n",
    "SUBSTRING('20140125001', 5, 2)-> '01'\n",
    "```\n",
    "\n"
   ]
  },
  {
   "cell_type": "markdown",
   "metadata": {},
   "source": [
    "## 3.TRIM 함수 \n",
    "- TRIM 함수는 문자열의 앞뒤로 여분의 스페이스가 있을 경우 이를 제거해주는 함수 \n",
    "- 문자열 도중에 존재하는 스페이스는 제거되지 않는다. \n",
    "- 인수를 지정하는 것으로 스페이스 이외의 문자를 제거할 수도 있다. \n",
    "```\n",
    "TRIM으로 스페이스 제거하기 \n",
    "TRIM('ABC   ') -> 'ABC'\n",
    "```"
   ]
  },
  {
   "cell_type": "markdown",
   "metadata": {},
   "source": [
    "## 4. CHARACTER_LENGTH 함수\n",
    "- CHARACTER_LENGTH 함수는 문자열의 길이를 계싼해 돌려주는 함수 \n",
    "- VARCHAR 형의 문자열은 가변 길이이므로 길이가 서로 다르다. CHARACTER_LENGTH 함수를 사용하면 문자열의 길이를 계산 \n",
    "- **OCTET_LENGTH 함수**는 문자열의 길이를 바이트 단위로 계산해 돌려주는 함수\n",
    "\n",
    "### 문자세트(character set)\n",
    "- 알파벳은 반각문자, 한글은 전각문자\n",
    "- 알파벳, 숫자, 기호는 'ASCII'문자 \n",
    "- 한글의 경우 'EUC-KR', 'UTF-8'등의 인코딩 방식을 주로 사용 \n",
    "- 문자열 데이터의 길이는 문자세트에 따라 다르다. "
   ]
  }
 ],
 "metadata": {
  "kernelspec": {
   "display_name": "Python 3",
   "language": "python",
   "name": "python3"
  },
  "language_info": {
   "codemirror_mode": {
    "name": "ipython",
    "version": 3
   },
   "file_extension": ".py",
   "mimetype": "text/x-python",
   "name": "python",
   "nbconvert_exporter": "python",
   "pygments_lexer": "ipython3",
   "version": "3.8.5"
  }
 },
 "nbformat": 4,
 "nbformat_minor": 4
}
