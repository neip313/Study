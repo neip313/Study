{
 "cells": [
  {
   "cell_type": "markdown",
   "metadata": {},
   "source": [
    "# 12강 수치 연산 \n",
    "## 1. 사칙 연산 \n",
    "연산자|연산|예\n",
    "-|-|-\n",
    "+|덧셈(가산)|1+2→3\n",
    "-|뺄셈(감산)|1-2→-1\n",
    "* |곱셈(승산)|1*2→2\n",
    "/|나눗셈(제산)|1/2→0.5\n",
    "%|나머지|1%2→1\n",
    "\n",
    "- 애스터리스크(*), '모든 열'을 의미하는 메타 문자, 곱셈을 의미 "
   ]
  },
  {
   "cell_type": "markdown",
   "metadata": {},
   "source": [
    "## 2. SELECT 구로 연산하기 \n",
    "- SELECT 구에서는 열명 뿐만 아니라 **식**도 기술할 수 있다. \n",
    "- 식을 기술할 수 있다는 것은 명령이 실행될 때 연산을 할 수 있다는 것을 의미 \n",
    "```\n",
    "EX) \n",
    "SELECT *, price*quantity FROM sample34;\n",
    "``` \n",
    "\n",
    "no | price | quantity | price * quantity\n",
    "-|-|-|-\n",
    "1|100|10|1000\n",
    "2|230|24|5520\n",
    "3|1980|1|1980\n"
   ]
  },
  {
   "cell_type": "markdown",
   "metadata": {},
   "source": [
    "## 3. 열의 별명 \n",
    "- price*quantity 가 이름이 길고 보기 어려운 경우에는 AS를 활용하여 별명을 붙일 수 있다. \n",
    "```\n",
    "ex)\n",
    "SELECT*,price*quantity AS amount FROM sample34;\n",
    "```\n",
    "\n",
    "no | price | quantity | amount\n",
    "-|-|-|-\n",
    "1|100|10|1000\n",
    "2|230|24|5520\n",
    "3|1980|1|1980\n",
    "\n",
    "- 이름의 ASCII문자 이외의 것을 포함할 경우는 더블쿼트로 둘러싸서 지정\n",
    "- 객체명과 문자열 상수 \n",
    "    + 데이터베이스 객체명 : \"sample21\", \"sample34\"\n",
    "    + 문자열 상수 : 'ABC', '박준용'"
   ]
  },
  {
   "cell_type": "markdown",
   "metadata": {},
   "source": [
    "## 4. WHERE 구에서 연산하기 \n",
    "- WHERE 구에서 금액을 계산하고 2000원 이상인 행 검색하기 \n",
    "```\n",
    "SELECT *, price*quantity AS amount FROM sample34\n",
    "    WHERE price * quantity >= 2000;\n",
    "``` \n",
    "\n",
    "### WHERE 구와 SELECT 구의 내부처리 순서 \n",
    "- WHERE 구의 행 선택, SELECT 구에서의 열 선택은 데이터베이스 서버 내부에서 WHERE 구 -> SELECT 구의 순서로 처리\n"
   ]
  },
  {
   "cell_type": "markdown",
   "metadata": {},
   "source": [
    "## 5. NULL 값의 연산\n",
    "- SQL 에서는 NULL 값을 연산하면 결과는 NULL이 된다. "
   ]
  },
  {
   "cell_type": "markdown",
   "metadata": {},
   "source": [
    "## 6. ORDER BY 구에서 연산하기 \n",
    "- ORDER BY 구에서도 연살할 수 있고 그 결괏값들을 정렬할 수 있다. \n",
    "```\n",
    "SELECT *, price*quantity AS amount FROM sample34 ORDER BY price*quantity DESC;\n",
    "```\n",
    "\n",
    "no | price | quantity | amount\n",
    "-|-|-|-\n",
    "2|230|24|5520\n",
    "3|1980|1|1980\n",
    "1|100|10|1000\n",
    "\n",
    "- ORDER BY 는 서버에서 내부적으로 가장 나중에 처리\n",
    "- 즉, SELECT 구보다 나중에 처리되기 때문에 SELECT 구에서 지정한 별명을 ORDER BY 에서도 사용할 수 있다.\n",
    "\n",
    "\n"
   ]
  },
  {
   "cell_type": "markdown",
   "metadata": {},
   "source": [
    "## 7. 함수 \n",
    "- 연산자 외에 함수를 사용해 연산할 수도 있다. \n",
    "```\n",
    "10% 3 -> 1 \n",
    "MOD(10, 3) -> 1\n",
    "```\n"
   ]
  },
  {
   "cell_type": "markdown",
   "metadata": {},
   "source": [
    "## 8. ROUND 함수\n",
    "\n",
    "**ROUND로 반올림하기** \n"
   ]
  }
 ],
 "metadata": {
  "kernelspec": {
   "display_name": "Python 3",
   "language": "python",
   "name": "python3"
  },
  "language_info": {
   "codemirror_mode": {
    "name": "ipython",
    "version": 3
   },
   "file_extension": ".py",
   "mimetype": "text/x-python",
   "name": "python",
   "nbconvert_exporter": "python",
   "pygments_lexer": "ipython3",
   "version": "3.8.5"
  }
 },
 "nbformat": 4,
 "nbformat_minor": 4
}
