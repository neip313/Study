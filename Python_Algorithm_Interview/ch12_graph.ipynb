{
 "cells": [
  {
   "cell_type": "markdown",
   "metadata": {},
   "source": [
    "## **그래프 탐색이란**"
   ]
  },
  {
   "cell_type": "markdown",
   "metadata": {},
   "source": [
    "+ 하나의 정점으로부터 시작하여 차례대로 모든 정점들을 한 번씩 방문하는 것  \n",
    "+ Ex) 특정 도시에서 다른 도시로 갈 수 있는지 없는지, 전자 회로에서 특정 단자와 단자가 서로 연결되어 있는지"
   ]
  },
  {
   "cell_type": "markdown",
   "metadata": {},
   "source": [
    "## **깊이 우선 탐색(DFS,Depth-First Search)**"
   ]
  },
  {
   "cell_type": "markdown",
   "metadata": {},
   "source": [
    "### **깊이 우선 탐색이란**"
   ]
  },
  {
   "cell_type": "markdown",
   "metadata": {},
   "source": [
    "루트 노드(혹은 다른 임의의 노드)에서 시작해서 다음 분기(branch)로 넘어가기 전에 해당 분기를 완벽하게 탐색하는 방법\n",
    "\n",
    "+ 깊이 우선 탐색에서는 스택이 사용된다. but, **컴퓨터는 구조적으로 항상 스택의 원리를 사용**하기 때문에 사용하지 않아도 구현이 가능\n",
    "+ 미로를 탐색할 때 한 방향으로 갈 수 있을 때까지 계속 가다가 더 이상 갈 수 없게 되면 다시 가장 가까운 갈림길로 돌아와서 이곳으로부터 다른 방향으로 다시 탐색을 진행하는 방법과 유사하다.  \n",
    "+ 즉, 넓게(wide) 탐색하기 전에 깊이(deep) 탐색하는 것이다.  \n",
    "+ 사용하는 경우 : **모든 노드를 방문** 하고자 하는 경우에 이 방법을 선택한다.  \n",
    "+ 깊이 우선 탐색(DFS)이 너비 우선 탐색(BFS)보다 좀 더 간단하다.  \n",
    "+ 단순 검색 속도 자체는 너비 우선 탐색(BFS)에 비해서 느리다."
   ]
  },
  {
   "cell_type": "markdown",
   "metadata": {},
   "source": [
    "### **깊이 우선 탐색(DFS)의 특징**"
   ]
  },
  {
   "cell_type": "markdown",
   "metadata": {},
   "source": [
    "+ 자기 자신을 호출하는 **순환 알고리즘의 형태(재귀호출)**를 가지고 있다.\n",
    "+ 전위 순회(Pre-Order Traversals)를 포함한 다른 형태의 트리 순회는 모두 DFS의 한 종류이다.\n",
    "+ 이 알고리즘을 구현할 때 가장 큰 차이점은, 그래프 탐색의 경우 **어떤 노드를 방문했었는지 여부를 반드시 검사**해야 한다는 것이다.\n",
    "    + 이를 검사하지 않을 경우 무한루프에 빠질 위험이 있다."
   ]
  },
  {
   "cell_type": "markdown",
   "metadata": {},
   "source": [
    "### **깊이 우선 탐색(DFS)의 과정**"
   ]
  },
  {
   "cell_type": "markdown",
   "metadata": {},
   "source": [
    "![img](https://user-images.githubusercontent.com/72365693/103000426-65b4d100-456e-11eb-900d-d8a006d83225.JPG)"
   ]
  },
  {
   "cell_type": "markdown",
   "metadata": {},
   "source": [
    "+ DFS는 맨 처음에 시작 노드(Start Node)를 스택에 삽입하면서 시작합니다. 또한 그와 동시에 시작 노드를 방문했다고 알리는 \"방문처리\"를 해줍니다. &#128522;"
   ]
  },
  {
   "cell_type": "markdown",
   "metadata": {},
   "source": [
    "![img](https://user-images.githubusercontent.com/72365693/103000900-48cccd80-456f-11eb-93af-5bc43cd5d8ec.JPG)"
   ]
  },
  {
   "cell_type": "markdown",
   "metadata": {},
   "source": [
    "+ 이제 DFS는 다음과 같은 간단한 알고리즘에 따라서 작동합니다.\n",
    "\n",
    "    1. 스택의 최상단 노드를 확인합니다.\n",
    "    2. 최상단 노드에게 방문하지 않은 인접 노드가 있으면 그 노드를 스택에 넣고 방문처리합니다. 방문하지 않은 노드가 없으면 스택에서 최상단 노드를 뺍니다.\n",
    "\n",
    "위 알고리즘을 계속 반복 수행해주면 됩니다."
   ]
  },
  {
   "cell_type": "markdown",
   "metadata": {},
   "source": [
    "![img](https://user-images.githubusercontent.com/72365693/103001038-92b5b380-456f-11eb-84b6-891befe749e9.JPG)"
   ]
  },
  {
   "cell_type": "markdown",
   "metadata": {},
   "source": [
    "+ 스택에 있던 최상단 노드가 1번 노드이므로 인접한 노드 중에서 방문하지 않은 2번 노드를 넣습니다."
   ]
  },
  {
   "cell_type": "markdown",
   "metadata": {},
   "source": [
    "![img](https://user-images.githubusercontent.com/72365693/103001147-c4c71580-456f-11eb-85a4-8e6c6fbb8f79.JPG)"
   ]
  },
  {
   "cell_type": "markdown",
   "metadata": {},
   "source": [
    "+ 이후에 2번 노드의 인접 노드 중 방문하지 않은 노드인 3번 노드를 스택에 넣습니다."
   ]
  },
  {
   "cell_type": "markdown",
   "metadata": {},
   "source": [
    "![img](https://user-images.githubusercontent.com/72365693/103001224-e45e3e00-456f-11eb-8881-ae5b97a6c71e.JPG)"
   ]
  },
  {
   "cell_type": "markdown",
   "metadata": {},
   "source": [
    "+ 이어서 3번 노드의 인접 노드 중 방문하지 않은 노드인 6번 노드를 스택에 넣습니다."
   ]
  },
  {
   "cell_type": "markdown",
   "metadata": {},
   "source": [
    "![img](https://user-images.githubusercontent.com/72365693/103001281-05bf2a00-4570-11eb-9c39-b587ec3eee53.JPG)"
   ]
  },
  {
   "cell_type": "markdown",
   "metadata": {},
   "source": [
    "+ 이어서 6번 노드의 인접 노드 중 방문하지 않은 노드인 7번 노드가 삽입됩니다. "
   ]
  },
  {
   "cell_type": "markdown",
   "metadata": {},
   "source": [
    "![img](https://user-images.githubusercontent.com/72365693/103001357-2c7d6080-4570-11eb-855c-000d108e9469.JPG)"
   ]
  },
  {
   "cell_type": "markdown",
   "metadata": {},
   "source": [
    "+ 이후에 7번 노드, 6번 노드, 3번 노드는 스택에서 빠져나오게 됩니다. 인접 노드를 전부 방문했으니, 이후에 2번 노드를 보았을 때 인접 노드인 4번 노드를 아직 방문하지 않아 스택에 넣습니다."
   ]
  },
  {
   "cell_type": "markdown",
   "metadata": {},
   "source": [
    "![img](https://user-images.githubusercontent.com/72365693/103001453-62bae000-4570-11eb-8e66-37d4c12713da.JPG)"
   ]
  },
  {
   "cell_type": "markdown",
   "metadata": {},
   "source": [
    "+ 결과적으로 4번 노드의 인접 노드인 5번 노드가 스택에 들어가고, 이후에 스택에서 하나씩 다 노드들이 빠져나오게 됩니다. "
   ]
  },
  {
   "cell_type": "markdown",
   "metadata": {},
   "source": [
    "![img](https://user-images.githubusercontent.com/72365693/103001529-89791680-4570-11eb-982f-005b8ae5c623.JPG)"
   ]
  },
  {
   "cell_type": "markdown",
   "metadata": {},
   "source": [
    "+ &#127877; 따라서 방문 경로는 1 - 2 -3 -6- 7- 4 - 5 입니다. &#127877;"
   ]
  },
  {
   "cell_type": "markdown",
   "metadata": {},
   "source": [
    "**문제**  \n",
    "\n",
    "1을 육지로, 0을 물로 가정한 2D 그리드 맵이 주어졌을 때, 섬의 개수를 계산하라  \n",
    "(연결되어 있는 1의 덩어리 개수를 구하라)"
   ]
  },
  {
   "cell_type": "code",
   "execution_count": 1,
   "metadata": {},
   "outputs": [
    {
     "name": "stdout",
     "output_type": "stream",
     "text": [
      "3\n"
     ]
    }
   ],
   "source": [
    "from typing import List\n",
    "\n",
    "\n",
    "class Solution:\n",
    "    def numIslands(self, grid: List[List[str]]) -> int:\n",
    "        def dfs(i, j):\n",
    "            # 더 이상 땅이 아닌 경우 종료\n",
    "            if i < 0 or i >= len(grid) or \\\n",
    "                    j < 0 or j >= len(grid[0]) or \\\n",
    "                    grid[i][j] != '1':\n",
    "                return\n",
    "\n",
    "            grid[i][j] = 0\n",
    "\n",
    "            # 동서남북 탐색\n",
    "            dfs(i + 1, j)\n",
    "            dfs(i - 1, j)\n",
    "            dfs(i, j + 1)\n",
    "            dfs(i, j - 1)\n",
    "\n",
    "        count = 0\n",
    "        for i in range(len(grid)):\n",
    "            for j in range(len(grid[0])):\n",
    "                if grid[i][j] == '1':\n",
    "                    dfs(i, j)\n",
    "                    # 모든 육지 탐색 후 카운트 1 증가\n",
    "                    count += 1\n",
    "        return count\n",
    "numislands2 = Solution()\n",
    "print(numislands2.numIslands([[\"1\",\"1\",\"0\",\"0\",\"0\"],[\"1\",\"1\",\"0\",\"0\",\"0\"],[\"0\",\"0\",\"1\",\"0\",\"0\"],[\"0\",\"0\",\"0\",\"1\",\"1\"]]))"
   ]
  }
 ],
 "metadata": {
  "kernelspec": {
   "display_name": "Python 3",
   "language": "python",
   "name": "python3"
  },
  "language_info": {
   "codemirror_mode": {
    "name": "ipython",
    "version": 3
   },
   "file_extension": ".py",
   "mimetype": "text/x-python",
   "name": "python",
   "nbconvert_exporter": "python",
   "pygments_lexer": "ipython3",
   "version": "3.8.3"
  }
 },
 "nbformat": 4,
 "nbformat_minor": 4
}
