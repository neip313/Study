{
 "cells": [
  {
   "cell_type": "markdown",
   "metadata": {},
   "source": [
    "# 자연어 처리 개요 \n",
    "\n",
    "이번 장에서는 총 4개의 문제를 알아보겠다.  \n",
    "- 텍스트 분류\n",
    "- 텍스트 유사도 \n",
    "- 텍스트 생성 \n",
    "- 기계 이해 \n",
    "\n",
    "위 4가지 문제를 알아보기 전에 먼저 알아야하는 것이 있다.  \n",
    "\n",
    "**단어 표현**이란 모든 자연어 처리 문제의 기본 바탕이 되는 개념.  \n",
    "자연어를 어떻게 표현할지 정하는 것이 각 문제를 해결하기 위한 출발점! "
   ]
  },
  {
   "cell_type": "markdown",
   "metadata": {},
   "source": [
    "## 단어 표현 \n",
    "**원-핫 인코딩(one-hot-incoding)**\n",
    "- 단어를 하나의 벡터로 표현하는 방법\n",
    "- 각 값은 0 혹은 1 값만 가지는 벡터로 표현  \n",
    "\n",
    "ex) 6개의 단어(남자, 여자, 아빠, 엄마, 삼촌, 이모) \n",
    "- 남자 : [1, 0, 0, 0, 0, 0]\n",
    "- 여자 : [0, 1, 0, 0, 0, 0]\n",
    "- 아빠 : [0, 0, 1, 0, 0, 0]\n",
    "- 엄마 : [0, 0, 0, 1, 0, 0]\n",
    "- 삼촌 : [0, 0, 0, 0, 1, 0]\n",
    "- 이모 : [0, 0, 0, 0, 0, 1]\n",
    "\n",
    "즉, 원-핫 인코딩 방식은 각 단어의 인텍스를 정한 후 각 단어의 벡터에서 그 단어에 해당하는 인덱스의 값을 1로 표현하는 방식  \n",
    "\n",
    "but, 문제점 두 가지  \n",
    "1. 각 단어 벡터의 크기가 너무 커지기 때문에 공간은 너무 많이 사용하여 매우 비효율적\n",
    "2. 단어의 의미나 특성 같은 것들을 표현 못함"
   ]
  }
 ],
 "metadata": {
  "kernelspec": {
   "display_name": "Python 3",
   "language": "python",
   "name": "python3"
  },
  "language_info": {
   "codemirror_mode": {
    "name": "ipython",
    "version": 3
   },
   "file_extension": ".py",
   "mimetype": "text/x-python",
   "name": "python",
   "nbconvert_exporter": "python",
   "pygments_lexer": "ipython3",
   "version": "3.8.3"
  }
 },
 "nbformat": 4,
 "nbformat_minor": 4
}
