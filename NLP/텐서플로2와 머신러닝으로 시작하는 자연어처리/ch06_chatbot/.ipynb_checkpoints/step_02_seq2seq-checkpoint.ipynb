{
 "cells": [
  {
   "cell_type": "markdown",
   "metadata": {
    "id": "geWXPvDBZ0pn"
   },
   "source": [
    "## 데이터셋 소개\n",
    "- 한국어 챗봇 데이터는 거의 없다. \n",
    "  + 다행히, 한글로도 챗봇을 만들수 있도록 `Chatbot_data_for_Korean v1.0` 데이터셋이다. \n",
    "- 총 11,876개의 데이터로 구성돼 있다. \n",
    "  + 각 데이터는 질문과 그에 대한 대답, 그리고 주제에 대한 라벨값을 가진다. \n",
    "    * 0은 일상 대화, 1은 긍정, 2는 부정의 주제를 의미한다. "
   ]
  },
  {
   "cell_type": "markdown",
   "metadata": {
    "id": "1mxmlN1EgEGN"
   },
   "source": [
    "## 데이터 분석\n",
    "- 챗봇 데이터를 분석해보자. \n",
    "- 데이터 출처: https://github.com/songys/Chatbot_data\n"
   ]
  },
  {
   "cell_type": "markdown",
   "metadata": {
    "id": "Bcv5EKRyjTck"
   },
   "source": [
    "### 구글 코랩과 구글 드라이브 연동\n",
    "- 우선 데이터가 있는 폴더와 연동한다. \n",
    "> Note: 런타임을 GPU로 바꾸는 것을 잊지 않는다. "
   ]
  },
  {
   "cell_type": "code",
   "execution_count": 1,
   "metadata": {
    "colab": {
     "base_uri": "https://localhost:8080/",
     "height": 545
    },
    "executionInfo": {
     "elapsed": 14580,
     "status": "error",
     "timestamp": 1609034045787,
     "user": {
      "displayName": "Ji-hoon Jung",
      "photoUrl": "",
      "userId": "03169308685755834042"
     },
     "user_tz": -540
    },
    "id": "1wwqlWe7ZvR2",
    "outputId": "afec8b3c-aa6a-4c34-ccd8-f1ba7e3558f2"
   },
   "outputs": [
    {
     "name": "stdout",
     "output_type": "stream",
     "text": [
      "/content/drive\n"
     ]
    },
    {
     "ename": "KeyboardInterrupt",
     "evalue": "ignored",
     "output_type": "error",
     "traceback": [
      "\u001b[0;31m---------------------------------------------------------------------------\u001b[0m",
      "\u001b[0;31mKeyboardInterrupt\u001b[0m                         Traceback (most recent call last)",
      "\u001b[0;32m/usr/local/lib/python3.6/dist-packages/ipykernel/kernelbase.py\u001b[0m in \u001b[0;36m_input_request\u001b[0;34m(self, prompt, ident, parent, password)\u001b[0m\n\u001b[1;32m    728\u001b[0m             \u001b[0;32mtry\u001b[0m\u001b[0;34m:\u001b[0m\u001b[0;34m\u001b[0m\u001b[0;34m\u001b[0m\u001b[0m\n\u001b[0;32m--> 729\u001b[0;31m                 \u001b[0mident\u001b[0m\u001b[0;34m,\u001b[0m \u001b[0mreply\u001b[0m \u001b[0;34m=\u001b[0m \u001b[0mself\u001b[0m\u001b[0;34m.\u001b[0m\u001b[0msession\u001b[0m\u001b[0;34m.\u001b[0m\u001b[0mrecv\u001b[0m\u001b[0;34m(\u001b[0m\u001b[0mself\u001b[0m\u001b[0;34m.\u001b[0m\u001b[0mstdin_socket\u001b[0m\u001b[0;34m,\u001b[0m \u001b[0;36m0\u001b[0m\u001b[0;34m)\u001b[0m\u001b[0;34m\u001b[0m\u001b[0;34m\u001b[0m\u001b[0m\n\u001b[0m\u001b[1;32m    730\u001b[0m             \u001b[0;32mexcept\u001b[0m \u001b[0mException\u001b[0m\u001b[0;34m:\u001b[0m\u001b[0;34m\u001b[0m\u001b[0;34m\u001b[0m\u001b[0m\n",
      "\u001b[0;32m/usr/local/lib/python3.6/dist-packages/jupyter_client/session.py\u001b[0m in \u001b[0;36mrecv\u001b[0;34m(self, socket, mode, content, copy)\u001b[0m\n\u001b[1;32m    802\u001b[0m         \u001b[0;32mtry\u001b[0m\u001b[0;34m:\u001b[0m\u001b[0;34m\u001b[0m\u001b[0;34m\u001b[0m\u001b[0m\n\u001b[0;32m--> 803\u001b[0;31m             \u001b[0mmsg_list\u001b[0m \u001b[0;34m=\u001b[0m \u001b[0msocket\u001b[0m\u001b[0;34m.\u001b[0m\u001b[0mrecv_multipart\u001b[0m\u001b[0;34m(\u001b[0m\u001b[0mmode\u001b[0m\u001b[0;34m,\u001b[0m \u001b[0mcopy\u001b[0m\u001b[0;34m=\u001b[0m\u001b[0mcopy\u001b[0m\u001b[0;34m)\u001b[0m\u001b[0;34m\u001b[0m\u001b[0;34m\u001b[0m\u001b[0m\n\u001b[0m\u001b[1;32m    804\u001b[0m         \u001b[0;32mexcept\u001b[0m \u001b[0mzmq\u001b[0m\u001b[0;34m.\u001b[0m\u001b[0mZMQError\u001b[0m \u001b[0;32mas\u001b[0m \u001b[0me\u001b[0m\u001b[0;34m:\u001b[0m\u001b[0;34m\u001b[0m\u001b[0;34m\u001b[0m\u001b[0m\n",
      "\u001b[0;32m/usr/local/lib/python3.6/dist-packages/zmq/sugar/socket.py\u001b[0m in \u001b[0;36mrecv_multipart\u001b[0;34m(self, flags, copy, track)\u001b[0m\n\u001b[1;32m    565\u001b[0m         \"\"\"\n\u001b[0;32m--> 566\u001b[0;31m         \u001b[0mparts\u001b[0m \u001b[0;34m=\u001b[0m \u001b[0;34m[\u001b[0m\u001b[0mself\u001b[0m\u001b[0;34m.\u001b[0m\u001b[0mrecv\u001b[0m\u001b[0;34m(\u001b[0m\u001b[0mflags\u001b[0m\u001b[0;34m,\u001b[0m \u001b[0mcopy\u001b[0m\u001b[0;34m=\u001b[0m\u001b[0mcopy\u001b[0m\u001b[0;34m,\u001b[0m \u001b[0mtrack\u001b[0m\u001b[0;34m=\u001b[0m\u001b[0mtrack\u001b[0m\u001b[0;34m)\u001b[0m\u001b[0;34m]\u001b[0m\u001b[0;34m\u001b[0m\u001b[0;34m\u001b[0m\u001b[0m\n\u001b[0m\u001b[1;32m    567\u001b[0m         \u001b[0;31m# have first part already, only loop while more to receive\u001b[0m\u001b[0;34m\u001b[0m\u001b[0;34m\u001b[0m\u001b[0;34m\u001b[0m\u001b[0m\n",
      "\u001b[0;32mzmq/backend/cython/socket.pyx\u001b[0m in \u001b[0;36mzmq.backend.cython.socket.Socket.recv\u001b[0;34m()\u001b[0m\n",
      "\u001b[0;32mzmq/backend/cython/socket.pyx\u001b[0m in \u001b[0;36mzmq.backend.cython.socket.Socket.recv\u001b[0;34m()\u001b[0m\n",
      "\u001b[0;32mzmq/backend/cython/socket.pyx\u001b[0m in \u001b[0;36mzmq.backend.cython.socket._recv_copy\u001b[0;34m()\u001b[0m\n",
      "\u001b[0;32m/usr/local/lib/python3.6/dist-packages/zmq/backend/cython/checkrc.pxd\u001b[0m in \u001b[0;36mzmq.backend.cython.checkrc._check_rc\u001b[0;34m()\u001b[0m\n",
      "\u001b[0;31mKeyboardInterrupt\u001b[0m: ",
      "\nDuring handling of the above exception, another exception occurred:\n",
      "\u001b[0;31mKeyboardInterrupt\u001b[0m                         Traceback (most recent call last)",
      "\u001b[0;32m<ipython-input-1-7d58c536cd4c>\u001b[0m in \u001b[0;36m<module>\u001b[0;34m()\u001b[0m\n\u001b[1;32m      4\u001b[0m \u001b[0mROOT\u001b[0m \u001b[0;34m=\u001b[0m \u001b[0;34m\"/content/drive\"\u001b[0m     \u001b[0;31m# 드라이브 기본 경로\u001b[0m\u001b[0;34m\u001b[0m\u001b[0;34m\u001b[0m\u001b[0m\n\u001b[1;32m      5\u001b[0m \u001b[0mprint\u001b[0m\u001b[0;34m(\u001b[0m\u001b[0mROOT\u001b[0m\u001b[0;34m)\u001b[0m                 \u001b[0;31m# print content of ROOT (Optional)\u001b[0m\u001b[0;34m\u001b[0m\u001b[0;34m\u001b[0m\u001b[0m\n\u001b[0;32m----> 6\u001b[0;31m \u001b[0mdrive\u001b[0m\u001b[0;34m.\u001b[0m\u001b[0mmount\u001b[0m\u001b[0;34m(\u001b[0m\u001b[0mROOT\u001b[0m\u001b[0;34m)\u001b[0m           \u001b[0;31m# 드라이브 기본 경로 Mount\u001b[0m\u001b[0;34m\u001b[0m\u001b[0;34m\u001b[0m\u001b[0m\n\u001b[0m\u001b[1;32m      7\u001b[0m \u001b[0;34m\u001b[0m\u001b[0m\n\u001b[1;32m      8\u001b[0m \u001b[0mMY_GOOGLE_DRIVE_PATH\u001b[0m \u001b[0;34m=\u001b[0m \u001b[0;34m'My Drive/Colab Notebooks/강림직업전문학교/프로젝트/NLP_자연어처리/ch06_챗봇_만들기/'\u001b[0m \u001b[0;31m# 프로젝트 경로\u001b[0m\u001b[0;34m\u001b[0m\u001b[0;34m\u001b[0m\u001b[0m\n",
      "\u001b[0;32m/usr/local/lib/python3.6/dist-packages/google/colab/drive.py\u001b[0m in \u001b[0;36mmount\u001b[0;34m(mountpoint, force_remount, timeout_ms, use_metadata_server)\u001b[0m\n\u001b[1;32m    260\u001b[0m       \u001b[0;32mwith\u001b[0m \u001b[0m_output\u001b[0m\u001b[0;34m.\u001b[0m\u001b[0muse_tags\u001b[0m\u001b[0;34m(\u001b[0m\u001b[0;34m'dfs-auth-dance'\u001b[0m\u001b[0;34m)\u001b[0m\u001b[0;34m:\u001b[0m\u001b[0;34m\u001b[0m\u001b[0;34m\u001b[0m\u001b[0m\n\u001b[1;32m    261\u001b[0m         \u001b[0;32mwith\u001b[0m \u001b[0mopen\u001b[0m\u001b[0;34m(\u001b[0m\u001b[0mfifo\u001b[0m\u001b[0;34m,\u001b[0m \u001b[0;34m'w'\u001b[0m\u001b[0;34m)\u001b[0m \u001b[0;32mas\u001b[0m \u001b[0mfifo_file\u001b[0m\u001b[0;34m:\u001b[0m\u001b[0;34m\u001b[0m\u001b[0;34m\u001b[0m\u001b[0m\n\u001b[0;32m--> 262\u001b[0;31m           \u001b[0mfifo_file\u001b[0m\u001b[0;34m.\u001b[0m\u001b[0mwrite\u001b[0m\u001b[0;34m(\u001b[0m\u001b[0mget_code\u001b[0m\u001b[0;34m(\u001b[0m\u001b[0mauth_prompt\u001b[0m\u001b[0;34m)\u001b[0m \u001b[0;34m+\u001b[0m \u001b[0;34m'\\n'\u001b[0m\u001b[0;34m)\u001b[0m\u001b[0;34m\u001b[0m\u001b[0;34m\u001b[0m\u001b[0m\n\u001b[0m\u001b[1;32m    263\u001b[0m       \u001b[0mwrote_to_fifo\u001b[0m \u001b[0;34m=\u001b[0m \u001b[0;32mTrue\u001b[0m\u001b[0;34m\u001b[0m\u001b[0;34m\u001b[0m\u001b[0m\n\u001b[1;32m    264\u001b[0m     \u001b[0;32melif\u001b[0m \u001b[0mcase\u001b[0m \u001b[0;34m==\u001b[0m \u001b[0;36m5\u001b[0m\u001b[0;34m:\u001b[0m\u001b[0;34m\u001b[0m\u001b[0;34m\u001b[0m\u001b[0m\n",
      "\u001b[0;32m/usr/local/lib/python3.6/dist-packages/ipykernel/kernelbase.py\u001b[0m in \u001b[0;36mraw_input\u001b[0;34m(self, prompt)\u001b[0m\n\u001b[1;32m    702\u001b[0m             \u001b[0mself\u001b[0m\u001b[0;34m.\u001b[0m\u001b[0m_parent_ident\u001b[0m\u001b[0;34m,\u001b[0m\u001b[0;34m\u001b[0m\u001b[0;34m\u001b[0m\u001b[0m\n\u001b[1;32m    703\u001b[0m             \u001b[0mself\u001b[0m\u001b[0;34m.\u001b[0m\u001b[0m_parent_header\u001b[0m\u001b[0;34m,\u001b[0m\u001b[0;34m\u001b[0m\u001b[0;34m\u001b[0m\u001b[0m\n\u001b[0;32m--> 704\u001b[0;31m             \u001b[0mpassword\u001b[0m\u001b[0;34m=\u001b[0m\u001b[0;32mFalse\u001b[0m\u001b[0;34m,\u001b[0m\u001b[0;34m\u001b[0m\u001b[0;34m\u001b[0m\u001b[0m\n\u001b[0m\u001b[1;32m    705\u001b[0m         )\n\u001b[1;32m    706\u001b[0m \u001b[0;34m\u001b[0m\u001b[0m\n",
      "\u001b[0;32m/usr/local/lib/python3.6/dist-packages/ipykernel/kernelbase.py\u001b[0m in \u001b[0;36m_input_request\u001b[0;34m(self, prompt, ident, parent, password)\u001b[0m\n\u001b[1;32m    732\u001b[0m             \u001b[0;32mexcept\u001b[0m \u001b[0mKeyboardInterrupt\u001b[0m\u001b[0;34m:\u001b[0m\u001b[0;34m\u001b[0m\u001b[0;34m\u001b[0m\u001b[0m\n\u001b[1;32m    733\u001b[0m                 \u001b[0;31m# re-raise KeyboardInterrupt, to truncate traceback\u001b[0m\u001b[0;34m\u001b[0m\u001b[0;34m\u001b[0m\u001b[0;34m\u001b[0m\u001b[0m\n\u001b[0;32m--> 734\u001b[0;31m                 \u001b[0;32mraise\u001b[0m \u001b[0mKeyboardInterrupt\u001b[0m\u001b[0;34m\u001b[0m\u001b[0;34m\u001b[0m\u001b[0m\n\u001b[0m\u001b[1;32m    735\u001b[0m             \u001b[0;32melse\u001b[0m\u001b[0;34m:\u001b[0m\u001b[0;34m\u001b[0m\u001b[0;34m\u001b[0m\u001b[0m\n\u001b[1;32m    736\u001b[0m                 \u001b[0;32mbreak\u001b[0m\u001b[0;34m\u001b[0m\u001b[0;34m\u001b[0m\u001b[0m\n",
      "\u001b[0;31mKeyboardInterrupt\u001b[0m: "
     ]
    }
   ],
   "source": [
    "from google.colab import drive # 패키지 불러오기 \n",
    "from os.path import join  \n",
    "\n",
    "ROOT = \"/content/drive\"     # 드라이브 기본 경로\n",
    "print(ROOT)                 # print content of ROOT (Optional)\n",
    "drive.mount(ROOT)           # 드라이브 기본 경로 Mount\n",
    "\n",
    "MY_GOOGLE_DRIVE_PATH = 'My Drive/Colab Notebooks/강림직업전문학교/프로젝트/NLP_자연어처리/ch06_챗봇_만들기/' # 프로젝트 경로\n",
    "PROJECT_PATH = join(ROOT, MY_GOOGLE_DRIVE_PATH) # 프로젝트 경로\n",
    "print(PROJECT_PATH)"
   ]
  },
  {
   "cell_type": "code",
   "execution_count": null,
   "metadata": {
    "colab": {
     "base_uri": "https://localhost:8080/"
    },
    "executionInfo": {
     "elapsed": 1887,
     "status": "ok",
     "timestamp": 1608977671862,
     "user": {
      "displayName": "Ji-hoon Jung",
      "photoUrl": "",
      "userId": "03169308685755834042"
     },
     "user_tz": -540
    },
    "id": "c2nDwL2UjOWQ",
    "outputId": "7d82f3db-b8f2-4b13-ca80-7c6b5005dc92"
   },
   "outputs": [
    {
     "name": "stdout",
     "output_type": "stream",
     "text": [
      "/content/drive/My Drive/Colab Notebooks/강림직업전문학교/프로젝트/NLP_자연어처리/ch06_챗봇_만들기\n"
     ]
    }
   ],
   "source": [
    "%cd \"{PROJECT_PATH}\""
   ]
  },
  {
   "cell_type": "markdown",
   "metadata": {
    "id": "jx14uFbik8IB"
   },
   "source": [
    "### 데이터 불러오기 및 확인\n",
    "- Pandas 라이브러리를 활용한다. "
   ]
  },
  {
   "cell_type": "code",
   "execution_count": null,
   "metadata": {
    "colab": {
     "base_uri": "https://localhost:8080/",
     "height": 204
    },
    "executionInfo": {
     "elapsed": 1518,
     "status": "ok",
     "timestamp": 1608977675843,
     "user": {
      "displayName": "Ji-hoon Jung",
      "photoUrl": "",
      "userId": "03169308685755834042"
     },
     "user_tz": -540
    },
    "id": "WxnhdWyblCtI",
    "outputId": "94338e80-94f9-400b-e9cf-37e3a9fc416e"
   },
   "outputs": [
    {
     "data": {
      "text/html": [
       "<div>\n",
       "<style scoped>\n",
       "    .dataframe tbody tr th:only-of-type {\n",
       "        vertical-align: middle;\n",
       "    }\n",
       "\n",
       "    .dataframe tbody tr th {\n",
       "        vertical-align: top;\n",
       "    }\n",
       "\n",
       "    .dataframe thead th {\n",
       "        text-align: right;\n",
       "    }\n",
       "</style>\n",
       "<table border=\"1\" class=\"dataframe\">\n",
       "  <thead>\n",
       "    <tr style=\"text-align: right;\">\n",
       "      <th></th>\n",
       "      <th>Q</th>\n",
       "      <th>A</th>\n",
       "      <th>label</th>\n",
       "    </tr>\n",
       "  </thead>\n",
       "  <tbody>\n",
       "    <tr>\n",
       "      <th>0</th>\n",
       "      <td>12시 땡!</td>\n",
       "      <td>하루가 또 가네요.</td>\n",
       "      <td>0</td>\n",
       "    </tr>\n",
       "    <tr>\n",
       "      <th>1</th>\n",
       "      <td>1지망 학교 떨어졌어</td>\n",
       "      <td>위로해 드립니다.</td>\n",
       "      <td>0</td>\n",
       "    </tr>\n",
       "    <tr>\n",
       "      <th>2</th>\n",
       "      <td>3박4일 놀러가고 싶다</td>\n",
       "      <td>여행은 언제나 좋죠.</td>\n",
       "      <td>0</td>\n",
       "    </tr>\n",
       "    <tr>\n",
       "      <th>3</th>\n",
       "      <td>3박4일 정도 놀러가고 싶다</td>\n",
       "      <td>여행은 언제나 좋죠.</td>\n",
       "      <td>0</td>\n",
       "    </tr>\n",
       "    <tr>\n",
       "      <th>4</th>\n",
       "      <td>PPL 심하네</td>\n",
       "      <td>눈살이 찌푸려지죠.</td>\n",
       "      <td>0</td>\n",
       "    </tr>\n",
       "  </tbody>\n",
       "</table>\n",
       "</div>"
      ],
      "text/plain": [
       "                 Q            A  label\n",
       "0           12시 땡!   하루가 또 가네요.      0\n",
       "1      1지망 학교 떨어졌어    위로해 드립니다.      0\n",
       "2     3박4일 놀러가고 싶다  여행은 언제나 좋죠.      0\n",
       "3  3박4일 정도 놀러가고 싶다  여행은 언제나 좋죠.      0\n",
       "4          PPL 심하네   눈살이 찌푸려지죠.      0"
      ]
     },
     "execution_count": 3,
     "metadata": {
      "tags": []
     },
     "output_type": "execute_result"
    }
   ],
   "source": [
    "import pandas as pd\n",
    "DATA_IN_PATH = \"./data_in/\"\n",
    "data = pd.read_csv(DATA_IN_PATH + './ChatBotData.csv', encoding='utf-8')\n",
    "data.head()"
   ]
  },
  {
   "cell_type": "markdown",
   "metadata": {
    "id": "-baWuRTXnU3N"
   },
   "source": [
    "- 결과에 응답 데이터를 보면, 주로 권유의 문자열이 많이 나오는 것을 확인할 수 있다. "
   ]
  },
  {
   "cell_type": "markdown",
   "metadata": {
    "id": "gtrBAPWU3IGP"
   },
   "source": [
    "## 시퀀스 투 시퀀스\n",
    "- 말 그대로 시퀀스 형태의 입력값을 시퀀스 형태의 출력으로 만들 수 있게 하는 모델임 \n",
    "- 즉, 하나의 텍스트 문장이 입력으로 들어오면 하나의 텍스트 문장을 출력하는 구조임\n",
    "- 주로 사용되는 분야는 기계 번역(Machine Translation), 텍스트 요약(Text Summarization), 이미지 설명(Image Captioning), 대화 모델(Conversation Model) 등 다양한 분야에서 활용된다. \n",
    "\n",
    "\n"
   ]
  },
  {
   "cell_type": "markdown",
   "metadata": {
    "id": "6THCgWpK39fT"
   },
   "source": [
    "### 모델의 개념\n",
    "- 우선 이 모델은 재귀 순환 신경망(RNN)모델을 기반으로 한다. \n",
    "  + RNN 모델에 대한 자세한 설명은 다음 교재에서 확인해본다. \n",
    "  + 순환 신경망: https://wikidocs.net/22886\n",
    "- 재귀 순환 신경망(RNN) 모델을 기반으로 하며, 모델은 크게 인코더(Encoder)부분과 디코더(Decoder) 부분으로 나뉜다. \n",
    "- 인코더 부분에서 입력값을 받아 입력값의 정보를 담은 벡터를 만든 이후에 디코더에서는 이 벡터를 활용해 재귀적으로 출력값을 만들어내는 구조를 가진다.\n",
    "\n",
    "![](https://jamiekang.github.io/media/2017-04-23-learning-phrase-representations-using-rnn-encoder-decoder-fig1.png)\n",
    "\n",
    "- 위 모델에 대한 한글 설명은 Jamie's Blog 게시글인 [Learning Phrase Representations Using RNN Encoder-Decoder for Statistical Machine Translation](https://jamiekang.github.io/2017/04/23/learning-phrase-representations-using-rnn-encoder-decoder/)에서 자세히 설명이 되어 있다. \n",
    "- Encoder가 input sequence x의 각 symbol을 순차적으로 읽는 것에 따라 내부의 `hidden state`가 update가 되는데, 이 때 마지막 심볼을 읽고 나면, `hidden state`는 전체 input sequence의 summary인 벡터 c가 됩니다. \n",
    "  + 이 때의 `c`는 인코더 부분의 정보를 요약해 담고 있는 벡터이고, 재귀 순환 신경망의 마지막 은식 상태 벡터값을 사용한다. \n",
    "- Decoder는 주어진 hidden state $h_{(t)}$에서 다음 symbol $y_{t}$를 생성하도록 `train`된 또 다른 `RNN`입니다. 그런데, `decoder`의 $y_{t}$와 $h_{(t)}$는 이전 symbol $y_{t-1}$ 뿐만 아니라 input sequence의 summary인 c에도 의존성이 있다. \n",
    "  + 즉, `decoder`의 `hidden state`는 아래 식과 같이 계산된다. \n",
    "  + 여기에서 $f$는 non-linear activation function을 의미한다. \n",
    "$$ h_{(t)} = f \\left ( h_{(t-1)}, y_{t-1}, c \\right ) $$\n",
    "\n",
    "- 이 두 개의 네트워크는 주어진 `source sequence`에 대해 `target sequence`가 나올 조건부 확률을 `maximize` 하도록 함께 `training`된다. 수식으로 쓰면 아래와 같이 `log-likelihood`로 표현된다. \n",
    "  + likelihood의 뜻은 데이터가 특정한 분포로부터 나올 확률을 말한다.\n",
    "$$ \\underset{\\theta }{max}=\\frac{1}{N}\\sum_{n=1}^{N}logP_{\\theta }(Y_{n}|X_{n}) $$\n",
    "\n",
    "- 여기에서 $\\theta$는 모델의 `parameter`이고, 이를 추정하기 위해 `gradient`기반의 알고리즘을 사용한다. \n",
    "- 이 모델은 두 개의 다른 언어(예: 입력-영어, 출력-프랑스어)간 번역에 사용한다. \n",
    "\n",
    "\n",
    "\n"
   ]
  },
  {
   "cell_type": "markdown",
   "metadata": {
    "id": "CDQROcYen7ex"
   },
   "source": [
    "## 모델 구현을 위한 사전 환경 설정\n",
    "- 먼저 모델을 구현하기 위해 `preprocess` 영역을 선 구현하도록 한다. \n"
   ]
  },
  {
   "cell_type": "markdown",
   "metadata": {
    "id": "1a8MpGItoSa2"
   },
   "source": [
    "### 구글 드라이브 연결\n",
    "- 구글 드라이브와 연결하도록 한다. "
   ]
  },
  {
   "cell_type": "code",
   "execution_count": null,
   "metadata": {
    "colab": {
     "base_uri": "https://localhost:8080/"
    },
    "executionInfo": {
     "elapsed": 795,
     "status": "ok",
     "timestamp": 1608977692865,
     "user": {
      "displayName": "Ji-hoon Jung",
      "photoUrl": "",
      "userId": "03169308685755834042"
     },
     "user_tz": -540
    },
    "id": "b2Hp9aN_obYI",
    "outputId": "8dd35f1f-f996-4df5-afc8-fe749a2fac4a"
   },
   "outputs": [
    {
     "name": "stdout",
     "output_type": "stream",
     "text": [
      "/content/drive\n",
      "Drive already mounted at /content/drive; to attempt to forcibly remount, call drive.mount(\"/content/drive\", force_remount=True).\n",
      "/content/drive/My Drive/Colab Notebooks/강림직업전문학교/프로젝트/NLP_자연어처리/ch06_챗봇_만들기/\n"
     ]
    }
   ],
   "source": [
    "from google.colab import drive # 패키지 불러오기 \n",
    "from os.path import join  \n",
    "\n",
    "ROOT = \"/content/drive\"     # 드라이브 기본 경로\n",
    "print(ROOT)                 # print content of ROOT (Optional)\n",
    "drive.mount(ROOT)           # 드라이브 기본 경로 Mount\n",
    "\n",
    "MY_GOOGLE_DRIVE_PATH = 'My Drive/Colab Notebooks/강림직업전문학교/프로젝트/NLP_자연어처리/ch06_챗봇_만들기/' # 프로젝트 경로\n",
    "PROJECT_PATH = join(ROOT, MY_GOOGLE_DRIVE_PATH) # 프로젝트 경로\n",
    "print(PROJECT_PATH)"
   ]
  },
  {
   "cell_type": "code",
   "execution_count": null,
   "metadata": {
    "colab": {
     "base_uri": "https://localhost:8080/"
    },
    "executionInfo": {
     "elapsed": 1648,
     "status": "ok",
     "timestamp": 1608977693732,
     "user": {
      "displayName": "Ji-hoon Jung",
      "photoUrl": "",
      "userId": "03169308685755834042"
     },
     "user_tz": -540
    },
    "id": "yU-BofZcoejL",
    "outputId": "facc2def-f75b-457b-f7bc-a4dedb133f8a"
   },
   "outputs": [
    {
     "name": "stdout",
     "output_type": "stream",
     "text": [
      "/content/drive/My Drive/Colab Notebooks/강림직업전문학교/프로젝트/NLP_자연어처리/ch06_챗봇_만들기\n"
     ]
    }
   ],
   "source": [
    "%cd \"{PROJECT_PATH}\""
   ]
  },
  {
   "cell_type": "markdown",
   "metadata": {
    "id": "eKBhT3Chopmm"
   },
   "source": [
    "### 한글 형태소 설치\n",
    "- 다음 코드로 형태소를 설치하도록 한다. "
   ]
  },
  {
   "cell_type": "code",
   "execution_count": null,
   "metadata": {
    "colab": {
     "base_uri": "https://localhost:8080/"
    },
    "executionInfo": {
     "elapsed": 31173,
     "status": "ok",
     "timestamp": 1608977723266,
     "user": {
      "displayName": "Ji-hoon Jung",
      "photoUrl": "",
      "userId": "03169308685755834042"
     },
     "user_tz": -540
    },
    "id": "ktrUGCf-o4G2",
    "outputId": "bc8425f4-b9a4-4cdd-fcfe-b9494e3dbcb5"
   },
   "outputs": [
    {
     "name": "stdout",
     "output_type": "stream",
     "text": [
      "Get:1 https://cloud.r-project.org/bin/linux/ubuntu bionic-cran40/ InRelease [3,626 B]\n",
      "Ign:2 https://developer.download.nvidia.com/compute/cuda/repos/ubuntu1804/x86_64  InRelease\n",
      "Get:3 http://ppa.launchpad.net/c2d4u.team/c2d4u4.0+/ubuntu bionic InRelease [15.9 kB]\n",
      "Get:4 http://security.ubuntu.com/ubuntu bionic-security InRelease [88.7 kB]\n",
      "Ign:5 https://developer.download.nvidia.com/compute/machine-learning/repos/ubuntu1804/x86_64  InRelease\n",
      "Hit:6 https://developer.download.nvidia.com/compute/cuda/repos/ubuntu1804/x86_64  Release\n",
      "Hit:7 https://developer.download.nvidia.com/compute/machine-learning/repos/ubuntu1804/x86_64  Release\n",
      "Hit:8 http://archive.ubuntu.com/ubuntu bionic InRelease\n",
      "Get:9 https://cloud.r-project.org/bin/linux/ubuntu bionic-cran40/ Packages [41.5 kB]\n",
      "Get:10 http://archive.ubuntu.com/ubuntu bionic-updates InRelease [88.7 kB]\n",
      "Hit:11 http://ppa.launchpad.net/cran/libgit2/ubuntu bionic InRelease\n",
      "Hit:13 http://ppa.launchpad.net/graphics-drivers/ppa/ubuntu bionic InRelease\n",
      "Get:14 http://archive.ubuntu.com/ubuntu bionic-backports InRelease [74.6 kB]\n",
      "Get:16 http://ppa.launchpad.net/c2d4u.team/c2d4u4.0+/ubuntu bionic/main Sources [1,700 kB]\n",
      "Get:17 http://ppa.launchpad.net/c2d4u.team/c2d4u4.0+/ubuntu bionic/main amd64 Packages [870 kB]\n",
      "Fetched 2,884 kB in 2s (1,341 kB/s)\n",
      "Reading package lists... Done\n",
      "Reading package lists... Done\n",
      "Building dependency tree       \n",
      "Reading state information... Done\n",
      "g++ is already the newest version (4:7.4.0-1ubuntu2.3).\n",
      "g++ set to manually installed.\n",
      "The following additional packages will be installed:\n",
      "  fonts-dejavu-core fonts-dejavu-extra libatk-wrapper-java\n",
      "  libatk-wrapper-java-jni libgail-common libgail18 libgtk2.0-0 libgtk2.0-bin\n",
      "  libgtk2.0-common libxxf86dga1 openjdk-8-jdk-headless openjdk-8-jre\n",
      "  openjdk-8-jre-headless x11-utils\n",
      "Suggested packages:\n",
      "  gvfs openjdk-8-demo openjdk-8-source visualvm icedtea-8-plugin libnss-mdns\n",
      "  fonts-ipafont-gothic fonts-ipafont-mincho fonts-wqy-microhei\n",
      "  fonts-wqy-zenhei fonts-indic mesa-utils\n",
      "The following NEW packages will be installed:\n",
      "  fonts-dejavu-core fonts-dejavu-extra libatk-wrapper-java\n",
      "  libatk-wrapper-java-jni libgail-common libgail18 libgtk2.0-0 libgtk2.0-bin\n",
      "  libgtk2.0-common libxxf86dga1 openjdk-8-jdk openjdk-8-jdk-headless\n",
      "  openjdk-8-jre openjdk-8-jre-headless x11-utils\n",
      "0 upgraded, 15 newly installed, 0 to remove and 17 not upgraded.\n",
      "Need to get 43.4 MB of archives.\n",
      "After this operation, 163 MB of additional disk space will be used.\n",
      "Get:1 http://archive.ubuntu.com/ubuntu bionic/main amd64 libxxf86dga1 amd64 2:1.1.4-1 [13.7 kB]\n",
      "Get:2 http://archive.ubuntu.com/ubuntu bionic/main amd64 fonts-dejavu-core all 2.37-1 [1,041 kB]\n",
      "Get:3 http://archive.ubuntu.com/ubuntu bionic/main amd64 fonts-dejavu-extra all 2.37-1 [1,953 kB]\n",
      "Get:4 http://archive.ubuntu.com/ubuntu bionic/main amd64 x11-utils amd64 7.7+3build1 [196 kB]\n",
      "Get:5 http://archive.ubuntu.com/ubuntu bionic/main amd64 libatk-wrapper-java all 0.33.3-20ubuntu0.1 [34.7 kB]\n",
      "Get:6 http://archive.ubuntu.com/ubuntu bionic/main amd64 libatk-wrapper-java-jni amd64 0.33.3-20ubuntu0.1 [28.3 kB]\n",
      "Get:7 http://archive.ubuntu.com/ubuntu bionic/main amd64 libgtk2.0-common all 2.24.32-1ubuntu1 [125 kB]\n",
      "Get:8 http://archive.ubuntu.com/ubuntu bionic/main amd64 libgtk2.0-0 amd64 2.24.32-1ubuntu1 [1,769 kB]\n",
      "Get:9 http://archive.ubuntu.com/ubuntu bionic/main amd64 libgail18 amd64 2.24.32-1ubuntu1 [14.2 kB]\n",
      "Get:10 http://archive.ubuntu.com/ubuntu bionic/main amd64 libgail-common amd64 2.24.32-1ubuntu1 [112 kB]\n",
      "Get:11 http://archive.ubuntu.com/ubuntu bionic/main amd64 libgtk2.0-bin amd64 2.24.32-1ubuntu1 [7,536 B]\n",
      "Get:12 http://archive.ubuntu.com/ubuntu bionic-updates/universe amd64 openjdk-8-jre-headless amd64 8u275-b01-0ubuntu1~18.04 [28.2 MB]\n",
      "Get:13 http://archive.ubuntu.com/ubuntu bionic-updates/universe amd64 openjdk-8-jre amd64 8u275-b01-0ubuntu1~18.04 [69.7 kB]\n",
      "Get:14 http://archive.ubuntu.com/ubuntu bionic-updates/universe amd64 openjdk-8-jdk-headless amd64 8u275-b01-0ubuntu1~18.04 [8,269 kB]\n",
      "Get:15 http://archive.ubuntu.com/ubuntu bionic-updates/universe amd64 openjdk-8-jdk amd64 8u275-b01-0ubuntu1~18.04 [1,600 kB]\n",
      "Fetched 43.4 MB in 2s (23.3 MB/s)\n",
      "Selecting previously unselected package libxxf86dga1:amd64.\n",
      "(Reading database ... 145480 files and directories currently installed.)\n",
      "Preparing to unpack .../00-libxxf86dga1_2%3a1.1.4-1_amd64.deb ...\n",
      "Unpacking libxxf86dga1:amd64 (2:1.1.4-1) ...\n",
      "Selecting previously unselected package fonts-dejavu-core.\n",
      "Preparing to unpack .../01-fonts-dejavu-core_2.37-1_all.deb ...\n",
      "Unpacking fonts-dejavu-core (2.37-1) ...\n",
      "Selecting previously unselected package fonts-dejavu-extra.\n",
      "Preparing to unpack .../02-fonts-dejavu-extra_2.37-1_all.deb ...\n",
      "Unpacking fonts-dejavu-extra (2.37-1) ...\n",
      "Selecting previously unselected package x11-utils.\n",
      "Preparing to unpack .../03-x11-utils_7.7+3build1_amd64.deb ...\n",
      "Unpacking x11-utils (7.7+3build1) ...\n",
      "Selecting previously unselected package libatk-wrapper-java.\n",
      "Preparing to unpack .../04-libatk-wrapper-java_0.33.3-20ubuntu0.1_all.deb ...\n",
      "Unpacking libatk-wrapper-java (0.33.3-20ubuntu0.1) ...\n",
      "Selecting previously unselected package libatk-wrapper-java-jni:amd64.\n",
      "Preparing to unpack .../05-libatk-wrapper-java-jni_0.33.3-20ubuntu0.1_amd64.deb ...\n",
      "Unpacking libatk-wrapper-java-jni:amd64 (0.33.3-20ubuntu0.1) ...\n",
      "Selecting previously unselected package libgtk2.0-common.\n",
      "Preparing to unpack .../06-libgtk2.0-common_2.24.32-1ubuntu1_all.deb ...\n",
      "Unpacking libgtk2.0-common (2.24.32-1ubuntu1) ...\n",
      "Selecting previously unselected package libgtk2.0-0:amd64.\n",
      "Preparing to unpack .../07-libgtk2.0-0_2.24.32-1ubuntu1_amd64.deb ...\n",
      "Unpacking libgtk2.0-0:amd64 (2.24.32-1ubuntu1) ...\n",
      "Selecting previously unselected package libgail18:amd64.\n",
      "Preparing to unpack .../08-libgail18_2.24.32-1ubuntu1_amd64.deb ...\n",
      "Unpacking libgail18:amd64 (2.24.32-1ubuntu1) ...\n",
      "Selecting previously unselected package libgail-common:amd64.\n",
      "Preparing to unpack .../09-libgail-common_2.24.32-1ubuntu1_amd64.deb ...\n",
      "Unpacking libgail-common:amd64 (2.24.32-1ubuntu1) ...\n",
      "Selecting previously unselected package libgtk2.0-bin.\n",
      "Preparing to unpack .../10-libgtk2.0-bin_2.24.32-1ubuntu1_amd64.deb ...\n",
      "Unpacking libgtk2.0-bin (2.24.32-1ubuntu1) ...\n",
      "Selecting previously unselected package openjdk-8-jre-headless:amd64.\n",
      "Preparing to unpack .../11-openjdk-8-jre-headless_8u275-b01-0ubuntu1~18.04_amd64.deb ...\n",
      "Unpacking openjdk-8-jre-headless:amd64 (8u275-b01-0ubuntu1~18.04) ...\n",
      "Selecting previously unselected package openjdk-8-jre:amd64.\n",
      "Preparing to unpack .../12-openjdk-8-jre_8u275-b01-0ubuntu1~18.04_amd64.deb ...\n",
      "Unpacking openjdk-8-jre:amd64 (8u275-b01-0ubuntu1~18.04) ...\n",
      "Selecting previously unselected package openjdk-8-jdk-headless:amd64.\n",
      "Preparing to unpack .../13-openjdk-8-jdk-headless_8u275-b01-0ubuntu1~18.04_amd64.deb ...\n",
      "Unpacking openjdk-8-jdk-headless:amd64 (8u275-b01-0ubuntu1~18.04) ...\n",
      "Selecting previously unselected package openjdk-8-jdk:amd64.\n",
      "Preparing to unpack .../14-openjdk-8-jdk_8u275-b01-0ubuntu1~18.04_amd64.deb ...\n",
      "Unpacking openjdk-8-jdk:amd64 (8u275-b01-0ubuntu1~18.04) ...\n",
      "Setting up libgtk2.0-common (2.24.32-1ubuntu1) ...\n",
      "Setting up fonts-dejavu-core (2.37-1) ...\n",
      "Setting up libxxf86dga1:amd64 (2:1.1.4-1) ...\n",
      "Setting up fonts-dejavu-extra (2.37-1) ...\n",
      "Setting up openjdk-8-jre-headless:amd64 (8u275-b01-0ubuntu1~18.04) ...\n",
      "update-alternatives: using /usr/lib/jvm/java-8-openjdk-amd64/jre/bin/orbd to provide /usr/bin/orbd (orbd) in auto mode\n",
      "update-alternatives: using /usr/lib/jvm/java-8-openjdk-amd64/jre/bin/servertool to provide /usr/bin/servertool (servertool) in auto mode\n",
      "update-alternatives: using /usr/lib/jvm/java-8-openjdk-amd64/jre/bin/tnameserv to provide /usr/bin/tnameserv (tnameserv) in auto mode\n",
      "Setting up libgtk2.0-0:amd64 (2.24.32-1ubuntu1) ...\n",
      "Setting up libgail18:amd64 (2.24.32-1ubuntu1) ...\n",
      "Setting up openjdk-8-jdk-headless:amd64 (8u275-b01-0ubuntu1~18.04) ...\n",
      "update-alternatives: using /usr/lib/jvm/java-8-openjdk-amd64/bin/idlj to provide /usr/bin/idlj (idlj) in auto mode\n",
      "update-alternatives: using /usr/lib/jvm/java-8-openjdk-amd64/bin/wsimport to provide /usr/bin/wsimport (wsimport) in auto mode\n",
      "update-alternatives: using /usr/lib/jvm/java-8-openjdk-amd64/bin/jsadebugd to provide /usr/bin/jsadebugd (jsadebugd) in auto mode\n",
      "update-alternatives: using /usr/lib/jvm/java-8-openjdk-amd64/bin/native2ascii to provide /usr/bin/native2ascii (native2ascii) in auto mode\n",
      "update-alternatives: using /usr/lib/jvm/java-8-openjdk-amd64/bin/javah to provide /usr/bin/javah (javah) in auto mode\n",
      "update-alternatives: using /usr/lib/jvm/java-8-openjdk-amd64/bin/clhsdb to provide /usr/bin/clhsdb (clhsdb) in auto mode\n",
      "update-alternatives: using /usr/lib/jvm/java-8-openjdk-amd64/bin/xjc to provide /usr/bin/xjc (xjc) in auto mode\n",
      "update-alternatives: using /usr/lib/jvm/java-8-openjdk-amd64/bin/hsdb to provide /usr/bin/hsdb (hsdb) in auto mode\n",
      "update-alternatives: using /usr/lib/jvm/java-8-openjdk-amd64/bin/schemagen to provide /usr/bin/schemagen (schemagen) in auto mode\n",
      "update-alternatives: using /usr/lib/jvm/java-8-openjdk-amd64/bin/extcheck to provide /usr/bin/extcheck (extcheck) in auto mode\n",
      "update-alternatives: using /usr/lib/jvm/java-8-openjdk-amd64/bin/jhat to provide /usr/bin/jhat (jhat) in auto mode\n",
      "update-alternatives: using /usr/lib/jvm/java-8-openjdk-amd64/bin/wsgen to provide /usr/bin/wsgen (wsgen) in auto mode\n",
      "Setting up x11-utils (7.7+3build1) ...\n",
      "Setting up libgail-common:amd64 (2.24.32-1ubuntu1) ...\n",
      "Setting up libatk-wrapper-java (0.33.3-20ubuntu0.1) ...\n",
      "Setting up libgtk2.0-bin (2.24.32-1ubuntu1) ...\n",
      "Setting up libatk-wrapper-java-jni:amd64 (0.33.3-20ubuntu0.1) ...\n",
      "Setting up openjdk-8-jre:amd64 (8u275-b01-0ubuntu1~18.04) ...\n",
      "update-alternatives: using /usr/lib/jvm/java-8-openjdk-amd64/jre/bin/policytool to provide /usr/bin/policytool (policytool) in auto mode\n",
      "Setting up openjdk-8-jdk:amd64 (8u275-b01-0ubuntu1~18.04) ...\n",
      "update-alternatives: using /usr/lib/jvm/java-8-openjdk-amd64/bin/appletviewer to provide /usr/bin/appletviewer (appletviewer) in auto mode\n",
      "update-alternatives: using /usr/lib/jvm/java-8-openjdk-amd64/bin/jconsole to provide /usr/bin/jconsole (jconsole) in auto mode\n",
      "Processing triggers for man-db (2.8.3-2ubuntu0.1) ...\n",
      "Processing triggers for hicolor-icon-theme (0.17-2) ...\n",
      "Processing triggers for fontconfig (2.12.6-0ubuntu2) ...\n",
      "Processing triggers for mime-support (3.60ubuntu1) ...\n",
      "Processing triggers for libc-bin (2.27-3ubuntu1.2) ...\n",
      "/sbin/ldconfig.real: /usr/local/lib/python3.6/dist-packages/ideep4py/lib/libmkldnn.so.0 is not a symbolic link\n",
      "\n",
      "Collecting konlpy\n",
      "\u001b[?25l  Downloading https://files.pythonhosted.org/packages/85/0e/f385566fec837c0b83f216b2da65db9997b35dd675e107752005b7d392b1/konlpy-0.5.2-py2.py3-none-any.whl (19.4MB)\n",
      "\u001b[K     |████████████████████████████████| 19.4MB 115kB/s \n",
      "\u001b[?25hRequirement already satisfied: lxml>=4.1.0 in /usr/local/lib/python3.6/dist-packages (from konlpy) (4.2.6)\n",
      "Collecting colorama\n",
      "  Downloading https://files.pythonhosted.org/packages/44/98/5b86278fbbf250d239ae0ecb724f8572af1c91f4a11edf4d36a206189440/colorama-0.4.4-py2.py3-none-any.whl\n",
      "Collecting tweepy>=3.7.0\n",
      "  Downloading https://files.pythonhosted.org/packages/67/c3/6bed87f3b1e5ed2f34bd58bf7978e308c86e255193916be76e5a5ce5dfca/tweepy-3.10.0-py2.py3-none-any.whl\n",
      "Requirement already satisfied: numpy>=1.6 in /usr/local/lib/python3.6/dist-packages (from konlpy) (1.19.4)\n",
      "Collecting beautifulsoup4==4.6.0\n",
      "\u001b[?25l  Downloading https://files.pythonhosted.org/packages/9e/d4/10f46e5cfac773e22707237bfcd51bbffeaf0a576b0a847ec7ab15bd7ace/beautifulsoup4-4.6.0-py3-none-any.whl (86kB)\n",
      "\u001b[K     |████████████████████████████████| 92kB 13.7MB/s \n",
      "\u001b[?25hCollecting JPype1>=0.7.0\n",
      "\u001b[?25l  Downloading https://files.pythonhosted.org/packages/b7/21/9e2c0dbf9df856e6392a1aec1d18006c60b175aa4e31d351e8278a8a63c0/JPype1-1.2.0-cp36-cp36m-manylinux2010_x86_64.whl (453kB)\n",
      "\u001b[K     |████████████████████████████████| 460kB 39.9MB/s \n",
      "\u001b[?25hRequirement already satisfied: requests-oauthlib>=0.7.0 in /usr/local/lib/python3.6/dist-packages (from tweepy>=3.7.0->konlpy) (1.3.0)\n",
      "Requirement already satisfied: six>=1.10.0 in /usr/local/lib/python3.6/dist-packages (from tweepy>=3.7.0->konlpy) (1.15.0)\n",
      "Requirement already satisfied: requests[socks]>=2.11.1 in /usr/local/lib/python3.6/dist-packages (from tweepy>=3.7.0->konlpy) (2.23.0)\n",
      "Requirement already satisfied: typing-extensions; python_version < \"3.8\" in /usr/local/lib/python3.6/dist-packages (from JPype1>=0.7.0->konlpy) (3.7.4.3)\n",
      "Requirement already satisfied: oauthlib>=3.0.0 in /usr/local/lib/python3.6/dist-packages (from requests-oauthlib>=0.7.0->tweepy>=3.7.0->konlpy) (3.1.0)\n",
      "Requirement already satisfied: urllib3!=1.25.0,!=1.25.1,<1.26,>=1.21.1 in /usr/local/lib/python3.6/dist-packages (from requests[socks]>=2.11.1->tweepy>=3.7.0->konlpy) (1.24.3)\n",
      "Requirement already satisfied: certifi>=2017.4.17 in /usr/local/lib/python3.6/dist-packages (from requests[socks]>=2.11.1->tweepy>=3.7.0->konlpy) (2020.12.5)\n",
      "Requirement already satisfied: idna<3,>=2.5 in /usr/local/lib/python3.6/dist-packages (from requests[socks]>=2.11.1->tweepy>=3.7.0->konlpy) (2.10)\n",
      "Requirement already satisfied: chardet<4,>=3.0.2 in /usr/local/lib/python3.6/dist-packages (from requests[socks]>=2.11.1->tweepy>=3.7.0->konlpy) (3.0.4)\n",
      "Requirement already satisfied: PySocks!=1.5.7,>=1.5.6; extra == \"socks\" in /usr/local/lib/python3.6/dist-packages (from requests[socks]>=2.11.1->tweepy>=3.7.0->konlpy) (1.7.1)\n",
      "Installing collected packages: colorama, tweepy, beautifulsoup4, JPype1, konlpy\n",
      "  Found existing installation: tweepy 3.6.0\n",
      "    Uninstalling tweepy-3.6.0:\n",
      "      Successfully uninstalled tweepy-3.6.0\n",
      "  Found existing installation: beautifulsoup4 4.6.3\n",
      "    Uninstalling beautifulsoup4-4.6.3:\n",
      "      Successfully uninstalled beautifulsoup4-4.6.3\n",
      "Successfully installed JPype1-1.2.0 beautifulsoup4-4.6.0 colorama-0.4.4 konlpy-0.5.2 tweepy-3.10.0\n"
     ]
    }
   ],
   "source": [
    "!apt-get update\n",
    "!apt-get install g++ openjdk-8-jdk \n",
    "!pip3 install --target=$my_path konlpy"
   ]
  },
  {
   "cell_type": "markdown",
   "metadata": {
    "id": "tzLLDenIpucW"
   },
   "source": [
    "### 패키지 불러오기\n",
    "- 데이터 처리를 위한 모듈을 설정한다. \n"
   ]
  },
  {
   "cell_type": "code",
   "execution_count": null,
   "metadata": {
    "id": "16S6YQTdqMIr"
   },
   "outputs": [],
   "source": [
    "import os\n",
    "import re # 정규표현식\n",
    "import json\n",
    "\n",
    "import numpy as np\n",
    "import pandas as pd # 데이터 불러오기\n",
    "from tqdm import tqdm # Progress Bar\n",
    "\n",
    "from konlpy.tag import Okt # 한글 형태소"
   ]
  },
  {
   "cell_type": "markdown",
   "metadata": {
    "id": "KkdMjZVKqYDV"
   },
   "source": [
    "### 설정값 지정\n",
    "- 토큰들의 인덱스 값 지정을 하도록 한다. \n",
    "- 특별한 토큰의 의미는 아래와 같다. \n",
    "  + PAD: 어떤 의미도 없는 패딩 토큰\n",
    "  + SOS: 시작 토큰을 의미\n",
    "  + END: 종료 토큰을 의미\n",
    "  + UNK: 사전에 없는 단어를 의미\n"
   ]
  },
  {
   "cell_type": "code",
   "execution_count": null,
   "metadata": {
    "id": "uVrnNnLzsWyU"
   },
   "outputs": [],
   "source": [
    "FILTERS = \"([~.,!?\\\"':;)(])\" # 특수문자\n",
    "PAD = \"<PAD>\"\n",
    "STD = \"<SOS>\"\n",
    "END = \"<END>\"\n",
    "UNK = \"<UNK>\"\n",
    "\n",
    "PAD_INDEX = 0\n",
    "STD_INDEX = 1\n",
    "END_INDEX = 2\n",
    "UNK_INDEX = 3\n",
    "\n",
    "MARKER = [PAD, STD, END, UNK]\n",
    "CHANGE_FILTER = re.compile(FILTERS)\n",
    "\n",
    "MAX_SEQUENCE = 25"
   ]
  },
  {
   "cell_type": "markdown",
   "metadata": {
    "id": "6j85upI1sRn7"
   },
   "source": [
    "### 주요 함수 정의\n",
    "- 아래는 주요 함수에 대한 정의 부분이다.\n",
    "- 주석을 참고하기를 바란다. "
   ]
  },
  {
   "cell_type": "code",
   "execution_count": null,
   "metadata": {
    "id": "oEGT0zrwsu08"
   },
   "outputs": [],
   "source": [
    "def load_data(path):\n",
    "    # 판다스를 통해서 데이터를 불러온다.\n",
    "    data_df = pd.read_csv(path, header=0)\n",
    "    # 질문과 답변 열을 가져와 question과 answer에 넣는다.\n",
    "    question, answer = list(data_df['Q']), list(data_df['A'])\n",
    "\n",
    "    return question, answer\n",
    "\n",
    "\n",
    "def data_tokenizer(data):\n",
    "    # 토크나이징 해서 담을 배열 생성\n",
    "    words = []\n",
    "    for sentence in data:\n",
    "        # FILTERS = \"([~.,!?\\\"':;)(])\"\n",
    "        # 위 필터와 같은 값들을 정규화 표현식을\n",
    "        # 통해서 모두 \"\" 으로 변환 해주는 부분이다.\n",
    "        sentence = re.sub(CHANGE_FILTER, \"\", sentence)\n",
    "        for word in sentence.split():\n",
    "            words.append(word)\n",
    "    # 토그나이징과 정규표현식을 통해 만들어진\n",
    "    # 값들을 넘겨 준다.\n",
    "    return [word for word in words if word]\n",
    "\n",
    "\n",
    "def prepro_like_morphlized(data):\n",
    "    morph_analyzer = Okt()\n",
    "    result_data = list()\n",
    "    for seq in tqdm(data):\n",
    "        morphlized_seq = \" \".join(morph_analyzer.morphs(seq.replace(' ', '')))\n",
    "        result_data.append(morphlized_seq)\n",
    "\n",
    "    return result_data\n",
    "\n",
    "\n",
    "def load_vocabulary(path, vocab_path, tokenize_as_morph=False):\n",
    "    # 사전을 담을 배열 준비한다.\n",
    "    vocabulary_list = []\n",
    "    # 사전을 구성한 후 파일로 저장 진행한다.\n",
    "    # 그 파일의 존재 유무를 확인한다.\n",
    "    if not os.path.exists(vocab_path):\n",
    "        # 이미 생성된 사전 파일이 존재하지 않으므로\n",
    "        # 데이터를 가지고 만들어야 한다.\n",
    "        # 그래서 데이터가 존재 하면 사전을 만들기 위해서\n",
    "        # 데이터 파일의 존재 유무를 확인한다.\n",
    "        if (os.path.exists(path)):\n",
    "            # 데이터가 존재하니 판단스를 통해서\n",
    "            # 데이터를 불러오자\n",
    "            data_df = pd.read_csv(path, encoding='utf-8')\n",
    "            # 판다스의 데이터 프레임을 통해서\n",
    "            # 질문과 답에 대한 열을 가져 온다.\n",
    "            question, answer = list(data_df['Q']), list(data_df['A'])\n",
    "            if tokenize_as_morph:  # 형태소에 따른 토크나이져 처리\n",
    "                question = prepro_like_morphlized(question)\n",
    "                answer = prepro_like_morphlized(answer)\n",
    "            data = []\n",
    "            # 질문과 답변을 extend을\n",
    "            # 통해서 구조가 없는 배열로 만든다.\n",
    "            data.extend(question)\n",
    "            data.extend(answer)\n",
    "            # 토큰나이져 처리 하는 부분이다.\n",
    "            words = data_tokenizer(data)\n",
    "            # 공통적인 단어에 대해서는 모두\n",
    "            # 필요 없으므로 한개로 만들어 주기 위해서\n",
    "            # set해주고 이것들을 리스트로 만들어 준다.\n",
    "            words = list(set(words))\n",
    "            # 데이터 없는 내용중에 MARKER를 사전에\n",
    "            # 추가 하기 위해서 아래와 같이 처리 한다.\n",
    "            # 아래는 MARKER 값이며 리스트의 첫번째 부터\n",
    "            # 순서대로 넣기 위해서 인덱스 0에 추가한다.\n",
    "            # PAD = \"<PADDING>\"\n",
    "            # STD = \"<START>\"\n",
    "            # END = \"<END>\"\n",
    "            # UNK = \"<UNKNWON>\"\n",
    "            words[:0] = MARKER\n",
    "        # 사전을 리스트로 만들었으니 이 내용을\n",
    "        # 사전 파일을 만들어 넣는다.\n",
    "        with open(vocab_path, 'w', encoding='utf-8') as vocabulary_file:\n",
    "            for word in words:\n",
    "                vocabulary_file.write(word + '\\n')\n",
    "\n",
    "    # 사전 파일이 존재하면 여기에서\n",
    "    # 그 파일을 불러서 배열에 넣어 준다.\n",
    "    with open(vocab_path, 'r', encoding='utf-8') as vocabulary_file:\n",
    "        for line in vocabulary_file:\n",
    "            vocabulary_list.append(line.strip())\n",
    "\n",
    "    # 배열에 내용을 키와 값이 있는\n",
    "    # 딕셔너리 구조로 만든다.\n",
    "    char2idx, idx2char = make_vocabulary(vocabulary_list)\n",
    "    # 두가지 형태의 키와 값이 있는 형태를 리턴한다.\n",
    "    # (예) 단어: 인덱스 , 인덱스: 단어)\n",
    "    return char2idx, idx2char, len(char2idx)\n",
    "\n",
    "def make_vocabulary(vocabulary_list):\n",
    "    # 리스트를 키가 단어이고 값이 인덱스인\n",
    "    # 딕셔너리를 만든다.\n",
    "    char2idx = {char: idx for idx, char in enumerate(vocabulary_list)}\n",
    "    # 리스트를 키가 인덱스이고 값이 단어인\n",
    "    # 딕셔너리를 만든다.\n",
    "    idx2char = {idx: char for idx, char in enumerate(vocabulary_list)}\n",
    "    # 두개의 딕셔너리를 넘겨 준다.\n",
    "\n",
    "    # 예제, [안녕, 너는, 누구야]가 데이터로 들어오면\n",
    "    # word2idx는 {'안녕':0, '너는':1, '누구야':2}가 된다. \n",
    "    # idx2word는 {0:'안녕', 1:'너는', 2:'누구야'}가 된다.\n",
    "    return char2idx, idx2char\n",
    "\n",
    "\n",
    "def enc_processing(value, dictionary, tokenize_as_morph=False):\n",
    "    # 인덱스 값들을 가지고 있는\n",
    "    # 배열이다.(누적된다.)\n",
    "    sequences_input_index = []\n",
    "    # 하나의 인코딩 되는 문장의 길이를 가지고 있다.(누적된다.)\n",
    "    sequences_length = []\n",
    "    # 형태소 토크나이징 사용 유무\n",
    "    if tokenize_as_morph:\n",
    "        value = prepro_like_morphlized(value)\n",
    "\n",
    "    # 한줄씩 불어온다.\n",
    "    for sequence in value:\n",
    "        # FILTERS = \"([~.,!?\\\"':;)(])\"\n",
    "        # 정규화를 사용하여 필터에 들어 있는 값들을 \"\" 으로 치환 한다.\n",
    "        sequence = re.sub(CHANGE_FILTER, \"\", sequence)\n",
    "        # 하나의 문장을 인코딩 할때 가지고 있기 위한 배열이다.\n",
    "        sequence_index = []\n",
    "        # 문장을 스페이스 단위로 자르고 있다.\n",
    "        for word in sequence.split():\n",
    "            # 잘려진 단어들이 딕셔너리에 존재 하는지 보고\n",
    "            # 그 값을 가져와 sequence_index에 추가한다.\n",
    "            if dictionary.get(word) is not None:\n",
    "                sequence_index.extend([dictionary[word]])\n",
    "            # 잘려진 단어가 딕셔너리에 존재 하지 않는\n",
    "            # 경우 이므로 UNK(2)를 넣어 준다.\n",
    "            else:\n",
    "                sequence_index.extend([dictionary[UNK]])\n",
    "        # 문장 제한 길이보다 길어질 경우 뒤에 토큰을 자르고 있다.\n",
    "        if len(sequence_index) > MAX_SEQUENCE:\n",
    "            sequence_index = sequence_index[:MAX_SEQUENCE]\n",
    "        # 하나의 문장에 길이를 넣어주고 있다.\n",
    "        sequences_length.append(len(sequence_index))\n",
    "        # max_sequence_length보다 문장 길이가\n",
    "        # 작다면 빈 부분에 PAD(0)를 넣어준다.\n",
    "        sequence_index += (MAX_SEQUENCE - len(sequence_index)) * [dictionary[PAD]]\n",
    "        # 인덱스화 되어 있는 값을\n",
    "        # sequences_input_index에 넣어 준다.\n",
    "        sequences_input_index.append(sequence_index)\n",
    "    # 인덱스화된 일반 배열을 넘파이 배열로 변경한다.\n",
    "    # 이유는 텐서플로우 dataset에 넣어 주기 위한 사전 작업이다.\n",
    "    # 넘파이 배열에 인덱스화된 배열과 그 길이를 넘겨준다.\n",
    "\n",
    "    # 함수 로직 요약\n",
    "    # 우선, 정규 표현식을 활용하여 특수문자 모두 제거\n",
    "    # 만약 어떤 단어가 단어 사전에 포함돼 있지 않다면 UNK 토큰을 넣는다. \n",
    "    # 인코더 최대 길이가 5라고 가정하고 다음 예시를 참조한다. \n",
    "    # 인코더 최대 길이보다 긴 경우: \"안녕 우리 너무 오랜만에 만난거 같다.\"\n",
    "    # 인코더 최대 길이보다 긴 경우 입력값: 안녕, 우리, 너무, 오랜만에, 만난거\n",
    "    # 즉, \"같다.\"가 생략된 입력값이 만들어진다. '\n",
    "    # 그런데, 인코더 최대 길이보다 짧은 경우: \"안녕\"\n",
    "    # 인코더 최대 길이보다 짧은 경우 입력값: \"안녕, <PAD>, <PAD>, <PAD>, <PAD>, <PAD>\"\n",
    "    # 함수의 리턴값을 보면 2개의 값이 반환되는 것을 확인할 수 있다. \n",
    "    return np.asarray(sequences_input_index), sequences_length\n",
    "\n",
    "\n",
    "def dec_output_processing(value, dictionary, tokenize_as_morph=False):\n",
    "    # 인덱스 값들을 가지고 있는\n",
    "    # 배열이다.(누적된다)\n",
    "    sequences_output_index = []\n",
    "    # 하나의 디코딩 입력 되는 문장의\n",
    "    # 길이를 가지고 있다.(누적된다)\n",
    "    sequences_length = []\n",
    "    # 형태소 토크나이징 사용 유무\n",
    "    if tokenize_as_morph:\n",
    "        value = prepro_like_morphlized(value)\n",
    "    # 한줄씩 불어온다.\n",
    "    for sequence in value:\n",
    "        # FILTERS = \"([~.,!?\\\"':;)(])\"\n",
    "        # 정규화를 사용하여 필터에 들어 있는\n",
    "        # 값들을 \"\" 으로 치환 한다.\n",
    "        sequence = re.sub(CHANGE_FILTER, \"\", sequence)\n",
    "        # 하나의 문장을 디코딩 할때 가지고\n",
    "        # 있기 위한 배열이다.\n",
    "        sequence_index = []\n",
    "        # 디코딩 입력의 처음에는 START가 와야 하므로\n",
    "        # 그 값을 넣어 주고 시작한다.\n",
    "        # 문장에서 스페이스 단위별로 단어를 가져와서 딕셔너리의\n",
    "        # 값인 인덱스를 넣어 준다.\n",
    "        sequence_index = [dictionary[STD]] + [dictionary[word] if word in dictionary else dictionary[UNK] for word in sequence.split()]\n",
    "        # 문장 제한 길이보다 길어질 경우 뒤에 토큰을 자르고 있다.\n",
    "        if len(sequence_index) > MAX_SEQUENCE:\n",
    "            sequence_index = sequence_index[:MAX_SEQUENCE]\n",
    "        # 하나의 문장에 길이를 넣어주고 있다.\n",
    "        sequences_length.append(len(sequence_index))\n",
    "        # max_sequence_length보다 문장 길이가\n",
    "        # 작다면 빈 부분에 PAD(0)를 넣어준다.\n",
    "        sequence_index += (MAX_SEQUENCE - len(sequence_index)) * [dictionary[PAD]]\n",
    "        # 인덱스화 되어 있는 값을\n",
    "        # sequences_output_index 넣어 준다.\n",
    "        sequences_output_index.append(sequence_index)\n",
    "    # 인덱스화된 일반 배열을 넘파이 배열로 변경한다.\n",
    "    # 이유는 텐서플로우 dataset에 넣어 주기 위한\n",
    "    # 사전 작업이다.\n",
    "    # 넘파이 배열에 인덱스화된 배열과 그 길이를 넘겨준다.\n",
    "    return np.asarray(sequences_output_index), sequences_length\n",
    "\n",
    "\n",
    "def dec_target_processing(value, dictionary, tokenize_as_morph=False):\n",
    "    # 인덱스 값들을 가지고 있는\n",
    "    # 배열이다.(누적된다)\n",
    "    sequences_target_index = []\n",
    "    # 형태소 토크나이징 사용 유무\n",
    "    if tokenize_as_morph:\n",
    "        value = prepro_like_morphlized(value)\n",
    "    # 한줄씩 불어온다.\n",
    "    for sequence in value:\n",
    "        # FILTERS = \"([~.,!?\\\"':;)(])\"\n",
    "        # 정규화를 사용하여 필터에 들어 있는\n",
    "        # 값들을 \"\" 으로 치환 한다.\n",
    "        sequence = re.sub(CHANGE_FILTER, \"\", sequence)\n",
    "        # 문장에서 스페이스 단위별로 단어를 가져와서\n",
    "        # 딕셔너리의 값인 인덱스를 넣어 준다.\n",
    "        # 디코딩 출력의 마지막에 END를 넣어 준다.\n",
    "        sequence_index = [dictionary[word] if word in dictionary else dictionary[UNK] for word in sequence.split()]\n",
    "        # 문장 제한 길이보다 길어질 경우 뒤에 토큰을 자르고 있다.\n",
    "        # 그리고 END 토큰을 넣어 준다\n",
    "        if len(sequence_index) >= MAX_SEQUENCE:\n",
    "            sequence_index = sequence_index[:MAX_SEQUENCE - 1] + [dictionary[END]]\n",
    "        else:\n",
    "            sequence_index += [dictionary[END]]\n",
    "        # max_sequence_length보다 문장 길이가\n",
    "        # 작다면 빈 부분에 PAD(0)를 넣어준다.\n",
    "        sequence_index += (MAX_SEQUENCE - len(sequence_index)) * [dictionary[PAD]]\n",
    "        # 인덱스화 되어 있는 값을\n",
    "        # sequences_target_index에 넣어 준다.\n",
    "        sequences_target_index.append(sequence_index)\n",
    "    # 인덱스화된 일반 배열을 넘파이 배열로 변경한다.\n",
    "    # 이유는 텐서플로우 dataset에 넣어 주기 위한 사전 작업이다.\n",
    "    # 넘파이 배열에 인덱스화된 배열과 그 길이를 넘겨준다.\n",
    "    return np.asarray(sequences_target_index)"
   ]
  },
  {
   "cell_type": "markdown",
   "metadata": {
    "id": "PWAR-yTT0Kkw"
   },
   "source": [
    "## 데이터 전처리 실전\n",
    "- 이제 데이터 처리를 진행한다."
   ]
  },
  {
   "cell_type": "code",
   "execution_count": null,
   "metadata": {
    "colab": {
     "base_uri": "https://localhost:8080/"
    },
    "executionInfo": {
     "elapsed": 143381,
     "status": "ok",
     "timestamp": 1608977835490,
     "user": {
      "displayName": "Ji-hoon Jung",
      "photoUrl": "",
      "userId": "03169308685755834042"
     },
     "user_tz": -540
    },
    "id": "4KEDFxG023du",
    "outputId": "625e97d4-a854-4342-f021-222e9e0ada6b"
   },
   "outputs": [
    {
     "name": "stderr",
     "output_type": "stream",
     "text": [
      "100%|██████████| 11823/11823 [00:37<00:00, 312.78it/s]\n",
      "100%|██████████| 11823/11823 [00:36<00:00, 328.27it/s]\n",
      "100%|██████████| 11823/11823 [00:35<00:00, 333.35it/s]\n"
     ]
    }
   ],
   "source": [
    "PATH = 'data_in/ChatBotData.csv'\n",
    "VOCAB_PATH = 'data_in/vocabulary.txt'\n",
    "\n",
    "inputs, outputs = load_data(PATH)\n",
    "char2idx, idx2char, vocab_size = load_vocabulary(PATH, VOCAB_PATH, tokenize_as_morph=True)\n",
    "index_inputs, input_seq_len = enc_processing(inputs, char2idx, tokenize_as_morph=True)\n",
    "index_outputs, output_seq_len = dec_output_processing(outputs, char2idx, tokenize_as_morph=True)\n",
    "index_targets = dec_target_processing(outputs, char2idx, tokenize_as_morph=True)"
   ]
  },
  {
   "cell_type": "markdown",
   "metadata": {
    "id": "z-sOCYtn3KBA"
   },
   "source": [
    "- 먼저, `load_data` 함수로 학습 데이터를 불러온다. \n",
    "- 그리고 `load_vocabulary` 함수로 단어 사전을 `char2idx`, `idx2char`로 만든다. \n",
    "- 마지막으로, `tokenize_as_morph` 파라미터를 통해 토크나이즈를 띄어쓰기 단위로 할지 형태소 단위로 할지 결정한다. \n",
    "  + 만약, `tokenize_as_morph`를 `False`로 설정하면 띄어쓰기 단위로 토크나이즈 한다. \n",
    "- 위 작업이 단어 사전을 만드는 과정으로 이해하면 된다. \n",
    "- 단어 사전까지 만들면 `enc_processing`과 `dec_output_processing`, `dec_target_processing` 함수를 통해 모델에 학습할 인덱스 데이터를 구성한다. "
   ]
  },
  {
   "cell_type": "code",
   "execution_count": null,
   "metadata": {
    "id": "FJ7h9rGJ4aL-"
   },
   "outputs": [],
   "source": [
    "data_configs = {}\n",
    "data_configs['char2idx'] = char2idx\n",
    "data_configs['idx2char'] = idx2char\n",
    "data_configs['vocab_size'] = vocab_size\n",
    "data_configs['pad_symbol'] = PAD\n",
    "data_configs['std_symbol'] = STD\n",
    "data_configs['end_symbol'] = END\n",
    "data_configs['unk_symbol'] = UNK"
   ]
  },
  {
   "cell_type": "markdown",
   "metadata": {
    "id": "UiavEVlI4hCS"
   },
   "source": [
    "- 인덱스 데이터를 모두 구성하고 나면 모델 학습할 때와 모델 추론에 활용하기 위해 단어 사전을 저장할 수 있도록 구성한다. \n",
    "- 여기에서는 단어 사전과 특별한 토큰들을 각각 정의해서 딕셔너리 객체에 저장하도록 한다. \n",
    "- 각 인덱스 데이터와 단어사전을 구성한 딕셔너리 객체를 `NumPy`와 `json` 형식으로 저장한다. "
   ]
  },
  {
   "cell_type": "code",
   "execution_count": null,
   "metadata": {
    "id": "NeM_5ZTh4rlE"
   },
   "outputs": [],
   "source": [
    "DATA_IN_PATH = './data_in/'\n",
    "TRAIN_INPUTS = 'train_inputs.npy'\n",
    "TRAIN_OUTPUTS = 'train_outputs.npy'\n",
    "TRAIN_TARGETS = 'train_targets.npy'\n",
    "DATA_CONFIGS = 'data_configs.json'\n",
    "\n",
    "np.save(open(DATA_IN_PATH + TRAIN_INPUTS, 'wb'), index_inputs)\n",
    "np.save(open(DATA_IN_PATH + TRAIN_OUTPUTS , 'wb'), index_outputs)\n",
    "np.save(open(DATA_IN_PATH + TRAIN_TARGETS , 'wb'), index_targets)\n",
    "\n",
    "json.dump(data_configs, open(DATA_IN_PATH + DATA_CONFIGS, 'w'))"
   ]
  },
  {
   "cell_type": "markdown",
   "metadata": {
    "id": "5E72ZtjH6SFW"
   },
   "source": [
    "### 결과값 확인\n",
    "- 위 코드의 결과값을 확인하도록 한다. "
   ]
  },
  {
   "cell_type": "code",
   "execution_count": null,
   "metadata": {
    "colab": {
     "base_uri": "https://localhost:8080/"
    },
    "executionInfo": {
     "elapsed": 145125,
     "status": "ok",
     "timestamp": 1608977837251,
     "user": {
      "displayName": "Ji-hoon Jung",
      "photoUrl": "",
      "userId": "03169308685755834042"
     },
     "user_tz": -540
    },
    "id": "Z87H77jT6W9q",
    "outputId": "026fd9fc-a760-41ba-f572-4de903adedcb"
   },
   "outputs": [
    {
     "name": "stdout",
     "output_type": "stream",
     "text": [
      "<SOS> is in the position 1\n",
      "<END> is in the position 2\n",
      "<UNK> is in the position 3\n",
      "들었나 is in the position 4\n",
      "보고싶으면 is in the position 5\n",
      "<PAD> is in the position 6\n"
     ]
    }
   ],
   "source": [
    "topList = ['','','','','','']\n",
    "counter = 0\n",
    "\n",
    "for char in char2idx:\n",
    "\n",
    "  # char position 확인\n",
    "  char_pos = char2idx[char]\n",
    "\n",
    "  # 인덱스 value를 저장한다. \n",
    "  if(char_pos < 10):\n",
    "    topList[char_pos-1] = char\n",
    "    counter = counter + 1\n",
    "\n",
    "  # 6이 되면 for-loop를 종료 시킨다. \n",
    "  if (counter == 6):\n",
    "    break\n",
    "\n",
    "# char top3 확인\n",
    "for n in range(0,6):\n",
    "  print(\"%s is in the position %s\" %(topList[n],n+1))"
   ]
  },
  {
   "cell_type": "code",
   "execution_count": null,
   "metadata": {
    "colab": {
     "base_uri": "https://localhost:8080/"
    },
    "executionInfo": {
     "elapsed": 145118,
     "status": "ok",
     "timestamp": 1608977837252,
     "user": {
      "displayName": "Ji-hoon Jung",
      "photoUrl": "",
      "userId": "03169308685755834042"
     },
     "user_tz": -540
    },
    "id": "7Mx_ggwR7mxz",
    "outputId": "4da6415a-7939-47cc-cf4f-cdd8ee73556d"
   },
   "outputs": [
    {
     "name": "stdout",
     "output_type": "stream",
     "text": [
      "<PAD> is in the position 1\n",
      "<SOS> is in the position 2\n",
      "<END> is in the position 3\n",
      "<UNK> is in the position 4\n",
      "들었나 is in the position 5\n",
      "보고싶으면 is in the position 6\n"
     ]
    }
   ],
   "source": [
    "counter = 0\n",
    "for idx in idx2char:\n",
    "  counter = counter + 1\n",
    "  print(idx2char[idx], \"is in the position\", counter)\n",
    "  if (counter == 6):\n",
    "    break\n"
   ]
  },
  {
   "cell_type": "markdown",
   "metadata": {
    "id": "jXiRs_RQ42dT"
   },
   "source": [
    "### 파일 확인\n",
    "- 실제 인덱스 데이터와 단어사전을 구성한 딕셔너리 객체가 `numpy`와 `json`형식으로 저장되었는지 확인해본다. "
   ]
  },
  {
   "cell_type": "code",
   "execution_count": null,
   "metadata": {
    "colab": {
     "base_uri": "https://localhost:8080/"
    },
    "executionInfo": {
     "elapsed": 145112,
     "status": "ok",
     "timestamp": 1608977837254,
     "user": {
      "displayName": "Ji-hoon Jung",
      "photoUrl": "",
      "userId": "03169308685755834042"
     },
     "user_tz": -540
    },
    "id": "t5z_FkR2_Xf_",
    "outputId": "c4c4812b-9082-4028-f8ff-bb113f0e1a48"
   },
   "outputs": [
    {
     "name": "stdout",
     "output_type": "stream",
     "text": [
      "ChatBotData.csv        data_configs.json  train_inputs.npy   train_targets.npy\n",
      "ChatBotData.csv_short  NanumGothic.ttf\t  train_outputs.npy  vocabulary.txt\n"
     ]
    }
   ],
   "source": [
    "!ls \"{DATA_IN_PATH}\""
   ]
  },
  {
   "cell_type": "markdown",
   "metadata": {
    "id": "pMfG7abz_f0x"
   },
   "source": [
    "## 모델 구현\n",
    "- 이제 모델을 구현하는 코드를 작성한다. "
   ]
  },
  {
   "cell_type": "markdown",
   "metadata": {
    "id": "UBGkqaBJACbe"
   },
   "source": [
    "### 모듈 불러오기\n",
    "- 딥러닝 모델 구현을 위한 모듈을 불러온다. "
   ]
  },
  {
   "cell_type": "code",
   "execution_count": null,
   "metadata": {
    "id": "COVvoqKTAKJm"
   },
   "outputs": [],
   "source": [
    "import tensorflow as tf\n",
    "from tensorflow.keras.callbacks import EarlyStopping, ModelCheckpoint\n",
    "import matplotlib.pyplot as plt # 시각화"
   ]
  },
  {
   "cell_type": "code",
   "execution_count": null,
   "metadata": {
    "id": "2oMDRcleASAF"
   },
   "outputs": [],
   "source": [
    "def plot_graphs(history, string):\n",
    "  plt.plot(history.history[string])\n",
    "  plt.plot(history.history['val_'+string], '')\n",
    "  plt.xlabel(\"Epochs\")\n",
    "  plt.ylabel(string)\n",
    "  plt.legend([string], 'val_'+string)\n",
    "  plt.show()"
   ]
  },
  {
   "cell_type": "markdown",
   "metadata": {
    "id": "W_-svWUqAoH3"
   },
   "source": [
    "### 기본 설정\n",
    "- 먼저 학습 데이터의 경로 정의한다. \n",
    "- 랜덤 시드를 고정한다.\n",
    "- 각각의 파일을 불러온다. \n",
    "- 모델 만들기에 필요한 값을 선언한다. "
   ]
  },
  {
   "cell_type": "code",
   "execution_count": null,
   "metadata": {
    "colab": {
     "base_uri": "https://localhost:8080/"
    },
    "executionInfo": {
     "elapsed": 147844,
     "status": "ok",
     "timestamp": 1608977840004,
     "user": {
      "displayName": "Ji-hoon Jung",
      "photoUrl": "",
      "userId": "03169308685755834042"
     },
     "user_tz": -540
    },
    "id": "HUCZURNDBSoP",
    "outputId": "7ed79f79-06df-4714-94ed-af2d00cb3b18"
   },
   "outputs": [
    {
     "name": "stdout",
     "output_type": "stream",
     "text": [
      "11823 11823 11823\n"
     ]
    }
   ],
   "source": [
    "# 학습 데이터 경로 정의\n",
    "DATA_IN_PATH = './data_in/'\n",
    "DATA_OUT_PATH = './data_out/'\n",
    "TRAIN_INPUTS = 'train_inputs.npy'\n",
    "TRAIN_OUTPUTS = 'train_outputs.npy'\n",
    "TRAIN_TARGETS = 'train_targets.npy'\n",
    "DATA_CONFIGS = 'data_configs.json'\n",
    "\n",
    "# 랜덤 시드 고정\n",
    "SEED_NUM = 1234\n",
    "tf.random.set_seed(SEED_NUM)\n",
    "\n",
    "# 입력 파일 불러오기\n",
    "index_inputs = np.load(open(DATA_IN_PATH + TRAIN_INPUTS, 'rb'))\n",
    "index_outputs = np.load(open(DATA_IN_PATH + TRAIN_OUTPUTS , 'rb'))\n",
    "index_targets = np.load(open(DATA_IN_PATH + TRAIN_TARGETS , 'rb'))\n",
    "prepro_configs = json.load(open(DATA_IN_PATH + DATA_CONFIGS, 'r'))\n",
    "\n",
    "# 길이 확인하기\n",
    "print(len(index_inputs),  len(index_outputs), len(index_targets))"
   ]
  },
  {
   "cell_type": "markdown",
   "metadata": {
    "id": "DsJ9WOYKBnqY"
   },
   "source": [
    "### 모델 구성하는 데 필요한 값 선언\n",
    "- 배치 크기, 에폭 횟수, 재귀 신경망의 결과 차원, 임베딩 차원, 전체 데이터셋 크기에서 평가셋의 크기 비율 등을 선언한다. "
   ]
  },
  {
   "cell_type": "code",
   "execution_count": null,
   "metadata": {
    "id": "hHKJwwduCbAR"
   },
   "outputs": [],
   "source": [
    "MODEL_NAME = 'seq2seq_kor'\n",
    "BATCH_SIZE = 2\n",
    "MAX_SEQUENCE = 25\n",
    "EPOCH = 30\n",
    "UNITS = 1024\n",
    "EMBEDDING_DIM = 256\n",
    "VALIDATION_SPLIT = 0.1 \n",
    "\n",
    "char2idx = prepro_configs['char2idx']\n",
    "idx2char = prepro_configs['idx2char']\n",
    "std_index = prepro_configs['std_symbol']\n",
    "end_index = prepro_configs['end_symbol']\n",
    "vocab_size = prepro_configs['vocab_size']"
   ]
  },
  {
   "cell_type": "markdown",
   "metadata": {
    "id": "0SQpb60VCci_"
   },
   "source": [
    "### 인코더 클래스 구현\n",
    "- 소스코드 설명은 주석을 참고한다.  "
   ]
  },
  {
   "cell_type": "code",
   "execution_count": null,
   "metadata": {
    "id": "tvLj0CWBCm-a"
   },
   "outputs": [],
   "source": [
    "class Encoder(tf.keras.layers.Layer):\n",
    "\n",
    "    # 임베딩 룩업 테이블과 GRU를 구성하기 위한 인자를 입력으로 받는다. \n",
    "    # 배치크기, 재귀 신경망의 결과 차원(enc_units), 사전 크기(vocab_size), 임베딩 차원(embedding_dim)\n",
    "    def __init__(self, vocab_size, embedding_dim, enc_units, batch_sz):\n",
    "        super(Encoder, self).__init__()\n",
    "        self.batch_sz = batch_sz\n",
    "        self.enc_units = enc_units\n",
    "        self.vocab_size = vocab_size \n",
    "        self.embedding_dim = embedding_dim          \n",
    "        \n",
    "        # 사전에 포함된 각 단어를 self.embedding_dim 차원의 임베딩 벡터로 만든다. \n",
    "        self.embedding = tf.keras.layers.Embedding(self.vocab_size, self.embedding_dim)\n",
    "\n",
    "        # GRU 신경망을 만드는 부분이다. \n",
    "        # self.enc_units는 GRU의 결과 차원의 크기라고 이야기할 수 있다. \n",
    "        # return_sequences는 각 시퀀스마다 출력을 반환할지 여부를 결정한다. \n",
    "        # return_state는 마지막 상태 값의 반환 여부를 의미한다. \n",
    "        # recurrent_initializer에는 초기값으로 무엇을 할 수 있는지 설정할 수 있다. \n",
    "        ## 이 때 glorot_uniform은 Xavier 초기화라고 부른다. \n",
    "        self.gru = tf.keras.layers.GRU(self.enc_units,\n",
    "                                       return_sequences=True,\n",
    "                                       return_state=True,\n",
    "                                       recurrent_initializer='glorot_uniform')\n",
    "        \n",
    "    # 입력값 x와 은닉 상태 hidden을 받는다. \n",
    "    # __init__ 함수를 통해 `x`값을 임베딩 벡터로 만든다. \n",
    "    # gru 함수에 임베딩 벡터와 재귀 순환망의 초기화 상태로 인자로 받은 은식 상태를 전달하고, 결괏값으로 시퀀스의 출력값과 마지막 상태값을 리턴한다.\n",
    "    def call(self, x, hidden):\n",
    "        x = self.embedding(x)\n",
    "        output, state = self.gru(x, initial_state = hidden)\n",
    "        return output, state\n",
    "\n",
    "    # 배치 크기를 받아 재귀 순환망에 초기에 사용될 크기의 은닉 상태를 만드는 역할을 함\n",
    "    def initialize_hidden_state(self, inp):\n",
    "        return tf.zeros((tf.shape(inp)[0], self.enc_units))"
   ]
  },
  {
   "cell_type": "markdown",
   "metadata": {
    "id": "FC9PpDG4rFA4"
   },
   "source": [
    "### 어텐션 클래스 구현\n",
    "- 그런데, 기존 RNN 모델은 장기 의존성 문제가 발생할 수 있는 문제점으로 지적됐다. 따라서, 어텐션 소스코드를 추가한다.\n",
    "- 기존의 시퀀스 투 시퀀스는 인코더의 고정된 문맥 벡터가 디코더로 전달된다고 할 때, 어텐션이 추가된 방법은 은닉 상태의 값을 통해 어텐션을 계산하고 디코더의 각 시퀀스 스텝마다 계산된 어텐션을 입력으로 넣는다. \n",
    "- 즉, 어텐션도 함께 학습을 진행하게 되며 학습을 통해 디코더의 각 시퀀스 스텝마다 어텐션의 가중치는 다르게 적용된다. "
   ]
  },
  {
   "cell_type": "code",
   "execution_count": null,
   "metadata": {
    "id": "u92_4lf9sS56"
   },
   "outputs": [],
   "source": [
    "class BahdanauAttention(tf.keras.layers.Layer):\n",
    "\n",
    "    # 출력 벡터의 크기를 인자로 받는다. \n",
    "    # 출력 크기가 units 크기인 W1과 W2, 출력크기가 1인 V의 완전 연결 계층을 만든다.\n",
    "    def __init__(self, units):\n",
    "        super(BahdanauAttention, self).__init__()\n",
    "        self.W1 = tf.keras.layers.Dense(units)\n",
    "        self.W2 = tf.keras.layers.Dense(units)\n",
    "        self.V = tf.keras.layers.Dense(1)\n",
    "\n",
    "    def call(self, query, values):\n",
    "        # query는 인코더 재귀 순환망의 은닉층의 상태 값이다. \n",
    "        # values은 인코더 재귀 순환망의 결과값이다. \n",
    "        # query를 W2에 행렬곱을 할 수 있는 형태로를 만든다.\n",
    "        hidden_with_time_axis = tf.expand_dims(query, 1)\n",
    "\n",
    "        # W1과 W2의 결괏값의 요소를 각각 더하고 하이퍼볼릭 탄젠트 활성함수를 통과한 값을 V에 행렬곱하면 1차원의 벡터값이 출력된다. \n",
    "        # 모델 훈련 중 W1, W2, V 가중치들은 학습된다. \n",
    "        score = self.V(tf.nn.tanh(\n",
    "            self.W1(values) + self.W2(hidden_with_time_axis)))\n",
    "        \n",
    "        # 소프트맥스 함수를 통과시켜 어텐션 가중치를 얻는데, \n",
    "        # attention_weights 값을 value, 즉 순환신경망 결괏값에 행렬 곱을 하게 되면 \n",
    "        # 1에 가까운 값에 위치한 value 값은 커지고, 0에 가까운 값에 위치한 value 값은 작아진다. \n",
    "        attention_weights = tf.nn.softmax(score, axis=1)\n",
    "        context_vector = attention_weights * values\n",
    "        context_vector = tf.reduce_sum(context_vector, axis=1)\n",
    "\n",
    "        # 인코더 순환 신경망의 결괏값을 어텐션 방법을 적용해 가중치를 계산해서 가중치가 적용된 새로운 인코더 순환 신경망의 결괏값을 만들어내서 디코더에 전달하게 된다. \n",
    "        # 이 때 Attention 클래스에 포함된 W1, W2, V는 학습을 통해 값들이 최적화되며, 기존 시퀀스 투 시퀀스의 문제를 해결하는 방법론이 적용된다. \n",
    "        return context_vector, attention_weights"
   ]
  },
  {
   "cell_type": "markdown",
   "metadata": {
    "id": "e6ZqT938yq3u"
   },
   "source": [
    "### 디코더 클래스 구현\n",
    "- 이번에는 디코더 클래스를 구현하도록 한다. "
   ]
  },
  {
   "cell_type": "code",
   "execution_count": null,
   "metadata": {
    "id": "8vyyf0bRy1Xv"
   },
   "outputs": [],
   "source": [
    "class Decoder(tf.keras.layers.Layer):\n",
    "\n",
    "    # Encoder 클래스와 유사하기 때문에 다른 부분만 확인한다. \n",
    "    def __init__(self, vocab_size, embedding_dim, dec_units, batch_sz):\n",
    "        super(Decoder, self).__init__()\n",
    "        \n",
    "        self.batch_sz = batch_sz\n",
    "        self.dec_units = dec_units\n",
    "        self.vocab_size = vocab_size \n",
    "        self.embedding_dim = embedding_dim  \n",
    "        self.embedding = tf.keras.layers.Embedding(self.vocab_size, self.embedding_dim)\n",
    "        self.gru = tf.keras.layers.GRU(self.dec_units,\n",
    "                                       return_sequences=True,\n",
    "                                       return_state=True,\n",
    "                                       recurrent_initializer='glorot_uniform')\n",
    "        self.fc = tf.keras.layers.Dense(self.vocab_size)\n",
    "\n",
    "        # 출력 값이 사전 크기인 완전 연결 계층 fc를 만들고 BahdanauAttention 생성한다. \n",
    "        self.attention = BahdanauAttention(self.dec_units)\n",
    "        \n",
    "    def call(self, x, hidden, enc_output):\n",
    "\n",
    "        # 디코더의 입력값 x와 인코더의 은닉 상태 값 hidden, 인코더의 결괏값을 인자로 받는다. \n",
    "        # self.attention을 호출하면 BahdanauAttention 클래스의 call 함수가 호출되고, \n",
    "        # BahdanauAttention 클래스에서 설명한 값에 따라 어텐션이 계산된 문맥 벡터(context_vector)를 돌려 받는다. \n",
    "        context_vector, attention_weights = self.attention(hidden, enc_output)\n",
    "\n",
    "        # 디코더의 입력값을 self.embedding 함수를 통해 임베딩 벡터를 받고 문맥 벡터와 임베딩 벡터를 결합해 x를 구성한다. \n",
    "        x = self.embedding(x)\n",
    "        x = tf.concat([tf.expand_dims(context_vector, 1), x], axis=-1)\n",
    "\n",
    "        # 디코더 순환 신경망을 통과해서 순환 신경망의 결괏값(output)을 얻게 되고, 이 값을 완전 연결 계층(Fully-Connected Layer)을 통과한다. \n",
    "        output, state = self.gru(x)\n",
    "        output = tf.reshape(output, (-1, output.shape[2]))\n",
    "            \n",
    "        # 그리고, 최종적으로 사전 크기의 벡터 x를 만든다. \n",
    "        x = self.fc(output)\n",
    "        \n",
    "        return x, state, attention_weights"
   ]
  },
  {
   "cell_type": "markdown",
   "metadata": {
    "id": "5L7F_uLq40Sz"
   },
   "source": [
    "### 손실 함수와 정확도 측정 함수\n",
    "- 딥러닝의 손실 함수 및 평가를 측정하기 위한 함수 코드를 작성한다. "
   ]
  },
  {
   "cell_type": "code",
   "execution_count": null,
   "metadata": {
    "id": "kB6qlQI15BKi"
   },
   "outputs": [],
   "source": [
    "# 최적화로 아담을 사용한다. \n",
    "optimizer = tf.keras.optimizers.Adam()\n",
    "\n",
    "# 크로스 엔트로피로 손실 값을 측정하기 위한 객체(loss_object)\n",
    "loss_object = tf.keras.losses.SparseCategoricalCrossentropy(from_logits=True, reduction='none')\n",
    "\n",
    "# 정확도 측정을 위한 객체 생성한다. \n",
    "train_accuracy = tf.keras.metrics.SparseCategoricalAccuracy(name='accuracy')\n",
    "\n",
    "# loss 함수는 인자로 정답과 예측한 값을 받아서 두 개의 값을 비교해서 손실을 계산한다. \n",
    "# real 값 중 0인 값 <PAD>는 손실 계산해서 빼기 위한 함수다.\n",
    "def loss(real, pred):\n",
    "    # 정답 real에 포함되는 값 중 0인 것은 <PAD>를 의미한다. \n",
    "    # 해당 값은 True(1)가 되고, <PAD>를 제외한 나머지 값들은 False(0)가 된다.\n",
    "    # 이 때, logical_not 함수를 적용하면 각 요소들의 값은 0에서 1로, 1에서 0으로 변경된다. \n",
    "    mask = tf.math.logical_not(tf.math.equal(real, 0))\n",
    "\n",
    "    loss_ = loss_object(real, pred)\n",
    "    mask = tf.cast(mask, dtype=loss_.dtype)\n",
    "\n",
    "    # 이렇게 변경된 값을 loss_ *= mask에 요소 간에 곱을 해주면 <PAD> 부분들은 loss_계산에서 빠진다. \n",
    "    loss_ *= mask\n",
    "    return tf.reduce_mean(loss_)\n",
    "\n",
    "def accuracy(real, pred):\n",
    "    mask = tf.math.logical_not(tf.math.equal(real, 0))\n",
    "    mask = tf.expand_dims(tf.cast(mask, dtype=pred.dtype), axis=-1)\n",
    "\n",
    "    # 정확도 측정에서 빠진다. \n",
    "    pred *= mask    \n",
    "    acc = train_accuracy(real, pred)\n",
    "\n",
    "    return tf.reduce_mean(acc)"
   ]
  },
  {
   "cell_type": "markdown",
   "metadata": {
    "id": "TucURq8J5lJ4"
   },
   "source": [
    "### seq2seq 클래스 구현\n",
    "- 각각 분리돼 있는 각각의 클래스를 이어주는 메인 클래스로 볼 수 있다. "
   ]
  },
  {
   "cell_type": "code",
   "execution_count": null,
   "metadata": {
    "id": "bP7KFikZ6gvH"
   },
   "outputs": [],
   "source": [
    "class seq2seq(tf.keras.Model):\n",
    "\n",
    "    # Encoder 클래스를 생성할 때 필요한 값과 Decoder 클래스를 생성할 때 필요한 인자값을 받는다. \n",
    "    def __init__(self, vocab_size, embedding_dim, enc_units, dec_units, batch_sz, end_token_idx=2):    \n",
    "        super(seq2seq, self).__init__()\n",
    "        self.end_token_idx = end_token_idx\n",
    "        self.encoder = Encoder(vocab_size, embedding_dim, enc_units, batch_sz) \n",
    "        self.decoder = Decoder(vocab_size, embedding_dim, dec_units, batch_sz) \n",
    "\n",
    "    # 인코더의 입력값과 디코더의 입력값을 x를 통해 받는다. \n",
    "    def call(self, x):\n",
    "        inp, tar = x\n",
    "        \n",
    "        # self encoder를 통해 인코더 결괏값과 인코더 은닉 상태값을 만든다. \n",
    "        enc_hidden = self.encoder.initialize_hidden_state(inp)\n",
    "        enc_output, enc_hidden = self.encoder(inp, enc_hidden)\n",
    "        dec_hidden = enc_hidden\n",
    "\n",
    "        predict_tokens = list()\n",
    "        for t in range(0, tar.shape[1]):\n",
    "            dec_input = tf.dtypes.cast(tf.expand_dims(tar[:, t], 1), tf.float32) \n",
    "\n",
    "            # 디코더는 시퀀스 최대 길이만큼 반복하면서 디코더의 출력값을 만들어낸다. \n",
    "            # 또한, 시퀀스마다 나온 결괏값을 리스트(predict_tokens)에 넣어 손실 계산 또는 정확도를 계산하는 용도로 사용한다.\n",
    "            predictions, dec_hidden, _ = self.decoder(dec_input, dec_hidden, enc_output)\n",
    "            predict_tokens.append(tf.dtypes.cast(predictions, tf.float32))   \n",
    "        return tf.stack(predict_tokens, axis=1)\n",
    "    \n",
    "    # 사용자의 입력에 대한 모델의 결괏값을 확인하기 위해 테스트 목적으로 만들어진 함수\n",
    "    # 하나의 배치만 동작하도록 돼 있ㅇ며, `<END>` 토큰을 만나면 반복문을 멈춘다. \n",
    "    def inference(self, x):\n",
    "        inp  = x\n",
    "        enc_hidden = self.encoder.initialize_hidden_state(inp)\n",
    "        enc_output, enc_hidden = self.encoder(inp, enc_hidden)\n",
    "\n",
    "        dec_hidden = enc_hidden\n",
    "        \n",
    "        dec_input = tf.expand_dims([char2idx[std_index]], 1)\n",
    "        \n",
    "        predict_tokens = list()\n",
    "        for t in range(0, MAX_SEQUENCE):\n",
    "            predictions, dec_hidden, _ = self.decoder(dec_input, dec_hidden, enc_output)\n",
    "            predict_token = tf.argmax(predictions[0])\n",
    "            \n",
    "            if predict_token == self.end_token_idx:\n",
    "                break\n",
    "            \n",
    "            predict_tokens.append(predict_token)\n",
    "            dec_input = tf.dtypes.cast(tf.expand_dims([predict_token], 0), tf.float32)   \n",
    "            \n",
    "        return tf.stack(predict_tokens, axis=0).numpy()"
   ]
  },
  {
   "cell_type": "markdown",
   "metadata": {
    "id": "Ah0TuAfj7y2G"
   },
   "source": [
    "## 모델 학습 및 시각화\n",
    "- 모델 학습 및 학습 결과에 대한 시각화 코드를 작성한다. "
   ]
  },
  {
   "cell_type": "markdown",
   "metadata": {
    "id": "iIX8_53D869d"
   },
   "source": [
    "### 모형 학습\n",
    "- seq2seq 객체를 생성하고, `compile` 함수를 통해 학습 방식을 설정한다. \n",
    "- 이 때의 설정은 손실 함수, 최적화 함수, 성능 측정 함수 등을 설정한다. \n"
   ]
  },
  {
   "cell_type": "code",
   "execution_count": null,
   "metadata": {
    "colab": {
     "base_uri": "https://localhost:8080/"
    },
    "executionInfo": {
     "elapsed": 26018993,
     "status": "ok",
     "timestamp": 1609003711177,
     "user": {
      "displayName": "Ji-hoon Jung",
      "photoUrl": "",
      "userId": "03169308685755834042"
     },
     "user_tz": -540
    },
    "id": "s0uf0Ka275Do",
    "outputId": "008df454-d896-4629-9ce0-4cd3deefb440"
   },
   "outputs": [
    {
     "name": "stdout",
     "output_type": "stream",
     "text": [
      "Epoch 1/30\n",
      "5320/5320 [==============================] - 942s 171ms/step - loss: 1.4983 - accuracy: 0.8118 - val_loss: 1.6116 - val_accuracy: 0.8104\n",
      "\n",
      "Epoch 00001: val_accuracy improved from -inf to 0.81044, saving model to ./data_out/seq2seq_kor/weights.h5\n",
      "Epoch 2/30\n",
      "5320/5320 [==============================] - 895s 168ms/step - loss: 1.2172 - accuracy: 0.8122 - val_loss: 1.5745 - val_accuracy: 0.8183\n",
      "\n",
      "Epoch 00002: val_accuracy improved from 0.81044 to 0.81825, saving model to ./data_out/seq2seq_kor/weights.h5\n",
      "Epoch 3/30\n",
      "5320/5320 [==============================] - 861s 162ms/step - loss: 0.9905 - accuracy: 0.8203 - val_loss: 1.6296 - val_accuracy: 0.8261\n",
      "\n",
      "Epoch 00003: val_accuracy improved from 0.81825 to 0.82614, saving model to ./data_out/seq2seq_kor/weights.h5\n",
      "Epoch 4/30\n",
      "5320/5320 [==============================] - 851s 160ms/step - loss: 0.7412 - accuracy: 0.8285 - val_loss: 1.7327 - val_accuracy: 0.8352\n",
      "\n",
      "Epoch 00004: val_accuracy improved from 0.82614 to 0.83519, saving model to ./data_out/seq2seq_kor/weights.h5\n",
      "Epoch 5/30\n",
      "5320/5320 [==============================] - 853s 160ms/step - loss: 0.4799 - accuracy: 0.8383 - val_loss: 1.9187 - val_accuracy: 0.8464\n",
      "\n",
      "Epoch 00005: val_accuracy improved from 0.83519 to 0.84638, saving model to ./data_out/seq2seq_kor/weights.h5\n",
      "Epoch 6/30\n",
      "5320/5320 [==============================] - 851s 160ms/step - loss: 0.2761 - accuracy: 0.8498 - val_loss: 2.1004 - val_accuracy: 0.8588\n",
      "\n",
      "Epoch 00006: val_accuracy improved from 0.84638 to 0.85881, saving model to ./data_out/seq2seq_kor/weights.h5\n",
      "Epoch 7/30\n",
      "5320/5320 [==============================] - 847s 159ms/step - loss: 0.1562 - accuracy: 0.8620 - val_loss: 2.2472 - val_accuracy: 0.8710\n",
      "\n",
      "Epoch 00007: val_accuracy improved from 0.85881 to 0.87097, saving model to ./data_out/seq2seq_kor/weights.h5\n",
      "Epoch 8/30\n",
      "5320/5320 [==============================] - 852s 160ms/step - loss: 0.0897 - accuracy: 0.8738 - val_loss: 2.3842 - val_accuracy: 0.8818\n",
      "\n",
      "Epoch 00008: val_accuracy improved from 0.87097 to 0.88177, saving model to ./data_out/seq2seq_kor/weights.h5\n",
      "Epoch 9/30\n",
      "5320/5320 [==============================] - 853s 160ms/step - loss: 0.0586 - accuracy: 0.8841 - val_loss: 2.4937 - val_accuracy: 0.8910\n",
      "\n",
      "Epoch 00009: val_accuracy improved from 0.88177 to 0.89103, saving model to ./data_out/seq2seq_kor/weights.h5\n",
      "Epoch 10/30\n",
      "5320/5320 [==============================] - 861s 162ms/step - loss: 0.0445 - accuracy: 0.8929 - val_loss: 2.6122 - val_accuracy: 0.8988\n",
      "\n",
      "Epoch 00010: val_accuracy improved from 0.89103 to 0.89884, saving model to ./data_out/seq2seq_kor/weights.h5\n",
      "Epoch 11/30\n",
      "5320/5320 [==============================] - 865s 163ms/step - loss: 0.0369 - accuracy: 0.9004 - val_loss: 2.6466 - val_accuracy: 0.9054\n",
      "\n",
      "Epoch 00011: val_accuracy improved from 0.89884 to 0.90544, saving model to ./data_out/seq2seq_kor/weights.h5\n",
      "Epoch 12/30\n",
      "5320/5320 [==============================] - 853s 160ms/step - loss: 0.0327 - accuracy: 0.9067 - val_loss: 2.7349 - val_accuracy: 0.9110\n",
      "\n",
      "Epoch 00012: val_accuracy improved from 0.90544 to 0.91102, saving model to ./data_out/seq2seq_kor/weights.h5\n",
      "Epoch 13/30\n",
      "5320/5320 [==============================] - 852s 160ms/step - loss: 0.0272 - accuracy: 0.9121 - val_loss: 2.6963 - val_accuracy: 0.9158\n",
      "\n",
      "Epoch 00013: val_accuracy improved from 0.91102 to 0.91581, saving model to ./data_out/seq2seq_kor/weights.h5\n",
      "Epoch 14/30\n",
      "5320/5320 [==============================] - 867s 163ms/step - loss: 0.0238 - accuracy: 0.9167 - val_loss: 2.7820 - val_accuracy: 0.9200\n",
      "\n",
      "Epoch 00014: val_accuracy improved from 0.91581 to 0.91996, saving model to ./data_out/seq2seq_kor/weights.h5\n",
      "Epoch 15/30\n",
      "5320/5320 [==============================] - 873s 164ms/step - loss: 0.0240 - accuracy: 0.9207 - val_loss: 2.8584 - val_accuracy: 0.9236\n",
      "\n",
      "Epoch 00015: val_accuracy improved from 0.91996 to 0.92358, saving model to ./data_out/seq2seq_kor/weights.h5\n",
      "Epoch 16/30\n",
      "5320/5320 [==============================] - 869s 163ms/step - loss: 0.0211 - accuracy: 0.9242 - val_loss: 2.8415 - val_accuracy: 0.9268\n",
      "\n",
      "Epoch 00016: val_accuracy improved from 0.92358 to 0.92677, saving model to ./data_out/seq2seq_kor/weights.h5\n",
      "Epoch 17/30\n",
      "5320/5320 [==============================] - 857s 161ms/step - loss: 0.0204 - accuracy: 0.9273 - val_loss: 2.8791 - val_accuracy: 0.9296\n",
      "\n",
      "Epoch 00017: val_accuracy improved from 0.92677 to 0.92958, saving model to ./data_out/seq2seq_kor/weights.h5\n",
      "Epoch 18/30\n",
      "5320/5320 [==============================] - 870s 164ms/step - loss: 0.0196 - accuracy: 0.9301 - val_loss: 2.9809 - val_accuracy: 0.9321\n",
      "\n",
      "Epoch 00018: val_accuracy improved from 0.92958 to 0.93210, saving model to ./data_out/seq2seq_kor/weights.h5\n",
      "Epoch 19/30\n",
      "5320/5320 [==============================] - 872s 164ms/step - loss: 0.0191 - accuracy: 0.9325 - val_loss: 2.9613 - val_accuracy: 0.9344\n",
      "\n",
      "Epoch 00019: val_accuracy improved from 0.93210 to 0.93437, saving model to ./data_out/seq2seq_kor/weights.h5\n",
      "Epoch 20/30\n",
      "5320/5320 [==============================] - 843s 159ms/step - loss: 0.0186 - accuracy: 0.9347 - val_loss: 3.0067 - val_accuracy: 0.9364\n",
      "\n",
      "Epoch 00020: val_accuracy improved from 0.93437 to 0.93641, saving model to ./data_out/seq2seq_kor/weights.h5\n",
      "Epoch 21/30\n",
      "5320/5320 [==============================] - 849s 160ms/step - loss: 0.0180 - accuracy: 0.9367 - val_loss: 3.0283 - val_accuracy: 0.9383\n",
      "\n",
      "Epoch 00021: val_accuracy improved from 0.93641 to 0.93826, saving model to ./data_out/seq2seq_kor/weights.h5\n",
      "Epoch 22/30\n",
      "5320/5320 [==============================] - 848s 159ms/step - loss: 0.0171 - accuracy: 0.9385 - val_loss: 3.0681 - val_accuracy: 0.9400\n",
      "\n",
      "Epoch 00022: val_accuracy improved from 0.93826 to 0.93995, saving model to ./data_out/seq2seq_kor/weights.h5\n",
      "Epoch 23/30\n",
      "5320/5320 [==============================] - 849s 160ms/step - loss: 0.0173 - accuracy: 0.9402 - val_loss: 3.1004 - val_accuracy: 0.9415\n",
      "\n",
      "Epoch 00023: val_accuracy improved from 0.93995 to 0.94151, saving model to ./data_out/seq2seq_kor/weights.h5\n",
      "Epoch 24/30\n",
      "5320/5320 [==============================] - 853s 160ms/step - loss: 0.0165 - accuracy: 0.9417 - val_loss: 3.1339 - val_accuracy: 0.9429\n",
      "\n",
      "Epoch 00024: val_accuracy improved from 0.94151 to 0.94292, saving model to ./data_out/seq2seq_kor/weights.h5\n",
      "Epoch 25/30\n",
      "5320/5320 [==============================] - 852s 160ms/step - loss: 0.0174 - accuracy: 0.9431 - val_loss: 3.1573 - val_accuracy: 0.9442\n",
      "\n",
      "Epoch 00025: val_accuracy improved from 0.94292 to 0.94422, saving model to ./data_out/seq2seq_kor/weights.h5\n",
      "Epoch 26/30\n",
      "5320/5320 [==============================] - 853s 160ms/step - loss: 0.0166 - accuracy: 0.9444 - val_loss: 3.1472 - val_accuracy: 0.9454\n",
      "\n",
      "Epoch 00026: val_accuracy improved from 0.94422 to 0.94542, saving model to ./data_out/seq2seq_kor/weights.h5\n",
      "Epoch 27/30\n",
      "5320/5320 [==============================] - 855s 161ms/step - loss: 0.0175 - accuracy: 0.9456 - val_loss: 3.2516 - val_accuracy: 0.9465\n",
      "\n",
      "Epoch 00027: val_accuracy improved from 0.94542 to 0.94654, saving model to ./data_out/seq2seq_kor/weights.h5\n",
      "Epoch 28/30\n",
      "5320/5320 [==============================] - 855s 161ms/step - loss: 0.0161 - accuracy: 0.9467 - val_loss: 3.2419 - val_accuracy: 0.9476\n",
      "\n",
      "Epoch 00028: val_accuracy improved from 0.94654 to 0.94757, saving model to ./data_out/seq2seq_kor/weights.h5\n",
      "Epoch 29/30\n",
      "5320/5320 [==============================] - 863s 162ms/step - loss: 0.0152 - accuracy: 0.9477 - val_loss: 3.2383 - val_accuracy: 0.9485\n",
      "\n",
      "Epoch 00029: val_accuracy improved from 0.94757 to 0.94854, saving model to ./data_out/seq2seq_kor/weights.h5\n",
      "Epoch 30/30\n",
      "5320/5320 [==============================] - 875s 164ms/step - loss: 0.0169 - accuracy: 0.9487 - val_loss: 3.2618 - val_accuracy: 0.9494\n",
      "\n",
      "Epoch 00030: val_accuracy improved from 0.94854 to 0.94944, saving model to ./data_out/seq2seq_kor/weights.h5\n"
     ]
    }
   ],
   "source": [
    "model = seq2seq(vocab_size, EMBEDDING_DIM, UNITS, UNITS, BATCH_SIZE, char2idx[end_index])\n",
    "model.compile(loss=loss, optimizer=tf.keras.optimizers.Adam(1e-3), metrics=[accuracy])\n",
    "#model.run_eagerly = True\n",
    "\n",
    "PATH = DATA_OUT_PATH + MODEL_NAME\n",
    "if not(os.path.isdir(PATH)):\n",
    "        os.makedirs(os.path.join(PATH))\n",
    "        \n",
    "checkpoint_path = DATA_OUT_PATH + MODEL_NAME + '/weights.h5'\n",
    "    \n",
    "cp_callback = ModelCheckpoint(\n",
    "    checkpoint_path, monitor='val_accuracy', verbose=1, save_best_only=True, save_weights_only=True)\n",
    "\n",
    "earlystop_callback = EarlyStopping(monitor='val_accuracy', min_delta=0.0001, patience=10)\n",
    "\n",
    "history = model.fit([index_inputs, index_outputs], index_targets,\n",
    "                    batch_size=BATCH_SIZE, epochs=EPOCH,\n",
    "                    validation_split=VALIDATION_SPLIT, callbacks=[earlystop_callback, cp_callback])"
   ]
  },
  {
   "cell_type": "markdown",
   "metadata": {
    "id": "wf_RNS128KE2"
   },
   "source": [
    "## 모형 학습 결과 시각화 \n",
    "- 학습과 평가 정확도를 시각화한 그래프를 확인한다.  "
   ]
  },
  {
   "cell_type": "code",
   "execution_count": null,
   "metadata": {
    "colab": {
     "base_uri": "https://localhost:8080/",
     "height": 367
    },
    "executionInfo": {
     "elapsed": 26019515,
     "status": "ok",
     "timestamp": 1609003711701,
     "user": {
      "displayName": "Ji-hoon Jung",
      "photoUrl": "",
      "userId": "03169308685755834042"
     },
     "user_tz": -540
    },
    "id": "1ywjuVfJ9WL3",
    "outputId": "c773a4cf-b540-4c33-a7d2-7d0890873a84"
   },
   "outputs": [
    {
     "name": "stderr",
     "output_type": "stream",
     "text": [
      "/usr/local/lib/python3.6/dist-packages/ipykernel_launcher.py:6: UserWarning: Legend does not support 'accuracy' instances.\n",
      "A proxy artist may be used instead.\n",
      "See: http://matplotlib.org/users/legend_guide.html#creating-artists-specifically-for-adding-to-the-legend-aka-proxy-artists\n",
      "  \n"
     ]
    },
    {
     "data": {
      "image/png": "[encoded data removed]",
      "text/plain": [
       "<Figure size 432x288 with 1 Axes>"
      ]
     },
     "metadata": {
      "needs_background": "light",
      "tags": []
     },
     "output_type": "display_data"
    }
   ],
   "source": [
    "plot_graphs(history, 'accuracy')"
   ]
  },
  {
   "cell_type": "code",
   "execution_count": null,
   "metadata": {
    "colab": {
     "base_uri": "https://localhost:8080/",
     "height": 367
    },
    "executionInfo": {
     "elapsed": 26019513,
     "status": "ok",
     "timestamp": 1609003711703,
     "user": {
      "displayName": "Ji-hoon Jung",
      "photoUrl": "",
      "userId": "03169308685755834042"
     },
     "user_tz": -540
    },
    "id": "CpN903MO9Zhj",
    "outputId": "7d09438f-6f8c-4c44-a5ee-2dfb9fae4c8c"
   },
   "outputs": [
    {
     "name": "stderr",
     "output_type": "stream",
     "text": [
      "/usr/local/lib/python3.6/dist-packages/ipykernel_launcher.py:6: UserWarning: Legend does not support 'loss' instances.\n",
      "A proxy artist may be used instead.\n",
      "See: http://matplotlib.org/users/legend_guide.html#creating-artists-specifically-for-adding-to-the-legend-aka-proxy-artists\n",
      "  \n"
     ]
    },
    {
     "data": {
      "image/png": "[encoded data removed]",
      "text/plain": [
       "<Figure size 432x288 with 1 Axes>"
      ]
     },
     "metadata": {
      "needs_background": "light",
      "tags": []
     },
     "output_type": "display_data"
    }
   ],
   "source": [
    "plot_graphs(history, 'loss')"
   ]
  },
  {
   "cell_type": "markdown",
   "metadata": {
    "id": "UZwYSGjR9bIu"
   },
   "source": [
    "## 최종 테스트\n",
    "- 저장한 모델을 로드하는 방법을 본다. "
   ]
  },
  {
   "cell_type": "code",
   "execution_count": null,
   "metadata": {
    "id": "YPLZn8f39saP"
   },
   "outputs": [],
   "source": [
    "SAVE_FILE_NM = \"weights.h5\"\n",
    "model.load_weights(os.path.join(DATA_OUT_PATH, MODEL_NAME, SAVE_FILE_NM))"
   ]
  },
  {
   "cell_type": "markdown",
   "metadata": {
    "id": "Gld1hgAs9tES"
   },
   "source": [
    "- 저장해둔 값을 불러와 사용하고 싶다면, 언제나 해당 모듈은 저장하고 불러와서 쓰는 것을 연습하도록 한다. \n",
    "- 즉, 빠르게 실습만 하고 싶다면, 아래 코드만 확인하도록 한다. "
   ]
  },
  {
   "cell_type": "code",
   "execution_count": null,
   "metadata": {
    "colab": {
     "base_uri": "https://localhost:8080/"
    },
    "executionInfo": {
     "elapsed": 26020028,
     "status": "ok",
     "timestamp": 1609003712222,
     "user": {
      "displayName": "Ji-hoon Jung",
      "photoUrl": "",
      "userId": "03169308685755834042"
     },
     "user_tz": -540
    },
    "id": "4wJhiyWH-H9h",
    "outputId": "79a88471-f275-440c-f531-d801d46e6a7d"
   },
   "outputs": [
    {
     "name": "stdout",
     "output_type": "stream",
     "text": [
      "[14356   841  6137 13442 14208   891  2718 15332  9333   200]\n",
      "진심 은 이제 로 다 생각 하 라고 말 해보세요\n"
     ]
    }
   ],
   "source": [
    "query = \"여자친구 생일 선물로 뭐가 좋을까?\"\n",
    "\n",
    "test_index_inputs, _ = enc_processing([query], char2idx)    \n",
    "predict_tokens = model.inference(test_index_inputs)\n",
    "print(predict_tokens)\n",
    "print(' '.join([idx2char[str(t)] for t in predict_tokens]))"
   ]
  },
  {
   "cell_type": "markdown",
   "metadata": {
    "id": "FgsjX0-b-QPr"
   },
   "source": [
    "- seq2seq 모델 안에 있는 `inference` 함수를 통해 결과를 확인한다. \n",
    "- 이렇게 해서 시퀀스 투 시퀀스 기본 모델에 어텐션(Attention) 기법을 추가한 모델을 만들었다. "
   ]
  }
 ],
 "metadata": {
  "accelerator": "GPU",
  "colab": {
   "authorship_tag": "ABX9TyOjtI3ifuCUxJ4677YBM/jl",
   "collapsed_sections": [],
   "name": "step_02_seq2seq.ipynb",
   "provenance": [],
   "toc_visible": true
  },
  "kernelspec": {
   "display_name": "Python 3",
   "language": "python",
   "name": "python3"
  },
  "language_info": {
   "codemirror_mode": {
    "name": "ipython",
    "version": 3
   },
   "file_extension": ".py",
   "mimetype": "text/x-python",
   "name": "python",
   "nbconvert_exporter": "python",
   "pygments_lexer": "ipython3",
   "version": "3.8.3"
  }
 },
 "nbformat": 4,
 "nbformat_minor": 1
}
