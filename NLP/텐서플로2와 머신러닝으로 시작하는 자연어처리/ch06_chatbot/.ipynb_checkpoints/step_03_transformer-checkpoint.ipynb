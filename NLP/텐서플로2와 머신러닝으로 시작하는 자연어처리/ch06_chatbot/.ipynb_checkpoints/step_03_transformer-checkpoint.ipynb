{
 "cells": [
  {
   "cell_type": "markdown",
   "metadata": {
    "id": "geWXPvDBZ0pn"
   },
   "source": [
    "## 데이터셋 소개\n",
    "- 한국어 챗봇 데이터는 거의 없다. \n",
    "  + 다행히, 한글로도 챗봇을 만들수 있도록 `Chatbot_data_for_Korean v1.0` 데이터셋이다. \n",
    "- 총 11,876개의 데이터로 구성돼 있다. \n",
    "  + 각 데이터는 질문과 그에 대한 대답, 그리고 주제에 대한 라벨값을 가진다. \n",
    "    * 0은 일상 대화, 1은 긍정, 2는 부정의 주제를 의미한다. "
   ]
  },
  {
   "cell_type": "markdown",
   "metadata": {
    "id": "1mxmlN1EgEGN"
   },
   "source": [
    "## 데이터 분석\n",
    "- 챗봇 데이터를 분석해보자. \n",
    "- 데이터 출처: https://github.com/songys/Chatbot_data\n"
   ]
  },
  {
   "cell_type": "markdown",
   "metadata": {
    "id": "Bcv5EKRyjTck"
   },
   "source": [
    "### 구글 코랩과 구글 드라이브 연동\n",
    "- 우선 데이터가 있는 폴더와 연동한다. \n",
    "> Note: 런타임을 GPU로 바꾸는 것을 잊지 않는다. "
   ]
  },
  {
   "cell_type": "code",
   "execution_count": 1,
   "metadata": {
    "colab": {
     "base_uri": "https://localhost:8080/"
    },
    "executionInfo": {
     "elapsed": 20468,
     "status": "ok",
     "timestamp": 1609134822628,
     "user": {
      "displayName": "Ji-hoon Jung",
      "photoUrl": "",
      "userId": "03169308685755834042"
     },
     "user_tz": -540
    },
    "id": "1wwqlWe7ZvR2",
    "outputId": "4014b24f-3c7d-41cd-803c-133392d925c6"
   },
   "outputs": [
    {
     "name": "stdout",
     "output_type": "stream",
     "text": [
      "/content/drive\n",
      "Mounted at /content/drive\n",
      "/content/drive/My Drive/Colab Notebooks/강림직업전문학교/프로젝트/NLP_자연어처리/ch06_챗봇_만들기/\n"
     ]
    }
   ],
   "source": [
    "from google.colab import drive # 패키지 불러오기 \n",
    "from os.path import join  \n",
    "\n",
    "ROOT = \"/content/drive\"     # 드라이브 기본 경로\n",
    "print(ROOT)                 # print content of ROOT (Optional)\n",
    "drive.mount(ROOT)           # 드라이브 기본 경로 Mount\n",
    "\n",
    "MY_GOOGLE_DRIVE_PATH = 'My Drive/Colab Notebooks/강림직업전문학교/프로젝트/NLP_자연어처리/ch06_챗봇_만들기/' # 프로젝트 경로\n",
    "PROJECT_PATH = join(ROOT, MY_GOOGLE_DRIVE_PATH) # 프로젝트 경로\n",
    "print(PROJECT_PATH)"
   ]
  },
  {
   "cell_type": "code",
   "execution_count": 2,
   "metadata": {
    "colab": {
     "base_uri": "https://localhost:8080/"
    },
    "executionInfo": {
     "elapsed": 1457,
     "status": "ok",
     "timestamp": 1609134871938,
     "user": {
      "displayName": "Ji-hoon Jung",
      "photoUrl": "",
      "userId": "03169308685755834042"
     },
     "user_tz": -540
    },
    "id": "c2nDwL2UjOWQ",
    "outputId": "5cf45b2e-0776-4d3e-e2a1-392f1a719c30"
   },
   "outputs": [
    {
     "name": "stdout",
     "output_type": "stream",
     "text": [
      "/content/drive/My Drive/Colab Notebooks/강림직업전문학교/프로젝트/NLP_자연어처리/ch06_챗봇_만들기\n"
     ]
    }
   ],
   "source": [
    "%cd \"{PROJECT_PATH}\""
   ]
  },
  {
   "cell_type": "markdown",
   "metadata": {
    "id": "jx14uFbik8IB"
   },
   "source": [
    "### 데이터 불러오기 및 확인\n",
    "- Pandas 라이브러리를 활용한다. "
   ]
  },
  {
   "cell_type": "code",
   "execution_count": 3,
   "metadata": {
    "colab": {
     "base_uri": "https://localhost:8080/",
     "height": 204
    },
    "executionInfo": {
     "elapsed": 1334,
     "status": "ok",
     "timestamp": 1609134878574,
     "user": {
      "displayName": "Ji-hoon Jung",
      "photoUrl": "",
      "userId": "03169308685755834042"
     },
     "user_tz": -540
    },
    "id": "WxnhdWyblCtI",
    "outputId": "f4fe24db-058d-4226-ed80-34b1f5a8b7c5"
   },
   "outputs": [
    {
     "data": {
      "text/html": [
       "<div>\n",
       "<style scoped>\n",
       "    .dataframe tbody tr th:only-of-type {\n",
       "        vertical-align: middle;\n",
       "    }\n",
       "\n",
       "    .dataframe tbody tr th {\n",
       "        vertical-align: top;\n",
       "    }\n",
       "\n",
       "    .dataframe thead th {\n",
       "        text-align: right;\n",
       "    }\n",
       "</style>\n",
       "<table border=\"1\" class=\"dataframe\">\n",
       "  <thead>\n",
       "    <tr style=\"text-align: right;\">\n",
       "      <th></th>\n",
       "      <th>Q</th>\n",
       "      <th>A</th>\n",
       "      <th>label</th>\n",
       "    </tr>\n",
       "  </thead>\n",
       "  <tbody>\n",
       "    <tr>\n",
       "      <th>0</th>\n",
       "      <td>12시 땡!</td>\n",
       "      <td>하루가 또 가네요.</td>\n",
       "      <td>0</td>\n",
       "    </tr>\n",
       "    <tr>\n",
       "      <th>1</th>\n",
       "      <td>1지망 학교 떨어졌어</td>\n",
       "      <td>위로해 드립니다.</td>\n",
       "      <td>0</td>\n",
       "    </tr>\n",
       "    <tr>\n",
       "      <th>2</th>\n",
       "      <td>3박4일 놀러가고 싶다</td>\n",
       "      <td>여행은 언제나 좋죠.</td>\n",
       "      <td>0</td>\n",
       "    </tr>\n",
       "    <tr>\n",
       "      <th>3</th>\n",
       "      <td>3박4일 정도 놀러가고 싶다</td>\n",
       "      <td>여행은 언제나 좋죠.</td>\n",
       "      <td>0</td>\n",
       "    </tr>\n",
       "    <tr>\n",
       "      <th>4</th>\n",
       "      <td>PPL 심하네</td>\n",
       "      <td>눈살이 찌푸려지죠.</td>\n",
       "      <td>0</td>\n",
       "    </tr>\n",
       "  </tbody>\n",
       "</table>\n",
       "</div>"
      ],
      "text/plain": [
       "                 Q            A  label\n",
       "0           12시 땡!   하루가 또 가네요.      0\n",
       "1      1지망 학교 떨어졌어    위로해 드립니다.      0\n",
       "2     3박4일 놀러가고 싶다  여행은 언제나 좋죠.      0\n",
       "3  3박4일 정도 놀러가고 싶다  여행은 언제나 좋죠.      0\n",
       "4          PPL 심하네   눈살이 찌푸려지죠.      0"
      ]
     },
     "execution_count": 3,
     "metadata": {
      "tags": []
     },
     "output_type": "execute_result"
    }
   ],
   "source": [
    "import pandas as pd\n",
    "DATA_IN_PATH = \"./data_in/\"\n",
    "data = pd.read_csv(DATA_IN_PATH + './ChatBotData.csv', encoding='utf-8')\n",
    "data.head()"
   ]
  },
  {
   "cell_type": "markdown",
   "metadata": {
    "id": "-baWuRTXnU3N"
   },
   "source": [
    "- 결과에 응답 데이터를 보면, 주로 권유의 문자열이 많이 나오는 것을 확인할 수 있다. "
   ]
  },
  {
   "cell_type": "markdown",
   "metadata": {
    "id": "eKBhT3Chopmm"
   },
   "source": [
    "### 한글 형태소 설치\n",
    "- 다음 코드로 형태소를 설치하도록 한다. "
   ]
  },
  {
   "cell_type": "code",
   "execution_count": 4,
   "metadata": {
    "colab": {
     "base_uri": "https://localhost:8080/"
    },
    "executionInfo": {
     "elapsed": 32637,
     "status": "ok",
     "timestamp": 1609134909891,
     "user": {
      "displayName": "Ji-hoon Jung",
      "photoUrl": "",
      "userId": "03169308685755834042"
     },
     "user_tz": -540
    },
    "id": "ktrUGCf-o4G2",
    "outputId": "3d0de054-4dbd-48d4-8c6a-fe981e3dfd0d"
   },
   "outputs": [
    {
     "name": "stdout",
     "output_type": "stream",
     "text": [
      "\r",
      "0% [Working]\r",
      "            \r",
      "Ign:1 https://developer.download.nvidia.com/compute/cuda/repos/ubuntu1804/x86_64  InRelease\n",
      "Ign:2 https://developer.download.nvidia.com/compute/machine-learning/repos/ubuntu1804/x86_64  InRelease\n",
      "Hit:3 https://developer.download.nvidia.com/compute/cuda/repos/ubuntu1804/x86_64  Release\n",
      "Hit:4 https://developer.download.nvidia.com/compute/machine-learning/repos/ubuntu1804/x86_64  Release\n",
      "Get:5 http://ppa.launchpad.net/c2d4u.team/c2d4u4.0+/ubuntu bionic InRelease [15.9 kB]\n",
      "Get:6 http://security.ubuntu.com/ubuntu bionic-security InRelease [88.7 kB]\n",
      "Hit:7 http://archive.ubuntu.com/ubuntu bionic InRelease\n",
      "Get:9 https://cloud.r-project.org/bin/linux/ubuntu bionic-cran40/ InRelease [3,626 B]\n",
      "Get:10 http://archive.ubuntu.com/ubuntu bionic-updates InRelease [88.7 kB]\n",
      "Hit:12 http://ppa.launchpad.net/cran/libgit2/ubuntu bionic InRelease\n",
      "Get:13 https://cloud.r-project.org/bin/linux/ubuntu bionic-cran40/ Packages [41.5 kB]\n",
      "Get:14 http://archive.ubuntu.com/ubuntu bionic-backports InRelease [74.6 kB]\n",
      "Hit:15 http://ppa.launchpad.net/graphics-drivers/ppa/ubuntu bionic InRelease\n",
      "Get:16 http://ppa.launchpad.net/c2d4u.team/c2d4u4.0+/ubuntu bionic/main Sources [1,703 kB]\n",
      "Get:17 http://ppa.launchpad.net/c2d4u.team/c2d4u4.0+/ubuntu bionic/main amd64 Packages [872 kB]\n",
      "Fetched 2,889 kB in 3s (936 kB/s)\n",
      "Reading package lists... Done\n",
      "Reading package lists... Done\n",
      "Building dependency tree       \n",
      "Reading state information... Done\n",
      "g++ is already the newest version (4:7.4.0-1ubuntu2.3).\n",
      "g++ set to manually installed.\n",
      "The following additional packages will be installed:\n",
      "  fonts-dejavu-core fonts-dejavu-extra libatk-wrapper-java\n",
      "  libatk-wrapper-java-jni libgail-common libgail18 libgtk2.0-0 libgtk2.0-bin\n",
      "  libgtk2.0-common libxxf86dga1 openjdk-8-jdk-headless openjdk-8-jre\n",
      "  openjdk-8-jre-headless x11-utils\n",
      "Suggested packages:\n",
      "  gvfs openjdk-8-demo openjdk-8-source visualvm icedtea-8-plugin libnss-mdns\n",
      "  fonts-ipafont-gothic fonts-ipafont-mincho fonts-wqy-microhei\n",
      "  fonts-wqy-zenhei fonts-indic mesa-utils\n",
      "The following NEW packages will be installed:\n",
      "  fonts-dejavu-core fonts-dejavu-extra libatk-wrapper-java\n",
      "  libatk-wrapper-java-jni libgail-common libgail18 libgtk2.0-0 libgtk2.0-bin\n",
      "  libgtk2.0-common libxxf86dga1 openjdk-8-jdk openjdk-8-jdk-headless\n",
      "  openjdk-8-jre openjdk-8-jre-headless x11-utils\n",
      "0 upgraded, 15 newly installed, 0 to remove and 17 not upgraded.\n",
      "Need to get 43.4 MB of archives.\n",
      "After this operation, 163 MB of additional disk space will be used.\n",
      "Get:1 http://archive.ubuntu.com/ubuntu bionic/main amd64 libxxf86dga1 amd64 2:1.1.4-1 [13.7 kB]\n",
      "Get:2 http://archive.ubuntu.com/ubuntu bionic/main amd64 fonts-dejavu-core all 2.37-1 [1,041 kB]\n",
      "Get:3 http://archive.ubuntu.com/ubuntu bionic/main amd64 fonts-dejavu-extra all 2.37-1 [1,953 kB]\n",
      "Get:4 http://archive.ubuntu.com/ubuntu bionic/main amd64 x11-utils amd64 7.7+3build1 [196 kB]\n",
      "Get:5 http://archive.ubuntu.com/ubuntu bionic/main amd64 libatk-wrapper-java all 0.33.3-20ubuntu0.1 [34.7 kB]\n",
      "Get:6 http://archive.ubuntu.com/ubuntu bionic/main amd64 libatk-wrapper-java-jni amd64 0.33.3-20ubuntu0.1 [28.3 kB]\n",
      "Get:7 http://archive.ubuntu.com/ubuntu bionic/main amd64 libgtk2.0-common all 2.24.32-1ubuntu1 [125 kB]\n",
      "Get:8 http://archive.ubuntu.com/ubuntu bionic/main amd64 libgtk2.0-0 amd64 2.24.32-1ubuntu1 [1,769 kB]\n",
      "Get:9 http://archive.ubuntu.com/ubuntu bionic/main amd64 libgail18 amd64 2.24.32-1ubuntu1 [14.2 kB]\n",
      "Get:10 http://archive.ubuntu.com/ubuntu bionic/main amd64 libgail-common amd64 2.24.32-1ubuntu1 [112 kB]\n",
      "Get:11 http://archive.ubuntu.com/ubuntu bionic/main amd64 libgtk2.0-bin amd64 2.24.32-1ubuntu1 [7,536 B]\n",
      "Get:12 http://archive.ubuntu.com/ubuntu bionic-updates/universe amd64 openjdk-8-jre-headless amd64 8u275-b01-0ubuntu1~18.04 [28.2 MB]\n",
      "Get:13 http://archive.ubuntu.com/ubuntu bionic-updates/universe amd64 openjdk-8-jre amd64 8u275-b01-0ubuntu1~18.04 [69.7 kB]\n",
      "Get:14 http://archive.ubuntu.com/ubuntu bionic-updates/universe amd64 openjdk-8-jdk-headless amd64 8u275-b01-0ubuntu1~18.04 [8,269 kB]\n",
      "Get:15 http://archive.ubuntu.com/ubuntu bionic-updates/universe amd64 openjdk-8-jdk amd64 8u275-b01-0ubuntu1~18.04 [1,600 kB]\n",
      "Fetched 43.4 MB in 3s (12.8 MB/s)\n",
      "Selecting previously unselected package libxxf86dga1:amd64.\n",
      "(Reading database ... 145480 files and directories currently installed.)\n",
      "Preparing to unpack .../00-libxxf86dga1_2%3a1.1.4-1_amd64.deb ...\n",
      "Unpacking libxxf86dga1:amd64 (2:1.1.4-1) ...\n",
      "Selecting previously unselected package fonts-dejavu-core.\n",
      "Preparing to unpack .../01-fonts-dejavu-core_2.37-1_all.deb ...\n",
      "Unpacking fonts-dejavu-core (2.37-1) ...\n",
      "Selecting previously unselected package fonts-dejavu-extra.\n",
      "Preparing to unpack .../02-fonts-dejavu-extra_2.37-1_all.deb ...\n",
      "Unpacking fonts-dejavu-extra (2.37-1) ...\n",
      "Selecting previously unselected package x11-utils.\n",
      "Preparing to unpack .../03-x11-utils_7.7+3build1_amd64.deb ...\n",
      "Unpacking x11-utils (7.7+3build1) ...\n",
      "Selecting previously unselected package libatk-wrapper-java.\n",
      "Preparing to unpack .../04-libatk-wrapper-java_0.33.3-20ubuntu0.1_all.deb ...\n",
      "Unpacking libatk-wrapper-java (0.33.3-20ubuntu0.1) ...\n",
      "Selecting previously unselected package libatk-wrapper-java-jni:amd64.\n",
      "Preparing to unpack .../05-libatk-wrapper-java-jni_0.33.3-20ubuntu0.1_amd64.deb ...\n",
      "Unpacking libatk-wrapper-java-jni:amd64 (0.33.3-20ubuntu0.1) ...\n",
      "Selecting previously unselected package libgtk2.0-common.\n",
      "Preparing to unpack .../06-libgtk2.0-common_2.24.32-1ubuntu1_all.deb ...\n",
      "Unpacking libgtk2.0-common (2.24.32-1ubuntu1) ...\n",
      "Selecting previously unselected package libgtk2.0-0:amd64.\n",
      "Preparing to unpack .../07-libgtk2.0-0_2.24.32-1ubuntu1_amd64.deb ...\n",
      "Unpacking libgtk2.0-0:amd64 (2.24.32-1ubuntu1) ...\n",
      "Selecting previously unselected package libgail18:amd64.\n",
      "Preparing to unpack .../08-libgail18_2.24.32-1ubuntu1_amd64.deb ...\n",
      "Unpacking libgail18:amd64 (2.24.32-1ubuntu1) ...\n",
      "Selecting previously unselected package libgail-common:amd64.\n",
      "Preparing to unpack .../09-libgail-common_2.24.32-1ubuntu1_amd64.deb ...\n",
      "Unpacking libgail-common:amd64 (2.24.32-1ubuntu1) ...\n",
      "Selecting previously unselected package libgtk2.0-bin.\n",
      "Preparing to unpack .../10-libgtk2.0-bin_2.24.32-1ubuntu1_amd64.deb ...\n",
      "Unpacking libgtk2.0-bin (2.24.32-1ubuntu1) ...\n",
      "Selecting previously unselected package openjdk-8-jre-headless:amd64.\n",
      "Preparing to unpack .../11-openjdk-8-jre-headless_8u275-b01-0ubuntu1~18.04_amd64.deb ...\n",
      "Unpacking openjdk-8-jre-headless:amd64 (8u275-b01-0ubuntu1~18.04) ...\n",
      "Selecting previously unselected package openjdk-8-jre:amd64.\n",
      "Preparing to unpack .../12-openjdk-8-jre_8u275-b01-0ubuntu1~18.04_amd64.deb ...\n",
      "Unpacking openjdk-8-jre:amd64 (8u275-b01-0ubuntu1~18.04) ...\n",
      "Selecting previously unselected package openjdk-8-jdk-headless:amd64.\n",
      "Preparing to unpack .../13-openjdk-8-jdk-headless_8u275-b01-0ubuntu1~18.04_amd64.deb ...\n",
      "Unpacking openjdk-8-jdk-headless:amd64 (8u275-b01-0ubuntu1~18.04) ...\n",
      "Selecting previously unselected package openjdk-8-jdk:amd64.\n",
      "Preparing to unpack .../14-openjdk-8-jdk_8u275-b01-0ubuntu1~18.04_amd64.deb ...\n",
      "Unpacking openjdk-8-jdk:amd64 (8u275-b01-0ubuntu1~18.04) ...\n",
      "Setting up libgtk2.0-common (2.24.32-1ubuntu1) ...\n",
      "Setting up fonts-dejavu-core (2.37-1) ...\n",
      "Setting up libxxf86dga1:amd64 (2:1.1.4-1) ...\n",
      "Setting up fonts-dejavu-extra (2.37-1) ...\n",
      "Setting up openjdk-8-jre-headless:amd64 (8u275-b01-0ubuntu1~18.04) ...\n",
      "update-alternatives: using /usr/lib/jvm/java-8-openjdk-amd64/jre/bin/orbd to provide /usr/bin/orbd (orbd) in auto mode\n",
      "update-alternatives: using /usr/lib/jvm/java-8-openjdk-amd64/jre/bin/servertool to provide /usr/bin/servertool (servertool) in auto mode\n",
      "update-alternatives: using /usr/lib/jvm/java-8-openjdk-amd64/jre/bin/tnameserv to provide /usr/bin/tnameserv (tnameserv) in auto mode\n",
      "Setting up libgtk2.0-0:amd64 (2.24.32-1ubuntu1) ...\n",
      "Setting up libgail18:amd64 (2.24.32-1ubuntu1) ...\n",
      "Setting up openjdk-8-jdk-headless:amd64 (8u275-b01-0ubuntu1~18.04) ...\n",
      "update-alternatives: using /usr/lib/jvm/java-8-openjdk-amd64/bin/idlj to provide /usr/bin/idlj (idlj) in auto mode\n",
      "update-alternatives: using /usr/lib/jvm/java-8-openjdk-amd64/bin/wsimport to provide /usr/bin/wsimport (wsimport) in auto mode\n",
      "update-alternatives: using /usr/lib/jvm/java-8-openjdk-amd64/bin/jsadebugd to provide /usr/bin/jsadebugd (jsadebugd) in auto mode\n",
      "update-alternatives: using /usr/lib/jvm/java-8-openjdk-amd64/bin/native2ascii to provide /usr/bin/native2ascii (native2ascii) in auto mode\n",
      "update-alternatives: using /usr/lib/jvm/java-8-openjdk-amd64/bin/javah to provide /usr/bin/javah (javah) in auto mode\n",
      "update-alternatives: using /usr/lib/jvm/java-8-openjdk-amd64/bin/clhsdb to provide /usr/bin/clhsdb (clhsdb) in auto mode\n",
      "update-alternatives: using /usr/lib/jvm/java-8-openjdk-amd64/bin/xjc to provide /usr/bin/xjc (xjc) in auto mode\n",
      "update-alternatives: using /usr/lib/jvm/java-8-openjdk-amd64/bin/hsdb to provide /usr/bin/hsdb (hsdb) in auto mode\n",
      "update-alternatives: using /usr/lib/jvm/java-8-openjdk-amd64/bin/schemagen to provide /usr/bin/schemagen (schemagen) in auto mode\n",
      "update-alternatives: using /usr/lib/jvm/java-8-openjdk-amd64/bin/extcheck to provide /usr/bin/extcheck (extcheck) in auto mode\n",
      "update-alternatives: using /usr/lib/jvm/java-8-openjdk-amd64/bin/jhat to provide /usr/bin/jhat (jhat) in auto mode\n",
      "update-alternatives: using /usr/lib/jvm/java-8-openjdk-amd64/bin/wsgen to provide /usr/bin/wsgen (wsgen) in auto mode\n",
      "Setting up x11-utils (7.7+3build1) ...\n",
      "Setting up libgail-common:amd64 (2.24.32-1ubuntu1) ...\n",
      "Setting up libatk-wrapper-java (0.33.3-20ubuntu0.1) ...\n",
      "Setting up libgtk2.0-bin (2.24.32-1ubuntu1) ...\n",
      "Setting up libatk-wrapper-java-jni:amd64 (0.33.3-20ubuntu0.1) ...\n",
      "Setting up openjdk-8-jre:amd64 (8u275-b01-0ubuntu1~18.04) ...\n",
      "update-alternatives: using /usr/lib/jvm/java-8-openjdk-amd64/jre/bin/policytool to provide /usr/bin/policytool (policytool) in auto mode\n",
      "Setting up openjdk-8-jdk:amd64 (8u275-b01-0ubuntu1~18.04) ...\n",
      "update-alternatives: using /usr/lib/jvm/java-8-openjdk-amd64/bin/appletviewer to provide /usr/bin/appletviewer (appletviewer) in auto mode\n",
      "update-alternatives: using /usr/lib/jvm/java-8-openjdk-amd64/bin/jconsole to provide /usr/bin/jconsole (jconsole) in auto mode\n",
      "Processing triggers for man-db (2.8.3-2ubuntu0.1) ...\n",
      "Processing triggers for hicolor-icon-theme (0.17-2) ...\n",
      "Processing triggers for fontconfig (2.12.6-0ubuntu2) ...\n",
      "Processing triggers for mime-support (3.60ubuntu1) ...\n",
      "Processing triggers for libc-bin (2.27-3ubuntu1.2) ...\n",
      "/sbin/ldconfig.real: /usr/local/lib/python3.6/dist-packages/ideep4py/lib/libmkldnn.so.0 is not a symbolic link\n",
      "\n",
      "Collecting konlpy\n",
      "\u001b[?25l  Downloading https://files.pythonhosted.org/packages/85/0e/f385566fec837c0b83f216b2da65db9997b35dd675e107752005b7d392b1/konlpy-0.5.2-py2.py3-none-any.whl (19.4MB)\n",
      "\u001b[K     |████████████████████████████████| 19.4MB 115kB/s \n",
      "\u001b[?25hCollecting colorama\n",
      "  Downloading https://files.pythonhosted.org/packages/44/98/5b86278fbbf250d239ae0ecb724f8572af1c91f4a11edf4d36a206189440/colorama-0.4.4-py2.py3-none-any.whl\n",
      "Requirement already satisfied: numpy>=1.6 in /usr/local/lib/python3.6/dist-packages (from konlpy) (1.19.4)\n",
      "Collecting tweepy>=3.7.0\n",
      "  Downloading https://files.pythonhosted.org/packages/67/c3/6bed87f3b1e5ed2f34bd58bf7978e308c86e255193916be76e5a5ce5dfca/tweepy-3.10.0-py2.py3-none-any.whl\n",
      "Requirement already satisfied: lxml>=4.1.0 in /usr/local/lib/python3.6/dist-packages (from konlpy) (4.2.6)\n",
      "Collecting beautifulsoup4==4.6.0\n",
      "\u001b[?25l  Downloading https://files.pythonhosted.org/packages/9e/d4/10f46e5cfac773e22707237bfcd51bbffeaf0a576b0a847ec7ab15bd7ace/beautifulsoup4-4.6.0-py3-none-any.whl (86kB)\n",
      "\u001b[K     |████████████████████████████████| 92kB 14.9MB/s \n",
      "\u001b[?25hCollecting JPype1>=0.7.0\n",
      "\u001b[?25l  Downloading https://files.pythonhosted.org/packages/b7/21/9e2c0dbf9df856e6392a1aec1d18006c60b175aa4e31d351e8278a8a63c0/JPype1-1.2.0-cp36-cp36m-manylinux2010_x86_64.whl (453kB)\n",
      "\u001b[K     |████████████████████████████████| 460kB 58.3MB/s \n",
      "\u001b[?25hRequirement already satisfied: requests[socks]>=2.11.1 in /usr/local/lib/python3.6/dist-packages (from tweepy>=3.7.0->konlpy) (2.23.0)\n",
      "Requirement already satisfied: requests-oauthlib>=0.7.0 in /usr/local/lib/python3.6/dist-packages (from tweepy>=3.7.0->konlpy) (1.3.0)\n",
      "Requirement already satisfied: six>=1.10.0 in /usr/local/lib/python3.6/dist-packages (from tweepy>=3.7.0->konlpy) (1.15.0)\n",
      "Requirement already satisfied: typing-extensions; python_version < \"3.8\" in /usr/local/lib/python3.6/dist-packages (from JPype1>=0.7.0->konlpy) (3.7.4.3)\n",
      "Requirement already satisfied: certifi>=2017.4.17 in /usr/local/lib/python3.6/dist-packages (from requests[socks]>=2.11.1->tweepy>=3.7.0->konlpy) (2020.12.5)\n",
      "Requirement already satisfied: chardet<4,>=3.0.2 in /usr/local/lib/python3.6/dist-packages (from requests[socks]>=2.11.1->tweepy>=3.7.0->konlpy) (3.0.4)\n",
      "Requirement already satisfied: urllib3!=1.25.0,!=1.25.1,<1.26,>=1.21.1 in /usr/local/lib/python3.6/dist-packages (from requests[socks]>=2.11.1->tweepy>=3.7.0->konlpy) (1.24.3)\n",
      "Requirement already satisfied: idna<3,>=2.5 in /usr/local/lib/python3.6/dist-packages (from requests[socks]>=2.11.1->tweepy>=3.7.0->konlpy) (2.10)\n",
      "Requirement already satisfied: PySocks!=1.5.7,>=1.5.6; extra == \"socks\" in /usr/local/lib/python3.6/dist-packages (from requests[socks]>=2.11.1->tweepy>=3.7.0->konlpy) (1.7.1)\n",
      "Requirement already satisfied: oauthlib>=3.0.0 in /usr/local/lib/python3.6/dist-packages (from requests-oauthlib>=0.7.0->tweepy>=3.7.0->konlpy) (3.1.0)\n",
      "Installing collected packages: colorama, tweepy, beautifulsoup4, JPype1, konlpy\n",
      "  Found existing installation: tweepy 3.6.0\n",
      "    Uninstalling tweepy-3.6.0:\n",
      "      Successfully uninstalled tweepy-3.6.0\n",
      "  Found existing installation: beautifulsoup4 4.6.3\n",
      "    Uninstalling beautifulsoup4-4.6.3:\n",
      "      Successfully uninstalled beautifulsoup4-4.6.3\n",
      "Successfully installed JPype1-1.2.0 beautifulsoup4-4.6.0 colorama-0.4.4 konlpy-0.5.2 tweepy-3.10.0\n"
     ]
    }
   ],
   "source": [
    "!apt-get update\n",
    "!apt-get install g++ openjdk-8-jdk \n",
    "!pip3 install --target=$my_path konlpy"
   ]
  },
  {
   "cell_type": "markdown",
   "metadata": {
    "id": "gCdbS2j9rrnE"
   },
   "source": [
    "## 트랜스포머 모델\n",
    "- 트랜스포머란 구글이 2017년에 소개한 논문인 \"Attention is all you need\"에 나온 모델이다. \n",
    "- 기존의 시퀀스 투 시퀀스의 인코더 디코더 구조를 가지고 있지만, 합성곱 신경망(CNN), 순환 신경망(RNN)을 기반으로 구성된 기존 모델과 다르게 단순히 어텐션 구조만으로 전체 모델을 만들어 어텐션 기법의 중요성을 강조함\n",
    "- 어텐션이란 무엇인가?\n",
    "  + 자세한 설명은 [Visualizing A Neural Machine Translation Model (Mechanics of Seq2seq Models With Attention)](https://jalammar.github.io/visualizing-neural-machine-translation-mechanics-of-seq2seq-models-with-attention/) 참조 하시기를 바랍니다. \n",
    "  + 간단하게 설명하면, 디코더에서 예측하려는 단어를 출력할 때마다 인코더의 전체 문장을 한번 더 참고하려고 한다는 점이다. 이 때, 전체 문장들이 응축되어 모여 있는 곳이 `Context Vector`라고 보면 된다. \n",
    "- 트랜스포머는 `seq2seq` 모델의 `attention`에 집중을 한 모델로 보면 된다. \n",
    "- 기본적으로 트랜스포머 모델은 앞서 순환 신경망 기반의 시퀀스 투 시퀀스 모델과 같이 인코더와 디코더로 구성되며 인코더에서 입력한 문장에 대한 정보와 디코더에 입력한 문장 정보를 조합해서 디코더 문장 다음에 나올 단어에 대해 생성하는 방법이다. \n",
    "- 시퀀스 투 시퀀스와 다른 점은 순환 신경망을 활용하지 않고 셀프 어텐션 기법을 사용해 문장에 대한 정보를 추출한다. \n",
    "\n"
   ]
  },
  {
   "cell_type": "markdown",
   "metadata": {
    "id": "7K0zh2d2vPqC"
   },
   "source": [
    "## 셀프 어텐션\n",
    "- 셀프 어텐션(`Self-Attention`)이란 문장에서 각 단어끼리 얼마나 관계가 있는지를 계산해서 반영하는 방법\n",
    "- 즉, 셀프 어텐션을 이용하면 문장 안에서 단어들 간의 관계를 측정할 수 있다. \n",
    "  + 이 값을 어텐션 스코어(`attention score`)라고 부른다. \n",
    "  + \"딥러닝\"을 기반으로 한 예시 문장을 들면 아래와 같다. \n",
    "> 딥러닝(=0.25) 텐서플로우(=0.25) 자연어(=0.25) 처리(=0.15) 아주(=0.05) 좋아요(=0.05)\n",
    "\n",
    "- 이 어텐션 스코어 값을 하나의 테이블로 만든 것을 어텐션 맵이라고 부른다. \n",
    "- 이제 이 어텐션 맵을 활용해 문장을 서로의 관계를 반영한 값으로 바꿔야 한다. \n",
    "\n",
    "  "
   ]
  },
  {
   "cell_type": "markdown",
   "metadata": {
    "id": "KrDdKd8pxZtK"
   },
   "source": [
    "### 어텐션 스코어 구하는 방법\n",
    "- 어텐션 구하는 기법은 우선 의미 정보를 벡터로 표현해서 유사도 점수를 계산한다. \n",
    "  + 이 때의 유사도를 구하는 방법은 크게 맨하탄 거리와 같은 유사도 공식을 활용해 구하는 방법과, Dense 층을 거쳐 나온 값을 활용하는 방법이 있다. \n",
    "  + 트랜스포머 모델에서는 단어 벡터끼리 내적 연산을 함으로써 어텐션 스코어를 구한다. \n",
    "- 어텐션 스코어를 구한 후, 어텐션 스코어가 모여 있는 어텐션 맵에 소프트맥스 함수를 적용한다. \n",
    "  + 어텐션 맵이 특정 단어에 대한 다른 단어와의 연관도 값의 확률로 나타난다. 이제 이 값을 해당 단어에 반영해야 한다. 스코어가 큰 경우 해당 단어와 관련이 높은 단어이므로 큰 값을 가져야 한다. \n",
    "- 이 확률값과 기존의 각 단어 벡터를 가중합한다. 가중합이란, 각 확률값과 각 단어 벡터를 곱한 후 더하는 연산이다. 이렇게 구한 값을 해당 단어에 대한 벡터값으로 사용하게 된다. \n"
   ]
  },
  {
   "cell_type": "markdown",
   "metadata": {
    "id": "MAt7SMB30s9S"
   },
   "source": [
    "## 모델 구현을 위한 사전 준비\n",
    "- 이제 본격적으로 모델 구현을 진행한다. \n",
    "- 모델 구현의 경우 큰 틀은 앞서 구현한 RNN 기반 시퀀스 투 시퀀스 모델과 거의 유사하다. \n",
    "- 모델의 경우 큰 틀은 인코더와 디코더로 구성돼 있다. 따라서 입력이 인코더에 들어가면 셀프 어텐션 기법을 활용해 해당 문장의 정보를 추출하고 이 값을 토대로 디코더에서 출력 문장을 만들어 낸다. "
   ]
  },
  {
   "cell_type": "markdown",
   "metadata": {
    "id": "5IXVebQX56Bo"
   },
   "source": [
    "### 패키지 불러오기\n",
    "- 우선 데이터 전처리 함수 작정을 위한 패키지를 불러온다. "
   ]
  },
  {
   "cell_type": "code",
   "execution_count": 5,
   "metadata": {
    "executionInfo": {
     "elapsed": 35471,
     "status": "ok",
     "timestamp": 1609134912734,
     "user": {
      "displayName": "Ji-hoon Jung",
      "photoUrl": "",
      "userId": "03169308685755834042"
     },
     "user_tz": -540
    },
    "id": "Xrle2mRw5eLG"
   },
   "outputs": [],
   "source": [
    "import tensorflow as tf\n",
    "import numpy as np\n",
    "\n",
    "from konlpy.tag import Twitter\n",
    "import pandas as pd\n",
    "import tensorflow as tf\n",
    "import enum\n",
    "import os\n",
    "import re\n",
    "import json\n",
    "from tqdm import tqdm\n",
    "from sklearn.model_selection import train_test_split\n",
    "\n",
    "from tensorflow.keras.callbacks import EarlyStopping, ModelCheckpoint\n",
    "import matplotlib.pyplot as plt\n",
    "from konlpy.tag import Okt # 한글 형태소"
   ]
  },
  {
   "cell_type": "markdown",
   "metadata": {
    "id": "9AbuZH6A6sIk"
   },
   "source": [
    "### 설정값 지정\n",
    "- 토큰들의 인덱스 값 지정을 하도록 한다. \n",
    "- 특별한 토큰의 의미는 아래와 같다. \n",
    "  + PAD: 어떤 의미도 없는 패딩 토큰\n",
    "  + SOS: 시작 토큰을 의미\n",
    "  + END: 종료 토큰을 의미\n",
    "  + UNK: 사전에 없는 단어를 의미\n"
   ]
  },
  {
   "cell_type": "code",
   "execution_count": 6,
   "metadata": {
    "executionInfo": {
     "elapsed": 35467,
     "status": "ok",
     "timestamp": 1609134912736,
     "user": {
      "displayName": "Ji-hoon Jung",
      "photoUrl": "",
      "userId": "03169308685755834042"
     },
     "user_tz": -540
    },
    "id": "jEPI5zeo67P7"
   },
   "outputs": [],
   "source": [
    "FILTERS = \"([~.,!?\\\"':;)(])\" # 특수문자\n",
    "PAD = \"<PAD>\"\n",
    "STD = \"<SOS>\"\n",
    "END = \"<END>\"\n",
    "UNK = \"<UNK>\"\n",
    "\n",
    "PAD_INDEX = 0\n",
    "STD_INDEX = 1\n",
    "END_INDEX = 2\n",
    "UNK_INDEX = 3\n",
    "\n",
    "MARKER = [PAD, STD, END, UNK]\n",
    "CHANGE_FILTER = re.compile(FILTERS)\n",
    "\n",
    "MAX_SEQUENCE = 25"
   ]
  },
  {
   "cell_type": "markdown",
   "metadata": {
    "id": "dfM3FhKg6h2j"
   },
   "source": [
    "### 데이터 전처리 함수 정의\n",
    "- 데이터 전처리를 위한 함수를 작성한다. "
   ]
  },
  {
   "cell_type": "code",
   "execution_count": 7,
   "metadata": {
    "executionInfo": {
     "elapsed": 35463,
     "status": "ok",
     "timestamp": 1609134912737,
     "user": {
      "displayName": "Ji-hoon Jung",
      "photoUrl": "",
      "userId": "03169308685755834042"
     },
     "user_tz": -540
    },
    "id": "kjbxlZwP6BmJ"
   },
   "outputs": [],
   "source": [
    "def load_data(path):\n",
    "    # 판다스를 통해서 데이터를 불러온다.\n",
    "    data_df = pd.read_csv(path, header=0)\n",
    "    # 질문과 답변 열을 가져와 question과 answer에 넣는다.\n",
    "    question, answer = list(data_df['Q']), list(data_df['A'])\n",
    "\n",
    "    return question, answer\n",
    "\n",
    "\n",
    "def data_tokenizer(data):\n",
    "    # 토크나이징 해서 담을 배열 생성\n",
    "    words = []\n",
    "    for sentence in data:\n",
    "        # FILTERS = \"([~.,!?\\\"':;)(])\"\n",
    "        # 위 필터와 같은 값들을 정규화 표현식을\n",
    "        # 통해서 모두 \"\" 으로 변환 해주는 부분이다.\n",
    "        sentence = re.sub(CHANGE_FILTER, \"\", sentence)\n",
    "        for word in sentence.split():\n",
    "            words.append(word)\n",
    "    # 토그나이징과 정규표현식을 통해 만들어진\n",
    "    # 값들을 넘겨 준다.\n",
    "    return [word for word in words if word]\n",
    "\n",
    "\n",
    "def prepro_like_morphlized(data):\n",
    "    morph_analyzer = Okt()\n",
    "    result_data = list()\n",
    "    for seq in tqdm(data):\n",
    "        morphlized_seq = \" \".join(morph_analyzer.morphs(seq.replace(' ', '')))\n",
    "        result_data.append(morphlized_seq)\n",
    "\n",
    "    return result_data\n",
    "\n",
    "\n",
    "def load_vocabulary(path, vocab_path, tokenize_as_morph=False):\n",
    "    # 사전을 담을 배열 준비한다.\n",
    "    vocabulary_list = []\n",
    "    # 사전을 구성한 후 파일로 저장 진행한다.\n",
    "    # 그 파일의 존재 유무를 확인한다.\n",
    "    if not os.path.exists(vocab_path):\n",
    "        # 이미 생성된 사전 파일이 존재하지 않으므로\n",
    "        # 데이터를 가지고 만들어야 한다.\n",
    "        # 그래서 데이터가 존재 하면 사전을 만들기 위해서\n",
    "        # 데이터 파일의 존재 유무를 확인한다.\n",
    "        if (os.path.exists(path)):\n",
    "            # 데이터가 존재하니 판단스를 통해서\n",
    "            # 데이터를 불러오자\n",
    "            data_df = pd.read_csv(path, encoding='utf-8')\n",
    "            # 판다스의 데이터 프레임을 통해서\n",
    "            # 질문과 답에 대한 열을 가져 온다.\n",
    "            question, answer = list(data_df['Q']), list(data_df['A'])\n",
    "            if tokenize_as_morph:  # 형태소에 따른 토크나이져 처리\n",
    "                question = prepro_like_morphlized(question)\n",
    "                answer = prepro_like_morphlized(answer)\n",
    "            data = []\n",
    "            # 질문과 답변을 extend을\n",
    "            # 통해서 구조가 없는 배열로 만든다.\n",
    "            data.extend(question)\n",
    "            data.extend(answer)\n",
    "            # 토큰나이져 처리 하는 부분이다.\n",
    "            words = data_tokenizer(data)\n",
    "            # 공통적인 단어에 대해서는 모두\n",
    "            # 필요 없으므로 한개로 만들어 주기 위해서\n",
    "            # set해주고 이것들을 리스트로 만들어 준다.\n",
    "            words = list(set(words))\n",
    "            # 데이터 없는 내용중에 MARKER를 사전에\n",
    "            # 추가 하기 위해서 아래와 같이 처리 한다.\n",
    "            # 아래는 MARKER 값이며 리스트의 첫번째 부터\n",
    "            # 순서대로 넣기 위해서 인덱스 0에 추가한다.\n",
    "            # PAD = \"<PADDING>\"\n",
    "            # STD = \"<START>\"\n",
    "            # END = \"<END>\"\n",
    "            # UNK = \"<UNKNWON>\"\n",
    "            words[:0] = MARKER\n",
    "        # 사전을 리스트로 만들었으니 이 내용을\n",
    "        # 사전 파일을 만들어 넣는다.\n",
    "        with open(vocab_path, 'w', encoding='utf-8') as vocabulary_file:\n",
    "            for word in words:\n",
    "                vocabulary_file.write(word + '\\n')\n",
    "\n",
    "    # 사전 파일이 존재하면 여기에서\n",
    "    # 그 파일을 불러서 배열에 넣어 준다.\n",
    "    with open(vocab_path, 'r', encoding='utf-8') as vocabulary_file:\n",
    "        for line in vocabulary_file:\n",
    "            vocabulary_list.append(line.strip())\n",
    "\n",
    "    # 배열에 내용을 키와 값이 있는\n",
    "    # 딕셔너리 구조로 만든다.\n",
    "    char2idx, idx2char = make_vocabulary(vocabulary_list)\n",
    "    # 두가지 형태의 키와 값이 있는 형태를 리턴한다.\n",
    "    # (예) 단어: 인덱스 , 인덱스: 단어)\n",
    "    return char2idx, idx2char, len(char2idx)\n",
    "\n",
    "def make_vocabulary(vocabulary_list):\n",
    "    # 리스트를 키가 단어이고 값이 인덱스인\n",
    "    # 딕셔너리를 만든다.\n",
    "    char2idx = {char: idx for idx, char in enumerate(vocabulary_list)}\n",
    "    # 리스트를 키가 인덱스이고 값이 단어인\n",
    "    # 딕셔너리를 만든다.\n",
    "    idx2char = {idx: char for idx, char in enumerate(vocabulary_list)}\n",
    "    # 두개의 딕셔너리를 넘겨 준다.\n",
    "\n",
    "    # 예제, [안녕, 너는, 누구야]가 데이터로 들어오면\n",
    "    # word2idx는 {'안녕':0, '너는':1, '누구야':2}가 된다. \n",
    "    # idx2word는 {0:'안녕', 1:'너는', 2:'누구야'}가 된다.\n",
    "    return char2idx, idx2char\n",
    "\n",
    "\n",
    "def enc_processing(value, dictionary, tokenize_as_morph=False):\n",
    "    # 인덱스 값들을 가지고 있는\n",
    "    # 배열이다.(누적된다.)\n",
    "    sequences_input_index = []\n",
    "    # 하나의 인코딩 되는 문장의 길이를 가지고 있다.(누적된다.)\n",
    "    sequences_length = []\n",
    "    # 형태소 토크나이징 사용 유무\n",
    "    if tokenize_as_morph:\n",
    "        value = prepro_like_morphlized(value)\n",
    "\n",
    "    # 한줄씩 불어온다.\n",
    "    for sequence in value:\n",
    "        # FILTERS = \"([~.,!?\\\"':;)(])\"\n",
    "        # 정규화를 사용하여 필터에 들어 있는 값들을 \"\" 으로 치환 한다.\n",
    "        sequence = re.sub(CHANGE_FILTER, \"\", sequence)\n",
    "        # 하나의 문장을 인코딩 할때 가지고 있기 위한 배열이다.\n",
    "        sequence_index = []\n",
    "        # 문장을 스페이스 단위로 자르고 있다.\n",
    "        for word in sequence.split():\n",
    "            # 잘려진 단어들이 딕셔너리에 존재 하는지 보고\n",
    "            # 그 값을 가져와 sequence_index에 추가한다.\n",
    "            if dictionary.get(word) is not None:\n",
    "                sequence_index.extend([dictionary[word]])\n",
    "            # 잘려진 단어가 딕셔너리에 존재 하지 않는\n",
    "            # 경우 이므로 UNK(2)를 넣어 준다.\n",
    "            else:\n",
    "                sequence_index.extend([dictionary[UNK]])\n",
    "        # 문장 제한 길이보다 길어질 경우 뒤에 토큰을 자르고 있다.\n",
    "        if len(sequence_index) > MAX_SEQUENCE:\n",
    "            sequence_index = sequence_index[:MAX_SEQUENCE]\n",
    "        # 하나의 문장에 길이를 넣어주고 있다.\n",
    "        sequences_length.append(len(sequence_index))\n",
    "        # max_sequence_length보다 문장 길이가\n",
    "        # 작다면 빈 부분에 PAD(0)를 넣어준다.\n",
    "        sequence_index += (MAX_SEQUENCE - len(sequence_index)) * [dictionary[PAD]]\n",
    "        # 인덱스화 되어 있는 값을\n",
    "        # sequences_input_index에 넣어 준다.\n",
    "        sequences_input_index.append(sequence_index)\n",
    "    # 인덱스화된 일반 배열을 넘파이 배열로 변경한다.\n",
    "    # 이유는 텐서플로우 dataset에 넣어 주기 위한 사전 작업이다.\n",
    "    # 넘파이 배열에 인덱스화된 배열과 그 길이를 넘겨준다.\n",
    "\n",
    "    # 함수 로직 요약\n",
    "    # 우선, 정규 표현식을 활용하여 특수문자 모두 제거\n",
    "    # 만약 어떤 단어가 단어 사전에 포함돼 있지 않다면 UNK 토큰을 넣는다. \n",
    "    # 인코더 최대 길이가 5라고 가정하고 다음 예시를 참조한다. \n",
    "    # 인코더 최대 길이보다 긴 경우: \"안녕 우리 너무 오랜만에 만난거 같다.\"\n",
    "    # 인코더 최대 길이보다 긴 경우 입력값: 안녕, 우리, 너무, 오랜만에, 만난거\n",
    "    # 즉, \"같다.\"가 생략된 입력값이 만들어진다. '\n",
    "    # 그런데, 인코더 최대 길이보다 짧은 경우: \"안녕\"\n",
    "    # 인코더 최대 길이보다 짧은 경우 입력값: \"안녕, <PAD>, <PAD>, <PAD>, <PAD>, <PAD>\"\n",
    "    # 함수의 리턴값을 보면 2개의 값이 반환되는 것을 확인할 수 있다. \n",
    "    return np.asarray(sequences_input_index), sequences_length\n",
    "\n",
    "\n",
    "def dec_output_processing(value, dictionary, tokenize_as_morph=False):\n",
    "    # 인덱스 값들을 가지고 있는\n",
    "    # 배열이다.(누적된다)\n",
    "    sequences_output_index = []\n",
    "    # 하나의 디코딩 입력 되는 문장의\n",
    "    # 길이를 가지고 있다.(누적된다)\n",
    "    sequences_length = []\n",
    "    # 형태소 토크나이징 사용 유무\n",
    "    if tokenize_as_morph:\n",
    "        value = prepro_like_morphlized(value)\n",
    "    # 한줄씩 불어온다.\n",
    "    for sequence in value:\n",
    "        # FILTERS = \"([~.,!?\\\"':;)(])\"\n",
    "        # 정규화를 사용하여 필터에 들어 있는\n",
    "        # 값들을 \"\" 으로 치환 한다.\n",
    "        sequence = re.sub(CHANGE_FILTER, \"\", sequence)\n",
    "        # 하나의 문장을 디코딩 할때 가지고\n",
    "        # 있기 위한 배열이다.\n",
    "        sequence_index = []\n",
    "        # 디코딩 입력의 처음에는 START가 와야 하므로\n",
    "        # 그 값을 넣어 주고 시작한다.\n",
    "        # 문장에서 스페이스 단위별로 단어를 가져와서 딕셔너리의\n",
    "        # 값인 인덱스를 넣어 준다.\n",
    "        sequence_index = [dictionary[STD]] + [dictionary[word] if word in dictionary else dictionary[UNK] for word in sequence.split()]\n",
    "        # 문장 제한 길이보다 길어질 경우 뒤에 토큰을 자르고 있다.\n",
    "        if len(sequence_index) > MAX_SEQUENCE:\n",
    "            sequence_index = sequence_index[:MAX_SEQUENCE]\n",
    "        # 하나의 문장에 길이를 넣어주고 있다.\n",
    "        sequences_length.append(len(sequence_index))\n",
    "        # max_sequence_length보다 문장 길이가\n",
    "        # 작다면 빈 부분에 PAD(0)를 넣어준다.\n",
    "        sequence_index += (MAX_SEQUENCE - len(sequence_index)) * [dictionary[PAD]]\n",
    "        # 인덱스화 되어 있는 값을\n",
    "        # sequences_output_index 넣어 준다.\n",
    "        sequences_output_index.append(sequence_index)\n",
    "    # 인덱스화된 일반 배열을 넘파이 배열로 변경한다.\n",
    "    # 이유는 텐서플로우 dataset에 넣어 주기 위한\n",
    "    # 사전 작업이다.\n",
    "    # 넘파이 배열에 인덱스화된 배열과 그 길이를 넘겨준다.\n",
    "    return np.asarray(sequences_output_index), sequences_length\n",
    "\n",
    "\n",
    "def dec_target_processing(value, dictionary, tokenize_as_morph=False):\n",
    "    # 인덱스 값들을 가지고 있는\n",
    "    # 배열이다.(누적된다)\n",
    "    sequences_target_index = []\n",
    "    # 형태소 토크나이징 사용 유무\n",
    "    if tokenize_as_morph:\n",
    "        value = prepro_like_morphlized(value)\n",
    "    # 한줄씩 불어온다.\n",
    "    for sequence in value:\n",
    "        # FILTERS = \"([~.,!?\\\"':;)(])\"\n",
    "        # 정규화를 사용하여 필터에 들어 있는\n",
    "        # 값들을 \"\" 으로 치환 한다.\n",
    "        sequence = re.sub(CHANGE_FILTER, \"\", sequence)\n",
    "        # 문장에서 스페이스 단위별로 단어를 가져와서\n",
    "        # 딕셔너리의 값인 인덱스를 넣어 준다.\n",
    "        # 디코딩 출력의 마지막에 END를 넣어 준다.\n",
    "        sequence_index = [dictionary[word] if word in dictionary else dictionary[UNK] for word in sequence.split()]\n",
    "        # 문장 제한 길이보다 길어질 경우 뒤에 토큰을 자르고 있다.\n",
    "        # 그리고 END 토큰을 넣어 준다\n",
    "        if len(sequence_index) >= MAX_SEQUENCE:\n",
    "            sequence_index = sequence_index[:MAX_SEQUENCE - 1] + [dictionary[END]]\n",
    "        else:\n",
    "            sequence_index += [dictionary[END]]\n",
    "        # max_sequence_length보다 문장 길이가\n",
    "        # 작다면 빈 부분에 PAD(0)를 넣어준다.\n",
    "        sequence_index += (MAX_SEQUENCE - len(sequence_index)) * [dictionary[PAD]]\n",
    "        # 인덱스화 되어 있는 값을\n",
    "        # sequences_target_index에 넣어 준다.\n",
    "        sequences_target_index.append(sequence_index)\n",
    "    # 인덱스화된 일반 배열을 넘파이 배열로 변경한다.\n",
    "    # 이유는 텐서플로우 dataset에 넣어 주기 위한 사전 작업이다.\n",
    "    # 넘파이 배열에 인덱스화된 배열과 그 길이를 넘겨준다.\n",
    "    return np.asarray(sequences_target_index)"
   ]
  },
  {
   "cell_type": "markdown",
   "metadata": {
    "id": "vRtKibVB7keW"
   },
   "source": [
    "- 이제 데이터 전처리를 수행한다. \n",
    "- 이번에는 띄어쓰기가 아닌 형태소 단위로 토크나이즈 하는 방식으로 전처리한다. "
   ]
  },
  {
   "cell_type": "code",
   "execution_count": 8,
   "metadata": {
    "colab": {
     "base_uri": "https://localhost:8080/"
    },
    "executionInfo": {
     "elapsed": 129213,
     "status": "ok",
     "timestamp": 1609135006493,
     "user": {
      "displayName": "Ji-hoon Jung",
      "photoUrl": "",
      "userId": "03169308685755834042"
     },
     "user_tz": -540
    },
    "id": "3sCLMPhz7oon",
    "outputId": "a0e61ac5-ece1-4c3c-f4a4-8eeb9d9f2dde"
   },
   "outputs": [
    {
     "name": "stderr",
     "output_type": "stream",
     "text": [
      "100%|██████████| 11823/11823 [00:31<00:00, 373.73it/s]\n",
      "100%|██████████| 11823/11823 [00:29<00:00, 394.60it/s]\n",
      "100%|██████████| 11823/11823 [00:29<00:00, 395.66it/s]\n"
     ]
    }
   ],
   "source": [
    "PATH = 'data_in/ChatBotData.csv'\n",
    "VOCAB_PATH = 'data_in/vocabulary.txt'\n",
    "\n",
    "# os.remove(VOCAB_PATH)\n",
    "inputs, outputs = load_data(PATH)\n",
    "char2idx, idx2char, vocab_size = load_vocabulary(PATH, VOCAB_PATH, tokenize_as_morph=True)\n",
    "index_inputs, input_seq_len = enc_processing(inputs, char2idx, tokenize_as_morph=True)\n",
    "index_outputs, output_seq_len = dec_output_processing(outputs, char2idx, tokenize_as_morph=True)\n",
    "index_targets = dec_target_processing(outputs, char2idx, tokenize_as_morph=True)"
   ]
  },
  {
   "cell_type": "markdown",
   "metadata": {
    "id": "zMwILFtC7Ewg"
   },
   "source": [
    "### 시각화 함수 정의\n",
    "- 모형 시각화를 위한 함수를 정의한다. \n"
   ]
  },
  {
   "cell_type": "code",
   "execution_count": 9,
   "metadata": {
    "executionInfo": {
     "elapsed": 129512,
     "status": "ok",
     "timestamp": 1609135006801,
     "user": {
      "displayName": "Ji-hoon Jung",
      "photoUrl": "",
      "userId": "03169308685755834042"
     },
     "user_tz": -540
    },
    "id": "2cVmhr7T7IKh"
   },
   "outputs": [],
   "source": [
    "def plot_graphs(history, string):\n",
    "    plt.plot(history.history[string])\n",
    "    plt.plot(history.history['val_'+string], '')\n",
    "    plt.xlabel(\"Epochs\")\n",
    "    plt.ylabel(string)\n",
    "    plt.legend([string, 'val_'+string])\n",
    "    plt.show()"
   ]
  },
  {
   "cell_type": "markdown",
   "metadata": {
    "id": "J4sfj_fE7EnD"
   },
   "source": [
    "### 학습 데이터 경로 정의\n",
    "- 필요한 학습 데이터 경로를 정의한다. "
   ]
  },
  {
   "cell_type": "code",
   "execution_count": 10,
   "metadata": {
    "executionInfo": {
     "elapsed": 129506,
     "status": "ok",
     "timestamp": 1609135006801,
     "user": {
      "displayName": "Ji-hoon Jung",
      "photoUrl": "",
      "userId": "03169308685755834042"
     },
     "user_tz": -540
    },
    "id": "6n0ecoJg7Ti1"
   },
   "outputs": [],
   "source": [
    "DATA_IN_PATH = './data_in/'\n",
    "DATA_OUT_PATH = './data_out/'\n",
    "TRAIN_INPUTS = 'train_inputs.npy'\n",
    "TRAIN_OUTPUTS = 'train_outputs.npy'\n",
    "TRAIN_TARGETS = 'train_targets.npy'\n",
    "DATA_CONFIGS = 'data_configs.json'"
   ]
  },
  {
   "cell_type": "markdown",
   "metadata": {
    "id": "4GX3BWnP7dQz"
   },
   "source": [
    "### 랜덤 시드 고정\n",
    "- 실험 재현성을 위해 시드를 고정한다. "
   ]
  },
  {
   "cell_type": "code",
   "execution_count": 11,
   "metadata": {
    "executionInfo": {
     "elapsed": 129502,
     "status": "ok",
     "timestamp": 1609135006802,
     "user": {
      "displayName": "Ji-hoon Jung",
      "photoUrl": "",
      "userId": "03169308685755834042"
     },
     "user_tz": -540
    },
    "id": "udNhwPg09soW"
   },
   "outputs": [],
   "source": [
    "SEED_NUM = 1234\n",
    "tf.random.set_seed(SEED_NUM)"
   ]
  },
  {
   "cell_type": "markdown",
   "metadata": {
    "id": "51qJkx9v9vd6"
   },
   "source": [
    "### 학습 데이터 불러오기\n",
    "- 필요한 학습 데이터를 잘 불러오도록 한다. "
   ]
  },
  {
   "cell_type": "code",
   "execution_count": 12,
   "metadata": {
    "executionInfo": {
     "elapsed": 130848,
     "status": "ok",
     "timestamp": 1609135008154,
     "user": {
      "displayName": "Ji-hoon Jung",
      "photoUrl": "",
      "userId": "03169308685755834042"
     },
     "user_tz": -540
    },
    "id": "1P_yAm4r9vFJ"
   },
   "outputs": [],
   "source": [
    "index_inputs = np.load(open(DATA_IN_PATH + TRAIN_INPUTS, 'rb'))\n",
    "index_outputs = np.load(open(DATA_IN_PATH + TRAIN_OUTPUTS , 'rb'))\n",
    "index_targets = np.load(open(DATA_IN_PATH + TRAIN_TARGETS , 'rb'))\n",
    "prepro_configs = json.load(open(DATA_IN_PATH + DATA_CONFIGS, 'r'))"
   ]
  },
  {
   "cell_type": "markdown",
   "metadata": {
    "id": "U16Lgua89508"
   },
   "source": [
    "### 모델 파라미터 정의\n",
    "- 학습 모델에 대한 파라미터를 정의한다. "
   ]
  },
  {
   "cell_type": "code",
   "execution_count": 13,
   "metadata": {
    "executionInfo": {
     "elapsed": 130846,
     "status": "ok",
     "timestamp": 1609135008158,
     "user": {
      "displayName": "Ji-hoon Jung",
      "photoUrl": "",
      "userId": "03169308685755834042"
     },
     "user_tz": -540
    },
    "id": "C3gp_DwZ9_ka"
   },
   "outputs": [],
   "source": [
    "char2idx = prepro_configs['char2idx']\n",
    "end_index = prepro_configs['end_symbol']\n",
    "model_name = 'transformer'\n",
    "vocab_size = prepro_configs['vocab_size']\n",
    "BATCH_SIZE = 64\n",
    "MAX_SEQUENCE = 25\n",
    "EPOCHS = 20\n",
    "VALID_SPLIT = 0.1\n",
    "\n",
    "kargs = {'model_name': model_name,\n",
    "         'num_layers': 2,\n",
    "         'd_model': 512,\n",
    "         'num_heads': 8,\n",
    "         'dff': 2048,\n",
    "         'input_vocab_size': vocab_size,\n",
    "         'target_vocab_size': vocab_size,\n",
    "         'maximum_position_encoding': MAX_SEQUENCE,\n",
    "         'end_token_idx': char2idx[end_index],\n",
    "         'rate': 0.1\n",
    "        }"
   ]
  },
  {
   "cell_type": "markdown",
   "metadata": {
    "id": "tjDSbSra-O7b"
   },
   "source": [
    "## 모델 구현을 위한 4가지 모듈\n",
    "- 트랜스포머의 각 모듈을 직접 정의한 후, 인코더와 디코더 모듈을 만들어 본다. \n",
    "- 우선 모델 구현에 앞서 마스킹을 직접 처리하도록 한다. "
   ]
  },
  {
   "cell_type": "markdown",
   "metadata": {
    "id": "_qCERwBV_ma4"
   },
   "source": [
    "### Masking\n",
    "- 시퀀스의 일괄 처리에서 모든 패드 토큰을 마스킹 한다. \n",
    "- 이렇게 하면 모델이 패딩을 입력으로 처리하지 않는다. \n",
    "- 마스크는 패드 값이 0이 있는 위치를 나타낸다. \n",
    "  + 이 위치에 있으면 1이 출력되고, 그렇지 않으면 0이 출력됩니다.\n",
    "\n"
   ]
  },
  {
   "cell_type": "code",
   "execution_count": 14,
   "metadata": {
    "colab": {
     "base_uri": "https://localhost:8080/"
    },
    "executionInfo": {
     "elapsed": 136333,
     "status": "ok",
     "timestamp": 1609135013650,
     "user": {
      "displayName": "Ji-hoon Jung",
      "photoUrl": "",
      "userId": "03169308685755834042"
     },
     "user_tz": -540
    },
    "id": "0BqAhn_t-KuG",
    "outputId": "036be7bf-3ee4-4c6d-fb88-ef23bc189d6d"
   },
   "outputs": [
    {
     "data": {
      "text/plain": [
       "<tf.Tensor: shape=(3, 1, 1, 5), dtype=float32, numpy=\n",
       "array([[[[0., 0., 1., 1., 0.]]],\n",
       "\n",
       "\n",
       "       [[[0., 0., 0., 1., 1.]]],\n",
       "\n",
       "\n",
       "       [[[1., 1., 1., 0., 0.]]]], dtype=float32)>"
      ]
     },
     "execution_count": 14,
     "metadata": {
      "tags": []
     },
     "output_type": "execute_result"
    }
   ],
   "source": [
    "def create_padding_mask(seq):\n",
    "    seq = tf.cast(tf.math.equal(seq, 0), tf.float32)\n",
    "\n",
    "    # add extra dimensions to add the padding\n",
    "    # to the attention logits.\n",
    "    return seq[:, tf.newaxis, tf.newaxis, :]  # (batch_size, 1, 1, seq_len)\n",
    "\n",
    "# 예제 코드\n",
    "x = tf.constant([[7, 6, 0, 0, 1], [1, 2, 3, 0, 0], [0, 0, 0, 4, 5]])\n",
    "create_padding_mask(x)"
   ]
  },
  {
   "cell_type": "markdown",
   "metadata": {
    "id": "FqN4wi7HAQqg"
   },
   "source": [
    "- 다음 함수는 미래의 토큰을 순차적으로 마스크하는 데 사용된다. (순방향 마스크 어텐션)\n",
    "- 즉, 마스크는 사용하지 말아야 할 입력값을 알게 해준다. \n",
    "  + 삼각형 형태의 행렬을 만들고 마스킹할 영역의 값은 1, 아닌 영역은 0으로 만들면 된다. \n",
    "  + 행렬의 아래쪽 삼각형 영역이 0이 되는 하삼각행렬을 만들 텐데, 이를 만드는 방법은 `tf.linalg.bandpart(입력행렬, -1, 0)`을 실행한다. \n",
    "  + 입력행렬은 모든 값이 1인 행렬을 만든다. \n",
    "  + 이렇게 하 삼각행렬을 만들면 마스킹하고자 하는 영역에 1 값을 주기 위해 상수 1로부터 만들어진 하삼각행렬을 뺀다. 상수 1을 빼는 연산은 행렬에 대해 전체 행렬에 연산이 적용되는 브로드캐스팅 연산이라고 보면 된다. \n",
    "- 이것은 세 번째 단어를 예측하기 위해 첫 번째 단어와 두 번째 단어만 사용된다는 것을 의미한다. 네 번째 단어를 예측하는 것과 유사하게, 첫 번째, 두 번째, 세 번째 단어만 사용된다."
   ]
  },
  {
   "cell_type": "code",
   "execution_count": 15,
   "metadata": {
    "colab": {
     "base_uri": "https://localhost:8080/"
    },
    "executionInfo": {
     "elapsed": 136324,
     "status": "ok",
     "timestamp": 1609135013651,
     "user": {
      "displayName": "Ji-hoon Jung",
      "photoUrl": "",
      "userId": "03169308685755834042"
     },
     "user_tz": -540
    },
    "id": "dbBMZhSLAZ3f",
    "outputId": "d031a02c-c04e-41d3-ead5-684a0652e325"
   },
   "outputs": [
    {
     "data": {
      "text/plain": [
       "<tf.Tensor: shape=(3, 3), dtype=float32, numpy=\n",
       "array([[0., 1., 1.],\n",
       "       [0., 0., 1.],\n",
       "       [0., 0., 0.]], dtype=float32)>"
      ]
     },
     "execution_count": 15,
     "metadata": {
      "tags": []
     },
     "output_type": "execute_result"
    }
   ],
   "source": [
    "def create_look_ahead_mask(size):\n",
    "    mask = 1 - tf.linalg.band_part(tf.ones((size, size)), -1, 0)\n",
    "    return mask  # (seq_len, seq_len)\n",
    "\n",
    "x = tf.random.uniform((1, 3))\n",
    "temp = create_look_ahead_mask(x.shape[1])\n",
    "temp"
   ]
  },
  {
   "cell_type": "markdown",
   "metadata": {
    "id": "b5LGvAAIBGbh"
   },
   "source": [
    "- 위 두가지 함수를 조합하여 마스크를 생성한다. "
   ]
  },
  {
   "cell_type": "code",
   "execution_count": 16,
   "metadata": {
    "executionInfo": {
     "elapsed": 136315,
     "status": "ok",
     "timestamp": 1609135013651,
     "user": {
      "displayName": "Ji-hoon Jung",
      "photoUrl": "",
      "userId": "03169308685755834042"
     },
     "user_tz": -540
    },
    "id": "cA2dkMvuA-3z"
   },
   "outputs": [],
   "source": [
    "def create_masks(inp, tar):\n",
    "    # Encoder padding mask\n",
    "    enc_padding_mask = create_padding_mask(inp)\n",
    "\n",
    "    # Used in the 2nd attention block in the decoder.\n",
    "    # This padding mask is used to mask the encoder outputs.\n",
    "    dec_padding_mask = create_padding_mask(inp)\n",
    "\n",
    "    # Used in the 1st attention block in the decoder.\n",
    "    # It is used to pad and mask future tokens in the input received by \n",
    "    # the decoder.\n",
    "    look_ahead_mask = create_look_ahead_mask(tf.shape(tar)[1])\n",
    "    dec_target_padding_mask = create_padding_mask(tar)\n",
    "    combined_mask = tf.maximum(dec_target_padding_mask, look_ahead_mask)\n",
    "\n",
    "    return enc_padding_mask, combined_mask, dec_padding_mask"
   ]
  },
  {
   "cell_type": "markdown",
   "metadata": {
    "id": "4gxbyIugBSKT"
   },
   "source": [
    "- Masking 처리를 완료한다. "
   ]
  },
  {
   "cell_type": "code",
   "execution_count": 17,
   "metadata": {
    "executionInfo": {
     "elapsed": 136308,
     "status": "ok",
     "timestamp": 1609135013652,
     "user": {
      "displayName": "Ji-hoon Jung",
      "photoUrl": "",
      "userId": "03169308685755834042"
     },
     "user_tz": -540
    },
    "id": "0-IgplFwBQxs"
   },
   "outputs": [],
   "source": [
    "enc_padding_mask, look_ahead_mask, dec_padding_mask = create_masks(index_inputs, index_outputs)"
   ]
  },
  {
   "cell_type": "markdown",
   "metadata": {
    "id": "aTLW4WNKBce3"
   },
   "source": [
    "### 포지셔널 인코딩\n",
    "- 포지션 인코딩(Positional Encoding)은 트랜스포머 모델에 순서 정보가 반영되지 않는 문제를 해결하기 위해 사용한 기법이다. \n",
    "- 포지션 인코딩 수식은 다음과 같다. \n",
    "- 첫번째 수식\n",
    "$$ PE_{(pos, 2i)} = sin(\\frac{pos}{10000^{\\frac{2i}{d_{model}}}}) $$\n",
    "- 위 수식은 피처 차원에서 인덱스가 짝수인 경우에 대해 사인 함수값을 할당하는 것이다. \n",
    "\n",
    "- 두번째 수식\n",
    "$$ PE_{(pos, 2i+1)} = cos(\\frac{pos}{10000^{\\frac{2i}{d_{model}}}}) $$\n",
    "- 위 수식은 반대로 홀수인 경우에 코사인 함수값을 할당하는 것이다. \n",
    "- 사인 함수와 코사인 함수 안에 있는 식은 각 시퀀스 위치에 따라 피처 차원 인덱스에 각자 위치 정보를 달리 주고자 하는 의도를 가지고 있다. \n"
   ]
  },
  {
   "cell_type": "code",
   "execution_count": 18,
   "metadata": {
    "executionInfo": {
     "elapsed": 136984,
     "status": "ok",
     "timestamp": 1609135014333,
     "user": {
      "displayName": "Ji-hoon Jung",
      "photoUrl": "",
      "userId": "03169308685755834042"
     },
     "user_tz": -540
    },
    "id": "8yEukTytBhRP"
   },
   "outputs": [],
   "source": [
    "def get_angles(pos, i, d_model):\n",
    "    angle_rates = 1 / np.power(10000, (2 * i//2) / np.float32(d_model))\n",
    "    return pos * angle_rates"
   ]
  },
  {
   "cell_type": "markdown",
   "metadata": {
    "id": "mf1E6L9rDkoN"
   },
   "source": [
    "- 포지션 임베딩을 만들 행렬을 구성하기 위해 `get_angles` 함수를 선언한다. \n",
    "  + 이 함수가 $\\frac{pos}{10000^{\\frac{2i}{d_{model}}}}$ 값을 만드는 함수다. \n",
    "  + 각 입력의 파라미터는 `pos`, `i`, `d_model`로 돼 있다. \n",
    "- `pos`에는 포지션에 대한 인덱스 위치 리스트를 입력하고, `i`에는 차원에 대한 리스트를 입력한다. \n",
    "- 이렇게 하여 각 순서에 따른 각도값을 얻을 수 있다. \n",
    "- 이제 `get_angles`를 가지고 포지션 임베딩을 만들어 본다. "
   ]
  },
  {
   "cell_type": "code",
   "execution_count": 19,
   "metadata": {
    "executionInfo": {
     "elapsed": 136979,
     "status": "ok",
     "timestamp": 1609135014334,
     "user": {
      "displayName": "Ji-hoon Jung",
      "photoUrl": "",
      "userId": "03169308685755834042"
     },
     "user_tz": -540
    },
    "id": "R9HCnLECDjlw"
   },
   "outputs": [],
   "source": [
    "def positional_encoding(position, d_model):\n",
    "    angle_rads = get_angles(np.arange(position)[:, np.newaxis],\n",
    "                          np.arange(d_model)[np.newaxis, :],\n",
    "                          d_model)\n",
    "\n",
    "    # 짝수\n",
    "    # 0::2의 뜻은 2씩 증가하는 인덱스의 배열 값만 출력\n",
    "    angle_rads[:, 0::2] = np.sin(angle_rads[:, 0::2])\n",
    "\n",
    "    # 홀수\n",
    "    # 1::2의 뜻은 1에서부터 2씩 증가하는 인덱스의 배열 값만 출력된다. \n",
    "    # apply cos to odd indices in the array; 2i+1\n",
    "    angle_rads[:, 1::2] = np.cos(angle_rads[:, 1::2])\n",
    "\n",
    "    # 이렇게 사인, 코사인 함수를 적용한 값은 배열에 할당한다. \n",
    "    # 인코더 및 디코더 레이어에서 바로 활용할 수 있도록 `np.newaxis`를 사용하는데, 이는 새로운 차원을 만드는 것을 의미한다. \n",
    "    # 새로운 차원을 만들려면 포지션 임베딩 행렬의 차원은 [배치 차원 X 시퀀스 차원 X 피처 차원]으로 구성된다. \n",
    "    pos_encoding = angle_rads[np.newaxis, ...]\n",
    "\n",
    "    # 이렇게 구성을 마친 배열은 `tf.cast`를 통해 상수가 되어 모델 그래프에 활용한다. \n",
    "    return tf.cast(pos_encoding, dtype=tf.float32)"
   ]
  },
  {
   "cell_type": "markdown",
   "metadata": {
    "id": "LvAdtcTyFAiA"
   },
   "source": [
    "- `gen_angels` 함수의 결괏값을 출력하면 포지션과 차원별로 각기 다른 값이 순차적으로 할당돼 있다. \n",
    "- 이제 이러한 값들을 짝수 차원에서는 사인 함수를, 홀수 차원에서는 코사인 함수를 적용한다. \n"
   ]
  },
  {
   "cell_type": "code",
   "execution_count": 20,
   "metadata": {
    "colab": {
     "base_uri": "https://localhost:8080/",
     "height": 300
    },
    "executionInfo": {
     "elapsed": 136965,
     "status": "ok",
     "timestamp": 1609135014335,
     "user": {
      "displayName": "Ji-hoon Jung",
      "photoUrl": "",
      "userId": "03169308685755834042"
     },
     "user_tz": -540
    },
    "id": "BpAvvvEbBnMa",
    "outputId": "345c9537-463e-422b-d5d7-d52a5ecbb425"
   },
   "outputs": [
    {
     "name": "stdout",
     "output_type": "stream",
     "text": [
      "(1, 50, 512)\n"
     ]
    },
    {
     "data": {
      "image/png": "[encoded data removed]",
      "text/plain": [
       "<Figure size 432x288 with 2 Axes>"
      ]
     },
     "metadata": {
      "needs_background": "light",
      "tags": []
     },
     "output_type": "display_data"
    }
   ],
   "source": [
    "pos_encoding = positional_encoding(50, 512)\n",
    "print(pos_encoding.shape)\n",
    "\n",
    "plt.pcolormesh(pos_encoding[0], cmap='RdBu')\n",
    "plt.xlabel('Depth')\n",
    "plt.xlim((0, 512))\n",
    "plt.ylabel('Position')\n",
    "plt.colorbar()\n",
    "plt.show()"
   ]
  },
  {
   "cell_type": "markdown",
   "metadata": {
    "id": "vYfPu-uAGyw9"
   },
   "source": [
    "### 스케일 내적 어텐션\n",
    "- 기본적인 내적 어텐션의 입력은 세 가지로 구성이 된다. \n",
    "- query(질의), key(키), value(값)로 들어온다. \n",
    "  + 네이버 영어 사전 검색 방법을 떠올려 보자. \n",
    "  + 찾고자 하는 단어는 `query`가 되고, 사전에 등록되어 있는 단어는 `key`가 된다. 마지막으로, `key`에 해당하는 단어의 의미는 `value`로 볼 수 있다. \n",
    "- 위 개념을 어텐션으로 구현하는 것이다. \n",
    "  + 출처: https://wikidocs.net/31379\n",
    "![](https://wikidocs.net/images/page/31379/transformer14_final.PNG)\n",
    "- 연산 과정을 살펴본다. \n",
    "- 먼저 특정 단어에 대해 다른 모든 단어와 내적해서 어텐션 스코어값을 구한다. \n",
    "  + 즉, `query`에 대해 다른 모든 `key`와 내적해서 어텐션 스코어를 구하는 것이다. \n",
    "  + 이렇게 구한 스코어에 소프트맥스 함수를 적용해 확률값으로 만든 후 다시 다른 모든 단어들, 즉 `value`에 각각 곱해서 `query`와의 관계가 적용된 `value`값으로 만든다. \n",
    "  + 이제 이 값을 모두 더하면 `query`에 대한 문맥 벡터가 된다. \n",
    "- 여기까지는 사실 셀프 어텐션의 구조와 동일하지만, 중간에 크기를 조정하는 과정(`scaling`)이 추가된 것이다. \n",
    "  + 수식은 아래와 같다. \n",
    "$$ Attention(Q, K, V)= softmax(\\frac{AK^{T}}{\\sqrt{d_{k}}})V$$\n",
    "- 위 수식처럼 `query`와 `key`를 내적한 값에 `key` 벡터의 차원 수를 제곱근한 값으로 나눈 후 소프트맥스 함수를 적용한다.\n",
    "  + 여기에서 $D_{k}$는 `key` 벡터의 차원 수를 의미한다. \n",
    "- 내적 어텐션 그래프는 다음과 같다. \n",
    "![](https://www.tensorflow.org/images/tutorials/transformer/scaled_attention.png)\n",
    "- (1) 위 그림에서 확인할 수 있는 것은 먼저 Q(query)벡터와 K(key)벡터에 대해 어텐션 스코어 맵을 만들고 크기를 조정한다. (2) 선택적으로 마스크(mask)를 적용한다. (3) 이 값에 소프트맥스 함수를 적용한 후 마지막으로 `value`에 대해 가중합을 적용한다. \n",
    "- 내적 어텐션에 대한 함수는 다음과 같다. \n"
   ]
  },
  {
   "cell_type": "markdown",
   "metadata": {
    "id": "aUVPDzMuj9eU"
   },
   "source": [
    "### 순방향 마스크 어텐션(Subsequent Masked Attention)\n",
    "- 문장을 예측하는 과정에서 디코더 부분에 입력이 들어가는데, 순환 신경망 구조의 경우 자신보다 앞에 있는 단어만 참고해서 단어를 예측하는 반면, 트랜스포머는 전체 문장이 들어가기 때문에 위치와 상관없이 모든 단어를 참고해서 예측을 한다. \n",
    "  + 이론적으로는 무언가 이상하다. 자기 자신도 예측을 하지 않았는데, 뒤에 있는 단어를 어떻게 예측한다는 것인가?\n",
    "  + 이러한 문제를 해결하기 위해 고안된 기법이 마스크 기법이다. (Masking 참조)\n",
    "- 마스크의 목적은 무엇인가?\n",
    "  + 자신보다 뒤에 나오는 단어를 참조하지 못하도록 행렬의 아래쪽 삼각형 부분을 제외한 값에 마스킹 처리를 해주는 것이다. \n",
    "  + 이를 구현하려면 아래쪽 삼각형 부분을 제외한 값에 매우 작은 값을 넣으면 된다. 여기서는 그 값으로 -10의 9승인 `-1e9`값을 넣어준다. 이것은 특별히 의미가 있는 값이 아니라 매우 작은 어떤 값을 넣어주려는 것이다. \n",
    "- 이제 앞에서 만든 `mask`를 이용해 `padding`이라는 변수를 만든다. \n",
    "- 이제 이렇게 넣어준 값에 소프트맥스 함수에 매우 작은 음수값을 넣어 0값에 수렴하게 만들고, 이렇게 마스킹 처리된 부분을 참고할 수 없도록 하는 것이다. "
   ]
  },
  {
   "cell_type": "code",
   "execution_count": 21,
   "metadata": {
    "executionInfo": {
     "elapsed": 136957,
     "status": "ok",
     "timestamp": 1609135014336,
     "user": {
      "displayName": "Ji-hoon Jung",
      "photoUrl": "",
      "userId": "03169308685755834042"
     },
     "user_tz": -540
    },
    "id": "GnpFr6_UyReQ"
   },
   "outputs": [],
   "source": [
    "def scaled_dot_product_attention(q, k, v, mask):\n",
    "    \"\"\"Calculate the attention weights.\n",
    "    q, k, v must have matching leading dimensions.\n",
    "    k, v must have matching penultimate dimension, i.e.: seq_len_k = seq_len_v.\n",
    "    The mask has different shapes depending on its type(padding or look ahead) \n",
    "    but it must be broadcastable for addition.\n",
    "\n",
    "    Args:\n",
    "    q: query shape == (..., seq_len_q, depth)\n",
    "    k: key shape == (..., seq_len_k, depth)\n",
    "    v: value shape == (..., seq_len_v, depth_v)\n",
    "    mask: Float tensor with shape broadcastable \n",
    "          to (..., seq_len_q, seq_len_k). Defaults to None.\n",
    "\n",
    "    Returns:\n",
    "    output, attention_weights\n",
    "    \"\"\"\n",
    "\n",
    "    # Q와 K의 곱. 어텐션 스코어 행렬.\n",
    "    matmul_qk = tf.matmul(q, k, transpose_b=True)  # (..., seq_len_q, seq_len_k)\n",
    "\n",
    "    # 스케일링\n",
    "    # dk의 루트값으로 나눠준다.\n",
    "    dk = tf.cast(tf.shape(k)[-1], tf.float32)\n",
    "    scaled_attention_logits = matmul_qk / tf.math.sqrt(dk)\n",
    "\n",
    "    # 마스킹. 어텐션 스코어 행렬의 마스킹 할 위치에 매우 작은 음수값을 넣는다.\n",
    "    # 매우 작은 값이므로 소프트맥스 함수를 지나면 행렬의 해당 위치의 값은 0이 된다.\n",
    "    if mask is not None:\n",
    "        scaled_attention_logits += (mask * -1e9)  \n",
    "\n",
    "    # 소프트맥스 함수는 마지막 차원인 key의 문장 길이 방향으로 수행된다.\n",
    "    # attention weight : (batch_size, num_heads, query의 문장 길이, key의 문장 길이)\n",
    "    attention_weights = tf.nn.softmax(scaled_attention_logits, axis=-1)  # (..., seq_len_q, seq_len_k)\n",
    "    \n",
    "    output = tf.matmul(attention_weights, v)  # (..., seq_len_q, depth_v)\n",
    "\n",
    "    return output, attention_weights"
   ]
  },
  {
   "cell_type": "markdown",
   "metadata": {
    "id": "ywb02qJ3yVgk"
   },
   "source": [
    "### 멀티 헤드 어텐션\n",
    "- 멀티 헤드 어텐션은 어텐션 맵을 여럿 만들어 다양한 특징에 대한 어텐션을 볼 수 있도록 하는 방법이다. \n",
    "  + 그림 출처: https://paperswithcode.com/method/multi-head-attention\n",
    "![](https://paperswithcode.com/media/methods/multi-head-attention_l1A3G7a.png)\n",
    "- 내적 어텐션에서 본 query, key, value에 대한 특징값을 헤드 수만큼 나눠서 리니어(Linear) 레이어를 거쳐 내적 어텐션(`Scaled Dot-Product`)를 구해서 다시 합치는 과정을 거친다. \n",
    "- 멀티 헤드 어텐션의 구현은 다음과 같다. \n",
    "\n"
   ]
  },
  {
   "cell_type": "code",
   "execution_count": 22,
   "metadata": {
    "executionInfo": {
     "elapsed": 136951,
     "status": "ok",
     "timestamp": 1609135014336,
     "user": {
      "displayName": "Ji-hoon Jung",
      "photoUrl": "",
      "userId": "03169308685755834042"
     },
     "user_tz": -540
    },
    "id": "OkdYgWdl1SBI"
   },
   "outputs": [],
   "source": [
    "class MultiHeadAttention(tf.keras.layers.Layer):\n",
    "    # **kargs: 입력 파라미터로 받는다. \n",
    "    # d_model: 어텐션을 연산할 때, `key`, `query`, `value`에 대한 차원을 정의하기 위한 파라미터\n",
    "    # num_heads: 어텐션 헤드 수를 정의하기 위한 파라미터 \n",
    "\n",
    "    # 멀티헤드 어텐션에 대한 설정\n",
    "    def __init__(self, **kargs):\n",
    "        super(MultiHeadAttention, self).__init__()\n",
    "        self.num_heads = kargs['num_heads']\n",
    "        self.d_model = kargs['d_model']\n",
    "\n",
    "        # d_model의 차원 수는 헤드 개수만큼 나눠져야 하기 때문에 나머지가 발생하면 안된다. \n",
    "        # assert 구문을 활용해 두 변수를 대상으로 나눗셈 시, 에러가 발생하도록 구현한다. \n",
    "        assert self.d_model % self.num_heads == 0\n",
    "\n",
    "\n",
    "        self.depth = self.d_model // self.num_heads\n",
    "\n",
    "        # 어텐션에 필요한 query, key, value 값을 의미한다. \n",
    "        self.wq = tf.keras.layers.Dense(kargs['d_model'])\n",
    "        self.wk = tf.keras.layers.Dense(kargs['d_model'])\n",
    "        self.wv = tf.keras.layers.Dense(kargs['d_model'])\n",
    "\n",
    "        self.dense = tf.keras.layers.Dense(kargs['d_model'])\n",
    "\n",
    "    # query, key, value에 대한 벡터를 헤드 수 만큼 분리할 수 있게 하는 함수\n",
    "    # [배치 차원 X 시퀀스 차원 X 피처 차원]으로 구성된 벡터를 [배치 차원 X 헤드 차원 X 시퀀스 차원 X 피처 차원]으로 변환하는 역할 수행\n",
    "    def split_heads(self, x, batch_size):\n",
    "        \"\"\"Split the last dimension into (num_heads, depth).\n",
    "        Transpose the result such that the shape is (batch_size, num_heads, seq_len, depth)\n",
    "        \"\"\"\n",
    "        # reshape를 활용하여 피처 차원을 헤드 수 만큼 분리할 수 있다. \n",
    "        # 입력값으로 batch_size를 고정값이 아닌 변동 입력값으로 넣어주는 이유는 모델 학습 시, 입력하는 도중에 입력 배치 데이터의 시퀀스 길이가 매번 바뀌는 경우가 있을 수 있기 때문에 그렇다. \n",
    "        x = tf.reshape(x, (batch_size, -1, self.num_heads, self.depth))\n",
    "\n",
    "        # 시퀀스, 헤드 차원만 바꿀 수 있도록 한다. \n",
    "        return tf.transpose(x, perm=[0, 2, 1, 3])\n",
    "\n",
    "    # 멀티헤드 어텐션이 동작하는 call 함수를 구현한다. \n",
    "    def call(self, v, k, q, mask):\n",
    "        batch_size = tf.shape(q)[0]\n",
    "\n",
    "        q = self.wq(q)  # (batch_size, seq_len, d_model)\n",
    "        k = self.wk(k)  # (batch_size, seq_len, d_model)\n",
    "        v = self.wv(v)  # (batch_size, seq_len, d_model)\n",
    "\n",
    "        q = self.split_heads(q, batch_size)  # (batch_size, num_heads, seq_len_q, depth)\n",
    "        k = self.split_heads(k, batch_size)  # (batch_size, num_heads, seq_len_k, depth)\n",
    "        v = self.split_heads(v, batch_size)  # (batch_size, num_heads, seq_len_v, depth)\n",
    "\n",
    "        # scaled_attention.shape == (batch_size, num_heads, seq_len_q, depth)\n",
    "        # attention_weights.shape == (batch_size, num_heads, seq_len_q, seq_len_k)\n",
    "        scaled_attention, attention_weights = scaled_dot_product_attention(\n",
    "            q, k, v, mask)\n",
    "\n",
    "        scaled_attention = tf.transpose(scaled_attention, perm=[0, 2, 1, 3])  # (batch_size, seq_len_q, num_heads, depth)\n",
    "\n",
    "        concat_attention = tf.reshape(scaled_attention, \n",
    "                                      (batch_size, -1, self.d_model))  # (batch_size, seq_len_q, d_model)\n",
    "\n",
    "        output = self.dense(concat_attention)  # (batch_size, seq_len_q, d_model)\n",
    "\n",
    "        return output, attention_weights"
   ]
  },
  {
   "cell_type": "markdown",
   "metadata": {
    "id": "CQXNDK3bViQB"
   },
   "source": [
    "### 포지션-와이즈 피드 포워드 네트워크\n",
    "- 셀프 어텐션 레이어를 거친 다음 피드 포워드 네트워크를 거치게 돼 있다. \n",
    "- 네트워크는 한 문장에 있는 단어 토큰 벡터 각각에 대해 연산하는 네트워크로서 논문에서는 포지션-와이즈 피드 포워드 네트워크(Position-Wise Feedforward Network)라 표현한다. \n",
    "\n",
    "$$ FFN(x) = max(0, xW_{1} + b_{1})W_{2} + b_{2} $$\n",
    "\n",
    "- 위 수식과 같이 네트워크를 구성하는 데 두 개의 리니어 레이어를 거치고 그 사이 활성화 함수로 `Relu` 함수를 활용한다. \n"
   ]
  },
  {
   "cell_type": "code",
   "execution_count": 23,
   "metadata": {
    "executionInfo": {
     "elapsed": 136945,
     "status": "ok",
     "timestamp": 1609135014337,
     "user": {
      "displayName": "Ji-hoon Jung",
      "photoUrl": "",
      "userId": "03169308685755834042"
     },
     "user_tz": -540
    },
    "id": "fRn4w9SrWax7"
   },
   "outputs": [],
   "source": [
    "def point_wise_feed_forward_network(**kargs):\n",
    "    return tf.keras.Sequential([\n",
    "      tf.keras.layers.Dense(kargs['dff'], activation='relu'),  # (batch_size, seq_len, dff)\n",
    "      tf.keras.layers.Dense(kargs['d_model'])  # (batch_size, seq_len, d_model)\n",
    "    ])"
   ]
  },
  {
   "cell_type": "markdown",
   "metadata": {
    "id": "3NCp12acXXZS"
   },
   "source": [
    "- 위 연산은 `Encoder`와 `Decoder`에서 구현되는 것을 다시 확인할 수 있다. "
   ]
  },
  {
   "cell_type": "markdown",
   "metadata": {
    "id": "1NqQSQpIXeWB"
   },
   "source": [
    "### 리지듀얼 커넥션\n",
    "- 리지듀얼 커넥션에 관한 그림은 다음과 같다. \n",
    "  + 그림출처: https://wikidocs.net/images/page/31379 \n",
    "![](https://wikidocs.net/images/page/31379/transformer22.PNG)\n",
    "- 위 그림과 같이 입력 정보 `x`가 있고, 네트워크 레이어를 거쳐 나온 정보 `F(x)`가 있다고 하면 이 두 정보를 더해 앞에 있던 정보 `x`를 보전한다. \n",
    "- 어떤 함수 F(x)가 트랜스포머에서는 서브층에 해당됩니다. \n",
    "  + 다시 말해 잔차 연결은 서브층의 입력과 출력을 더하는 것을 말합니다.\n",
    "  + 트랜스포머에서 서브층의 입력과 출력은 동일한 차원을 갖고 있으므로, 서브층의 입력과 서브층의 출력은 덧셈 연산을 할 수 있습니다.\n",
    "- 위 코드는 `Encoder`와 `Decoder` 에서 다시한번 주석으로 언급하도록 한다. \n"
   ]
  },
  {
   "cell_type": "markdown",
   "metadata": {
    "id": "ppHhjzG_Z5hr"
   },
   "source": [
    "## 인코더와 디코더 구현\n",
    "- 아래 그림은 지금까지 배운 모듈이 어떻게 트랜스포어의 레이어를 구성하는지 살펴보는 예제라고 보면 된다. \n",
    "\n",
    "![](https://paperswithcode.com/media/methods/new_ModalNet-21.jpg)\n",
    "- 왼쪽이 인코더, 오른쪽이 디코더가 된다. \n",
    "\n"
   ]
  },
  {
   "cell_type": "markdown",
   "metadata": {
    "id": "vzcpQA7XapfZ"
   },
   "source": [
    "### 인코더 레이어 클래스 구현\n",
    "- 인코더 레이어 클래스를 구현하도록 한다. \n",
    "- 멀티 헤드 어텐션 레이어와 피드 포워드 네트워크로 한 레이어를 구성하고, 각 레이어에는 리지듀얼 커넥션이 함께 적용 되어 있다. \n",
    "  + 연산할 레이어 피드 포워드 네트워크와 레이어 노멀라이즈(=정규화)를 각각 생성하는데, 각 레이어별 뉴런을 노멀라이즈하는 역할이라고 이해하면 된다. \n",
    "  + 이 부분은 트랜스포머 네트워크의 전체 구조에서 `Add & Norm`에 해당하는 부분으로 보면 된다. \n"
   ]
  },
  {
   "cell_type": "code",
   "execution_count": 24,
   "metadata": {
    "executionInfo": {
     "elapsed": 136940,
     "status": "ok",
     "timestamp": 1609135014338,
     "user": {
      "displayName": "Ji-hoon Jung",
      "photoUrl": "",
      "userId": "03169308685755834042"
     },
     "user_tz": -540
    },
    "id": "2cAxJ1etakk9"
   },
   "outputs": [],
   "source": [
    "class EncoderLayer(tf.keras.layers.Layer):\n",
    "    def __init__(self, **kargs):\n",
    "        super(EncoderLayer, self).__init__()\n",
    "\n",
    "        self.mha = MultiHeadAttention(**kargs)\n",
    "\n",
    "        # 리지듀얼 커넥션\n",
    "        self.ffn = point_wise_feed_forward_network(**kargs)\n",
    "        self.layernorm1 = tf.keras.layers.LayerNormalization(epsilon=1e-6)\n",
    "        self.layernorm2 = tf.keras.layers.LayerNormalization(epsilon=1e-6)\n",
    "\n",
    "        self.dropout1 = tf.keras.layers.Dropout(kargs['rate'])\n",
    "        self.dropout2 = tf.keras.layers.Dropout(kargs['rate'])\n",
    "\n",
    "    def call(self, x, mask):\n",
    "        attn_output, _ = self.mha(x, x, x, mask)  # (batch_size, input_seq_len, d_model)\n",
    "        attn_output = self.dropout1(attn_output)\n",
    "        out1 = self.layernorm1(x + attn_output)  # (batch_size, input_seq_len, d_model)\n",
    "\n",
    "        ffn_output = self.ffn(out1)  # (batch_size, input_seq_len, d_model)\n",
    "        ffn_output = self.dropout2(ffn_output)\n",
    "        out2 = self.layernorm2(out1 + ffn_output)  # (batch_size, input_seq_len, d_model)\n",
    "\n",
    "        return out2"
   ]
  },
  {
   "cell_type": "markdown",
   "metadata": {
    "id": "JW_XFEjwnjKf"
   },
   "source": [
    "- `__init__` 함수\n",
    "  +  멀티 헤드 어텐션에 적용될 출력 차원 수 `d_model`과 헤드 수 `num_heads`를 적용한다. \n",
    "  + 포지션 와이즈 피드 포워드 네트워크의 차원 수 `dff`를 적용한다. \n",
    "  + 이 세 파라미터로 필요한 레이어의 출력 차원 수를 정의한다. \n",
    "  + 즉, `MultiHeadAttention` 클래스를 활용해 멀티 헤드 어텐션 레이어를 생성하고, `point_wise_feed_forward_network`를 활용해 피드 포워드 네트워크를 생성한다. 마지막으로 레이어 노멀라이제이션과 드롭아웃 레이어를 생성한다. \n",
    "  + 이를 활용하여 `call` 함수에서 연산하도록 한다. \n",
    "- `call` 함수\n",
    "  + 입력 벡터인 `x`와 패딩 마스크 `mask`를 입력 파라미터로 정의\n",
    "  + 먼저 멀티 헤드 어텐션 레이어인 self.mha를 통과한다. \n",
    "  + 리지듀얼 커넥션을 위해 `attn_output`과 입력값 `x`를 더하고, `self.layernorm1`을 통해 레이어 노멀라이제이션을 수행한다. \n",
    "  + 이 결괏값은 `out1`에 할당한다. \n",
    "  + 동일한 방법으로 와이즈 피드 포워드 네트워크를 생성 후, out2에 할당한 후에 인코더 레이어에 출력한다. \n",
    "  + `dropout`을 통해 모델에 `generalization`을 할 수 있도록 도와 준다. \n",
    "- 이렇게 구현한 클래스의 의미는  `여러 개의 인코더를 쎃을 수 있도록 한 것`이다. \n"
   ]
  },
  {
   "cell_type": "markdown",
   "metadata": {
    "id": "EjcXnIkN-bcr"
   },
   "source": [
    "### 인코더 클래스 구현\n",
    "- 인코더를 구현하면 여러 개의 인코더 레이어를 쌓을 수 있도록 준비한 것이다. \n",
    "- 이제 `Encoder` 클래스로 인코더 레이어를 쌓고, 워드 임베딩과 포지션 임베딩 정보를 받아 텍스트에 대한 컨텍스트 정보를 만든다. "
   ]
  },
  {
   "cell_type": "code",
   "execution_count": 30,
   "metadata": {
    "executionInfo": {
     "elapsed": 847,
     "status": "ok",
     "timestamp": 1609138767435,
     "user": {
      "displayName": "Ji-hoon Jung",
      "photoUrl": "",
      "userId": "03169308685755834042"
     },
     "user_tz": -540
    },
    "id": "EcXXR2b9-sIt"
   },
   "outputs": [],
   "source": [
    "class Encoder(tf.keras.layers.Layer):\n",
    "    def __init__(self, **kargs):\n",
    "        super(Encoder, self).__init__()\n",
    "\n",
    "        # num_layers: 인코더 레이어의 수\n",
    "        # d_model: 워드 임베딩과 포지션 임베딩 차원 수를 결정\n",
    "        self.d_model = kargs['d_model']\n",
    "        self.num_layers = kargs['num_layers']\n",
    "\n",
    "        # 워드 임베딩의 사전 수를 입력: input_vocab_size\n",
    "        # 포지션 인코더의 최대 시퀀스 길이 지정: maximum_position_encoding\n",
    "        self.embedding = tf.keras.layers.Embedding(kargs['input_vocab_size'], self.d_model)\n",
    "        self.pos_encoding = positional_encoding(kargs['maximum_position_encoding'], \n",
    "                                                self.d_model)\n",
    "\n",
    "\n",
    "        self.enc_layers = [EncoderLayer(**kargs) \n",
    "                           for _ in range(self.num_layers)]\n",
    "\n",
    "        self.dropout = tf.keras.layers.Dropout(kargs['rate'])\n",
    "\n",
    "    def call(self, x, mask):\n",
    "\n",
    "        seq_len = tf.shape(x)[1]\n",
    "\n",
    "        # 포지션 임베딩의 경우 행렬의 크기가 고정돼 있고, 워드 임베딩의 경우 입력 길이에 따라 가변적\n",
    "        # 임베딩이 할당된 후에 임베딩 차원수의 제곱근만큼에 대한 가중치를 곱한다. \n",
    "        # 이 연산 과정은 각 워드 임베딩에 대해 스케일을 맞추기 위한 것이다. \n",
    "        x = self.embedding(x)  # (batch_size, input_seq_len, d_model)\n",
    "        x *= tf.math.sqrt(tf.cast(self.d_model, tf.float32))\n",
    "        x += self.pos_encoding[:, :seq_len, :]\n",
    "\n",
    "        x = self.dropout(x)\n",
    "\n",
    "        for i in range(self.num_layers):\n",
    "            x = self.enc_layers[i](x, mask)\n",
    "\n",
    "        return x  # (batch_size, input_seq_len, d_model)"
   ]
  },
  {
   "cell_type": "markdown",
   "metadata": {
    "id": "MdhlMUZIAIqN"
   },
   "source": [
    "### 디코더 레이어 클래스 구현\n",
    "- 전체적인 구조는 인코더(그림 왼쪽)와 비슷하다. \n",
    "![](https://paperswithcode.com/media/methods/new_ModalNet-21.jpg)\n",
    "- 다른 점은 인코더의 경우 하나의 블록이 2개의 레이어로 구성되어 있지만, 디코더의 경우 총 3개의 레이어로 구성돼 있다. \n",
    "  + 두개의 어텐션과, 하나의 피드 포워드 레이어로 구성돼 있다. \n",
    "- 첫번째 어텐션은 디코더의 입력 사이의 관계 계산하는 셀프 어텐션 구조\n",
    "  + 마스크 어텐션은, 말 그대로 예측을 해야 하는 디코더에서 특정 단어 이후의 단어를 참고하지 않도록 말한 마스크 기법을 의미\n",
    "- 두번째 어텐션은 인코더의 결과값이 들어는데, 즉 인코더와 디코더의 관계를 확인하는 구조\n",
    "  + 인코더 부분과 동일하게 피드 포워드 레이어를 적용하면 하나의 디코더 블록이 완성된다.\n",
    "\n",
    "- 이제 코드로 구현한다. "
   ]
  },
  {
   "cell_type": "code",
   "execution_count": 34,
   "metadata": {
    "executionInfo": {
     "elapsed": 819,
     "status": "ok",
     "timestamp": 1609138979284,
     "user": {
      "displayName": "Ji-hoon Jung",
      "photoUrl": "",
      "userId": "03169308685755834042"
     },
     "user_tz": -540
    },
    "id": "HYPGlgRzB2Xd"
   },
   "outputs": [],
   "source": [
    "class DecoderLayer(tf.keras.layers.Layer):\n",
    "    def __init__(self, **kargs):\n",
    "        super(DecoderLayer, self).__init__()\n",
    "\n",
    "        self.mha1 = MultiHeadAttention(**kargs)\n",
    "        self.mha2 = MultiHeadAttention(**kargs)\n",
    "        self.ffn = point_wise_feed_forward_network(**kargs)\n",
    "\n",
    "        self.layernorm1 = tf.keras.layers.LayerNormalization(epsilon=1e-6)\n",
    "        self.layernorm2 = tf.keras.layers.LayerNormalization(epsilon=1e-6)\n",
    "        self.layernorm3 = tf.keras.layers.LayerNormalization(epsilon=1e-6)\n",
    "\n",
    "        self.dropout1 = tf.keras.layers.Dropout(kargs['rate'])\n",
    "        self.dropout2 = tf.keras.layers.Dropout(kargs['rate'])\n",
    "        self.dropout3 = tf.keras.layers.Dropout(kargs['rate'])\n",
    "    \n",
    "    \n",
    "    def call(self, x, enc_output, look_ahead_mask, padding_mask):\n",
    "        # enc_output.shape == (batch_size, input_seq_len, d_model)\n",
    "        # 첫번째 레이어\n",
    "        # 디코더 벡터를 가지고 셀프 어텐션 연산을 하는 부분\n",
    "        # 인코더 연산 + 리지듀얼 커녁션 + 레이어 노멀라이즈\n",
    "        attn1, attn_weights_block1 = self.mha1(x, x, x, look_ahead_mask)  # (batch_size, target_seq_len, d_model)\n",
    "        attn1 = self.dropout1(attn1)\n",
    "        out1 = self.layernorm1(attn1 + x)\n",
    "\n",
    "        # 두번째 레이어\n",
    "        # 인코더 정보와 디코더 정보를 가지고 어텐션을 적용한다. \n",
    "        # 즉, 인코더의 결괏값과의 관계를 확인하는 구조다. \n",
    "        attn2, attn_weights_block2 = self.mha2(\n",
    "            enc_output, enc_output, out1, padding_mask)  # (batch_size, target_seq_len, d_model)\n",
    "        attn2 = self.dropout2(attn2)\n",
    "        out2 = self.layernorm2(attn2 + out1)  # (batch_size, target_seq_len, d_model)\n",
    "\n",
    "        # 리지듀얼 커넥션 + 피드 포워드 네트워크 연산\n",
    "        ffn_output = self.ffn(out2)  # (batch_size, target_seq_len, d_model)\n",
    "        ffn_output = self.dropout3(ffn_output)\n",
    "        out3 = self.layernorm3(ffn_output + out2)  # (batch_size, target_seq_len, d_model)\n",
    "\n",
    "        return out3, attn_weights_block1, attn_weights_block2"
   ]
  },
  {
   "cell_type": "markdown",
   "metadata": {
    "id": "pkNLFXZhJki4"
   },
   "source": [
    "### 디코더 클래스 구현\n",
    "- 기존 인코더 레이어와 똑같다. \n",
    "- 다만, 인코더 정보 벡터와 순방뱡 어텐션 마스크를 추가로 입력받는디."
   ]
  },
  {
   "cell_type": "code",
   "execution_count": 35,
   "metadata": {
    "executionInfo": {
     "elapsed": 794,
     "status": "ok",
     "timestamp": 1609138980801,
     "user": {
      "displayName": "Ji-hoon Jung",
      "photoUrl": "",
      "userId": "03169308685755834042"
     },
     "user_tz": -540
    },
    "id": "QMpEupT7JePT"
   },
   "outputs": [],
   "source": [
    "class Decoder(tf.keras.layers.Layer):\n",
    "    def __init__(self, **kargs):\n",
    "        super(Decoder, self).__init__()\n",
    "\n",
    "        self.d_model = kargs['d_model']\n",
    "        self.num_layers = kargs['num_layers']\n",
    "\n",
    "        self.embedding = tf.keras.layers.Embedding(kargs['target_vocab_size'], self.d_model)\n",
    "        self.pos_encoding = positional_encoding(kargs['maximum_position_encoding'], self.d_model)\n",
    "\n",
    "        self.dec_layers = [DecoderLayer(**kargs) \n",
    "                           for _ in range(self.num_layers)]\n",
    "        self.dropout = tf.keras.layers.Dropout(kargs['rate'])\n",
    "\n",
    "    def call(self, x, enc_output, look_ahead_mask, padding_mask):\n",
    "        seq_len = tf.shape(x)[1]\n",
    "        attention_weights = {}\n",
    "\n",
    "        x = self.embedding(x)  # (batch_size, target_seq_len, d_model)\n",
    "        x *= tf.math.sqrt(tf.cast(self.d_model, tf.float32))\n",
    "        x += self.pos_encoding[:, :seq_len, :]\n",
    "\n",
    "        x = self.dropout(x)\n",
    "\n",
    "        for i in range(self.num_layers):\n",
    "            x, block1, block2 = self.dec_layers[i](x, enc_output, look_ahead_mask, padding_mask)\n",
    "\n",
    "            attention_weights['decoder_layer{}_block1'.format(i+1)] = block1\n",
    "            attention_weights['decoder_layer{}_block2'.format(i+1)] = block2\n",
    "\n",
    "        # x.shape == (batch_size, target_seq_len, d_model)\n",
    "        return x, attention_weights"
   ]
  },
  {
   "cell_type": "markdown",
   "metadata": {
    "id": "BXWcH2hsJcTb"
   },
   "source": []
  },
  {
   "cell_type": "markdown",
   "metadata": {
    "id": "HfXoDkYbGgkH"
   },
   "source": [
    "## 트랜스 모델 클래스 구현\n",
    "- 이제 인코더와 디코더 모듈을 바탕으로 시퀀스 투 시퀀스 모델 형태로 구현한다. "
   ]
  },
  {
   "cell_type": "code",
   "execution_count": 26,
   "metadata": {
    "executionInfo": {
     "elapsed": 483,
     "status": "ok",
     "timestamp": 1609138092867,
     "user": {
      "displayName": "Ji-hoon Jung",
      "photoUrl": "",
      "userId": "03169308685755834042"
     },
     "user_tz": -540
    },
    "id": "2VM7lqFQGn25"
   },
   "outputs": [],
   "source": [
    "class Transformer(tf.keras.Model):\n",
    "    def __init__(self, **kargs):\n",
    "        super(Transformer, self).__init__(name=kargs['model_name'])\n",
    "\n",
    "        # 마지막 `end_token`에 대한 인덱스 값을 저장하는 변수로써 `inference` 함수에서 `end_token` 이후로는 더 이상 추론 모델을 하지 않도록 하는 역할을 한다.\n",
    "        self.end_token_idx = kargs['end_token_idx']\n",
    "\n",
    "        # 인코더 레이어 선언\n",
    "        self.encoder = Encoder(**kargs)\n",
    "\n",
    "        # 디코더 레이어 선언\n",
    "        self.decoder = Decoder(**kargs)\n",
    "        \n",
    "        # 출력 피드 포워드 레이어 선언\n",
    "        self.final_layer = tf.keras.layers.Dense(kargs['target_vocab_size'])\n",
    "\n",
    "    def call(self, x):\n",
    "        \n",
    "        # 인코더와 디코더에 들어갈 값\n",
    "        inp, tar = x\n",
    "        \n",
    "        # 패딩 마스크, 디코더에서 사용할 순방향 마스크 할당\n",
    "        # 이 입력값으로 인코더, 디코더, 피드 포워드 네트워크를 거쳐 출력한다. \n",
    "        # 이렇게 하면 출력에서는 입력에 대한 디코더 출력값을 받을 수 있도록 한다. \n",
    "        # 그리고, 이 출력 값을 정답 데이터와 비교해서 로스값을 구한다. \n",
    "        enc_padding_mask, look_ahead_mask, dec_padding_mask = create_masks(inp, tar)\n",
    "        enc_output = self.encoder(inp, enc_padding_mask)  # (batch_size, inp_seq_len, d_model)\n",
    "\n",
    "        # dec_output.shape == (batch_size, tar_seq_len, d_model)\n",
    "        dec_output, _ = self.decoder(\n",
    "            tar, enc_output, look_ahead_mask, dec_padding_mask)\n",
    "\n",
    "        final_output = self.final_layer(dec_output)  # (batch_size, tar_seq_len, target_vocab_size)\n",
    "\n",
    "        return final_output\n",
    "    \n",
    "    def inference(self, x):\n",
    "        # 기본적으로 call 함수와 비슷하다. \n",
    "        inp = x\n",
    "        tar = tf.expand_dims([STD_INDEX], 0)\n",
    "\n",
    "        enc_padding_mask, look_ahead_mask, dec_padding_mask = create_masks(inp, tar)        \n",
    "        enc_output = self.encoder(inp, enc_padding_mask)\n",
    "        \n",
    "        predict_tokens = list()\n",
    "\n",
    "        # 디코더에 입력할 시퀀스를 매번 생성하는 코드이며, `end_token`이 나오면 생성을 멈춘다. \n",
    "        for t in range(0, MAX_SEQUENCE):\n",
    "            dec_output, _ = self.decoder(tar, enc_output, look_ahead_mask, dec_padding_mask)\n",
    "            final_output = self.final_layer(dec_output)\n",
    "            outputs = tf.argmax(final_output, -1).numpy()\n",
    "            pred_token = outputs[0][-1]\n",
    "            if pred_token == self.end_token_idx:\n",
    "                break\n",
    "            predict_tokens.append(pred_token)\n",
    "            tar = tf.expand_dims([STD_INDEX] + predict_tokens, 0)\n",
    "            _, look_ahead_mask, dec_padding_mask = create_masks(inp, tar)\n",
    "            \n",
    "        return predict_tokens"
   ]
  },
  {
   "cell_type": "markdown",
   "metadata": {
    "id": "QxVC7zaBIyrv"
   },
   "source": [
    "### 평가 지표 함수 구현 \n",
    "- 우선 모델의 평가 지표를 산출하는 함수를 구현한다. "
   ]
  },
  {
   "cell_type": "code",
   "execution_count": 28,
   "metadata": {
    "executionInfo": {
     "elapsed": 868,
     "status": "ok",
     "timestamp": 1609138736763,
     "user": {
      "displayName": "Ji-hoon Jung",
      "photoUrl": "",
      "userId": "03169308685755834042"
     },
     "user_tz": -540
    },
    "id": "ng1NcRRfI5uB"
   },
   "outputs": [],
   "source": [
    "loss_object = tf.keras.losses.SparseCategoricalCrossentropy(\n",
    "    from_logits=True, reduction='none')\n",
    "\n",
    "train_accuracy = tf.keras.metrics.SparseCategoricalAccuracy(name='accuracy')\n",
    "\n",
    "def loss(real, pred):\n",
    "    mask = tf.math.logical_not(tf.math.equal(real, 0))\n",
    "    loss_ = loss_object(real, pred)\n",
    "\n",
    "    mask = tf.cast(mask, dtype=loss_.dtype)\n",
    "    loss_ *= mask\n",
    "\n",
    "    return tf.reduce_mean(loss_)\n",
    "\n",
    "def accuracy(real, pred):\n",
    "    mask = tf.math.logical_not(tf.math.equal(real, 0))\n",
    "    mask = tf.expand_dims(tf.cast(mask, dtype=pred.dtype), axis=-1)\n",
    "    pred *= mask    \n",
    "    acc = train_accuracy(real, pred)\n",
    "\n",
    "    return tf.reduce_mean(acc)"
   ]
  },
  {
   "cell_type": "markdown",
   "metadata": {
    "id": "ielTcqsFJL4Y"
   },
   "source": [
    "### 모델 정의\n",
    "- 모델을 정의한다. "
   ]
  },
  {
   "cell_type": "code",
   "execution_count": 36,
   "metadata": {
    "executionInfo": {
     "elapsed": 773,
     "status": "ok",
     "timestamp": 1609138985346,
     "user": {
      "displayName": "Ji-hoon Jung",
      "photoUrl": "",
      "userId": "03169308685755834042"
     },
     "user_tz": -540
    },
    "id": "O-fZ0ybBJNwj"
   },
   "outputs": [],
   "source": [
    "model = Transformer(**kargs)\n",
    "model.compile(optimizer=tf.keras.optimizers.Adam(1e-4),\n",
    "              loss=loss,\n",
    "              metrics=[accuracy])"
   ]
  },
  {
   "cell_type": "markdown",
   "metadata": {
    "id": "jM_YGAhlJJTb"
   },
   "source": [
    "### Call Back 선언\n",
    "- 과적합 방지를 위해 `CallBack` 선언을 진행한다. "
   ]
  },
  {
   "cell_type": "code",
   "execution_count": 37,
   "metadata": {
    "colab": {
     "base_uri": "https://localhost:8080/"
    },
    "executionInfo": {
     "elapsed": 806,
     "status": "ok",
     "timestamp": 1609139066897,
     "user": {
      "displayName": "Ji-hoon Jung",
      "photoUrl": "",
      "userId": "03169308685755834042"
     },
     "user_tz": -540
    },
    "id": "s-S4lCa2KL0B",
    "outputId": "681274ba-d3bd-4ee5-97ac-e4bf83d09810"
   },
   "outputs": [
    {
     "name": "stdout",
     "output_type": "stream",
     "text": [
      "./data_out/transformer -- Folder create complete \n",
      "\n"
     ]
    }
   ],
   "source": [
    "# overfitting을 막기 위한 ealrystop 추가\n",
    "earlystop_callback = EarlyStopping(monitor='val_accuracy', min_delta=0.0001, patience=10)\n",
    "# min_delta: the threshold that triggers the termination (acc should at least improve 0.0001)\n",
    "# patience: no improvment epochs (patience = 1, 1번 이상 상승이 없으면 종료)\n",
    "\n",
    "checkpoint_path = DATA_OUT_PATH + model_name + '/weights.h5'\n",
    "checkpoint_dir = os.path.dirname(checkpoint_path)\n",
    "\n",
    "# Create path if exists\n",
    "if os.path.exists(checkpoint_dir):\n",
    "    print(\"{} -- Folder already exists \\n\".format(checkpoint_dir))\n",
    "else:\n",
    "    os.makedirs(checkpoint_dir, exist_ok=True)\n",
    "    print(\"{} -- Folder create complete \\n\".format(checkpoint_dir))\n",
    "    \n",
    "\n",
    "cp_callback = ModelCheckpoint(\n",
    "    checkpoint_path, monitor='val_accuracy', verbose=1, save_best_only=True, save_weights_only=True)"
   ]
  },
  {
   "cell_type": "markdown",
   "metadata": {
    "id": "jmtX_7zWKZ7K"
   },
   "source": [
    "### 모형 학습\n",
    "- 이제 모형을 학습한다. "
   ]
  },
  {
   "cell_type": "code",
   "execution_count": 39,
   "metadata": {
    "colab": {
     "base_uri": "https://localhost:8080/"
    },
    "executionInfo": {
     "elapsed": 735928,
     "status": "ok",
     "timestamp": 1609139906641,
     "user": {
      "displayName": "Ji-hoon Jung",
      "photoUrl": "",
      "userId": "03169308685755834042"
     },
     "user_tz": -540
    },
    "id": "FD7Igd4DKb4B",
    "outputId": "2f72da1c-8a86-4c44-9d0f-591bb81d0ea2"
   },
   "outputs": [
    {
     "name": "stdout",
     "output_type": "stream",
     "text": [
      "Epoch 1/20\n",
      "167/167 [==============================] - 47s 217ms/step - loss: 1.7586 - accuracy: 0.8082 - val_loss: 1.6887 - val_accuracy: 0.8078\n",
      "\n",
      "Epoch 00001: val_accuracy improved from -inf to 0.80776, saving model to ./data_out/transformer/weights.h5\n",
      "Epoch 2/20\n",
      "167/167 [==============================] - 35s 211ms/step - loss: 1.3753 - accuracy: 0.8081 - val_loss: 1.5989 - val_accuracy: 0.8111\n",
      "\n",
      "Epoch 00002: val_accuracy improved from 0.80776 to 0.81113, saving model to ./data_out/transformer/weights.h5\n",
      "Epoch 3/20\n",
      "167/167 [==============================] - 35s 210ms/step - loss: 1.2364 - accuracy: 0.8126 - val_loss: 1.5313 - val_accuracy: 0.8168\n",
      "\n",
      "Epoch 00003: val_accuracy improved from 0.81113 to 0.81676, saving model to ./data_out/transformer/weights.h5\n",
      "Epoch 4/20\n",
      "167/167 [==============================] - 35s 210ms/step - loss: 1.1309 - accuracy: 0.8181 - val_loss: 1.5040 - val_accuracy: 0.8222\n",
      "\n",
      "Epoch 00004: val_accuracy improved from 0.81676 to 0.82218, saving model to ./data_out/transformer/weights.h5\n",
      "Epoch 5/20\n",
      "167/167 [==============================] - 35s 208ms/step - loss: 1.0221 - accuracy: 0.8235 - val_loss: 1.4805 - val_accuracy: 0.8272\n",
      "\n",
      "Epoch 00005: val_accuracy improved from 0.82218 to 0.82725, saving model to ./data_out/transformer/weights.h5\n",
      "Epoch 6/20\n",
      "167/167 [==============================] - 35s 209ms/step - loss: 0.9162 - accuracy: 0.8286 - val_loss: 1.4772 - val_accuracy: 0.8322\n",
      "\n",
      "Epoch 00006: val_accuracy improved from 0.82725 to 0.83224, saving model to ./data_out/transformer/weights.h5\n",
      "Epoch 7/20\n",
      "167/167 [==============================] - 35s 208ms/step - loss: 0.8458 - accuracy: 0.8335 - val_loss: 1.4869 - val_accuracy: 0.8372\n",
      "\n",
      "Epoch 00007: val_accuracy improved from 0.83224 to 0.83720, saving model to ./data_out/transformer/weights.h5\n",
      "Epoch 8/20\n",
      "167/167 [==============================] - 35s 208ms/step - loss: 0.7377 - accuracy: 0.8385 - val_loss: 1.4840 - val_accuracy: 0.8422\n",
      "\n",
      "Epoch 00008: val_accuracy improved from 0.83720 to 0.84216, saving model to ./data_out/transformer/weights.h5\n",
      "Epoch 9/20\n",
      "167/167 [==============================] - 35s 208ms/step - loss: 0.6555 - accuracy: 0.8435 - val_loss: 1.4999 - val_accuracy: 0.8472\n",
      "\n",
      "Epoch 00009: val_accuracy improved from 0.84216 to 0.84717, saving model to ./data_out/transformer/weights.h5\n",
      "Epoch 10/20\n",
      "167/167 [==============================] - 35s 209ms/step - loss: 0.5778 - accuracy: 0.8485 - val_loss: 1.5161 - val_accuracy: 0.8522\n",
      "\n",
      "Epoch 00010: val_accuracy improved from 0.84717 to 0.85221, saving model to ./data_out/transformer/weights.h5\n",
      "Epoch 11/20\n",
      "167/167 [==============================] - 35s 211ms/step - loss: 0.5082 - accuracy: 0.8535 - val_loss: 1.5095 - val_accuracy: 0.8573\n",
      "\n",
      "Epoch 00011: val_accuracy improved from 0.85221 to 0.85732, saving model to ./data_out/transformer/weights.h5\n",
      "Epoch 12/20\n",
      "167/167 [==============================] - 35s 208ms/step - loss: 0.4361 - accuracy: 0.8586 - val_loss: 1.5377 - val_accuracy: 0.8624\n",
      "\n",
      "Epoch 00012: val_accuracy improved from 0.85732 to 0.86242, saving model to ./data_out/transformer/weights.h5\n",
      "Epoch 13/20\n",
      "167/167 [==============================] - 35s 209ms/step - loss: 0.3740 - accuracy: 0.8637 - val_loss: 1.5571 - val_accuracy: 0.8675\n",
      "\n",
      "Epoch 00013: val_accuracy improved from 0.86242 to 0.86752, saving model to ./data_out/transformer/weights.h5\n",
      "Epoch 14/20\n",
      "167/167 [==============================] - 35s 208ms/step - loss: 0.3160 - accuracy: 0.8688 - val_loss: 1.5722 - val_accuracy: 0.8725\n",
      "\n",
      "Epoch 00014: val_accuracy improved from 0.86752 to 0.87252, saving model to ./data_out/transformer/weights.h5\n",
      "Epoch 15/20\n",
      "167/167 [==============================] - 34s 207ms/step - loss: 0.2675 - accuracy: 0.8737 - val_loss: 1.5928 - val_accuracy: 0.8774\n",
      "\n",
      "Epoch 00015: val_accuracy improved from 0.87252 to 0.87739, saving model to ./data_out/transformer/weights.h5\n",
      "Epoch 16/20\n",
      "167/167 [==============================] - 35s 207ms/step - loss: 0.2170 - accuracy: 0.8786 - val_loss: 1.6046 - val_accuracy: 0.8821\n",
      "\n",
      "Epoch 00016: val_accuracy improved from 0.87739 to 0.88212, saving model to ./data_out/transformer/weights.h5\n",
      "Epoch 17/20\n",
      "167/167 [==============================] - 35s 207ms/step - loss: 0.1818 - accuracy: 0.8833 - val_loss: 1.6292 - val_accuracy: 0.8867\n",
      "\n",
      "Epoch 00017: val_accuracy improved from 0.88212 to 0.88667, saving model to ./data_out/transformer/weights.h5\n",
      "Epoch 18/20\n",
      "167/167 [==============================] - 35s 207ms/step - loss: 0.1505 - accuracy: 0.8877 - val_loss: 1.6483 - val_accuracy: 0.8910\n",
      "\n",
      "Epoch 00018: val_accuracy improved from 0.88667 to 0.89099, saving model to ./data_out/transformer/weights.h5\n",
      "Epoch 19/20\n",
      "167/167 [==============================] - 35s 209ms/step - loss: 0.1241 - accuracy: 0.8920 - val_loss: 1.6703 - val_accuracy: 0.8951\n",
      "\n",
      "Epoch 00019: val_accuracy improved from 0.89099 to 0.89509, saving model to ./data_out/transformer/weights.h5\n",
      "Epoch 20/20\n",
      "167/167 [==============================] - 35s 208ms/step - loss: 0.0984 - accuracy: 0.8960 - val_loss: 1.6781 - val_accuracy: 0.8990\n",
      "\n",
      "Epoch 00020: val_accuracy improved from 0.89509 to 0.89895, saving model to ./data_out/transformer/weights.h5\n"
     ]
    }
   ],
   "source": [
    "history = model.fit([index_inputs, index_outputs], index_targets, \n",
    "                    batch_size=BATCH_SIZE, epochs=EPOCHS,\n",
    "                    validation_split=VALID_SPLIT, callbacks=[earlystop_callback, cp_callback])"
   ]
  },
  {
   "cell_type": "markdown",
   "metadata": {
    "id": "-_vZoYRAKfbh"
   },
   "source": [
    "### 모형 결과에 대한 결과\n",
    "- 성능 그래프를 출력한다. "
   ]
  },
  {
   "cell_type": "code",
   "execution_count": 40,
   "metadata": {
    "colab": {
     "base_uri": "https://localhost:8080/",
     "height": 279
    },
    "executionInfo": {
     "elapsed": 736398,
     "status": "ok",
     "timestamp": 1609139907127,
     "user": {
      "displayName": "Ji-hoon Jung",
      "photoUrl": "",
      "userId": "03169308685755834042"
     },
     "user_tz": -540
    },
    "id": "t2LApH0bKlEX",
    "outputId": "979f1347-72e3-4969-9aad-39df049cdda3"
   },
   "outputs": [
    {
     "data": {
      "image/png": "[encoded data removed]",
      "text/plain": [
       "<Figure size 432x288 with 1 Axes>"
      ]
     },
     "metadata": {
      "needs_background": "light",
      "tags": []
     },
     "output_type": "display_data"
    }
   ],
   "source": [
    "plot_graphs(history, 'accuracy')"
   ]
  },
  {
   "cell_type": "code",
   "execution_count": 41,
   "metadata": {
    "colab": {
     "base_uri": "https://localhost:8080/",
     "height": 279
    },
    "executionInfo": {
     "elapsed": 736396,
     "status": "ok",
     "timestamp": 1609139907128,
     "user": {
      "displayName": "Ji-hoon Jung",
      "photoUrl": "",
      "userId": "03169308685755834042"
     },
     "user_tz": -540
    },
    "id": "oRldE69UKmlv",
    "outputId": "1ee8abbd-c73e-43db-ed06-52295cb77ce5"
   },
   "outputs": [
    {
     "data": {
      "image/png": "[encoded data removed]",
      "text/plain": [
       "<Figure size 432x288 with 1 Axes>"
      ]
     },
     "metadata": {
      "needs_background": "light",
      "tags": []
     },
     "output_type": "display_data"
    }
   ],
   "source": [
    "plot_graphs(history, 'loss')"
   ]
  },
  {
   "cell_type": "markdown",
   "metadata": {
    "id": "3CbaR_lQKobA"
   },
   "source": [
    "## 모형 결과 테스트\n",
    "- 저장된 모형을 불러와서 테스트를 진행한다. "
   ]
  },
  {
   "cell_type": "code",
   "execution_count": 52,
   "metadata": {
    "colab": {
     "base_uri": "https://localhost:8080/"
    },
    "executionInfo": {
     "elapsed": 1422,
     "status": "ok",
     "timestamp": 1609140074864,
     "user": {
      "displayName": "Ji-hoon Jung",
      "photoUrl": "",
      "userId": "03169308685755834042"
     },
     "user_tz": -540
    },
    "id": "5hATe2I_Ksz3",
    "outputId": "c812d134-93df-466c-e66a-3a5537ff090f"
   },
   "outputs": [
    {
     "name": "stdout",
     "output_type": "stream",
     "text": [
      "하늘 만큼 땅 만큼 축하 해 요\n"
     ]
    }
   ],
   "source": [
    "DATA_OUT_PATH = './data_out/'\n",
    "SAVE_FILE_NM = 'weights.h5'\n",
    "\n",
    "model.load_weights(os.path.join(DATA_OUT_PATH, model_name, SAVE_FILE_NM))\n",
    "\n",
    "char2idx = prepro_configs['char2idx']\n",
    "idx2char = prepro_configs['idx2char']\n",
    "\n",
    "text = \"승진 선물로 뭐가 좋을까요?\"\n",
    "test_index_inputs, _ = enc_processing([text], char2idx)\n",
    "outputs = model.inference(test_index_inputs)\n",
    "\n",
    "print(' '.join([idx2char[str(o)] for o in outputs]))"
   ]
  },
  {
   "cell_type": "markdown",
   "metadata": {
    "id": "-CWwrT5_a7H4"
   },
   "source": [
    "- "
   ]
  }
 ],
 "metadata": {
  "accelerator": "GPU",
  "colab": {
   "authorship_tag": "ABX9TyPESsU9KqRdyDGICG4n3ZL0",
   "collapsed_sections": [],
   "name": "step_03_transformer.ipynb",
   "provenance": [],
   "toc_visible": true
  },
  "kernelspec": {
   "display_name": "Python 3",
   "language": "python",
   "name": "python3"
  },
  "language_info": {
   "codemirror_mode": {
    "name": "ipython",
    "version": 3
   },
   "file_extension": ".py",
   "mimetype": "text/x-python",
   "name": "python",
   "nbconvert_exporter": "python",
   "pygments_lexer": "ipython3",
   "version": "3.8.3"
  }
 },
 "nbformat": 4,
 "nbformat_minor": 1
}
