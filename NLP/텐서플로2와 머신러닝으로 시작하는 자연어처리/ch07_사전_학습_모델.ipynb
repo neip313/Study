{
 "cells": [
  {
   "cell_type": "markdown",
   "metadata": {},
   "source": [
    "# 사전 학습 모델  \n",
    "- 기존에 자비어(Xavier) 등 임의의 값으로 초기화하던 모델의 가중치들을 다른 문제(task)에 학습시킨 가중치들로 초기화하는 방법\n",
    "\n",
    "ex) \n",
    "텍스트 유사도 예측 모델을 만들기 전 감정 분석 문제를 학습한 모델의 가중치를 활용해 텍스트 유사도 모델의 가중치로 활용하는 방법. 즉, 감정 분석 문제를 학습하면서 얻은 언어에 대한 이해를 학습한 후 그 정보를 유사도 문제를 학습하는 데 활용하는 방식  \n",
    "\n",
    "- 하위 문제(downstream task) : 사전 학습한 가중치를 활용해 학습하고자 하는 본 문제 \n",
    "- 사전 학습 문제(pre-train task) : 사전 학습한 모델  \n",
    "\n",
    "=> 주로 당장 활용할 데이터가 많지 않아 가중치를 초기화해서 부여하는 것이 적절치 못할 때 사전에 학습된 모델에 가중치를 활용하는 것이다. "
   ]
  },
  {
   "cell_type": "markdown",
   "metadata": {},
   "source": [
    "**사전 학습한 가중치를 활용하는 방법** \n",
    "1. 특징 기반(feature-based) : 사전 학습된 특징을 하위 문제의 모델에 부가적인 특징으로 활용하는 방법\n",
    "ex) word2vec으로 학습한 임베딩 특징 \n",
    "\n",
    "2. 미세 조정(fine-tuning) : 사전 학습한 모든 가중치와 더불어 하위 문제를 위한 최소한의 가중치를 추가해서 모델을 추가로 학습(미세 조정)하는 방법 "
   ]
  }
 ],
 "metadata": {
  "kernelspec": {
   "display_name": "Python 3",
   "language": "python",
   "name": "python3"
  },
  "language_info": {
   "codemirror_mode": {
    "name": "ipython",
    "version": 3
   },
   "file_extension": ".py",
   "mimetype": "text/x-python",
   "name": "python",
   "nbconvert_exporter": "python",
   "pygments_lexer": "ipython3",
   "version": "3.8.3"
  }
 },
 "nbformat": 4,
 "nbformat_minor": 4
}
