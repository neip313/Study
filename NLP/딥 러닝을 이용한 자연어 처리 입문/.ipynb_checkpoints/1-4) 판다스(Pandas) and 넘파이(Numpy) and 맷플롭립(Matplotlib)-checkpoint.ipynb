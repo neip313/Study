{
 "cells": [
  {
   "cell_type": "markdown",
   "metadata": {
    "id": "WsLfasqc6OaD"
   },
   "source": [
    "# 4) 판다스(Pandas) and 넘파이(Numpy) and 맷플롭립(Matplotlib)\n",
    "데이터 분석을 위한 필수 패키지 삼대장이 있습니다. 바로 Pandas와 Numpy 그리고 Matplotlib입니다. 세 개의 패키지 모두 아나콘다를 설치했다면 자동으로 설치되어져 있습니다. 이번 챕터에서는 이 세 개의 패키지에 대해서 알아봅니다."
   ]
  },
  {
   "cell_type": "markdown",
   "metadata": {
    "id": "jBa-MCEl6SUn"
   },
   "source": [
    "## 1. 판다스(Pandas)\n",
    "판다스(Pandas)는 파이썬 데이터 처리를 위한 라이브러리입니다. 파이썬을 이용한 데이터 분석과 같은 작업에서 필수 라이브러리로 알려져있습니다. 참고 할 수 있는 Pandas 링크는 다음과 같습니다.\n",
    "\n",
    "링크 : http://pandas.pydata.org/pandas-docs/stable/\n",
    "\n",
    "아나콘다를 설치하지 않았다면 아래의 커맨드로 Pandas를 별도 설치할 수 있습니다."
   ]
  },
  {
   "cell_type": "code",
   "execution_count": null,
   "metadata": {
    "id": "3myiDGG96gF-"
   },
   "outputs": [],
   "source": [
    "pip install pandas"
   ]
  },
  {
   "cell_type": "markdown",
   "metadata": {
    "id": "bj_8wE6B6k42"
   },
   "source": [
    "prompt로 실행시 다음과 같이 버전 확인 \n",
    "```\n",
    "> ipython\n",
    "...\n",
    "In [1]: import pandas as pd\n",
    "In [2]: pd.__version__\n",
    "Out[2]: '0.25.1'\n",
    "```\n",
    "Pandas의 경우, 주로 pd라는 명칭으로 임포트하는 것이 관례입니다.\n",
    "\n"
   ]
  },
  {
   "cell_type": "code",
   "execution_count": null,
   "metadata": {
    "id": "05n6lJjB6hef"
   },
   "outputs": [],
   "source": [
    "import pandas as pd"
   ]
  },
  {
   "cell_type": "markdown",
   "metadata": {
    "id": "y9PgtAbZ6sw_"
   },
   "source": [
    "이하 아래에서 수행되는 모든 Pandas 코드들은 위의 임포트 코드를 우선 수행했다고 가정합니다.\n",
    "\n",
    "Pandas는 총 세 가지의 데이터 구조를 사용합니다.\n",
    "1. 시리즈(Series)\n",
    "2. 데이터프레임(DataFrame)\n",
    "3. 패널(Panel)\n",
    "\n",
    "이 중 데이터프레임이 가장 많이 사용되며, 이 챕터에서는 시리즈와 데이터프레임에 대해서 배웁니다.\n",
    "\n",
    "###1) 시리즈(Series)\n",
    "시리즈 클래스는 1차원 배열의 값(values)에 각 값에 대응되는 인덱스(index)를 부여할 수 있는 구조를 갖고 있습니다."
   ]
  },
  {
   "cell_type": "code",
   "execution_count": null,
   "metadata": {
    "colab": {
     "base_uri": "https://localhost:8080/"
    },
    "executionInfo": {
     "elapsed": 1138,
     "status": "ok",
     "timestamp": 1607927175273,
     "user": {
      "displayName": "박신형",
      "photoUrl": "",
      "userId": "14651083672606345860"
     },
     "user_tz": -540
    },
    "id": "LnSkA8Qj7Fg3",
    "outputId": "fc582faf-b6ef-43b1-d2c4-d1f0921b06ae"
   },
   "outputs": [
    {
     "name": "stdout",
     "output_type": "stream",
     "text": [
      "피자    17000\n",
      "치킨    18000\n",
      "콜라     1000\n",
      "맥주     5000\n",
      "dtype: int64\n"
     ]
    }
   ],
   "source": [
    "sr = pd.Series([17000, 18000, 1000, 5000], \n",
    "               index = [\"피자\", \"치킨\", \"콜라\", \"맥주\"])\n",
    "print(sr)"
   ]
  },
  {
   "cell_type": "code",
   "execution_count": null,
   "metadata": {
    "colab": {
     "base_uri": "https://localhost:8080/"
    },
    "executionInfo": {
     "elapsed": 1036,
     "status": "ok",
     "timestamp": 1607927226780,
     "user": {
      "displayName": "박신형",
      "photoUrl": "",
      "userId": "14651083672606345860"
     },
     "user_tz": -540
    },
    "id": "6bwB0rS67jv_",
    "outputId": "554792af-0664-492b-85f8-6cef8c46ba05"
   },
   "outputs": [
    {
     "name": "stdout",
     "output_type": "stream",
     "text": [
      "Index(['피자', '치킨', '콜라', '맥주'], dtype='object')\n"
     ]
    }
   ],
   "source": [
    "print(sr.index)"
   ]
  },
  {
   "cell_type": "markdown",
   "metadata": {
    "id": "RFmfRtyG7nXy"
   },
   "source": [
    "###2) 데이터프레임(DataFrame)\n",
    "데이터프레임은 2차원 리스트를 매개변수로 전달합니다. 2차원이므로 행방향 인덱스(index)와 열방향 인덱스(column)가 존재합니다. 즉, **행과 열을 가지는 자료구조**입니다. 시리즈가 인덱스(index)와 값(values)으로 구성된다면, 데이터프레임은 열(columns)까지 추가되어 **열(columns), 인덱스(index), 값(values)**으로 구성됩니다.\n",
    "\n",
    "예제를 통해 데이터프레임의 구성을 이해해보도록 하겠습니다."
   ]
  },
  {
   "cell_type": "code",
   "execution_count": null,
   "metadata": {
    "colab": {
     "base_uri": "https://localhost:8080/"
    },
    "executionInfo": {
     "elapsed": 1065,
     "status": "ok",
     "timestamp": 1607927440468,
     "user": {
      "displayName": "박신형",
      "photoUrl": "",
      "userId": "14651083672606345860"
     },
     "user_tz": -540
    },
    "id": "roWHlIvV75MU",
    "outputId": "be5f7d26-86ac-4bfc-a0b9-156ce04d5bf8"
   },
   "outputs": [
    {
     "name": "stdout",
     "output_type": "stream",
     "text": [
      "       A  B  C\n",
      "one    1  2  3\n",
      "two    4  5  6\n",
      "three  7  8  9\n"
     ]
    }
   ],
   "source": [
    "values = [[1, 2, 3], [4, 5, 6], [7, 8, 9]]\n",
    "index = ['one', 'two', 'three']\n",
    "columns = ['A', 'B', 'C']\n",
    "\n",
    "df = pd.DataFrame(values, index=index, columns=columns)\n",
    "print(df)"
   ]
  },
  {
   "cell_type": "markdown",
   "metadata": {
    "id": "uSFTWT268s-X"
   },
   "source": [
    "생성된 데이터프레임으로부터 인덱스, 값, 열을 각각 출력해보겠습니다.\n",
    "\n"
   ]
  },
  {
   "cell_type": "code",
   "execution_count": null,
   "metadata": {
    "colab": {
     "base_uri": "https://localhost:8080/"
    },
    "executionInfo": {
     "elapsed": 1165,
     "status": "ok",
     "timestamp": 1607927537293,
     "user": {
      "displayName": "박신형",
      "photoUrl": "",
      "userId": "14651083672606345860"
     },
     "user_tz": -540
    },
    "id": "EUd6vcnL8uNP",
    "outputId": "5427fe79-66df-4f0d-d0e8-9cf7e2a321a4"
   },
   "outputs": [
    {
     "name": "stdout",
     "output_type": "stream",
     "text": [
      "Index(['one', 'two', 'three'], dtype='object')\n"
     ]
    }
   ],
   "source": [
    "print(df.index) # 인덱스 출력"
   ]
  },
  {
   "cell_type": "code",
   "execution_count": null,
   "metadata": {
    "colab": {
     "base_uri": "https://localhost:8080/"
    },
    "executionInfo": {
     "elapsed": 1014,
     "status": "ok",
     "timestamp": 1607927549582,
     "user": {
      "displayName": "박신형",
      "photoUrl": "",
      "userId": "14651083672606345860"
     },
     "user_tz": -540
    },
    "id": "jjRdBA268ybf",
    "outputId": "05b72169-6224-4525-9a9d-e88b7f0cb36b"
   },
   "outputs": [
    {
     "name": "stdout",
     "output_type": "stream",
     "text": [
      "Index(['A', 'B', 'C'], dtype='object')\n"
     ]
    }
   ],
   "source": [
    "print(df.columns) # 열 출력"
   ]
  },
  {
   "cell_type": "code",
   "execution_count": null,
   "metadata": {
    "colab": {
     "base_uri": "https://localhost:8080/"
    },
    "executionInfo": {
     "elapsed": 1009,
     "status": "ok",
     "timestamp": 1607927572481,
     "user": {
      "displayName": "박신형",
      "photoUrl": "",
      "userId": "14651083672606345860"
     },
     "user_tz": -540
    },
    "id": "fLb2na1d82VP",
    "outputId": "1e1be606-f260-456d-e8a0-7b46eb631467"
   },
   "outputs": [
    {
     "name": "stdout",
     "output_type": "stream",
     "text": [
      "[[1 2 3]\n",
      " [4 5 6]\n",
      " [7 8 9]]\n"
     ]
    }
   ],
   "source": [
    "print(df.values) # 값 출력 "
   ]
  },
  {
   "cell_type": "markdown",
   "metadata": {
    "id": "sZmqiMft87_X"
   },
   "source": [
    "### 3) 데이터프레임의 생성\n",
    "데이터프레임은 리스트(List), 시리즈(Series), 딕셔너리(dict), Numpy의 ndarrays, 또 다른 데이터프레임으로 생성할 수 있습니다. 여기서는 리스트와 딕셔너리를 통해서 데이터프레임을 생성 해보겠습니다."
   ]
  },
  {
   "cell_type": "code",
   "execution_count": null,
   "metadata": {
    "colab": {
     "base_uri": "https://localhost:8080/"
    },
    "executionInfo": {
     "elapsed": 1611,
     "status": "ok",
     "timestamp": 1607927717620,
     "user": {
      "displayName": "박신형",
      "photoUrl": "",
      "userId": "14651083672606345860"
     },
     "user_tz": -540
    },
    "id": "PCpzXlyq9IbX",
    "outputId": "77a29182-1750-478c-86b0-8fbaaf0d1df4"
   },
   "outputs": [
    {
     "name": "stdout",
     "output_type": "stream",
     "text": [
      "      0         1      2\n",
      "0  1000     Steve  90.72\n",
      "1  1001     James  78.09\n",
      "2  1002    Doyeon  98.43\n",
      "3  1003      Jane  64.19\n",
      "4  1004  Pilwoong  81.30\n",
      "5  1005      Tony  99.14\n"
     ]
    }
   ],
   "source": [
    "# 리스트로 생성하기 \n",
    "data = [\n",
    "        ['1000', 'Steve', 90.72],\n",
    "        ['1001', 'James', 78.09], \n",
    "        ['1002', 'Doyeon', 98.43], \n",
    "        ['1003', 'Jane', 64.19], \n",
    "        ['1004', 'Pilwoong', 81.30],\n",
    "        ['1005', 'Tony', 99.14],        \n",
    "]\n",
    "df = pd.DataFrame(data)\n",
    "print(df)"
   ]
  },
  {
   "cell_type": "markdown",
   "metadata": {
    "id": "GlnUxgdG9hxv"
   },
   "source": [
    "생성된 데이터프레임에 열(columns)을 지정해줄 수 있습니다.\n",
    "\n"
   ]
  },
  {
   "cell_type": "code",
   "execution_count": null,
   "metadata": {
    "colab": {
     "base_uri": "https://localhost:8080/"
    },
    "executionInfo": {
     "elapsed": 999,
     "status": "ok",
     "timestamp": 1607928824447,
     "user": {
      "displayName": "박신형",
      "photoUrl": "",
      "userId": "14651083672606345860"
     },
     "user_tz": -540
    },
    "id": "4lv69aHUBdT_",
    "outputId": "3aa10cc9-ff44-4466-c169-ab21e1ca6988"
   },
   "outputs": [
    {
     "name": "stdout",
     "output_type": "stream",
     "text": [
      "     학번        이름     점수\n",
      "0  1000     Steve  90.72\n",
      "1  1001     James  78.09\n",
      "2  1002    Doyeon  98.43\n",
      "3  1003      Jane  64.19\n",
      "4  1004  Pilwoong  81.30\n",
      "5  1005      Tony  99.14\n"
     ]
    }
   ],
   "source": [
    "df = pd.DataFrame(data, columns = ['학번', '이름', '점수'])\n",
    "print(df)"
   ]
  },
  {
   "cell_type": "markdown",
   "metadata": {
    "id": "ccA3p1caBvyw"
   },
   "source": [
    "이번에는 파이썬 자료구조 중 하나인 딕셔너리(dict)를 통해 데이터프레임을 생성해보겠습니다."
   ]
  },
  {
   "cell_type": "code",
   "execution_count": null,
   "metadata": {
    "colab": {
     "base_uri": "https://localhost:8080/"
    },
    "executionInfo": {
     "elapsed": 1103,
     "status": "ok",
     "timestamp": 1607929151342,
     "user": {
      "displayName": "박신형",
      "photoUrl": "",
      "userId": "14651083672606345860"
     },
     "user_tz": -540
    },
    "id": "x6KXBhEhBxHK",
    "outputId": "cdcc1496-43b4-448e-ee68-5a4de9bf7118"
   },
   "outputs": [
    {
     "name": "stdout",
     "output_type": "stream",
     "text": [
      "     학번        이름     점수\n",
      "0  1000     Steve  90.72\n",
      "1  1001     James  78.09\n",
      "2  1002    Doyeon  98.43\n",
      "3  1003      Jane  64.19\n",
      "4  1004  Pilwoong  81.30\n",
      "5  1005      Tony  99.14\n"
     ]
    }
   ],
   "source": [
    "# 딕셔너리로 생성하기 \n",
    "data = {'학번' : ['1000', '1001', '1002', '1003', '1004', '1005'],\n",
    "        '이름' : ['Steve', 'James', 'Doyeon', 'Jane', 'Pilwoong', 'Tony'],\n",
    "        '점수' : [90.72, 78.09, 98.43, 64.19, 81.30, 99.14]}\n",
    "\n",
    "df = pd.DataFrame(data)\n",
    "print(df)        "
   ]
  },
  {
   "cell_type": "markdown",
   "metadata": {
    "id": "nBQsxIJSDIR6"
   },
   "source": [
    "### 4) 데이터프레임 조회하기\n",
    "아래의 명령어는 데이터프레임에서 원하는 구간만 확인하기 위한 명령어로서 유용하게 사용됩니다.\n",
    "\n",
    "df.head(n) - 앞 부분을 n개만 보기\n",
    "df.tail(n) - 뒷 부분을 n개만 보기\n",
    "df['열이름'] - 해당되는 열을 확인\n",
    "\n",
    "위에서 사용한 데이터프레임을 그대로 사용한다고 가정합니다."
   ]
  },
  {
   "cell_type": "code",
   "execution_count": null,
   "metadata": {
    "colab": {
     "base_uri": "https://localhost:8080/"
    },
    "executionInfo": {
     "elapsed": 1034,
     "status": "ok",
     "timestamp": 1607929424195,
     "user": {
      "displayName": "박신형",
      "photoUrl": "",
      "userId": "14651083672606345860"
     },
     "user_tz": -540
    },
    "id": "uGz0stDnD5Sg",
    "outputId": "4639c648-cc82-4c1f-ff2f-7ea0c295dc5f"
   },
   "outputs": [
    {
     "name": "stdout",
     "output_type": "stream",
     "text": [
      "     학번      이름     점수\n",
      "0  1000   Steve  90.72\n",
      "1  1001   James  78.09\n",
      "2  1002  Doyeon  98.43\n"
     ]
    }
   ],
   "source": [
    "print(df.head(3))"
   ]
  },
  {
   "cell_type": "code",
   "execution_count": null,
   "metadata": {
    "colab": {
     "base_uri": "https://localhost:8080/"
    },
    "executionInfo": {
     "elapsed": 990,
     "status": "ok",
     "timestamp": 1607929435654,
     "user": {
      "displayName": "박신형",
      "photoUrl": "",
      "userId": "14651083672606345860"
     },
     "user_tz": -540
    },
    "id": "mBLxgYy0D_Ni",
    "outputId": "3bbe0741-f7d1-46c8-e5a6-eab0e27e6924"
   },
   "outputs": [
    {
     "name": "stdout",
     "output_type": "stream",
     "text": [
      "     학번        이름     점수\n",
      "3  1003      Jane  64.19\n",
      "4  1004  Pilwoong  81.30\n",
      "5  1005      Tony  99.14\n"
     ]
    }
   ],
   "source": [
    "print(df.tail(3))"
   ]
  },
  {
   "cell_type": "code",
   "execution_count": null,
   "metadata": {
    "colab": {
     "base_uri": "https://localhost:8080/"
    },
    "executionInfo": {
     "elapsed": 1301,
     "status": "ok",
     "timestamp": 1607929494374,
     "user": {
      "displayName": "박신형",
      "photoUrl": "",
      "userId": "14651083672606345860"
     },
     "user_tz": -540
    },
    "id": "_6rToeSWEIki",
    "outputId": "fbd7e989-490c-4f66-8b91-863bdcd735c9"
   },
   "outputs": [
    {
     "name": "stdout",
     "output_type": "stream",
     "text": [
      "0    1000\n",
      "1    1001\n",
      "2    1002\n",
      "3    1003\n",
      "4    1004\n",
      "5    1005\n",
      "Name: 학번, dtype: object\n"
     ]
    }
   ],
   "source": [
    "print(df['학번'])"
   ]
  },
  {
   "cell_type": "markdown",
   "metadata": {
    "id": "Um8NJnxLEQ9o"
   },
   "source": [
    "5) 외부 데이터 읽기\n",
    "Pandas는 CSV, 텍스트, Excel, SQL, HTML, JSON 등 다양한 데이터 파일을 읽고 데이터 프레임을 생성할 수 있습니다.\n",
    "\n",
    "예를 들어 csv 파일을 읽을 때는 pandas.read_csv()를 통해 읽을 수 있습니다.\n",
    "다음과 같은 example.csv 파일이 있다고 합시다.\n",
    "![image.png](data:image/png;base64,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)"
   ]
  },
  {
   "cell_type": "markdown",
   "metadata": {
    "id": "4KepEVZqE7na"
   },
   "source": [
    "```\n",
    "df=pd.read_csv('example.csv 파일의 경로') # example.csv 파일 읽기\n",
    "# 예를 들어 윈도우 바탕화면에서 작업한 저자의 경우\n",
    "# df=pd.read_csv(r'C:\\Users\\USER\\Desktop\\example.csv')였습니다.\n",
    "print(df)\n",
    "```\n",
    "```\n",
    "   student id      name  score\n",
    "0        1000     Steve  90.72\n",
    "1        1001     James  78.09\n",
    "2        1002    Doyeon  98.43\n",
    "3        1003      Jane  64.19\n",
    "4        1004  Pilwoong  81.30\n",
    "5        1005      Tony  99.14\n",
    "```\n",
    "이 경우 인덱스가 자동으로 부여된 것을 볼 수 있습니다. 인덱스를 출력해보도록 하겠습니다.\n",
    "\n",
    "```\n",
    "print(df.index)\n",
    "```\n",
    "```\n",
    "RangeIndex(start=0, stop=6, step=1)\n",
    "```"
   ]
  },
  {
   "cell_type": "markdown",
   "metadata": {
    "id": "ZRQz-ZrTFGRg"
   },
   "source": [
    "## 2. 넘파이(Numpy)\n",
    "넘파이(Numpy)는 수치 데이터를 다루는 파이썬 패키지입니다. Numpy의 핵심이라고 불리는 다차원 행렬 자료구조인 ndarray를 통해 벡터 및 행렬을 사용하는 선형 대수 계산에서 주로 사용됩니다. Numpy는 편의성뿐만 아니라, 속도면에서도 순수 파이썬에 비해 압도적으로 빠르다는 장점이 있습니다.\n",
    "\n",
    "아나콘다를 설치하지 않았다면 아래의 커맨드로 Numpy를 별도 설치할 수 있습니다."
   ]
  },
  {
   "cell_type": "markdown",
   "metadata": {
    "id": "Jse43lokIE9w"
   },
   "source": [
    "```\n",
    "pip install numpy\n",
    "```\n",
    "```\n",
    "> ipython\n",
    "...\n",
    "In [1]: import numpy as np\n",
    "In [2]: np.__version__\n",
    "Out[2]: '1.16.5'\n",
    "```\n",
    "Numpy의 경우, 주로 np라는 명칭으로 임포트하는 것이 관례입니다. 아래 모든 실습들은 Numpy를 임포트하였다고 가정하겠습니다."
   ]
  },
  {
   "cell_type": "code",
   "execution_count": 2,
   "metadata": {
    "executionInfo": {
     "elapsed": 905,
     "status": "ok",
     "timestamp": 1608090212924,
     "user": {
      "displayName": "박신형",
      "photoUrl": "",
      "userId": "14651083672606345860"
     },
     "user_tz": -540
    },
    "id": "m5F3qQeeIgDp"
   },
   "outputs": [],
   "source": [
    "import numpy as np"
   ]
  },
  {
   "cell_type": "markdown",
   "metadata": {
    "id": "dbNOZix8Ij27"
   },
   "source": [
    "Numpy의 주요 모듈은 아래와 같습니다.\n",
    "1. np.array() # 리스트, 튜플, 배열로 부터 ndarray를 생성\n",
    "2. np.asarray() # 기존의 array로 부터 ndarray를 생성\n",
    "3. np.arange() # range와 비슷\n",
    "4. np.linspace(start, end, num) # [start, end] 균일한 간격으로 num개 생성\n",
    "5. np.logspace(start, end, num) # [start, end] log scale 간격으로 num개 생성\n",
    "\n",
    "### 1) np.array()\n",
    "앞서 Numpy의 핵심은 ndarray라고 언급한 바 있습니다. np.array()는 리스트, 튜플, 배열로 부터 ndarray를 생성합니다. 또한 인덱스가 항상 0으로 시작한다는 특징을 갖고 있습니다.\n",
    "\n",
    "우선 파이썬 자료구조 중 하나인 리스트를 가지고 1차원 배열을 생성해보도록 하겠습니다."
   ]
  },
  {
   "cell_type": "code",
   "execution_count": 5,
   "metadata": {
    "colab": {
     "base_uri": "https://localhost:8080/"
    },
    "executionInfo": {
     "elapsed": 770,
     "status": "ok",
     "timestamp": 1608090338302,
     "user": {
      "displayName": "박신형",
      "photoUrl": "",
      "userId": "14651083672606345860"
     },
     "user_tz": -540
    },
    "id": "QcdYkvVsLFTB",
    "outputId": "9c01a239-2be6-401e-8d24-4c828a047fc9"
   },
   "outputs": [
    {
     "name": "stdout",
     "output_type": "stream",
     "text": [
      "<class 'numpy.ndarray'>\n",
      "[1 2 3 4 5]\n"
     ]
    }
   ],
   "source": [
    "a = np.array([1, 2, 3, 4, 5]) # 리스트를 가지고 1차원 배열 생성\n",
    "print(type(a))\n",
    "print(a)"
   ]
  },
  {
   "cell_type": "markdown",
   "metadata": {
    "id": "B1r_nGCmLSpp"
   },
   "source": [
    "타입이 numpy.ndarray라고 나오고 있으며, 배열로 생성되었음을 알 수 있습니다. 이제 2차원 배열을 만들어보도록 하겠습니다. 한가지 주의할 점은 array() 안에 하나의 리스트만 들어가므로 리스트의 리스트를 넣어야 합니다. "
   ]
  },
  {
   "cell_type": "code",
   "execution_count": 3,
   "metadata": {
    "colab": {
     "base_uri": "https://localhost:8080/"
    },
    "executionInfo": {
     "elapsed": 839,
     "status": "ok",
     "timestamp": 1608090214640,
     "user": {
      "displayName": "박신형",
      "photoUrl": "",
      "userId": "14651083672606345860"
     },
     "user_tz": -540
    },
    "id": "LWaaQlE2pK9i",
    "outputId": "c7a8d0a0-8785-4af9-dd0c-b91645193c6c"
   },
   "outputs": [
    {
     "name": "stdout",
     "output_type": "stream",
     "text": [
      "[[10 20 30]\n",
      " [60 70 80]]\n"
     ]
    }
   ],
   "source": [
    "b = np.array([[10, 20, 30], [60, 70, 80]])\n",
    "print(b) # 출력 "
   ]
  },
  {
   "cell_type": "markdown",
   "metadata": {
    "id": "WkHzcjODpcMM"
   },
   "source": [
    "2차원 배열이 생성되었음을 확인할 수 있습니다. 행렬의 차원 및 크기를 ndim 속성과 shape 속성으로 출력할 수 있습니다."
   ]
  },
  {
   "cell_type": "code",
   "execution_count": 4,
   "metadata": {
    "colab": {
     "base_uri": "https://localhost:8080/"
    },
    "executionInfo": {
     "elapsed": 819,
     "status": "ok",
     "timestamp": 1608090288639,
     "user": {
      "displayName": "박신형",
      "photoUrl": "",
      "userId": "14651083672606345860"
     },
     "user_tz": -540
    },
    "id": "29XbAdTApimn",
    "outputId": "34a26e99-fae5-40c0-bebf-1f0a2f8c9f39"
   },
   "outputs": [
    {
     "name": "stdout",
     "output_type": "stream",
     "text": [
      "2\n",
      "(2, 3)\n"
     ]
    }
   ],
   "source": [
    "print(b.ndim) # 차원 출력 \n",
    "print(b.shape) # 크기 출력"
   ]
  },
  {
   "cell_type": "markdown",
   "metadata": {
    "id": "KZBwnztIprz6"
   },
   "source": [
    "위의 결과는 각각 2차원이며, 2 X 3 행렬임을 보여줍니다. 가령, 앞서 만들었던 1차원 배열 a에 대해서 차원 및 크기를 출력하면 다음과 같습니다.\n",
    "\n"
   ]
  },
  {
   "cell_type": "code",
   "execution_count": 6,
   "metadata": {
    "colab": {
     "base_uri": "https://localhost:8080/"
    },
    "executionInfo": {
     "elapsed": 785,
     "status": "ok",
     "timestamp": 1608090340999,
     "user": {
      "displayName": "박신형",
      "photoUrl": "",
      "userId": "14651083672606345860"
     },
     "user_tz": -540
    },
    "id": "2c31RFYxpt5S",
    "outputId": "55f26cf3-dc01-4cff-e366-1876ae37e9c5"
   },
   "outputs": [
    {
     "name": "stdout",
     "output_type": "stream",
     "text": [
      "1\n",
      "(5,)\n"
     ]
    }
   ],
   "source": [
    "print(a.ndim) # 차원 출력 \n",
    "print(a.shape) # 크기 출력"
   ]
  },
  {
   "cell_type": "markdown",
   "metadata": {
    "id": "3qO9-gL0p4JC"
   },
   "source": [
    "각각 1차원과 크기 5의 배열임을 보여줍니다.\n",
    "\n",
    "### 2) ndarray의 초기화\n",
    "위에서는 리스트를 가지고 ndarray를 생성했지만, ndarray를 만드는 다양한 다른 방법이 존재합니다. zeros()는 해당 배열에 모두 0을 삽입하고, ones()는 모두 1을 삽입합니다. full()은 배열에 사용자가 지정한 값을 넣는데 사용하고, eye()는 대각선으로는 1이고 나머지는 0인 2차원 배열을 생성합니다."
   ]
  },
  {
   "cell_type": "code",
   "execution_count": 7,
   "metadata": {
    "colab": {
     "base_uri": "https://localhost:8080/"
    },
    "executionInfo": {
     "elapsed": 518,
     "status": "ok",
     "timestamp": 1608090529011,
     "user": {
      "displayName": "박신형",
      "photoUrl": "",
      "userId": "14651083672606345860"
     },
     "user_tz": -540
    },
    "id": "oCFCycOjqXJ0",
    "outputId": "55b29e09-90e9-483d-fe7e-fe586a2d0df4"
   },
   "outputs": [
    {
     "name": "stdout",
     "output_type": "stream",
     "text": [
      "[[0. 0. 0.]\n",
      " [0. 0. 0.]]\n"
     ]
    }
   ],
   "source": [
    "a = np.zeros((2, 3)) # 모든 값이 0인 2x3 배열 생성\n",
    "print(a)"
   ]
  },
  {
   "cell_type": "code",
   "execution_count": 8,
   "metadata": {
    "colab": {
     "base_uri": "https://localhost:8080/"
    },
    "executionInfo": {
     "elapsed": 759,
     "status": "ok",
     "timestamp": 1608090583124,
     "user": {
      "displayName": "박신형",
      "photoUrl": "",
      "userId": "14651083672606345860"
     },
     "user_tz": -540
    },
    "id": "LMaLfDP5qjq7",
    "outputId": "4abe334c-3b48-434e-fda7-23834faa28cf"
   },
   "outputs": [
    {
     "name": "stdout",
     "output_type": "stream",
     "text": [
      "[[1. 1. 1.]\n",
      " [1. 1. 1.]]\n"
     ]
    }
   ],
   "source": [
    "a = np.ones((2, 3)) # 모든 값이 1인 2x3 배열생성 \n",
    "print(a)"
   ]
  },
  {
   "cell_type": "code",
   "execution_count": 9,
   "metadata": {
    "colab": {
     "base_uri": "https://localhost:8080/"
    },
    "executionInfo": {
     "elapsed": 858,
     "status": "ok",
     "timestamp": 1608090634227,
     "user": {
      "displayName": "박신형",
      "photoUrl": "",
      "userId": "14651083672606345860"
     },
     "user_tz": -540
    },
    "id": "Gk7tDDyfqwf6",
    "outputId": "ff836a2f-4762-47b6-fbc4-a807422ce29e"
   },
   "outputs": [
    {
     "name": "stdout",
     "output_type": "stream",
     "text": [
      "[[7 7]\n",
      " [7 7]]\n"
     ]
    }
   ],
   "source": [
    "a = np.full((2, 2), 7) # 모든 값이 특정 상수인 배열 생성. 이 경우에는 7.\n",
    "print(a)"
   ]
  },
  {
   "cell_type": "code",
   "execution_count": 13,
   "metadata": {
    "colab": {
     "base_uri": "https://localhost:8080/"
    },
    "executionInfo": {
     "elapsed": 780,
     "status": "ok",
     "timestamp": 1608090682266,
     "user": {
      "displayName": "박신형",
      "photoUrl": "",
      "userId": "14651083672606345860"
     },
     "user_tz": -540
    },
    "id": "8yTOmDPHq9IC",
    "outputId": "04c0be41-6a71-4e89-e562-ebb2d8e5ddc1"
   },
   "outputs": [
    {
     "name": "stdout",
     "output_type": "stream",
     "text": [
      "[[1. 0. 0.]\n",
      " [0. 1. 0.]\n",
      " [0. 0. 1.]]\n"
     ]
    }
   ],
   "source": [
    "a = np.eye(3) # 대각선으로는 1이고 나머지는 0인 2차원 배열을 생성. \n",
    "print(a)"
   ]
  },
  {
   "cell_type": "code",
   "execution_count": 14,
   "metadata": {
    "colab": {
     "base_uri": "https://localhost:8080/"
    },
    "executionInfo": {
     "elapsed": 801,
     "status": "ok",
     "timestamp": 1608090716154,
     "user": {
      "displayName": "박신형",
      "photoUrl": "",
      "userId": "14651083672606345860"
     },
     "user_tz": -540
    },
    "id": "aohyJ_A2rIuC",
    "outputId": "27378cd8-0bde-40f8-9f49-42c04b587ff1"
   },
   "outputs": [
    {
     "name": "stdout",
     "output_type": "stream",
     "text": [
      "[[0.49251578 0.15702878]\n",
      " [0.740339   0.92701725]]\n"
     ]
    }
   ],
   "source": [
    "a = np.random.random((2, 2)) # 임의의 값으로 채워진 배열 생성\n",
    "print(a)"
   ]
  },
  {
   "cell_type": "markdown",
   "metadata": {
    "id": "5HyWdGyXrSSa"
   },
   "source": [
    "### 3) np.arange()\n",
    "np.arange()는 지정해준 범위에 대해서 배열을 생성합니다. np.arange()의 범위 지정 방법은 다음과 같습니다.\n",
    "\n",
    "numpy.arange(start, stop, step, dtype)\n",
    "a = np.arange(n) # 0, ..., n-1까지 범위의 지정.\n",
    "a = np.arange(i, j, k) # i부터 j-1까지 k씩 증가하는 배열."
   ]
  },
  {
   "cell_type": "code",
   "execution_count": 16,
   "metadata": {
    "colab": {
     "base_uri": "https://localhost:8080/"
    },
    "executionInfo": {
     "elapsed": 863,
     "status": "ok",
     "timestamp": 1608090875282,
     "user": {
      "displayName": "박신형",
      "photoUrl": "",
      "userId": "14651083672606345860"
     },
     "user_tz": -540
    },
    "id": "3QHIrSDPru8a",
    "outputId": "cb27698c-285c-427a-e42a-25a144317d89"
   },
   "outputs": [
    {
     "name": "stdout",
     "output_type": "stream",
     "text": [
      "[0 1 2 3 4 5 6 7 8 9]\n"
     ]
    }
   ],
   "source": [
    "a = np.arange(10) # 0부터 9까지\n",
    "print(a)"
   ]
  },
  {
   "cell_type": "code",
   "execution_count": 17,
   "metadata": {
    "colab": {
     "base_uri": "https://localhost:8080/"
    },
    "executionInfo": {
     "elapsed": 815,
     "status": "ok",
     "timestamp": 1608090925201,
     "user": {
      "displayName": "박신형",
      "photoUrl": "",
      "userId": "14651083672606345860"
     },
     "user_tz": -540
    },
    "id": "GoWEyj8ar6nK",
    "outputId": "da64ff53-9b58-4a86-cd82-e32a8c538fbf"
   },
   "outputs": [
    {
     "name": "stdout",
     "output_type": "stream",
     "text": [
      "[1 3 5 7 9]\n"
     ]
    }
   ],
   "source": [
    "a = np.arange(1, 10, 2) # 1부터 9까지 +2씩 적용되는 범위 \n",
    "print(a)"
   ]
  },
  {
   "cell_type": "markdown",
   "metadata": {
    "id": "_8J8NPJDsEny"
   },
   "source": [
    "### 4) reshape()\n"
   ]
  },
  {
   "cell_type": "code",
   "execution_count": 21,
   "metadata": {
    "colab": {
     "base_uri": "https://localhost:8080/"
    },
    "executionInfo": {
     "elapsed": 792,
     "status": "ok",
     "timestamp": 1608091035558,
     "user": {
      "displayName": "박신형",
      "photoUrl": "",
      "userId": "14651083672606345860"
     },
     "user_tz": -540
    },
    "id": "s2IFAjbgsGcb",
    "outputId": "5b3127f0-43af-496f-b51b-14321647cc32"
   },
   "outputs": [
    {
     "name": "stdout",
     "output_type": "stream",
     "text": [
      "[[ 0  1  2  3  4  5]\n",
      " [ 6  7  8  9 10 11]\n",
      " [12 13 14 15 16 17]\n",
      " [18 19 20 21 22 23]\n",
      " [24 25 26 27 28 29]]\n"
     ]
    }
   ],
   "source": [
    "a = np.array(np.arange(30)).reshape((5, 6))\n",
    "print(a)"
   ]
  },
  {
   "cell_type": "markdown",
   "metadata": {
    "id": "gQhVAZXXsXky"
   },
   "source": [
    "위의 예제는 0부터 n-1 까지의 숫자를 생성하는 arange(n) 함수에 배열을 다차원으로 변형하는 reshape()를 통해 배열을 생성합니다.\n",
    "+ 이 떄 배열과 요소의 숫자가 맞지 않으면 에러가 납니다. \n"
   ]
  },
  {
   "cell_type": "markdown",
   "metadata": {
    "id": "smoS1MwgsogA"
   },
   "source": [
    "###5) Numpy 슬라이싱\n",
    "ndarray를 통해 만든 다차원 배열은 파이썬의 리스트처럼 슬라이스(Slice) 기능을 지원합니다. 슬라이스 기능을 사용하면 원소들 중 복수 개에 접근할 수 있습니다."
   ]
  },
  {
   "cell_type": "code",
   "execution_count": 27,
   "metadata": {
    "colab": {
     "base_uri": "https://localhost:8080/"
    },
    "executionInfo": {
     "elapsed": 836,
     "status": "ok",
     "timestamp": 1608091566371,
     "user": {
      "displayName": "박신형",
      "photoUrl": "",
      "userId": "14651083672606345860"
     },
     "user_tz": -540
    },
    "id": "9l4u04tBtGMM",
    "outputId": "4d605bf0-b770-43ed-c4af-fea632062869"
   },
   "outputs": [
    {
     "name": "stdout",
     "output_type": "stream",
     "text": [
      "[[1 2 3]\n",
      " [4 5 6]]\n"
     ]
    }
   ],
   "source": [
    "import numpy as np \n",
    "a = np.array([[1, 2, 3], [4, 5, 6]])\n",
    "print(a)"
   ]
  },
  {
   "cell_type": "code",
   "execution_count": 23,
   "metadata": {
    "colab": {
     "base_uri": "https://localhost:8080/"
    },
    "executionInfo": {
     "elapsed": 915,
     "status": "ok",
     "timestamp": 1608091281117,
     "user": {
      "displayName": "박신형",
      "photoUrl": "",
      "userId": "14651083672606345860"
     },
     "user_tz": -540
    },
    "id": "2AsNA7oFtTnr",
    "outputId": "4f58147b-ac00-451d-8265-41cb0c2098e4"
   },
   "outputs": [
    {
     "name": "stdout",
     "output_type": "stream",
     "text": [
      "[[1 2]\n",
      " [4 5]]\n"
     ]
    }
   ],
   "source": [
    "b = a[0:2, 0:2]\n",
    "print(b)"
   ]
  },
  {
   "cell_type": "markdown",
   "metadata": {
    "id": "UmqkZOx0tb8a"
   },
   "source": [
    "다차원 배열을 슬라이싱하기 위해서는 각 차원 별로 슬라이스 범위를 지정해줘야 합니다.\n",
    "\n"
   ]
  },
  {
   "cell_type": "code",
   "execution_count": 25,
   "metadata": {
    "colab": {
     "base_uri": "https://localhost:8080/"
    },
    "executionInfo": {
     "elapsed": 843,
     "status": "ok",
     "timestamp": 1608091356513,
     "user": {
      "displayName": "박신형",
      "photoUrl": "",
      "userId": "14651083672606345860"
     },
     "user_tz": -540
    },
    "id": "53J6fWpvtkyi",
    "outputId": "ff422c07-c72c-4c0b-8437-8db9aec3e158"
   },
   "outputs": [
    {
     "name": "stdout",
     "output_type": "stream",
     "text": [
      "[1 2 3]\n"
     ]
    }
   ],
   "source": [
    "b = a[0, :] # 첫번째 행 출력\n",
    "print(b) "
   ]
  },
  {
   "cell_type": "code",
   "execution_count": 26,
   "metadata": {
    "colab": {
     "base_uri": "https://localhost:8080/"
    },
    "executionInfo": {
     "elapsed": 827,
     "status": "ok",
     "timestamp": 1608091419746,
     "user": {
      "displayName": "박신형",
      "photoUrl": "",
      "userId": "14651083672606345860"
     },
     "user_tz": -540
    },
    "id": "9YOAUgFpt08T",
    "outputId": "c43b378b-efdf-4625-9a25-4b4e0e2f33b1"
   },
   "outputs": [
    {
     "name": "stdout",
     "output_type": "stream",
     "text": [
      "[2 5]\n"
     ]
    }
   ],
   "source": [
    "b = a[:, 1] # 두번째 열 출력\n",
    "print(b)"
   ]
  },
  {
   "cell_type": "markdown",
   "metadata": {
    "id": "sTOIKuJcunrq"
   },
   "source": [
    "### 6) Numpy 정수 인덱싱(integer indexing)\n",
    "정수 인덱싱은 원본 배열로부터 부분 배열을 구합니다."
   ]
  },
  {
   "cell_type": "code",
   "execution_count": 32,
   "metadata": {
    "colab": {
     "base_uri": "https://localhost:8080/"
    },
    "executionInfo": {
     "elapsed": 755,
     "status": "ok",
     "timestamp": 1608091752791,
     "user": {
      "displayName": "박신형",
      "photoUrl": "",
      "userId": "14651083672606345860"
     },
     "user_tz": -540
    },
    "id": "VLPWLk5purCL",
    "outputId": "bac4b55f-acb5-4fe7-89e8-22b3ebd68712"
   },
   "outputs": [
    {
     "name": "stdout",
     "output_type": "stream",
     "text": [
      "[[1 2]\n",
      " [4 5]\n",
      " [7 8]]\n",
      "-------------\n",
      "[8 4]\n"
     ]
    }
   ],
   "source": [
    "a = np.array([[1,2], [4, 5], [7, 8]])\n",
    "print(a)\n",
    "print('-------------')\n",
    "b = a[[2, 1], [1, 0]] # a[[row2, row1], [col1, col0]] 을 의미함 \n",
    "print(b)"
   ]
  },
  {
   "cell_type": "markdown",
   "metadata": {
    "id": "wNVazLD9wT_M"
   },
   "source": [
    "###7) Numpy 연산\n",
    "Numpy를 사용하면 배열간 연산을 손쉽게 수행할 수 있습니다. +, -, *, /의 연산자를 사용할 수 있으며, 또는 add(), subtract(), multiply(), divide() 함수를 사용할 수도 있습니다."
   ]
  },
  {
   "cell_type": "code",
   "execution_count": 33,
   "metadata": {
    "executionInfo": {
     "elapsed": 1005,
     "status": "ok",
     "timestamp": 1608092993081,
     "user": {
      "displayName": "박신형",
      "photoUrl": "",
      "userId": "14651083672606345860"
     },
     "user_tz": -540
    },
    "id": "j6DKFIoLzxbd"
   },
   "outputs": [],
   "source": [
    "x = np.array([1, 2, 3])\n",
    "y = np.array([4, 5, 6])"
   ]
  },
  {
   "cell_type": "code",
   "execution_count": 34,
   "metadata": {
    "colab": {
     "base_uri": "https://localhost:8080/"
    },
    "executionInfo": {
     "elapsed": 504,
     "status": "ok",
     "timestamp": 1608093034910,
     "user": {
      "displayName": "박신형",
      "photoUrl": "",
      "userId": "14651083672606345860"
     },
     "user_tz": -540
    },
    "id": "6UTUeyNYz85z",
    "outputId": "ab6f5871-0290-4d2e-f910-1c4a4643ae2e"
   },
   "outputs": [
    {
     "name": "stdout",
     "output_type": "stream",
     "text": [
      "[5 7 9]\n"
     ]
    }
   ],
   "source": [
    "b = x + y # 각 요소에 대해서 더함 \n",
    "# b = np.add(x, y)랑 동일함 \n",
    "print(b)"
   ]
  },
  {
   "cell_type": "code",
   "execution_count": 35,
   "metadata": {
    "colab": {
     "base_uri": "https://localhost:8080/"
    },
    "executionInfo": {
     "elapsed": 998,
     "status": "ok",
     "timestamp": 1608093109379,
     "user": {
      "displayName": "박신형",
      "photoUrl": "",
      "userId": "14651083672606345860"
     },
     "user_tz": -540
    },
    "id": "4Ep6Axnf0K9b",
    "outputId": "f79af8db-07e9-4be7-db5f-fba1380740b9"
   },
   "outputs": [
    {
     "name": "stdout",
     "output_type": "stream",
     "text": [
      "[-3 -3 -3]\n"
     ]
    }
   ],
   "source": [
    "b = x - y # 각 요소에 대해서 빼기 \n",
    "# b = np.subtract(x, y)와 동일함 \n",
    "print(b)"
   ]
  },
  {
   "cell_type": "code",
   "execution_count": 36,
   "metadata": {
    "colab": {
     "base_uri": "https://localhost:8080/"
    },
    "executionInfo": {
     "elapsed": 802,
     "status": "ok",
     "timestamp": 1608093168091,
     "user": {
      "displayName": "박신형",
      "photoUrl": "",
      "userId": "14651083672606345860"
     },
     "user_tz": -540
    },
    "id": "Z-0V3qTb0Z1r",
    "outputId": "7e20ebf8-503f-4058-a163-bf6cac2b75f1"
   },
   "outputs": [
    {
     "name": "stdout",
     "output_type": "stream",
     "text": [
      "[-3 -6 -9]\n"
     ]
    }
   ],
   "source": [
    "b = b * x # 각 요소에 대해서 곱셈 \n",
    "# b = np.multiply(b, x) 와 동일함 \n",
    "print(b)"
   ]
  },
  {
   "cell_type": "code",
   "execution_count": 37,
   "metadata": {
    "colab": {
     "base_uri": "https://localhost:8080/"
    },
    "executionInfo": {
     "elapsed": 830,
     "status": "ok",
     "timestamp": 1608093243906,
     "user": {
      "displayName": "박신형",
      "photoUrl": "",
      "userId": "14651083672606345860"
     },
     "user_tz": -540
    },
    "id": "fTcEZdPw0v9b",
    "outputId": "8740bb04-6dc2-404c-e003-6b365facc22d"
   },
   "outputs": [
    {
     "name": "stdout",
     "output_type": "stream",
     "text": [
      "[-3. -3. -3.]\n"
     ]
    }
   ],
   "source": [
    "b = b / x # 각 요소에 대해서 나눗셈 \n",
    "# b = np.divide(b, x)와 동일함 \n",
    "print(b)"
   ]
  },
  {
   "cell_type": "markdown",
   "metadata": {
    "id": "Qr-4sEk71DEm"
   },
   "source": [
    "위에서 *를 통해 수행한 것은 요소별 곱이었습니다. Numpy에서 벡터와 행렬의 곱 또는 행렬곱을 위해서는 dot()을 사용해야 합니다.\n",
    "\n"
   ]
  },
  {
   "cell_type": "code",
   "execution_count": 39,
   "metadata": {
    "colab": {
     "base_uri": "https://localhost:8080/"
    },
    "executionInfo": {
     "elapsed": 1578,
     "status": "ok",
     "timestamp": 1608093593252,
     "user": {
      "displayName": "박신형",
      "photoUrl": "",
      "userId": "14651083672606345860"
     },
     "user_tz": -540
    },
    "id": "FCsSwprE1NSb",
    "outputId": "f8a3000c-d116-4909-bbf0-5587aba3e988"
   },
   "outputs": [
    {
     "name": "stdout",
     "output_type": "stream",
     "text": [
      "[[1 2]\n",
      " [3 4]]\n",
      "------\n",
      "[[5 6]\n",
      " [7 8]]\n",
      "------\n",
      "[[19 22]\n",
      " [43 50]]\n"
     ]
    }
   ],
   "source": [
    "a = np.array([[1, 2], [3, 4]])\n",
    "b = np.array([[5, 6], [7, 8]])\n",
    "print(a)\n",
    "print('------')\n",
    "print(b)\n",
    "print('------')\n",
    "c = np.dot(a, b)\n",
    "print(c)\n"
   ]
  },
  {
   "cell_type": "markdown",
   "metadata": {
    "id": "52lJb7RZ2oJZ"
   },
   "source": [
    "## 3. 맷플롯립(Matplotlib)\n",
    "---\n",
    "맷플롯립(Matplotlib)은 데이터를 차트(chart)나 플롯(plot)으로 시각화(visulaization)하는 패키지입니다. 데이터 분석에서 Matplotlib은 데이터 분석 이전에 데이터 이해를 위한 시각화나, 데이터 분석 후에 결과를 시각화하기 위해서 사용됩니다.\n",
    "\n",
    "아나콘다를 설치하지 않았다면 아래의 커맨드로 Matplotlib를 별도 설치할 수 있습니다.\n",
    "```\n",
    "pip install matplotlib\n",
    "\n",
    "> ipython\n",
    "...\n",
    "In [1]: import matplotlib as mpl\n",
    "In [2]: mpl.__version__\n",
    "Out[2]: '2.2.3'\n",
    "```\n",
    "Matplotlib을 다 설치하였다면 Matplotlib의 주요 모듈인 pyplot을 임포트할 수 있습니다. 해당 모듈을 임포트할 때는 주로 plt라는 이름으로 사용합니다. 또한 주피터 노트북으로 matplotlib을 실습하기 위해서는 주피터 노트북에 그림을 표시하도록 지정하는 %matplotlib inline 또한 우선 수행해야 합니다. 아래의 모든 실습들은 아래 내용을 임포트하였다고 가정합니다.\n",
    "\n",
    "pyplot의 경우, 주로 plt라는 명칭으로 임포트하는 것이 관례입니다.\n",
    "```\n",
    "%matplotlib inline\n",
    "import matplotlib.pyplot as plt\n",
    "```"
   ]
  },
  {
   "cell_type": "code",
   "execution_count": 40,
   "metadata": {
    "executionInfo": {
     "elapsed": 842,
     "status": "ok",
     "timestamp": 1608093965374,
     "user": {
      "displayName": "박신형",
      "photoUrl": "",
      "userId": "14651083672606345860"
     },
     "user_tz": -540
    },
    "id": "IPOZSVAC3bPK"
   },
   "outputs": [],
   "source": [
    "import matplotlib as mpl\n",
    "%matplotlib inline\n",
    "import matplotlib.pyplot as plt"
   ]
  },
  {
   "cell_type": "markdown",
   "metadata": {
    "id": "OgnAEIm33sbU"
   },
   "source": [
    "###1) 라인 플롯 그리기\n",
    "plot()은 라인 플롯을 그리는 기능을 수행합니다. plot() X축과 Y축의 값을 기재하고 그림을 표시하는 show()를 통해서 시각화해봅시다. 그래프에는 제목을 지정해줄 수 있는데 이 경우에는 title('원하는 제목')을 사용합니다. 여기서는 그래프에 'test'라는 제목을 넣어봅시다.\n",
    "\n",
    "사실 주피터 노트북에서는 show()를 사용하지 않더라도 그래프가 자동으로 렌더링 되므로 그래프가 시각화가 되는 것을 확인할 수 있지만, 여기서는 다른 개발 환경에서 사용할 때 또한 가정하여 show()를 실습 코드에 삽입하였습니다."
   ]
  },
  {
   "cell_type": "code",
   "execution_count": 42,
   "metadata": {
    "colab": {
     "base_uri": "https://localhost:8080/",
     "height": 281
    },
    "executionInfo": {
     "elapsed": 830,
     "status": "ok",
     "timestamp": 1608094201503,
     "user": {
      "displayName": "박신형",
      "photoUrl": "",
      "userId": "14651083672606345860"
     },
     "user_tz": -540
    },
    "id": "20-R3q_O4Tu_",
    "outputId": "a725b88f-c175-46c9-c7e3-022777007df4"
   },
   "outputs": [
    {
     "data": {
      "image/png": "[encoded data removed]",
      "text/plain": [
       "<Figure size 432x288 with 1 Axes>"
      ]
     },
     "metadata": {
      "needs_background": "light",
      "tags": []
     },
     "output_type": "display_data"
    }
   ],
   "source": [
    "plt.title('test')\n",
    "plt.plot([1, 2, 3, 4],[2, 4, 8, 6])\n",
    "plt.show()"
   ]
  },
  {
   "cell_type": "markdown",
   "metadata": {
    "id": "oh4lX2Ib5JfL"
   },
   "source": [
    "###2) 축 레이블 삽입하기\n",
    "그래프에 제목을 넣기 위해서 title()을 사용하였다면, X축과 Y축 각각에 축이름을 삽입하고 싶다면 xlabel('넣고 싶은 축이름')과 ylabel('넣고 싶은 축이름')을 사용하면 됩니다. 위에서 시각화한 그래프에 hours와 score라는 축이름을 각각 X축과 Y축에 추가해봅시다."
   ]
  },
  {
   "cell_type": "code",
   "execution_count": 45,
   "metadata": {
    "colab": {
     "base_uri": "https://localhost:8080/",
     "height": 295
    },
    "executionInfo": {
     "elapsed": 1020,
     "status": "ok",
     "timestamp": 1608094569598,
     "user": {
      "displayName": "박신형",
      "photoUrl": "",
      "userId": "14651083672606345860"
     },
     "user_tz": -540
    },
    "id": "B-UHIGro5ich",
    "outputId": "fee0fa1a-d9f6-4985-f17f-3301314ecc5b"
   },
   "outputs": [
    {
     "data": {
      "image/png": "[encoded data removed]",
      "text/plain": [
       "<Figure size 432x288 with 1 Axes>"
      ]
     },
     "metadata": {
      "needs_background": "light",
      "tags": []
     },
     "output_type": "display_data"
    }
   ],
   "source": [
    "plt.title('test')\n",
    "plt.plot([1, 2, 3, 4], [2, 4, 8, 6])\n",
    "plt.xlabel('hours')\n",
    "plt.ylabel('score')\n",
    "plt.show()"
   ]
  },
  {
   "cell_type": "markdown",
   "metadata": {
    "id": "XV7-YoAQ5-jM"
   },
   "source": [
    "###3) 라인 추가와 범례 삽입하기\n",
    "하나의 plot()뿐만 아니라 여러개의 plot()을 사용하여 하나의 그래프에 나타낼 수 있습니다. 여러개의 라인 플롯을 동시에 사용할 경우에는 각 선이 어떤 데이터를 나타내는지를 보여주기 위해 범례(legend)를 사용할 수 있습니다."
   ]
  },
  {
   "cell_type": "code",
   "execution_count": 46,
   "metadata": {
    "colab": {
     "base_uri": "https://localhost:8080/",
     "height": 295
    },
    "executionInfo": {
     "elapsed": 1007,
     "status": "ok",
     "timestamp": 1608094843311,
     "user": {
      "displayName": "박신형",
      "photoUrl": "",
      "userId": "14651083672606345860"
     },
     "user_tz": -540
    },
    "id": "459er5se6VGs",
    "outputId": "d586e089-9338-4623-9f05-e7e71e84fdfc"
   },
   "outputs": [
    {
     "data": {
      "image/png": "[encoded data removed]",
      "text/plain": [
       "<Figure size 432x288 with 1 Axes>"
      ]
     },
     "metadata": {
      "needs_background": "light",
      "tags": []
     },
     "output_type": "display_data"
    }
   ],
   "source": [
    "plt.title('students')\n",
    "plt.plot([1,2,3,4], [2,4,8,6])\n",
    "plt.plot([1.5, 2.5, 3.5, 4.5], [3, 5, 8, 10]) # 라인 새로 추가 \n",
    "plt.xlabel('hours')\n",
    "plt.ylabel('score')\n",
    "plt.legend(['A student', 'B student']) # 범례 삽입\n",
    "plt.show()"
   ]
  },
  {
   "cell_type": "markdown",
   "metadata": {
    "id": "v_A1O9Os7ZUV"
   },
   "source": [
    "좀 더 다양한 형태의 그래프를 그리는 실습은 인공 신경망 훑어보기 챕터에서 확인할 수 있습니다.\n",
    "\n"
   ]
  }
 ],
 "metadata": {
  "colab": {
   "authorship_tag": "ABX9TyPx9mmBczhAMjNvXjUJFtbQ",
   "name": "4) 판다스(Pandas) and 넘파이(Numpy) and 맷플롭립(Matplotlib).ipynb",
   "provenance": []
  },
  "kernelspec": {
   "display_name": "Python 3",
   "language": "python",
   "name": "python3"
  },
  "language_info": {
   "codemirror_mode": {
    "name": "ipython",
    "version": 3
   },
   "file_extension": ".py",
   "mimetype": "text/x-python",
   "name": "python",
   "nbconvert_exporter": "python",
   "pygments_lexer": "ipython3",
   "version": "3.8.3"
  }
 },
 "nbformat": 4,
 "nbformat_minor": 1
}
