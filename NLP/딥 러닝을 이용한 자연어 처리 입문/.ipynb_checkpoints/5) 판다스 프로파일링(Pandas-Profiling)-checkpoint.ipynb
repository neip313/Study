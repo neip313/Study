{
 "cells": [
  {
   "cell_type": "markdown",
   "metadata": {
    "id": "Bi_2oFR27_qd"
   },
   "source": [
    "#5) 판다스 프로파일링(Pandas-Profiling)\n",
    "---\n",
    "좋은 요리를 위해서는 조리 방법도 중요하지만, 그만큼 중요한 것은 갖고있는 재료의 상태입니다. 재료가 상하거나 문제가 있다면 좋은 요리가 나올 수 없습니다. 마찬가지로 좋은 머신 러닝 결과를 얻기 위해서는 데이터의 성격을 파악하는 과정이 선행되어야 합니다. 이 과정에서 데이터 내 값의 분포, 변수 간의 관계, Null 값과 같은 결측값(missing values) 존재 유무 등을 파악하게 되는데 이와 같이 데이터를 파악하는 과정을 EDA(Exploratory Data Analysis, 탐색적 데이터 분석)이라고 합니다. 이번에는 방대한 양의 데이터를 가진 데이터프레임을 .profile_report()라는 단 한 줄의 명령으로 탐색하는 패키지인 판다스 프로파일링(pandas-profiling)을 소개합니다.\n",
    "\n",
    "프롬프트에서 아래의 pip 명령을 통해 패키지를 설치합니다."
   ]
  },
  {
   "cell_type": "code",
   "execution_count": 3,
   "metadata": {
    "colab": {
     "base_uri": "https://localhost:8080/"
    },
    "executionInfo": {
     "elapsed": 12409,
     "status": "ok",
     "timestamp": 1608096113617,
     "user": {
      "displayName": "박신형",
      "photoUrl": "",
      "userId": "14651083672606345860"
     },
     "user_tz": -540
    },
    "id": "YoOyPqBY8ED1",
    "outputId": "eec466f8-43bc-4ecf-cc76-05a07a247b00"
   },
   "outputs": [
    {
     "name": "stdout",
     "output_type": "stream",
     "text": [
      "Requirement already up-to-date: pandas-profiling in c:\\users\\user\\anaconda3\\lib\\site-packages (2.9.0)\n",
      "Requirement already satisfied, skipping upgrade: matplotlib>=3.2.0 in c:\\users\\user\\anaconda3\\lib\\site-packages (from pandas-profiling) (3.2.2)\n",
      "Requirement already satisfied, skipping upgrade: jinja2>=2.11.1 in c:\\users\\user\\anaconda3\\lib\\site-packages (from pandas-profiling) (2.11.2)\n",
      "Requirement already satisfied, skipping upgrade: htmlmin>=0.1.12 in c:\\users\\user\\anaconda3\\lib\\site-packages (from pandas-profiling) (0.1.12)\n",
      "Requirement already satisfied, skipping upgrade: requests>=2.23.0 in c:\\users\\user\\anaconda3\\lib\\site-packages (from pandas-profiling) (2.24.0)\n",
      "Requirement already satisfied, skipping upgrade: visions[type_image_path]==0.5.0 in c:\\users\\user\\anaconda3\\lib\\site-packages (from pandas-profiling) (0.5.0)\n",
      "Requirement already satisfied, skipping upgrade: ipywidgets>=7.5.1 in c:\\users\\user\\anaconda3\\lib\\site-packages (from pandas-profiling) (7.5.1)\n",
      "Requirement already satisfied, skipping upgrade: phik>=0.9.10 in c:\\users\\user\\anaconda3\\lib\\site-packages (from pandas-profiling) (0.10.0)\n",
      "Requirement already satisfied, skipping upgrade: joblib in c:\\users\\user\\anaconda3\\lib\\site-packages (from pandas-profiling) (0.16.0)\n",
      "Requirement already satisfied, skipping upgrade: numpy>=1.16.0 in c:\\users\\user\\anaconda3\\lib\\site-packages (from pandas-profiling) (1.18.5)\n",
      "Requirement already satisfied, skipping upgrade: missingno>=0.4.2 in c:\\users\\user\\anaconda3\\lib\\site-packages (from pandas-profiling) (0.4.2)\n",
      "Requirement already satisfied, skipping upgrade: attrs>=19.3.0 in c:\\users\\user\\anaconda3\\lib\\site-packages (from pandas-profiling) (19.3.0)\n",
      "Requirement already satisfied, skipping upgrade: tangled-up-in-unicode>=0.0.6 in c:\\users\\user\\anaconda3\\lib\\site-packages (from pandas-profiling) (0.0.6)\n",
      "Note: you may need to restart the kernel to use updated packages.\n",
      "Requirement already satisfied, skipping upgrade: confuse>=1.0.0 in c:\\users\\user\\anaconda3\\lib\\site-packages (from pandas-profiling) (1.4.0)\n",
      "Requirement already satisfied, skipping upgrade: pandas!=1.0.0,!=1.0.1,!=1.0.2,!=1.1.0,>=0.25.3 in c:\\users\\user\\anaconda3\\lib\\site-packages (from pandas-profiling) (1.0.5)\n",
      "Requirement already satisfied, skipping upgrade: tqdm>=4.43.0 in c:\\users\\user\\anaconda3\\lib\\site-packages (from pandas-profiling) (4.47.0)\n",
      "Requirement already satisfied, skipping upgrade: seaborn>=0.10.1 in c:\\users\\user\\anaconda3\\lib\\site-packages (from pandas-profiling) (0.10.1)\n",
      "Requirement already satisfied, skipping upgrade: scipy>=1.4.1 in c:\\users\\user\\anaconda3\\lib\\site-packages (from pandas-profiling) (1.5.0)\n",
      "Requirement already satisfied, skipping upgrade: cycler>=0.10 in c:\\users\\user\\anaconda3\\lib\\site-packages (from matplotlib>=3.2.0->pandas-profiling) (0.10.0)\n",
      "Requirement already satisfied, skipping upgrade: kiwisolver>=1.0.1 in c:\\users\\user\\anaconda3\\lib\\site-packages (from matplotlib>=3.2.0->pandas-profiling) (1.2.0)\n",
      "Requirement already satisfied, skipping upgrade: pyparsing!=2.0.4,!=2.1.2,!=2.1.6,>=2.0.1 in c:\\users\\user\\anaconda3\\lib\\site-packages (from matplotlib>=3.2.0->pandas-profiling) (2.4.7)\n",
      "Requirement already satisfied, skipping upgrade: python-dateutil>=2.1 in c:\\users\\user\\anaconda3\\lib\\site-packages (from matplotlib>=3.2.0->pandas-profiling) (2.8.1)\n",
      "Requirement already satisfied, skipping upgrade: MarkupSafe>=0.23 in c:\\users\\user\\anaconda3\\lib\\site-packages (from jinja2>=2.11.1->pandas-profiling) (1.1.1)\n",
      "Requirement already satisfied, skipping upgrade: certifi>=2017.4.17 in c:\\users\\user\\anaconda3\\lib\\site-packages (from requests>=2.23.0->pandas-profiling) (2020.6.20)\n",
      "Requirement already satisfied, skipping upgrade: chardet<4,>=3.0.2 in c:\\users\\user\\anaconda3\\lib\\site-packages (from requests>=2.23.0->pandas-profiling) (3.0.4)\n",
      "Requirement already satisfied, skipping upgrade: urllib3!=1.25.0,!=1.25.1,<1.26,>=1.21.1 in c:\\users\\user\\anaconda3\\lib\\site-packages (from requests>=2.23.0->pandas-profiling) (1.25.9)\n",
      "Requirement already satisfied, skipping upgrade: idna<3,>=2.5 in c:\\users\\user\\anaconda3\\lib\\site-packages (from requests>=2.23.0->pandas-profiling) (2.10)\n",
      "Requirement already satisfied, skipping upgrade: networkx>=2.4 in c:\\users\\user\\anaconda3\\lib\\site-packages (from visions[type_image_path]==0.5.0->pandas-profiling) (2.4)\n",
      "Requirement already satisfied, skipping upgrade: imagehash; extra == \"type_image_path\" in c:\\users\\user\\anaconda3\\lib\\site-packages (from visions[type_image_path]==0.5.0->pandas-profiling) (4.2.0)\n",
      "Requirement already satisfied, skipping upgrade: Pillow; extra == \"type_image_path\" in c:\\users\\user\\anaconda3\\lib\\site-packages (from visions[type_image_path]==0.5.0->pandas-profiling) (7.2.0)\n",
      "Requirement already satisfied, skipping upgrade: ipython>=4.0.0; python_version >= \"3.3\" in c:\\users\\user\\anaconda3\\lib\\site-packages (from ipywidgets>=7.5.1->pandas-profiling) (7.16.1)\n",
      "Requirement already satisfied, skipping upgrade: widgetsnbextension~=3.5.0 in c:\\users\\user\\anaconda3\\lib\\site-packages (from ipywidgets>=7.5.1->pandas-profiling) (3.5.1)\n",
      "Requirement already satisfied, skipping upgrade: ipykernel>=4.5.1 in c:\\users\\user\\anaconda3\\lib\\site-packages (from ipywidgets>=7.5.1->pandas-profiling) (5.3.2)\n",
      "Requirement already satisfied, skipping upgrade: nbformat>=4.2.0 in c:\\users\\user\\anaconda3\\lib\\site-packages (from ipywidgets>=7.5.1->pandas-profiling) (5.0.7)\n",
      "Requirement already satisfied, skipping upgrade: traitlets>=4.3.1 in c:\\users\\user\\anaconda3\\lib\\site-packages (from ipywidgets>=7.5.1->pandas-profiling) (4.3.3)\n",
      "Requirement already satisfied, skipping upgrade: numba>=0.38.1 in c:\\users\\user\\anaconda3\\lib\\site-packages (from phik>=0.9.10->pandas-profiling) (0.50.1)\n",
      "Requirement already satisfied, skipping upgrade: pyyaml in c:\\users\\user\\anaconda3\\lib\\site-packages (from confuse>=1.0.0->pandas-profiling) (5.3.1)\n",
      "Requirement already satisfied, skipping upgrade: pytz>=2017.2 in c:\\users\\user\\anaconda3\\lib\\site-packages (from pandas!=1.0.0,!=1.0.1,!=1.0.2,!=1.1.0,>=0.25.3->pandas-profiling) (2020.1)\n",
      "Requirement already satisfied, skipping upgrade: six in c:\\users\\user\\anaconda3\\lib\\site-packages (from cycler>=0.10->matplotlib>=3.2.0->pandas-profiling) (1.15.0)\n",
      "Requirement already satisfied, skipping upgrade: decorator>=4.3.0 in c:\\users\\user\\anaconda3\\lib\\site-packages (from networkx>=2.4->visions[type_image_path]==0.5.0->pandas-profiling) (4.4.2)\n",
      "Requirement already satisfied, skipping upgrade: PyWavelets in c:\\users\\user\\anaconda3\\lib\\site-packages (from imagehash; extra == \"type_image_path\"->visions[type_image_path]==0.5.0->pandas-profiling) (1.1.1)\n",
      "Requirement already satisfied, skipping upgrade: colorama; sys_platform == \"win32\" in c:\\users\\user\\anaconda3\\lib\\site-packages (from ipython>=4.0.0; python_version >= \"3.3\"->ipywidgets>=7.5.1->pandas-profiling) (0.4.3)\n",
      "Requirement already satisfied, skipping upgrade: pygments in c:\\users\\user\\anaconda3\\lib\\site-packages (from ipython>=4.0.0; python_version >= \"3.3\"->ipywidgets>=7.5.1->pandas-profiling) (2.6.1)\n",
      "Requirement already satisfied, skipping upgrade: jedi>=0.10 in c:\\users\\user\\anaconda3\\lib\\site-packages (from ipython>=4.0.0; python_version >= \"3.3\"->ipywidgets>=7.5.1->pandas-profiling) (0.17.1)\n",
      "Requirement already satisfied, skipping upgrade: prompt-toolkit!=3.0.0,!=3.0.1,<3.1.0,>=2.0.0 in c:\\users\\user\\anaconda3\\lib\\site-packages (from ipython>=4.0.0; python_version >= \"3.3\"->ipywidgets>=7.5.1->pandas-profiling) (3.0.5)\n",
      "Requirement already satisfied, skipping upgrade: setuptools>=18.5 in c:\\users\\user\\anaconda3\\lib\\site-packages (from ipython>=4.0.0; python_version >= \"3.3\"->ipywidgets>=7.5.1->pandas-profiling) (49.2.0.post20200714)\n",
      "Requirement already satisfied, skipping upgrade: pickleshare in c:\\users\\user\\anaconda3\\lib\\site-packages (from ipython>=4.0.0; python_version >= \"3.3\"->ipywidgets>=7.5.1->pandas-profiling) (0.7.5)\n",
      "Requirement already satisfied, skipping upgrade: backcall in c:\\users\\user\\anaconda3\\lib\\site-packages (from ipython>=4.0.0; python_version >= \"3.3\"->ipywidgets>=7.5.1->pandas-profiling) (0.2.0)\n",
      "Requirement already satisfied, skipping upgrade: notebook>=4.4.1 in c:\\users\\user\\anaconda3\\lib\\site-packages (from widgetsnbextension~=3.5.0->ipywidgets>=7.5.1->pandas-profiling) (6.0.3)\n",
      "Requirement already satisfied, skipping upgrade: jupyter-client in c:\\users\\user\\anaconda3\\lib\\site-packages (from ipykernel>=4.5.1->ipywidgets>=7.5.1->pandas-profiling) (6.1.6)\n",
      "Requirement already satisfied, skipping upgrade: tornado>=4.2 in c:\\users\\user\\anaconda3\\lib\\site-packages (from ipykernel>=4.5.1->ipywidgets>=7.5.1->pandas-profiling) (6.0.4)\n",
      "Requirement already satisfied, skipping upgrade: jupyter-core in c:\\users\\user\\anaconda3\\lib\\site-packages (from nbformat>=4.2.0->ipywidgets>=7.5.1->pandas-profiling) (4.6.3)\n",
      "Requirement already satisfied, skipping upgrade: jsonschema!=2.5.0,>=2.4 in c:\\users\\user\\anaconda3\\lib\\site-packages (from nbformat>=4.2.0->ipywidgets>=7.5.1->pandas-profiling) (3.2.0)\n",
      "Requirement already satisfied, skipping upgrade: ipython-genutils in c:\\users\\user\\anaconda3\\lib\\site-packages (from nbformat>=4.2.0->ipywidgets>=7.5.1->pandas-profiling) (0.2.0)\n",
      "Requirement already satisfied, skipping upgrade: llvmlite<0.34,>=0.33.0.dev0 in c:\\users\\user\\anaconda3\\lib\\site-packages (from numba>=0.38.1->phik>=0.9.10->pandas-profiling) (0.33.0+1.g022ab0f)\n",
      "Requirement already satisfied, skipping upgrade: parso<0.8.0,>=0.7.0 in c:\\users\\user\\anaconda3\\lib\\site-packages (from jedi>=0.10->ipython>=4.0.0; python_version >= \"3.3\"->ipywidgets>=7.5.1->pandas-profiling) (0.7.0)\n",
      "Requirement already satisfied, skipping upgrade: wcwidth in c:\\users\\user\\anaconda3\\lib\\site-packages (from prompt-toolkit!=3.0.0,!=3.0.1,<3.1.0,>=2.0.0->ipython>=4.0.0; python_version >= \"3.3\"->ipywidgets>=7.5.1->pandas-profiling) (0.2.5)\n",
      "Requirement already satisfied, skipping upgrade: nbconvert in c:\\users\\user\\anaconda3\\lib\\site-packages (from notebook>=4.4.1->widgetsnbextension~=3.5.0->ipywidgets>=7.5.1->pandas-profiling) (5.6.1)\n",
      "Requirement already satisfied, skipping upgrade: terminado>=0.8.1 in c:\\users\\user\\anaconda3\\lib\\site-packages (from notebook>=4.4.1->widgetsnbextension~=3.5.0->ipywidgets>=7.5.1->pandas-profiling) (0.8.3)\n",
      "Requirement already satisfied, skipping upgrade: pyzmq>=17 in c:\\users\\user\\anaconda3\\lib\\site-packages (from notebook>=4.4.1->widgetsnbextension~=3.5.0->ipywidgets>=7.5.1->pandas-profiling) (19.0.1)\n",
      "Requirement already satisfied, skipping upgrade: prometheus-client in c:\\users\\user\\anaconda3\\lib\\site-packages (from notebook>=4.4.1->widgetsnbextension~=3.5.0->ipywidgets>=7.5.1->pandas-profiling) (0.8.0)\n",
      "Requirement already satisfied, skipping upgrade: Send2Trash in c:\\users\\user\\anaconda3\\lib\\site-packages (from notebook>=4.4.1->widgetsnbextension~=3.5.0->ipywidgets>=7.5.1->pandas-profiling) (1.5.0)\n",
      "Requirement already satisfied, skipping upgrade: pywin32>=1.0; sys_platform == \"win32\" in c:\\users\\user\\anaconda3\\lib\\site-packages (from jupyter-core->nbformat>=4.2.0->ipywidgets>=7.5.1->pandas-profiling) (227)\n",
      "Requirement already satisfied, skipping upgrade: pyrsistent>=0.14.0 in c:\\users\\user\\anaconda3\\lib\\site-packages (from jsonschema!=2.5.0,>=2.4->nbformat>=4.2.0->ipywidgets>=7.5.1->pandas-profiling) (0.16.0)\n",
      "Requirement already satisfied, skipping upgrade: bleach in c:\\users\\user\\anaconda3\\lib\\site-packages (from nbconvert->notebook>=4.4.1->widgetsnbextension~=3.5.0->ipywidgets>=7.5.1->pandas-profiling) (3.1.5)\n",
      "Requirement already satisfied, skipping upgrade: testpath in c:\\users\\user\\anaconda3\\lib\\site-packages (from nbconvert->notebook>=4.4.1->widgetsnbextension~=3.5.0->ipywidgets>=7.5.1->pandas-profiling) (0.4.4)\n",
      "Requirement already satisfied, skipping upgrade: mistune<2,>=0.8.1 in c:\\users\\user\\anaconda3\\lib\\site-packages (from nbconvert->notebook>=4.4.1->widgetsnbextension~=3.5.0->ipywidgets>=7.5.1->pandas-profiling) (0.8.4)\n",
      "Requirement already satisfied, skipping upgrade: pandocfilters>=1.4.1 in c:\\users\\user\\anaconda3\\lib\\site-packages (from nbconvert->notebook>=4.4.1->widgetsnbextension~=3.5.0->ipywidgets>=7.5.1->pandas-profiling) (1.4.2)\n",
      "Requirement already satisfied, skipping upgrade: defusedxml in c:\\users\\user\\anaconda3\\lib\\site-packages (from nbconvert->notebook>=4.4.1->widgetsnbextension~=3.5.0->ipywidgets>=7.5.1->pandas-profiling) (0.6.0)\n",
      "Requirement already satisfied, skipping upgrade: entrypoints>=0.2.2 in c:\\users\\user\\anaconda3\\lib\\site-packages (from nbconvert->notebook>=4.4.1->widgetsnbextension~=3.5.0->ipywidgets>=7.5.1->pandas-profiling) (0.3)\n",
      "Requirement already satisfied, skipping upgrade: webencodings in c:\\users\\user\\anaconda3\\lib\\site-packages (from bleach->nbconvert->notebook>=4.4.1->widgetsnbextension~=3.5.0->ipywidgets>=7.5.1->pandas-profiling) (0.5.1)\n",
      "Requirement already satisfied, skipping upgrade: packaging in c:\\users\\user\\anaconda3\\lib\\site-packages (from bleach->nbconvert->notebook>=4.4.1->widgetsnbextension~=3.5.0->ipywidgets>=7.5.1->pandas-profiling) (20.4)\n"
     ]
    }
   ],
   "source": [
    "pip install -U pandas-profiling"
   ]
  },
  {
   "cell_type": "markdown",
   "metadata": {
    "id": "13UhCFdzAWWF"
   },
   "source": [
    "## 1. 실습 파일 불러오기\n",
    "---\n",
    "실습을 위해 아래의 링크에서 spam.csv란 파일을 다운로드 해보겠습니다. 해당 데이터셋은 스팸 메일 분류하기 챕터에서 재사용됩니다.\n",
    "\n",
    "다운로드 링크 : https://www.kaggle.com/uciml/sms-spam-collection-dataset\n",
    "\n",
    "spam.csv를 다운로드 받았다면 해당 파일을 주피터 노트북에 가져와보겠습니다."
   ]
  }
 ],
 "metadata": {
  "colab": {
   "authorship_tag": "ABX9TyM/F8RvqelEu3llp7aCxdxQ",
   "name": "5) 판다스 프로파일링(Pandas-Profiling).ipynb",
   "provenance": []
  },
  "kernelspec": {
   "display_name": "Python 3",
   "language": "python",
   "name": "python3"
  },
  "language_info": {
   "codemirror_mode": {
    "name": "ipython",
    "version": 3
   },
   "file_extension": ".py",
   "mimetype": "text/x-python",
   "name": "python",
   "nbconvert_exporter": "python",
   "pygments_lexer": "ipython3",
   "version": "3.8.3"
  }
 },
 "nbformat": 4,
 "nbformat_minor": 1
}
