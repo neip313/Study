{
 "cells": [
  {
   "cell_type": "markdown",
   "metadata": {},
   "source": [
    "## 1. 들어가며\n",
    "장고([쟁고]: Django)는 전 세계에서 가장 인기 있는 언어인 파이썬으로 작성된 오픈소스 웹 프레임워크로 다양하고 복잡한 기능을 지원하고 있습니다. 여러분은 장고로 어플리케이션과 사이트 개발을 할 수 있어요. 이 튜토리얼은 장고걸스 튜토리얼을 본격적으로 해보기 전에 장고를 연습할 수 있는 예고편이라고 할 수 있어요! 우리는 이미 어느정도 만들어진 소스를 깃헙에서 다운 받아 여러 기능을 추가하고 코드를 조금씩 수정해볼 거에요. 그럼 함께 시작해 볼까요?"
   ]
  },
  {
   "cell_type": "markdown",
   "metadata": {},
   "source": [
    "## 2. 튜토리얼의 목적\n",
    "장고프로젝트를 시작하기 전에 가상환경을 올바른 방법으로 다룰 수 있습니다.\n",
    "장고 관리자의 역할과 기능에 대해 이해할 수 있습니다.\n",
    "장고 모델에 대해 알아봅니다.\n",
    "Git/Github의 기본 명령어로 프로젝트를 Github에 배포할 수 있습니다."
   ]
  }
 ],
 "metadata": {
  "kernelspec": {
   "display_name": "Python 3",
   "language": "python",
   "name": "python3"
  },
  "language_info": {
   "codemirror_mode": {
    "name": "ipython",
    "version": 3
   },
   "file_extension": ".py",
   "mimetype": "text/x-python",
   "name": "python",
   "nbconvert_exporter": "python",
   "pygments_lexer": "ipython3",
   "version": "3.8.5"
  }
 },
 "nbformat": 4,
 "nbformat_minor": 4
}
