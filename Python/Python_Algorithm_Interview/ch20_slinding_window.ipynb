{
 "cells": [
  {
   "cell_type": "markdown",
   "metadata": {
    "id": "D6VprQ0J7XOa"
   },
   "source": []
  },
  {
   "cell_type": "markdown",
   "metadata": {
    "id": "SG-IqVa-7YNa"
   },
   "source": [
    "## Slinding Window 개념\n",
    "- 고정 사이즈의 윈도우가 이동하면서 윈도우 내에 있는 데이터를 이용해 문제를 풀이하는 알고리즘\n",
    "- 투 포인터와 vs 슬라이딩 윈도우\n",
    "- 알고리즘에 대한 구체적인 설명은 아래 영상을 참고하기를 바란다. "
   ]
  },
  {
   "cell_type": "code",
   "execution_count": 1,
   "metadata": {
    "colab": {
     "base_uri": "https://localhost:8080/",
     "height": 336
    },
    "id": "rU_tpKU118L2",
    "outputId": "0028b2df-ba8e-431c-c0c8-4a7f9eb92c3f"
   },
   "outputs": [
    {
     "data": {
      "text/html": [
       "<iframe width=\"560\" height=\"315\" src=\"https://www.youtube.com/embed/0l2nePjDFuA\" frameborder=\"0\" allow=\"accelerometer; autoplay; clipboard-write; encrypted-media; gyroscope; picture-in-picture\" allowfullscreen></iframe>"
      ],
      "text/plain": [
       "<IPython.core.display.HTML object>"
      ]
     },
     "execution_count": 1,
     "metadata": {
      "tags": []
     },
     "output_type": "execute_result"
    }
   ],
   "source": [
    "from IPython.display import HTML\n",
    "HTML('<iframe width=\"560\" height=\"315\" src=\"https://www.youtube.com/embed/0l2nePjDFuA\" frameborder=\"0\" allow=\"accelerometer; autoplay; clipboard-write; encrypted-media; gyroscope; picture-in-picture\" allowfullscreen></iframe>')"
   ]
  },
  {
   "cell_type": "code",
   "execution_count": 4,
   "metadata": {
    "colab": {
     "base_uri": "https://localhost:8080/",
     "height": 336
    },
    "id": "7h0w0sRxTGdw",
    "outputId": "61cb52b6-11d5-4927-e5f6-1180b966649f"
   },
   "outputs": [
    {
     "data": {
      "text/html": [
       "<iframe width=\"560\" height=\"315\" src=\"https://www.youtube.com/embed/iSjvuixMPmQ\" frameborder=\"0\" allow=\"accelerometer; autoplay; clipboard-write; encrypted-media; gyroscope; picture-in-picture\" allowfullscreen></iframe>"
      ],
      "text/plain": [
       "<IPython.core.display.HTML object>"
      ]
     },
     "execution_count": 4,
     "metadata": {
      "tags": []
     },
     "output_type": "execute_result"
    }
   ],
   "source": [
    "HTML('<iframe width=\"560\" height=\"315\" src=\"https://www.youtube.com/embed/iSjvuixMPmQ\" frameborder=\"0\" allow=\"accelerometer; autoplay; clipboard-write; encrypted-media; gyroscope; picture-in-picture\" allowfullscreen></iframe>')"
   ]
  },
  {
   "cell_type": "code",
   "execution_count": 2,
   "metadata": {
    "colab": {
     "base_uri": "https://localhost:8080/",
     "height": 336
    },
    "id": "hvutGK9SSqSg",
    "outputId": "2ec445b8-2779-431e-f5c4-336703aa5f5d"
   },
   "outputs": [
    {
     "data": {
      "text/html": [
       "<iframe width=\"560\" height=\"315\" src=\"https://www.youtube.com/embed/VM1kmLrrN4Y\" frameborder=\"0\" allow=\"accelerometer; autoplay; clipboard-write; encrypted-media; gyroscope; picture-in-picture\" allowfullscreen></iframe>"
      ],
      "text/plain": [
       "<IPython.core.display.HTML object>"
      ]
     },
     "execution_count": 2,
     "metadata": {
      "tags": []
     },
     "output_type": "execute_result"
    }
   ],
   "source": [
    "HTML('<iframe width=\"560\" height=\"315\" src=\"https://www.youtube.com/embed/VM1kmLrrN4Y\" frameborder=\"0\" allow=\"accelerometer; autoplay; clipboard-write; encrypted-media; gyroscope; picture-in-picture\" allowfullscreen></iframe>')"
   ]
  },
  {
   "cell_type": "code",
   "execution_count": 3,
   "metadata": {
    "colab": {
     "base_uri": "https://localhost:8080/",
     "height": 336
    },
    "id": "YPVFS64CTBqJ",
    "outputId": "c8d3cf9d-0063-4112-b3bd-fb6244acfcec"
   },
   "outputs": [
    {
     "data": {
      "text/html": [
       "<iframe width=\"560\" height=\"315\" src=\"https://www.youtube.com/embed/uH9VJRIpIDY\" frameborder=\"0\" allow=\"accelerometer; autoplay; clipboard-write; encrypted-media; gyroscope; picture-in-picture\" allowfullscreen></iframe>"
      ],
      "text/plain": [
       "<IPython.core.display.HTML object>"
      ]
     },
     "execution_count": 3,
     "metadata": {
      "tags": []
     },
     "output_type": "execute_result"
    }
   ],
   "source": [
    "\n",
    "HTML('<iframe width=\"560\" height=\"315\" src=\"https://www.youtube.com/embed/uH9VJRIpIDY\" frameborder=\"0\" allow=\"accelerometer; autoplay; clipboard-write; encrypted-media; gyroscope; picture-in-picture\" allowfullscreen></iframe>')"
   ]
  },
  {
   "cell_type": "markdown",
   "metadata": {
    "id": "yRFlmSHMTQZv"
   },
   "source": [
    "- 두 알고리즘의 차이점에 대한 설명은 아래와 같이 정리를 할 수 있다. \n",
    "\n",
    "| 이름 | 정렬 여부 | 윈도우 사이즈 | 이동   |\n",
    "| ------ | ------ | ------ | ------ |\n",
    "| 투 포인터 | 대부분 O | 가변 | 좌우 포인터 양방향 |\n",
    "| 슬라이딩 윈도우 | X | 고정 | 좌 또는 단방향 |"
   ]
  },
  {
   "cell_type": "markdown",
   "metadata": {
    "id": "3z2Y7GGcUsP0"
   },
   "source": [
    "## Sliding-Window-Maxinum\n",
    "- 문제, 배열 Num가 주어졌을 때 K 크기의 슬라이딩 윈도우를 오른쪽 끝까지 이동하면서 최대 슬라이딩 윈도우를 구하라.\n",
    "- 입력 \n",
    "```python\n",
    "nums = [1, 3, -1, -3, 5, 3, 6, 7], k = 3\n",
    "```\n",
    "- 출력\n",
    "```python\n",
    "[3,3,5,5,6,7]\n",
    "```\n",
    "\n"
   ]
  },
  {
   "cell_type": "markdown",
   "metadata": {
    "id": "3C83-Mw6iLKR"
   },
   "source": [
    "## 시간측정 클래스 구현\n",
    "- 알고리즘 연산 속도를 측정하기 위해 아래와 같이 코드를 구현하였다. "
   ]
  },
  {
   "cell_type": "code",
   "execution_count": 48,
   "metadata": {
    "id": "qoyQbzrgiNBS"
   },
   "outputs": [],
   "source": [
    "import time\n",
    "\n",
    "class TimerError(Exception):\n",
    "    \"\"\"A custom exception used to report errors in use of Timer class\"\"\"\n",
    "\n",
    "class Timer:\n",
    "    def __init__(self):\n",
    "        self._start_time = None\n",
    "\n",
    "    def start(self):\n",
    "        \"\"\"Start a new timer\"\"\"\n",
    "        if self._start_time is not None:\n",
    "            raise TimerError(f\"Timer is running. Use .stop() to stop it\")\n",
    "\n",
    "        self._start_time = time.perf_counter()\n",
    "\n",
    "    def stop(self):\n",
    "        \"\"\"Stop the timer, and report the elapsed time\"\"\"\n",
    "        if self._start_time is None:\n",
    "            raise TimerError(f\"Timer is not running. Use .start() to start it\")\n",
    "\n",
    "        elapsed_time = time.perf_counter() - self._start_time\n",
    "        self._start_time = None\n",
    "        print(f\"Elapsed time: {elapsed_time:0.4f} seconds\")"
   ]
  },
  {
   "cell_type": "markdown",
   "metadata": {
    "id": "MW0hPkxhVkrm"
   },
   "source": [
    "### 방법 1. 브루트 포스로 계산\n",
    "- 문제를 잘 읽어보면 파이썬에서는 슬라이싱과 내장 함수를 사용해 매우 쉬운 방식으로 풀이할 수 있다. "
   ]
  },
  {
   "cell_type": "code",
   "execution_count": 62,
   "metadata": {
    "id": "FetOzkLCVjcI"
   },
   "outputs": [],
   "source": [
    "from typing import List\n",
    "\n",
    "class Solution:\n",
    "  def maxSlidingWindow(self, nums: List[int], k: int) -> List[int]:\n",
    "  \n",
    "    print(\"The current nums: \", nums)\n",
    "    if not nums:\n",
    "      return nums\n",
    "  \n",
    "    r = []\n",
    "    for i in range(len(nums)- k + 1):\n",
    "      print(\"The maxNum of current\", i, \": \", max(nums[i:i+k]))\n",
    "      print(\"why\", max(nums[i:i+k]), \"? because The nums:\", nums[i:i + k])\n",
    "      r.append(max(nums[i:i + k]))\n",
    "  \n",
    "    return r"
   ]
  },
  {
   "cell_type": "code",
   "execution_count": 63,
   "metadata": {
    "colab": {
     "base_uri": "https://localhost:8080/"
    },
    "id": "11ibuciCWiAi",
    "outputId": "1a8b3c7f-6211-4bcb-9f37-cdd041b69d25"
   },
   "outputs": [
    {
     "name": "stdout",
     "output_type": "stream",
     "text": [
      "The current nums:  [1, 3, -1, -3, 5, 3, 6, 7]\n",
      "The maxNum of current 0 :  3\n",
      "why 3 ? because The nums: [1, 3, -1]\n",
      "The maxNum of current 1 :  3\n",
      "why 3 ? because The nums: [3, -1, -3]\n",
      "The maxNum of current 2 :  5\n",
      "why 5 ? because The nums: [-1, -3, 5]\n",
      "The maxNum of current 3 :  5\n",
      "why 5 ? because The nums: [-3, 5, 3]\n",
      "The maxNum of current 4 :  6\n",
      "why 6 ? because The nums: [5, 3, 6]\n",
      "The maxNum of current 5 :  7\n",
      "why 7 ? because The nums: [3, 6, 7]\n",
      "The final answer is: [3, 3, 5, 5, 6, 7]\n",
      "Elapsed time: 0.0092 seconds\n"
     ]
    }
   ],
   "source": [
    "nums = [1, 3, -1, -3, 5, 3, 6, 7]\n",
    "k = 3\n",
    "solve = Solution()\n",
    "t = Timer()\n",
    "t.start()\n",
    "print(\"The final answer is:\", solve.maxSlidingWindow(nums, k))\n",
    "t.stop()"
   ]
  },
  {
   "cell_type": "markdown",
   "metadata": {
    "id": "aHEKAbSHZSlK"
   },
   "source": [
    "### 방법 2. 큐를 이용한 최적화\n",
    "- Max()를 계산하는 부분에서 최적화를 하도록 한다. \n",
    "- 정렬되지 않은 슬라이딩 윈도우에서 최대값을 추출하려면 어떠한 알고리즘이든 결국 한 번 이상은 봐야 하기 때문에, 최댓값 계산을 O(n)이내로 줄일 수 있는 없다. \n",
    "- 즉, 가급적 최댓값 계산을 최소화하기 위해 이전의 최댓값을 저장해뒀다가 한칸씩 이동할 때 새 값에 대해서만 더 큰 값인지 확인한다.\n",
    "- 최댓값이 윈도우에서 빠지게 되는 경우에만 다시 전체를 계산하는 형태로 개선한다. \n"
   ]
  },
  {
   "cell_type": "code",
   "execution_count": 60,
   "metadata": {
    "id": "uPUrxoX7c75H"
   },
   "outputs": [],
   "source": [
    "from typing import List\n",
    "import collections\n",
    "\n",
    "class Solution:\n",
    "  def maxSlidingWindow(self, nums: List[int], k: int) -> List[int]:\n",
    "  \n",
    "    print(\"The current nums: \", nums)\n",
    "    if not nums:\n",
    "      return nums\n",
    "  \n",
    "    r = []\n",
    "    for i in range(len(nums)- k + 1):\n",
    "      print(\"The maxNum of current\", i, \": \", max(nums[i:i+k]))\n",
    "      print(\"why\", max(nums[i:i+k]), \"? because The nums:\", nums[i:i + k])\n",
    "      r.append(max(nums[i:i + k]))\n",
    "  \n",
    "    return r\n",
    "\n",
    "  def maxSlidingWindow2(self, nums: List[int], k: int) -> List[int]:\n",
    "  \n",
    "    print(\"The current nums: \", nums)\n",
    "    results = []\n",
    "    window = collections.deque()\n",
    "    current_max = float('-inf')\n",
    "    for i, v in enumerate(nums):\n",
    "      print(\"The current i: {}, v: {}\".format(i, v))\n",
    "      window.append(v)\n",
    "      print(\"check 1: the current window is:\", window)\n",
    "      if i < k-1:\n",
    "        continue\n",
    "    \n",
    "      # 새로 추가된 값이 기존 최댓값보다 큰 경우 교체\n",
    "      if current_max == float('-inf'):\n",
    "        current_max = max(window)\n",
    "        print(\"check 2: current_max == float('-inf'):\", current_max)\n",
    "\n",
    "      elif v > current_max:\n",
    "        current_max = v\n",
    "        print(\"check 2: v > current_max\", current_max)\n",
    "      results.append(current_max)\n",
    "\n",
    "      # 최댓값이 윈도우에서 빠지면 초기화\n",
    "      if current_max == window.popleft():\n",
    "        current_max = float('-inf')\n",
    "\n",
    "    return results"
   ]
  },
  {
   "cell_type": "markdown",
   "metadata": {
    "id": "MMJYzQSbemA-"
   },
   "source": [
    "- 큐 사용이 필요할 경우, 데크를 사용을 위해 선언한다. \n",
    "```python\n",
    "import collections\n",
    "window = collections.deque()\n",
    "```\n",
    "- 최댓값이 반영된 상태가 아니라면, 현재 윈도우 전체의 최댓값을 계산해야 한다. \n",
    "- 이미 최댓값이 존재한다면 새로 추가된 값이 기존 최댓값보다 더 큰 경우에만 최댓값을 교체한다. \n",
    "  + 이 부분이 성능 개선을 위한 핵심이다. "
   ]
  },
  {
   "cell_type": "code",
   "execution_count": 61,
   "metadata": {
    "colab": {
     "base_uri": "https://localhost:8080/"
    },
    "id": "b-YJmABteERr",
    "outputId": "0b0b6119-ef9b-49ea-8cce-9988add0fa7f"
   },
   "outputs": [
    {
     "name": "stdout",
     "output_type": "stream",
     "text": [
      "The current nums:  [1, 3, -1, -3, 5, 3, 6, 7]\n",
      "The current i: 0, v: 1\n",
      "check 1: the current window is: deque([1])\n",
      "The current i: 1, v: 3\n",
      "check 1: the current window is: deque([1, 3])\n",
      "The current i: 2, v: -1\n",
      "check 1: the current window is: deque([1, 3, -1])\n",
      "check 2: current_max == float('-inf'): 3\n",
      "The current i: 3, v: -3\n",
      "check 1: the current window is: deque([3, -1, -3])\n",
      "The current i: 4, v: 5\n",
      "check 1: the current window is: deque([-1, -3, 5])\n",
      "check 2: current_max == float('-inf'): 5\n",
      "The current i: 5, v: 3\n",
      "check 1: the current window is: deque([-3, 5, 3])\n",
      "The current i: 6, v: 6\n",
      "check 1: the current window is: deque([5, 3, 6])\n",
      "check 2: v > current_max 6\n",
      "The current i: 7, v: 7\n",
      "check 1: the current window is: deque([3, 6, 7])\n",
      "check 2: v > current_max 7\n",
      "The final answer is: [3, 3, 5, 5, 6, 7]\n",
      "Elapsed time: 0.0074 seconds\n"
     ]
    }
   ],
   "source": [
    "nums = [1, 3, -1, -3, 5, 3, 6, 7]\n",
    "k = 3\n",
    "solve = Solution()\n",
    "t = Timer()\n",
    "t.start()\n",
    "print(\"The final answer is:\", solve.maxSlidingWindow2(nums, k))\n",
    "t.stop()"
   ]
  },
  {
   "cell_type": "markdown",
   "metadata": {
    "id": "hnVRXddIhKWR"
   },
   "source": [
    "- 필요할 때만 전체의 최댓값을 계산하고 이외에는 새로 추가되는 값이 최대인지만을 확인하는 형태로 계산량을 획기적으로 줄였다. "
   ]
  }
 ],
 "metadata": {
  "colab": {
   "name": "ch20_slinding_window.ipynb",
   "provenance": [],
   "toc_visible": true
  },
  "kernelspec": {
   "display_name": "Python 3",
   "language": "python",
   "name": "python3"
  },
  "language_info": {
   "codemirror_mode": {
    "name": "ipython",
    "version": 3
   },
   "file_extension": ".py",
   "mimetype": "text/x-python",
   "name": "python",
   "nbconvert_exporter": "python",
   "pygments_lexer": "ipython3",
   "version": "3.8.3"
  }
 },
 "nbformat": 4,
 "nbformat_minor": 1
}
