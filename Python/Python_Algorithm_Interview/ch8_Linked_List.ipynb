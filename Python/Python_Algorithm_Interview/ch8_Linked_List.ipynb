{
  "nbformat": 4,
  "nbformat_minor": 0,
  "metadata": {
    "colab": {
      "name": "ch8_Linked_List.ipynb",
      "provenance": [],
      "toc_visible": true
    },
    "kernelspec": {
      "name": "python3",
      "display_name": "Python 3"
    }
  },
  "cells": [
    {
      "cell_type": "markdown",
      "metadata": {
        "id": "CNts04Hl5_5H"
      },
      "source": [
        "# 개요"
      ]
    },
    {
      "cell_type": "markdown",
      "metadata": {
        "id": "Tc90UsGT7l-A"
      },
      "source": [
        "**연결 리스트**(**Linked List**)  \r\n",
        "컴퓨터과학에서 배열과 함께 가장 기본이 되는 대표적인 선형 자료구조 중 하나  \r\n",
        "다양한 **추상 자료형**(**Abstract Data Type**) 구현의 기반이 된다  \r\n",
        "- 동적으로 새로운 노드를 삽입하거나 삭제하기가 간편\r\n",
        "- 쉬운 관리(연결 구조를 통해 물리 메모리를 연속적으로 사용하지 않아도 되기 때문)"
      ]
    },
    {
      "cell_type": "markdown",
      "metadata": {
        "id": "Z98fBDkR85mN"
      },
      "source": [
        "데이터를 구조체로 묶어서 포인터로 연결한다는 개념은 여러 가지 방법으로 다양하게 활용이 가능하다  \r\n",
        "실제로 컴퓨터의 물리 메모리에는 구조체 각각이 서로 연결된 형태로 구성되어 있고,  \r\n",
        "메모리 어딘가에 흩뿌려진 형상을 띈다"
      ]
    },
    {
      "cell_type": "markdown",
      "metadata": {
        "id": "yWzmCjRMMhcm"
      },
      "source": [
        "![연결리스트.PNG](data:image/png;base64,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)"
      ]
    },
    {
      "cell_type": "markdown",
      "metadata": {
        "id": "79jJJhNbNU6V"
      },
      "source": [
        "연결 리스트는 배열과는 달리 특정 인덱스에 접근하기 위해서는 전체를 순서대로 읽어야 하므로  \r\n",
        "상수 시간에 접근할 수 없다.  즉 탐색에는 O(n)이 소요된다  \r\n",
        "반면, 시작 또는 끝 지점에 아이템을 추가하거나 삭제, 추출하는 작업은 O(1)에 가능하다"
      ]
    },
    {
      "cell_type": "markdown",
      "metadata": {
        "id": "apqqW4rINt1Z"
      },
      "source": [
        "# 예제 풀이"
      ]
    },
    {
      "cell_type": "markdown",
      "metadata": {
        "id": "aF6oJ1ZRNzeM"
      },
      "source": [
        "## Q13. 팰린드롬 연결 리스트  \r\n",
        "- 연결 리스트가 팰린드롬 구조인지 판별하라  \r\n"
      ]
    },
    {
      "cell_type": "markdown",
      "metadata": {
        "id": "dKSRikTKO-de"
      },
      "source": [
        "**예제 1**\r\n",
        "___\r\n",
        "- 입력  \r\n",
        "```\r\n",
        "1 -> 2\r\n",
        "```\r\n",
        "___\r\n",
        "- 출력  \r\n",
        "```\r\n",
        "false\r\n",
        "```\r\n",
        "___\r\n",
        "**예제 2**\r\n",
        "___\r\n",
        "- 입력\r\n",
        "```  \r\n",
        "1 -> 2 -> 2 -> 1\r\n",
        "```\r\n",
        "___\r\n",
        "- 출력\r\n",
        "```  \r\n",
        "true\r\n",
        "```\r\n",
        "___"
      ]
    },
    {
      "cell_type": "markdown",
      "metadata": {
        "id": "Zl53bV53RF9F"
      },
      "source": [
        "### 풀이 01 // 리스트 변환\r\n",
        "\r\n"
      ]
    },
    {
      "cell_type": "markdown",
      "metadata": {
        "id": "gq8pAnrtTDpx"
      },
      "source": [
        "**리스트 변환을 사용하는 이유**  \r\n",
        "___\r\n",
        "팰린드롬 여부를 판별하기 위해서는 앞뒤로 모두 추출할 수 있는 자료구조가 필요하다    \r\n",
        "일반적인 스택 자료구조는 마지막 요소만 추출하는 연산만 존재한다  \r\n",
        "하지만 파이썬의 리스트는 pop() 함수에 인덱스를 지정할 수 있어 마지막 요소가 아니더라도  \r\n",
        "얼마든지 원하는 위치를 자유롭게 추출할 수 있다  \r\n",
        "따라서 연결 리스트를 파이썬의 리스트로 변환하여 리스트의 기능을 이용하면 쉽게 풀이가 가능할것이다  \r\n",
        "___\r\n"
      ]
    },
    {
      "cell_type": "code",
      "metadata": {
        "id": "lQTb4Jt956nr",
        "colab": {
          "base_uri": "https://localhost:8080/"
        },
        "outputId": "c00936e9-ded9-4160-94e5-14a8c94d896a"
      },
      "source": [
        "# 연결 리스트 입력값을 파이썬 리스트로 변환\r\n",
        "class ListNode:  # ListNode 정의\r\n",
        "    def __init__(self, x):\r\n",
        "        self.val = x\r\n",
        "        self.next = None\r\n",
        "\r\n",
        "\r\n",
        "\r\n",
        "class Solution: \r\n",
        "    def pylist(self, head: ListNode) -> bool:\r\n",
        "        q: List = []\r\n",
        "\r\n",
        "        if not head:\r\n",
        "            return True\r\n",
        "        \r\n",
        "        node = head\r\n",
        "        # 리스트 변환\r\n",
        "        while node is not None: # node값이 없을때까지\r\n",
        "            q.append(node.val) # append로 리스트 변환 \r\n",
        "            node = node.next # 노드 값을 다음 노드값으로 변환\r\n",
        "\r\n",
        "        # 팰린드롬 판별\r\n",
        "        while len(q) > 1: # q 리스트의 길이가 1 이상일때\r\n",
        "            if q.pop(0) != q.pop(): # q 리스트의 첫번째 값과 마지막 값이 다르다면\r\n",
        "                return False # False를 반환\r\n",
        " \r\n",
        "        return True # 아니면 True 반환\r\n",
        "\r\n",
        "if __name__ == '__main__':\r\n",
        "  s = Solution()\r\n",
        "  li = ListNode(1) # li = [1]\r\n",
        "  li.next = ListNode(2) # li = [1,2]\r\n",
        "  print(s.pylist(li))\r\n",
        "  li.next.next = ListNode(2) # li = [1,2,2]\r\n",
        "  li.next.next.next = ListNode(1) # li = [1,2,2,1]\r\n",
        "  print(s.pylist(li))"
      ],
      "execution_count": null,
      "outputs": [
        {
          "output_type": "stream",
          "text": [
            "False\n",
            "True\n"
          ],
          "name": "stdout"
        }
      ]
    },
    {
      "cell_type": "markdown",
      "metadata": {
        "id": "FvdSEvk81niK"
      },
      "source": [
        "### 풀이 02 // 데크를 이용한 최적화"
      ]
    },
    {
      "cell_type": "markdown",
      "metadata": {
        "id": "R21DJoaT15tQ"
      },
      "source": [
        "동적 배열로 구성된 리스트는 맨 앞 아이템을 가져오기에 좋은 자료형이 아님  \r\n",
        "- 첫번째 값을 꺼내오면 모든 값이 한 칸씩 시프팅되며, 시간복잡도 O(n)이 발생하기 때문  \r\n",
        "- 따라서 O(n) 이내에 처리 할 수 있는 자료형이 필요  \r\n",
        "\r\n"
      ]
    },
    {
      "cell_type": "markdown",
      "metadata": {
        "id": "3IDPj7cg3Asn"
      },
      "source": [
        "파이썬의 데크(Deque)는 이중 연결 리스트 구조로 양쪽 방향 모두 추출하는 데  \r\n",
        "시간 복잡도 O(1)에 실행된다  \r\n",
        "따라서 데크 방식으로 수정 한다"
      ]
    },
    {
      "cell_type": "code",
      "metadata": {
        "colab": {
          "base_uri": "https://localhost:8080/"
        },
        "id": "BTfvSbLf3Vg2",
        "outputId": "111f5a55-5a83-4127-824f-2e894e43daa1"
      },
      "source": [
        "# 데크를 이용한 최적화\r\n",
        "# deque =  양방향에서 데이터를 처리할 수 있는 queue형 자료구조\r\n",
        "\r\n",
        "import collections # deque를 쓰려면 필요\r\n",
        "class Solution:\r\n",
        "    def pydeque(self, head: ListNode) -> bool:\r\n",
        "        # 데크 자료형 선언\r\n",
        "        q: Deque = collections.deque() # q를 데크 형식으로 정의\r\n",
        "\r\n",
        "        if not head:\r\n",
        "            return True\r\n",
        "\r\n",
        "        node = head\r\n",
        "        # 리스트 변환\r\n",
        "        while node is not None:\r\n",
        "            q.append(node.val)\r\n",
        "            node = node.next\r\n",
        "\r\n",
        "        # 팰린드롬 판별\r\n",
        "        while len(q) > 1:\r\n",
        "            if q.popleft() != q.pop():\r\n",
        "                return False\r\n",
        "\r\n",
        "        return True\r\n",
        "\r\n",
        "if __name__ == '__main__':\r\n",
        "  s = Solution()\r\n",
        "  li = ListNode(1) # li = [1]\r\n",
        "  li.next = ListNode(2) # li = [1,2]\r\n",
        "  print(s.pydeque(li))\r\n",
        "  li.next.next = ListNode(2) # li = [1,2,2]\r\n",
        "  li.next.next.next = ListNode(1) # li = [1,2,2,1]\r\n",
        "  print(s.pydeque(li))"
      ],
      "execution_count": null,
      "outputs": [
        {
          "output_type": "stream",
          "text": [
            "False\n",
            "True\n"
          ],
          "name": "stdout"
        }
      ]
    },
    {
      "cell_type": "markdown",
      "metadata": {
        "id": "CSyLKiFk4W3T"
      },
      "source": [
        "### 풀이 03 // 런너를 이용한 우아한 풀이"
      ]
    },
    {
      "cell_type": "code",
      "metadata": {
        "colab": {
          "base_uri": "https://localhost:8080/"
        },
        "id": "PwXXoEtW4Uq_",
        "outputId": "9723cc27-19cd-49e3-afde-9e71722789ea"
      },
      "source": [
        "class Solution:\r\n",
        "    def pyrunner(self, head: ListNode) -> bool:\r\n",
        "        rev = None\r\n",
        "        slow = fast = head # fast와 slow 초기값 = head\r\n",
        "        # 런너를 이용해 역순 연결 리스트 구성\r\n",
        "        while fast and fast.next: # fast와 fast.next가 있다면\r\n",
        "            fast = fast.next.next # fast 두칸 이동\r\n",
        "            rev, rev.next, slow = slow, rev, slow.next # rev = slow , rev.next = rev, slow = slow.next\r\n",
        "        if fast: #  fast에 값이 있을 경우,\r\n",
        "            slow = slow.next # slow 한 칸 더 이동\r\n",
        "\r\n",
        "        # 팰린드롬 여부 확인\r\n",
        "        while rev and rev.val == slow.val: #  rev 와 rev.val 값이 slow.val 값과 같다면\r\n",
        "            slow, rev = slow.next, rev.next # slow, rev 한 칸 씩 진행 \r\n",
        "        return not rev # not slow도 가능\r\n",
        "\r\n",
        "if __name__ == '__main__':\r\n",
        "  s = Solution()\r\n",
        "  li = ListNode(1) # li = [1]\r\n",
        "  li.next = ListNode(2) # li = [1,2]\r\n",
        "  print(s.pyrunner(li))\r\n",
        "\r\n",
        "  li = ListNode(1) # li = [1]\r\n",
        "  li.next = ListNode(2) # li = [1,2]\r\n",
        "  li.next.next = ListNode(2) # li = [1,2,2]\r\n",
        "  li.next.next.next = ListNode(1) # li = [1,2,2,1]\r\n",
        "  print(s.pyrunner(li))"
      ],
      "execution_count": null,
      "outputs": [
        {
          "output_type": "stream",
          "text": [
            "False\n",
            "True\n"
          ],
          "name": "stdout"
        }
      ]
    },
    {
      "cell_type": "markdown",
      "metadata": {
        "id": "JfbGpWzH6KSj"
      },
      "source": [
        "## Q14. 두 정렬 리스트의 병합  \r\n",
        "- 정렬되어 있는 두 연결 리스트를 합쳐라"
      ]
    },
    {
      "cell_type": "markdown",
      "metadata": {
        "id": "dXuD6V-v6W53"
      },
      "source": [
        "**예제 1**\r\n",
        "___\r\n",
        "- 입력\r\n",
        "```\r\n",
        "1 -> 2 -> 4, 1 -> 3 -> 4\r\n",
        "```\r\n",
        "___\r\n",
        "- 출력\r\n",
        "```\r\n",
        "1 -> 1 -> 2 -> 3 -> 4 -> 4\r\n",
        "```\r\n",
        "___"
      ]
    },
    {
      "cell_type": "markdown",
      "metadata": {
        "id": "JC5-1Wn-6xql"
      },
      "source": [
        "### 풀이 01 // 재귀 구조로 연결"
      ]
    },
    {
      "cell_type": "markdown",
      "metadata": {
        "id": "Y2DQy7Y47MBQ"
      },
      "source": [
        "여기서는 정렬된 리스트라는 점이 중요하다  \r\n",
        "병합 정렬에서 마지막 조합시 첫 번째 값부터 차례대로만 비교하면 해결되듯이,  \r\n",
        "이 문제도 병렬 정렬의 마지막 조합과 동일한 방식으로 해결이 가능하다"
      ]
    },
    {
      "cell_type": "code",
      "metadata": {
        "colab": {
          "base_uri": "https://localhost:8080/"
        },
        "id": "0pcl7u3Y7ii9",
        "outputId": "2f9bed05-ef23-4a4e-8665-6cae17466474"
      },
      "source": [
        "class Solution:\r\n",
        "    def mergeTwoLists(self, l1: ListNode, l2: ListNode) -> ListNode:\r\n",
        "        if (not l1) or (l2 and l1.val > l2.val): # l1의 값과 l2의 값 비교\r\n",
        "            l1, l2 = l2, l1 # 작은쪽이 왼쪽에 배치\r\n",
        "        if l1:\r\n",
        "            l1.next = self.mergeTwoLists(l1.next, l2) \r\n",
        "        return l1\r\n",
        "\r\n",
        "\r\n",
        "if __name__ == '__main__':\r\n",
        "  s = Solution()\r\n",
        "  l1 = ListNode(1)\r\n",
        "  l1.next = ListNode(2)\r\n",
        "  l1.next.next = ListNode(4)\r\n",
        "\r\n",
        "  l2 = ListNode(1)\r\n",
        "  l2.next = ListNode(3)\r\n",
        "  l2.next.next = ListNode(4)\r\n",
        "  answer = s.mergeTwoLists(l1, l2)\r\n",
        "  while answer is not None:\r\n",
        "    print(f'{answer.val}', end=\" \")\r\n",
        "    answer = answer.next"
      ],
      "execution_count": null,
      "outputs": [
        {
          "output_type": "stream",
          "text": [
            "1 1 2 3 4 4 "
          ],
          "name": "stdout"
        }
      ]
    },
    {
      "cell_type": "markdown",
      "metadata": {
        "id": "W6hXM6KFGi_E"
      },
      "source": [
        "## Q15. 역순 연결 리스트\r\n",
        "- 연결 리스트를 뒤집어라"
      ]
    },
    {
      "cell_type": "markdown",
      "metadata": {
        "id": "jtJXiSzkGovV"
      },
      "source": [
        "- 입력\r\n",
        "___\r\n",
        "```\r\n",
        "1 2 3 4 5 Null\r\n",
        "```\r\n",
        "___\r\n",
        "- 출력\r\n",
        "___\r\n",
        "```\r\n",
        "5 4 3 2 1 Null\r\n",
        "```"
      ]
    },
    {
      "cell_type": "markdown",
      "metadata": {
        "id": "THlPYdbVG4bU"
      },
      "source": [
        "### 풀이 01 // 재귀(Recursive) 구조로 뒤집기\r\n",
        "연결 리스트를 뒤집는 문제는 매우 일반적이면서도 활용도가 높아 실무에서도 자주 쓰인다  \r\n",
        "재귀구조와 반복구조, 2가지 방식으로 모두 풀이해보자"
      ]
    },
    {
      "cell_type": "code",
      "metadata": {
        "colab": {
          "base_uri": "https://localhost:8080/"
        },
        "id": "o43MsgbGHeuC",
        "outputId": "2ad16c21-ac80-4ad9-ada7-10c9f05d256e"
      },
      "source": [
        "class Solution:\r\n",
        "    def reverseList(self, head: ListNode) -> ListNode: # head = ListNode \r\n",
        "        def reverse(node: ListNode, prev: ListNode = None): # node = ListNode, prev = ListNode\r\n",
        "            if not node: \r\n",
        "                return prev\r\n",
        "            next, node.next = node.next, prev # \r\n",
        "            return reverse(next, node)\r\n",
        "\r\n",
        "        return reverse(head)\r\n",
        "\r\n",
        "s = Solution()\r\n",
        "l1 = ListNode(1)\r\n",
        "l1.next = ListNode(2)\r\n",
        "l1.next.next = ListNode(3)\r\n",
        "l1.next.next.next = ListNode(4)\r\n",
        "l1.next.next.next.next= ListNode(5)\r\n",
        "\r\n",
        "answer = s.reverseList(l1)\r\n",
        "while answer is not None:\r\n",
        "  print(f'{answer.val}', end=\" \")\r\n",
        "  answer = answer.next\r\n",
        "\r\n",
        "\r\n",
        "\r\n",
        "\r\n"
      ],
      "execution_count": null,
      "outputs": [
        {
          "output_type": "stream",
          "text": [
            "5 4 3 2 1 "
          ],
          "name": "stdout"
        }
      ]
    },
    {
      "cell_type": "markdown",
      "metadata": {
        "id": "qeCCHxk4_Dup"
      },
      "source": [
        "### 풀이 02 // 반복(iterative) 구조로 뒤집기\r\n"
      ]
    },
    {
      "cell_type": "code",
      "metadata": {
        "colab": {
          "base_uri": "https://localhost:8080/"
        },
        "id": "ZkE8tcVF--E6",
        "outputId": "33da97e4-fc2d-4845-fd0b-2ca489442681"
      },
      "source": [
        "class Solution:\r\n",
        "    def reverseList(self, head: ListNode) -> ListNode:\r\n",
        "        node, prev = head, None\r\n",
        "\r\n",
        "        while node:\r\n",
        "            next, node.next = node.next, prev\r\n",
        "            prev, node = node, next\r\n",
        "\r\n",
        "        return prev\r\n",
        "\r\n",
        "s = Solution()\r\n",
        "l1 = ListNode(1)\r\n",
        "l1.next = ListNode(2)\r\n",
        "l1.next.next = ListNode(3)\r\n",
        "l1.next.next.next = ListNode(4)\r\n",
        "l1.next.next.next.next= ListNode(5)\r\n",
        "\r\n",
        "answer = s.reverseList(l1)\r\n",
        "while answer is not None:\r\n",
        "  print(f'{answer.val}', end=\" \")\r\n",
        "  answer = answer.next"
      ],
      "execution_count": null,
      "outputs": [
        {
          "output_type": "stream",
          "text": [
            "5 4 3 2 1 "
          ],
          "name": "stdout"
        }
      ]
    },
    {
      "cell_type": "markdown",
      "metadata": {
        "id": "ZnVM3TuK_Uq-"
      },
      "source": [
        "## Q16. 두 수의 덧셈\r\n",
        "- 역순으로 저장된 연결 리스트의 숫자를 더하라\r\n"
      ]
    },
    {
      "cell_type": "markdown",
      "metadata": {
        "id": "jLeGIhTYWvan"
      },
      "source": [
        "- 입력\r\n",
        "___\r\n",
        "```\r\n",
        "(2 4 3) + (5 6 4)\r\n",
        "```\r\n",
        "___\r\n",
        "- 출력\r\n",
        "___\r\n",
        "```\r\n",
        "7 0 8\r\n",
        "```\r\n",
        "___\r\n",
        "- 설명  \r\n",
        "342 + 456 = 807"
      ]
    },
    {
      "cell_type": "markdown",
      "metadata": {
        "id": "RAz5bIl6XD9D"
      },
      "source": [
        "### 풀이 01 // 자료형 변환"
      ]
    },
    {
      "cell_type": "code",
      "metadata": {
        "colab": {
          "base_uri": "https://localhost:8080/"
        },
        "id": "1nN2G8_dFQ00",
        "outputId": "ed52f0f2-7b72-4c04-b27c-cd3bf0050397"
      },
      "source": [
        "from typing import List\r\n",
        "\r\n",
        "class ListNode:\r\n",
        "    def __init__(self, x):\r\n",
        "        self.val = x\r\n",
        "        self.next = None\r\n",
        "\r\n",
        "\r\n",
        "class Solution:\r\n",
        "    # 연결 리스트 뒤집기\r\n",
        "    def reverseList(self, head: ListNode) -> ListNode:\r\n",
        "        node, prev = head, None\r\n",
        "\r\n",
        "        while node:\r\n",
        "            next, node.next = node.next, prev\r\n",
        "            prev, node = node, next\r\n",
        "\r\n",
        "        return prev\r\n",
        "\r\n",
        "    # 연결 리스트를 파이썬 리스트로 변환\r\n",
        "    def toList(self, node: ListNode) -> List:\r\n",
        "        list: List = []\r\n",
        "        while node:\r\n",
        "            list.append(node.val)\r\n",
        "            node = node.next\r\n",
        "        return list\r\n",
        "\r\n",
        "    # 파이썬 리스트를 연결 리스트로 변환\r\n",
        "    def toReversedLinkedList(self, result: str) -> ListNode:\r\n",
        "        prev: ListNode = None\r\n",
        "        for r in result:\r\n",
        "            node = ListNode(r)\r\n",
        "            node.next = prev\r\n",
        "            prev = node\r\n",
        "\r\n",
        "        return node\r\n",
        "\r\n",
        "    # 두 연결 리스트의 덧셈\r\n",
        "    def addTwoNumbers(self, l1: ListNode, l2: ListNode) -> ListNode:\r\n",
        "        a = self.toList(self.reverseList(l1))\r\n",
        "        b = self.toList(self.reverseList(l2))\r\n",
        "\r\n",
        "        resultStr = int(''.join(str(e) for e in a)) + \\\r\n",
        "                    int(''.join(str(e) for e in b))\r\n",
        "\r\n",
        "        # 최종 계산 결과 연결 리스트 변환\r\n",
        "        return self.toReversedLinkedList(str(resultStr))\r\n",
        "\r\n",
        "s = Solution()\r\n",
        "l1 = ListNode(2)\r\n",
        "l1.next = ListNode(4)\r\n",
        "l1.next.next = ListNode(3)\r\n",
        "\r\n",
        "\r\n",
        "l2 = ListNode(5)\r\n",
        "l2.next = ListNode(6)\r\n",
        "l2.next.next = ListNode(4)\r\n",
        "\r\n",
        "answer = s.addTwoNumbers(l1,l2)\r\n",
        "while answer is not None:\r\n",
        "  print(f'{answer.val}', end=\" \")\r\n",
        "  answer = answer.next"
      ],
      "execution_count": null,
      "outputs": [
        {
          "output_type": "stream",
          "text": [
            "7 0 8 "
          ],
          "name": "stdout"
        }
      ]
    },
    {
      "cell_type": "markdown",
      "metadata": {
        "id": "cXXJwsdnXIte"
      },
      "source": [
        "### 풀이 02 // 전가산기 구현\r\n",
        "- 가산기 : 덧셈 연산을 수행하는 논리 회로이며 디지털 회로, 조합 회로의 하나"
      ]
    },
    {
      "cell_type": "code",
      "metadata": {
        "colab": {
          "base_uri": "https://localhost:8080/"
        },
        "id": "E7rxVtBpSISg",
        "outputId": "4f20f58a-ee70-4558-cb24-1e1173ae0a5e"
      },
      "source": [
        "class ListNode:\r\n",
        "    def __init__(self, x):\r\n",
        "        self.val = x\r\n",
        "        self.next = None\r\n",
        "\r\n",
        "\r\n",
        "class Solution:\r\n",
        "    def addTwoNumbers(self, l1: ListNode, l2: ListNode) -> ListNode:\r\n",
        "        root = head = ListNode(0)\r\n",
        "\r\n",
        "        carry = 0\r\n",
        "        while l1 or l2 or carry:\r\n",
        "            sum = 0\r\n",
        "            # 두 입력값의 합 계산\r\n",
        "            if l1:\r\n",
        "                sum += l1.val\r\n",
        "                l1 = l1.next\r\n",
        "            if l2:\r\n",
        "                sum += l2.val\r\n",
        "                l2 = l2.next\r\n",
        "\r\n",
        "            # 몫(자리올림수)과 나머지(값) 계산\r\n",
        "            carry, val = divmod(sum + carry, 10)\r\n",
        "            head.next = ListNode(val)\r\n",
        "            head = head.next\r\n",
        "\r\n",
        "        return root.next\r\n",
        "\r\n",
        "s = Solution()\r\n",
        "l1 = ListNode(2)\r\n",
        "l1.next = ListNode(4)\r\n",
        "l1.next.next = ListNode(3)\r\n",
        "\r\n",
        "\r\n",
        "l2 = ListNode(5)\r\n",
        "l2.next = ListNode(6)\r\n",
        "l2.next.next = ListNode(4)\r\n",
        "\r\n",
        "answer = s.addTwoNumbers(l1,l2)\r\n",
        "while answer is not None:\r\n",
        "  print(f'{answer.val}', end=\" \")\r\n",
        "  answer = answer.next"
      ],
      "execution_count": null,
      "outputs": [
        {
          "output_type": "stream",
          "text": [
            "7 0 8 "
          ],
          "name": "stdout"
        }
      ]
    },
    {
      "cell_type": "markdown",
      "metadata": {
        "id": "s-pbYQazU1Gk"
      },
      "source": [
        "## Q17. 페어의 노드 스왑\r\n",
        "- 연결 리스트를 입력받아 페어 단위로 스왑하라"
      ]
    },
    {
      "cell_type": "markdown",
      "metadata": {
        "id": "BiB0gR5xahxd"
      },
      "source": [
        "- 입력\r\n",
        "___\r\n",
        "```\r\n",
        "1 2 3 4\r\n",
        "```\r\n",
        "___\r\n",
        "- 출력\r\n",
        "___\r\n",
        "```\r\n",
        "2 1 4 3\r\n",
        "```\r\n",
        "___"
      ]
    },
    {
      "cell_type": "markdown",
      "metadata": {
        "id": "JzyRcp63avnP"
      },
      "source": [
        "### 풀이 01 // 값만 교환"
      ]
    },
    {
      "cell_type": "code",
      "metadata": {
        "colab": {
          "base_uri": "https://localhost:8080/"
        },
        "id": "y1zfZcyPU-OW",
        "outputId": "dd7781ff-4b07-46b1-d9cc-6910a4c57249"
      },
      "source": [
        "class ListNode:\r\n",
        "    def __init__(self, x):\r\n",
        "        self.val = x\r\n",
        "        self.next = None\r\n",
        "\r\n",
        "\r\n",
        "class Solution:\r\n",
        "    def swapPairs(self, head: ListNode) -> ListNode:\r\n",
        "        cur = head\r\n",
        "\r\n",
        "        while cur and cur.next:\r\n",
        "            # 값만 교환\r\n",
        "            cur.val, cur.next.val = cur.next.val, cur.val\r\n",
        "            cur = cur.next.next\r\n",
        "\r\n",
        "        return head\r\n",
        "\r\n",
        "s = Solution()\r\n",
        "l1 = ListNode(1)\r\n",
        "l1.next = ListNode(2)\r\n",
        "l1.next.next = ListNode(3)\r\n",
        "l1.next.next.next = ListNode(4)\r\n",
        "answer = s.swapPairs(l1)\r\n",
        "while answer is not None:\r\n",
        "  print(f'{answer.val}', end=\" \")\r\n",
        "  answer = answer.next"
      ],
      "execution_count": null,
      "outputs": [
        {
          "output_type": "stream",
          "text": [
            "2 1 4 3 "
          ],
          "name": "stdout"
        }
      ]
    },
    {
      "cell_type": "markdown",
      "metadata": {
        "id": "WT395xWdayHu"
      },
      "source": [
        "### 풀이 02 // 반복 구조로 스왑"
      ]
    },
    {
      "cell_type": "code",
      "metadata": {
        "colab": {
          "base_uri": "https://localhost:8080/"
        },
        "id": "A5bOoLBRKERD",
        "outputId": "8b101b96-d991-42a9-f677-b7032c9e6fe3"
      },
      "source": [
        "class Solution:\r\n",
        "    def swapPairs(self, head: ListNode) -> ListNode:\r\n",
        "        root = prev = ListNode(None)\r\n",
        "        prev.next = head\r\n",
        "        while head and head.next:\r\n",
        "            # b가 a(head)를 가리키도록\r\n",
        "            b = head.next\r\n",
        "            head.next = b.next\r\n",
        "            b.next = head\r\n",
        "\r\n",
        "            # prev가 b를 가리키도록\r\n",
        "            prev.next = b\r\n",
        "\r\n",
        "            # 다음 번 비교를 위해 이동\r\n",
        "            head = head.next\r\n",
        "            prev = prev.next.next\r\n",
        "        return root.next\r\n",
        "\r\n",
        "s = Solution()\r\n",
        "l1 = ListNode(1)\r\n",
        "l1.next = ListNode(2)\r\n",
        "l1.next.next = ListNode(3)\r\n",
        "l1.next.next.next = ListNode(4)\r\n",
        "answer = s.swapPairs(l1)\r\n",
        "while answer is not None:\r\n",
        "  print(f'{answer.val}', end=\" \")\r\n",
        "  answer = answer.next"
      ],
      "execution_count": null,
      "outputs": [
        {
          "output_type": "stream",
          "text": [
            "2 1 4 3 "
          ],
          "name": "stdout"
        }
      ]
    },
    {
      "cell_type": "markdown",
      "metadata": {
        "id": "lKWcgKx3a1qn"
      },
      "source": [
        "### 풀이 03 // 재귀 구조로 스왑"
      ]
    },
    {
      "cell_type": "markdown",
      "metadata": {
        "id": "7HBNlY5bp6Am"
      },
      "source": [
        "재귀 구조 : 자기 자신을 호출하는 함수"
      ]
    },
    {
      "cell_type": "code",
      "metadata": {
        "colab": {
          "base_uri": "https://localhost:8080/"
        },
        "id": "1EAzf8ZhKMpf",
        "outputId": "a95ce4d9-03f7-43c2-a5d8-fc4342e2cbbf"
      },
      "source": [
        "class Solution:\r\n",
        "    def swapPairs(self, head: ListNode) -> ListNode:\r\n",
        "        if head and head.next:\r\n",
        "            p = head.next\r\n",
        "            # 스왑된 값 리턴 받음\r\n",
        "            head.next = self.swapPairs(p.next)\r\n",
        "            p.next = head\r\n",
        "            return p\r\n",
        "        return head\r\n",
        "\r\n",
        "s = Solution()\r\n",
        "l1 = ListNode(1)\r\n",
        "l1.next = ListNode(2)\r\n",
        "l1.next.next = ListNode(3)\r\n",
        "l1.next.next.next = ListNode(4)\r\n",
        "answer = s.swapPairs(l1)\r\n",
        "while answer is not None:\r\n",
        "  print(f'{answer.val}', end=\" \")\r\n",
        "  answer = answer.next"
      ],
      "execution_count": null,
      "outputs": [
        {
          "output_type": "stream",
          "text": [
            "2 1 4 3 "
          ],
          "name": "stdout"
        }
      ]
    },
    {
      "cell_type": "markdown",
      "metadata": {
        "id": "NLPAJ8cvfRAE"
      },
      "source": [
        "![재귀 스왑.PNG](data:image/png;base64,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)"
      ]
    },
    {
      "cell_type": "markdown",
      "metadata": {
        "id": "jark5ZLdKUID"
      },
      "source": [
        "## Q18. 홀짝 연결 리스트\r\n",
        "- 연결 리스트를 홀수 노드 다음에 짝수 노드가 오도록 재구성하라  \r\n",
        "- 공간 복잡도 O(1), 시간 복잡도 O(n)에 풀이하라"
      ]
    },
    {
      "cell_type": "markdown",
      "metadata": {
        "id": "_I3gACQhbOx4"
      },
      "source": [
        "- 입력\r\n",
        "___\r\n",
        "```\r\n",
        "1 2 3 4 5 Null\r\n",
        "```\r\n",
        "___\r\n",
        "- 출력\r\n",
        "___\r\n",
        "```\r\n",
        "1 3 5 2 4 Null\r\n",
        "```\r\n",
        "___"
      ]
    },
    {
      "cell_type": "markdown",
      "metadata": {
        "id": "LZp7ihRIbcyQ"
      },
      "source": [
        "### 풀이 01 // 반복 구조로 홀짝 노드 처리"
      ]
    },
    {
      "cell_type": "code",
      "metadata": {
        "colab": {
          "base_uri": "https://localhost:8080/"
        },
        "id": "ZXowYNZ9KYZ5",
        "outputId": "13aabcee-5e6a-4294-bca8-4af6c52c827e"
      },
      "source": [
        "class Solution:\r\n",
        "    def oddEvenList(self, head: ListNode) -> ListNode:\r\n",
        "        # 예외 처리\r\n",
        "        if head is None:\r\n",
        "            return None\r\n",
        "\r\n",
        "        odd = head # 홀수\r\n",
        "        even = head.next # 짝수\r\n",
        "        even_head = head.next # 짝수 헤드\r\n",
        "\r\n",
        "        # 반복하면서 홀짝 노드 처리\r\n",
        "        while even and even.next:\r\n",
        "            odd.next, even.next = odd.next.next, even.next.next\r\n",
        "            odd, even = odd.next, even.next\r\n",
        "\r\n",
        "        # 홀수 노드의 마지막을 짝수 헤드로 연결\r\n",
        "        odd.next = even_head # 홀수 에서 짝수로 연결\r\n",
        "        return head\r\n",
        "\r\n",
        "s = Solution()\r\n",
        "l1 = ListNode(1)\r\n",
        "l1.next = ListNode(2)\r\n",
        "l1.next.next = ListNode(3)\r\n",
        "l1.next.next.next = ListNode(4)\r\n",
        "l1.next.next.next.next= ListNode(5)\r\n",
        "answer = s.oddEvenList(l1)\r\n",
        "while answer is not None:\r\n",
        "  print(f'{answer.val}', end=\" \")\r\n",
        "  answer = answer.next"
      ],
      "execution_count": null,
      "outputs": [
        {
          "output_type": "stream",
          "text": [
            "1 3 5 2 4 "
          ],
          "name": "stdout"
        }
      ]
    },
    {
      "cell_type": "markdown",
      "metadata": {
        "id": "rIu0ixyFKW8T"
      },
      "source": [
        "```\r\n",
        "  while even and even.next:\r\n",
        "            odd.next, even.next = odd.next.next, even.next.next\r\n",
        "            odd, even = odd.next, even.next\r\n",
        "```\r\n",
        "위의 코드를 도식화 하면 아래와 같다  \r\n",
        "![도식표.PNG](data:image/png;base64,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)"
      ]
    },
    {
      "cell_type": "markdown",
      "metadata": {
        "id": "C7RbybmXKq-F"
      },
      "source": [
        "## Q19. 역순 연결 리스트 Ⅱ\r\n",
        "- 인덱스 m 에서 n까지를 역순으로 만들어라\r\n",
        "- 인덱스 m 은 1부터 시작한다"
      ]
    },
    {
      "cell_type": "markdown",
      "metadata": {
        "id": "gS96kB3Vb6T-"
      },
      "source": [
        "- 입력\r\n",
        "___\r\n",
        "```\r\n",
        "1 2 3 4 5 Null, m = 2, n = 4\r\n",
        "```\r\n",
        "___\r\n",
        "- 출력\r\n",
        "___\r\n",
        "```\r\n",
        "1 4 3 2 5 Null\r\n",
        "```\r\n",
        "___"
      ]
    },
    {
      "cell_type": "markdown",
      "metadata": {
        "id": "RyQ1o1r7foVo"
      },
      "source": [
        "### 풀이 01 // 반복 구조로 노드 뒤집기"
      ]
    },
    {
      "cell_type": "code",
      "metadata": {
        "colab": {
          "base_uri": "https://localhost:8080/"
        },
        "id": "j5UBBMlOKu9r",
        "outputId": "0857f454-914c-426d-fa5b-d07cb91733c5"
      },
      "source": [
        "class Solution:\r\n",
        "    def reverseBetween(self, head: ListNode, m: int, n: int) -> ListNode:\r\n",
        "        # 예외 처리\r\n",
        "        if not head or m == n:\r\n",
        "            return head\r\n",
        "\r\n",
        "        root = start = ListNode(None)\r\n",
        "        root.next = head\r\n",
        "        # start, end 지정\r\n",
        "        for _ in range(m - 1):\r\n",
        "            start = start.next\r\n",
        "        end = start.next\r\n",
        "\r\n",
        "        # 반복하면서 노드 차례대로 뒤집기\r\n",
        "        for _ in range(n - m): # 4 - 2 = 2 두번 반복\r\n",
        "            tmp, start.next, end.next = start.next, end.next, end.next.next # tmp = start.next, start.next = end.next, end.next = end.next.next 각각 값 바꾸기\r\n",
        "            start.next.next = tmp\r\n",
        "        return root.next\r\n",
        "\r\n",
        "s = Solution()\r\n",
        "l1 = ListNode(1)\r\n",
        "l1.next = ListNode(2)\r\n",
        "l1.next.next = ListNode(3)\r\n",
        "l1.next.next.next = ListNode(4)\r\n",
        "l1.next.next.next.next= ListNode(5)\r\n",
        "answer = s.reverseBetween(l1,2,4)\r\n",
        "while answer is not None:\r\n",
        "  print(f'{answer.val}', end=\" \")\r\n",
        "  answer = answer.next"
      ],
      "execution_count": null,
      "outputs": [
        {
          "output_type": "stream",
          "text": [
            "1 4 3 2 5 "
          ],
          "name": "stdout"
        }
      ]
    },
    {
      "cell_type": "markdown",
      "metadata": {
        "id": "N2vMTgHAJMeB"
      },
      "source": [
        "![노드 뒤집기.PNG](data:image/png;base64,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)"
      ]
    }
  ]
}