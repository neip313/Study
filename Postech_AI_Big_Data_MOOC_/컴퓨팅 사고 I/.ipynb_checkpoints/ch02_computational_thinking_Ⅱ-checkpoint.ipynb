{
 "cells": [
  {
   "cell_type": "markdown",
   "metadata": {},
   "source": [
    "# ch02_computing_thinking_Ⅱ"
   ]
  },
  {
   "cell_type": "markdown",
   "metadata": {},
   "source": [
    "## 1. 컴퓨팅"
   ]
  },
  {
   "cell_type": "markdown",
   "metadata": {},
   "source": [
    "### 1) 컴퓨팅 - 컴퓨터가 수행 주체인 계산 "
   ]
  },
  {
   "cell_type": "markdown",
   "metadata": {},
   "source": [
    "### 2) 프로그래밍 언어 \n",
    "- 문법\n",
    "    - 어휘를 명시\n",
    "    - 단어 배치 규정을 정의 \n",
    "    \n",
    "- 의미론 \n",
    "    - 단어 조합이 연산인지 명령인지 판단\n",
    "    - 실행 결과를 설명 \n",
    "```\n",
    "sum = 0\n",
    "n = 1\n",
    "while (n <= 100):\n",
    "    sum = sum + n\n",
    "    n = n + 1\n",
    "print(sum)\n",
    "```\n",
    "- 사람도 결과를 예측할 수 있음"
   ]
  },
  {
   "cell_type": "markdown",
   "metadata": {},
   "source": [
    "### 3) 다양한 프로그래밍 언어 \n",
    "예) 정수 1부터 100까지 더해서 화면에 출력하는 계산 "
   ]
  },
  {
   "cell_type": "markdown",
   "metadata": {},
   "source": [
    "### 4) 프로그래밍 = 글짓기\n",
    "- 프로그래밍으로 문제 해결한다? -> 사람 언어로도 설명할 수 있다. "
   ]
  },
  {
   "cell_type": "markdown",
   "metadata": {},
   "source": [
    "### 5) 프로그램 실행 \n",
    "- 프로그램 실행 결과 \n",
    "    - 실행이 성공적으로 끝난다. \n",
    "        - 계산 결과 = 문제 답\n",
    "        - 게산 결과 ≠ 문제 답 \n",
    "    - 실행이 비정상적으로 끝난다 \n",
    "        - 예 : 0으로 나누는 연산 \n",
    "    - 실행이 끝나지 않는다.     "
   ]
  },
  {
   "cell_type": "markdown",
   "metadata": {},
   "source": [
    "## 2. 컴퓨팅 사고\n",
    "컴퓨팅 사고란? : 컴퓨터로 문제를 풀고자 할 때 적합한 생각의 틀 "
   ]
  },
  {
   "cell_type": "markdown",
   "metadata": {},
   "source": [
    "### 1) 계산 주체로서 컴퓨터의 장점 \n",
    "- 계산 대상이 크다\n",
    "    - 1GB(기가바이트) 메모리 \n",
    "        - 알파벳 1024의 3제곱 = 1,073,741,824 글자 기억\n",
    "        - 조선왕조실록(총 49,646,667 글자) 10배 이상 분량   \n",
    "        \n",
    "\n",
    "- 계산 수행 속도가 **빠르다**\n",
    "    - 1GHz(기가헤르츠) 컴퓨터에서 덧셈\n",
    "        - 초당 1024의 3제곱 = 1,073,741,824 이상 수행 \n",
    "        - 빛이 1미터 갈 때 1,073,741,824 / 299,792,458 > 3번 이상 수행   \n",
    "        \n",
    "\n",
    "- 계산 과정을 반복할 수 있다.          \n",
    "\n",
    "-> 똑같은 과정을 **반복**함으로써 **큰 분량**의 계산 대상을 **빠르게** 처리"
   ]
  },
  {
   "cell_type": "markdown",
   "metadata": {},
   "source": [
    "### 2) 자연수 1부터 100까지 더하기 \n",
    "- 수학으로 풀기 \n",
    "- 컴퓨팅을 풀기 "
   ]
  },
  {
   "cell_type": "markdown",
   "metadata": {},
   "source": [
    "### 3) 불로장생 토끼 문제 "
   ]
  },
  {
   "cell_type": "markdown",
   "metadata": {},
   "source": [
    "### 4) 피보나치 수열"
   ]
  },
  {
   "cell_type": "markdown",
   "metadata": {},
   "source": [
    "### 5) 컴퓨팅 사고\n",
    "- 컴퓨팅을 문제를 풀고자 할 때 적합한 생각의 틀 \n",
    "    - **기계적** 수행 고려 \n",
    "    - **체계적** 계산 설계 \n",
    "\n",
    "- 프로그래밍보다 우선하는 개념 "
   ]
  },
  {
   "cell_type": "markdown",
   "metadata": {},
   "source": [
    "### 6) 계산 대상 바라보기 \n",
    "- 알맹이 요약하기에 필요 "
   ]
  },
  {
   "cell_type": "markdown",
   "metadata": {},
   "source": [
    "### 7) 계산 자료 바라보기 - 다음 유도하기 \n",
    "- **작은 것**으로부터 **더 큰 것**을 **간단하게** 이끌어 내기 \n",
    "    - 자연수 100 ≠1+1+1+....+1\n",
    "    - 자연수 100 = 자연수 99 + 1\n",
    "    - 자연수 n = \n",
    "        - '최초 자연수 0' 또는\n",
    "        - '직전 자연수(n-1)더하기 1'\n",
    "    - 집합 {1, 7, 2, 9} = 집합 {1, 7, 2} U {9}\n",
    "    - 집합 = \n",
    "        - '최초 공집합' 또는 \n",
    "        - '직전 집합에 원소 하나를 추가해서 얻은 집합'"
   ]
  },
  {
   "cell_type": "markdown",
   "metadata": {},
   "source": [
    "#### ① 다음 유도하기로 바라보는 이유 \n",
    "- 계산 자료가 대개 일정한 규칙에 따라 생성되기 때문 \n"
   ]
  },
  {
   "cell_type": "markdown",
   "metadata": {},
   "source": [
    "#### ② 다음 유도하기의 조건 \n",
    "- 작은 것의 꼴 = 큰 것의 꼴  "
   ]
  },
  {
   "cell_type": "markdown",
   "metadata": {},
   "source": [
    "#### ③다음 유도하기 이후 문제 풀기\n",
    "- 두 가지 경우로 나누어 접근 \n",
    "    1. 최초 경우\n",
    "    2. 작은 것으로부터 더 큰 것을 이끌어 내는 경우"
   ]
  },
  {
   "cell_type": "markdown",
   "metadata": {},
   "source": [
    "#### ④자연수 0부터 n까지 더하기 \n",
    "자연수 n =\n",
    "    '최초 자연수0' 또는 \n",
    "    '직전 자연수(n-1)더하기1'\n",
    "\n",
    "- n = 0 경우 : \n",
    "    - 자연수 0부터 0까지 합으로 0을 바로 계산한다. \n",
    "- n = (n-1) + 1 경우 (n ≥ 1):\n",
    "    - (n-1)부분을 처리하기 위해서 자연수 0부터 (n-1)까지 합을 구한다. \n",
    "    - +1 부분을 처리하기 위해서 추가로 n을 더한다. "
   ]
  },
  {
   "cell_type": "markdown",
   "metadata": {},
   "source": [
    "#### ⑤ 생년월일이 가장 빠른 학생 찾기 \n",
    "\n",
    "- 두 가지 경우로 나누어 접근  \n",
    "    1. 최초 경우 \n",
    "    2. 작은 것으로부터 더 큰 것을 이끌어 내는 경우 "
   ]
  }
 ],
 "metadata": {
  "kernelspec": {
   "display_name": "Python 3",
   "language": "python",
   "name": "python3"
  },
  "language_info": {
   "codemirror_mode": {
    "name": "ipython",
    "version": 3
   },
   "file_extension": ".py",
   "mimetype": "text/x-python",
   "name": "python",
   "nbconvert_exporter": "python",
   "pygments_lexer": "ipython3",
   "version": "3.8.3"
  }
 },
 "nbformat": 4,
 "nbformat_minor": 4
}
